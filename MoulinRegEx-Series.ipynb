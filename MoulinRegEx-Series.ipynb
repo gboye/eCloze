{
 "cells": [
  {
   "cell_type": "code",
   "execution_count": 61,
   "metadata": {
    "collapsed": false
   },
   "outputs": [],
   "source": [
    "#import re\n",
    "import sys, codecs, optparse, glob, os\n",
    "import string, yaml\n",
    "import random, warnings\n",
    "from ToolsMoodleXML2 import *"
   ]
  },
  {
   "cell_type": "code",
   "execution_count": 62,
   "metadata": {
    "collapsed": false
   },
   "outputs": [],
   "source": [
    "nKalaba=\"K4\"\n",
    "dossier=\"/ownCloud/Cours/Bordeaux/L1-LinguistiqueGenerale/Kalaba-Project/16-%s\"%nKalaba\n",
    "enonces=[\"Theme\",\"Version\"]\n",
    "enonces=[\"Version\"]\n",
    "theme=\"Traductions\"\n",
    "enonces=[\"Ordre\"]\n",
    "theme=\"Syntagmes\""
   ]
  },
  {
   "cell_type": "code",
   "execution_count": 63,
   "metadata": {
    "collapsed": false
   },
   "outputs": [],
   "source": [
    "from os.path import expanduser\n",
    "home = expanduser(\"~\")\n",
    "repertoire=home+dossier\n",
    "base=repertoire+\"/\""
   ]
  },
  {
   "cell_type": "code",
   "execution_count": 64,
   "metadata": {
    "collapsed": true
   },
   "outputs": [],
   "source": [
    "def chaine2utf8(chaine):\n",
    "    if type(chaine)==str:\n",
    "        result=unicode(chaine.decode('utf8'))\n",
    "    elif type(chaine)==unicode:\n",
    "        result=chaine\n",
    "    return result"
   ]
  },
  {
   "cell_type": "code",
   "execution_count": 65,
   "metadata": {
    "collapsed": true
   },
   "outputs": [],
   "source": [
    "def substituerChamps(chaine, substituts):\n",
    "    result=chaine\n",
    "    for substitut in substituts:\n",
    "        result=result.replace(substitut,substituts[substitut])\n",
    "    return result"
   ]
  },
  {
   "cell_type": "code",
   "execution_count": 66,
   "metadata": {
    "collapsed": false
   },
   "outputs": [],
   "source": [
    "def preparationDonnees():\n",
    "    for ligne in donneesLignes:\n",
    "        if not (ligne.strip().strip(\";\")==\"\" or ligne.startswith(\"#\")):\n",
    "            temp=ligne.strip().split(\";\")\n",
    "            result={\"boucle\":[temp],\"conclusion\":[]}\n",
    "            titre=makeChamps(configuration[u\"Titre\"],temp).encode('utf8')\n",
    "            donnees.append({titre:result})\n",
    "    return"
   ]
  },
  {
   "cell_type": "code",
   "execution_count": 67,
   "metadata": {
    "collapsed": true
   },
   "outputs": [],
   "source": [
    "def numerotationDonnees(donnees):\n",
    "    result={}\n",
    "    for nDonnee, donnee in enumerate(donnees):\n",
    "        result[u\"#%d#\"%(nDonnee+1)]=chaine2utf8(donnee)\n",
    "    return result"
   ]
  },
  {
   "cell_type": "code",
   "execution_count": 68,
   "metadata": {
    "collapsed": false
   },
   "outputs": [],
   "source": [
    "def preparationConsigne(consigne,clozes,substituts):\n",
    "    result=[]\n",
    "    reponse=[]\n",
    "    for element in consigne:\n",
    "        chaine=chaine2utf8(element)\n",
    "        if chaine in clozes:\n",
    "            champ=substituerChamps(chaine,substituts)\n",
    "            if clozes[chaine]==\"TXT\":\n",
    "                result.append(champ)\n",
    "            else:\n",
    "                reponse.append(champ)\n",
    "        else:\n",
    "            result.append(chaine)\n",
    "    return (result,reponse)"
   ]
  },
  {
   "cell_type": "code",
   "execution_count": 69,
   "metadata": {
    "collapsed": false,
    "scrolled": false
   },
   "outputs": [],
   "source": [
    "for enonce in enonces:\n",
    "    yamlFichier=base+theme+\"-\"+enonce+\".yaml\"\n",
    "    csvFichier=base+theme+\".txt\"\n",
    "    boolEX=False\n",
    "            \n",
    "    with open(yamlFichier, 'r') as stream:\n",
    "        configuration=yaml.load(stream)\n",
    "\n",
    "    with open(csvFichier, 'r') as file:\n",
    "        donneesLignes=file.readlines()\n",
    "\n",
    "    donnees=[]\n",
    "\n",
    "    preparationDonnees()\n",
    "\n",
    "        \n",
    "    categorie=configuration[u\"Catégorie\"]+\"/RX\"\n",
    "    consigne=[configuration[u\"Boucle\"][u\"début\"]]+configuration[u\"Boucle\"][u\"contenu\"]\n",
    "    boucleCLOZE=configuration[u\"Boucle\"][u\"Cloze\"]\n",
    "    globalWrap=[configuration[u\"Décor\"][u\"fond\"]+configuration[u\"Décor\"][u\"entete\"]+configuration[u\"Global\"][u\"début\"],configuration[u\"Global\"][\"fin\"]]\n",
    "    questions=XMLSeries(categorie)\n",
    "    clozes=numerotationDonnees(boucleCLOZE)\n",
    "    for exercices in donnees:\n",
    "        for exercice in exercices:\n",
    "            titre=chaine2utf8(exercice)\n",
    "            substituts=numerotationDonnees(exercices[exercice]['boucle'][0])\n",
    "            regexConsigne,regexReponse= preparationConsigne(consigne,clozes,substituts)\n",
    "            regexConsigne=regexConsigne\n",
    "            questions.addExercice(RegExExercice(titre,[globalWrap[0]]+regexConsigne,regexReponse,usehint=\"2\"))\n",
    "\n",
    "    xmlOutput=MoodleXML()\n",
    "    xmlOutput.addQuiz(questions.getSeries())\n",
    "\n",
    "    xmlFichier=yamlFichier.split(\".\")[0]+\"-RX.xml\"\n",
    "\n",
    "    with codecs.open(xmlFichier, 'w',encoding=\"utf8\") as output:\n",
    "        output.write(xmlOutput.getXML())\n"
   ]
  },
  {
   "cell_type": "code",
   "execution_count": 70,
   "metadata": {
    "collapsed": false
   },
   "outputs": [],
   "source": [
    "#print xmlFichier"
   ]
  },
  {
   "cell_type": "code",
   "execution_count": 71,
   "metadata": {
    "collapsed": false,
    "scrolled": true
   },
   "outputs": [],
   "source": [
    "#questionsConsigne.getConsigne(donnees)"
   ]
  },
  {
   "cell_type": "code",
   "execution_count": 72,
   "metadata": {
    "collapsed": false,
    "scrolled": true
   },
   "outputs": [],
   "source": [
    "#print xmlOutput.getXML()"
   ]
  },
  {
   "cell_type": "code",
   "execution_count": null,
   "metadata": {
    "collapsed": true
   },
   "outputs": [],
   "source": []
  }
 ],
 "metadata": {
  "kernelspec": {
   "display_name": "Python 2",
   "language": "python",
   "name": "python2"
  },
  "language_info": {
   "codemirror_mode": {
    "name": "ipython",
    "version": 2
   },
   "file_extension": ".py",
   "mimetype": "text/x-python",
   "name": "python",
   "nbconvert_exporter": "python",
   "pygments_lexer": "ipython2",
   "version": "2.7.11"
  }
 },
 "nbformat": 4,
 "nbformat_minor": 0
}

{
 "cells": [
  {
   "cell_type": "code",
   "execution_count": 92,
   "metadata": {},
   "outputs": [],
   "source": [
    "#import re\n",
    "import sys, codecs, optparse, glob, os\n",
    "import string, yaml, warnings\n",
    "import random as rd\n",
    "from ToolsMoodleXML2 import *"
   ]
  },
  {
   "cell_type": "code",
   "execution_count": 93,
   "metadata": {},
   "outputs": [],
   "source": [
    "nKalaba=\"K4\"\n",
    "annee=\"18\"\n",
    "limiteDonnees=1500\n",
    "freeSpace=False\n",
    "dossier=\"/ownCloud/Cours/Bordeaux/L1-LinguistiqueGenerale/Kalaba-Project/%s-%s\"%(annee,nKalaba)\n",
    "#enonces=[\"Forme-Traduction\",\"Proprietes-Forme\"]\n",
    "enonces=[\"Forme-Traduction\",\"Traduction-Radical\"]\n",
    "#enonces=[\"Traduction-Radical\"]\n",
    "#enonces=[\"Proprietes-Forme\",\"Glose-Decoupe\"]\n",
    "#enonces=[\"Glose-Decoupe\"]\n",
    "#enonces=[\"Proprietes-Forme\"]\n",
    "achatAide=0 # 0 sans aide, 1 achat lettre, 2 achat mot\n",
    "theme=\"%s-%s-A1\"%(annee,nKalaba)\n",
    "#theme=\"%s-%s-B2\"%(annee,nKalaba)\n",
    "enonces=[\"Theme\",\"Version\"]\n",
    "theme=\"Traductions\"\n",
    "#freeSpace=True\n",
    "achatAide=2 # 0 sans aide, 1 achat lettre, 2 achat mot\n",
    "penalite=0.125\n",
    "#enonces=[\"Version\"]\n",
    "#enonces=[\"Theme\"]\n",
    "\n",
    "#enonces=[\"Ordre\"]\n",
    "#theme=\"Syntagmes\""
   ]
  },
  {
   "cell_type": "code",
   "execution_count": 94,
   "metadata": {},
   "outputs": [],
   "source": [
    "from os.path import expanduser\n",
    "home = expanduser(\"~\")\n",
    "repertoire=home+dossier\n",
    "base=repertoire+\"/\""
   ]
  },
  {
   "cell_type": "code",
   "execution_count": 95,
   "metadata": {},
   "outputs": [],
   "source": [
    "def chaine2utf8(chaine):\n",
    "    if type(chaine)==str:\n",
    "        result=unicode(chaine.decode('utf8'))\n",
    "    elif type(chaine)==unicode:\n",
    "        result=chaine\n",
    "    return result"
   ]
  },
  {
   "cell_type": "code",
   "execution_count": 96,
   "metadata": {},
   "outputs": [],
   "source": [
    "def substituerChamps(chaine, substituts):\n",
    "    result=chaine\n",
    "    for substitut in substituts:\n",
    "        result=result.replace(substitut,substituts[substitut])\n",
    "    return result"
   ]
  },
  {
   "cell_type": "code",
   "execution_count": 97,
   "metadata": {},
   "outputs": [],
   "source": [
    "def preparationDonnees():\n",
    "    for ligne in donneesLignes:\n",
    "        if not (ligne.strip().strip(\";\")==\"\" or ligne.startswith(\"#\")):\n",
    "            temp=ligne.strip().split(\";\")\n",
    "            result={\"boucle\":[temp],\"conclusion\":[]}\n",
    "            titre=makeChamps(configuration[u\"Titre\"],temp).encode('utf8')\n",
    "            donnees.append({titre:result})\n",
    "    return"
   ]
  },
  {
   "cell_type": "code",
   "execution_count": 98,
   "metadata": {},
   "outputs": [],
   "source": [
    "def numerotationDonnees(donnees):\n",
    "    result={}\n",
    "    for nDonnee, donnee in enumerate(donnees):\n",
    "        result[u\"#%d#\"%(nDonnee+1)]=chaine2utf8(donnee)\n",
    "    return result"
   ]
  },
  {
   "cell_type": "code",
   "execution_count": 99,
   "metadata": {},
   "outputs": [],
   "source": [
    "def preparationConsigne(consigne,clozes,substituts):\n",
    "    \n",
    "    nbChamps=min(len(clozes),len(substituts))+1\n",
    "    result=[]\n",
    "    reponse=[]\n",
    "    nbReponses=set()\n",
    "    txtClozes=[\"#%d#\"%n for n in range(1,nbChamps) if clozes[\"#%d#\"%n]==\"TXT\"]\n",
    "    if debug: print txtClozes\n",
    "    repClozes=[\"#%d#\"%n for n in range(1,nbChamps) if clozes[\"#%d#\"%n] in [\"SAC\",\"SA\"]]\n",
    "    if debug: print repClozes\n",
    "    if len(repClozes)>1:\n",
    "        warnings.warn(\"Attention, pas de questions multiples avec une Short Answer RegExp\")\n",
    "    for element in consigne:\n",
    "        chaine=chaine2utf8(element)\n",
    "        for txtCloze in txtClozes:\n",
    "#            print txtCloze,chaine\n",
    "            chaine=chaine.replace(txtCloze,substituts[txtCloze])\n",
    "        mList=re.findall(ur\"#\\d+#\",chaine)\n",
    "        nbReponses|=set(mList)\n",
    "#        print mList,nbReponses\n",
    "        if mList and len(nbReponses)==1:\n",
    "            chaine=chaine.replace(mList[0],\"\")\n",
    "            if chaine:\n",
    "                result.append(chaine+ur\"<br/>\")\n",
    "            reponse.append(substituts[mList[0]])\n",
    "        else:\n",
    "            result.append(chaine)\n",
    "#        if chaine in clozes:\n",
    "#            champ=substituerChamps(chaine,substituts)\n",
    "#            if clozes[chaine]==\"TXT\":\n",
    "#                result.append(champ)\n",
    "#            else:\n",
    "#                reponse.append(champ)\n",
    "#        else:\n",
    "#            result.append(chaine)\n",
    "    return (result,reponse)"
   ]
  },
  {
   "cell_type": "code",
   "execution_count": 100,
   "metadata": {},
   "outputs": [],
   "source": [
    "for enonce in enonces:\n",
    "    yamlFichier=base+theme+\"-\"+enonce+\".yaml\"\n",
    "    csvFichier=base+theme+\".txt\"\n",
    "    boolEX=False\n",
    "            \n",
    "    with open(yamlFichier, 'r') as stream:\n",
    "        configuration=yaml.load(stream)\n",
    "\n",
    "    with open(csvFichier, 'r') as file:\n",
    "        donneesLignes=file.readlines()\n",
    "    \n",
    "    if len(donneesLignes)>limiteDonnees:\n",
    "        donneesLignes=rd.sample(donneesLignes,limiteDonnees)\n",
    "\n",
    "    donnees=[]\n",
    "\n",
    "    preparationDonnees()\n",
    "\n",
    "        \n",
    "    categorie=configuration[u\"Catégorie\"]+\"/RX\"\n",
    "    consigne=[configuration[u\"Boucle\"][u\"début\"]]+configuration[u\"Boucle\"][u\"contenu\"]\n",
    "    boucleCLOZE=configuration[u\"Boucle\"][u\"Cloze\"]\n",
    "    globalWrap=[configuration[u\"Décor\"][u\"fond\"]+configuration[u\"Décor\"][u\"entete\"]+configuration[u\"Global\"][u\"début\"],configuration[u\"Global\"][\"fin\"]]\n",
    "    questions=XMLSeries(categorie)\n",
    "    clozes=numerotationDonnees(boucleCLOZE)\n",
    "    for exercices in donnees:\n",
    "        for exercice in exercices:\n",
    "            titre=chaine2utf8(exercice)\n",
    "            substituts=numerotationDonnees(exercices[exercice]['boucle'][0])\n",
    "            regexConsigne,regexReponse= preparationConsigne(consigne,clozes,substituts)\n",
    "            regexConsigne=regexConsigne\n",
    "            if freeSpace:\n",
    "                freeSpaceReponses=[]\n",
    "                for reponse in regexReponse:\n",
    "                    freeSpaceReponses.append(re.sub(r\"\\s+\",r\"\\s+\",reponse))\n",
    "                regexReponse.extend(freeSpaceReponses)\n",
    "            questions.addExercice(RegExExercice(titre,[globalWrap[0]]+regexConsigne,regexReponse,usehint=achatAide,penalty=penalite))\n",
    "\n",
    "    xmlOutput=MoodleXML()\n",
    "    xmlOutput.addQuiz(questions.getSeries())\n",
    "\n",
    "    xmlFichier=yamlFichier.split(\".\")[0]+\"-RX.xml\"\n",
    "\n",
    "    with codecs.open(xmlFichier, 'w',encoding=\"utf8\") as output:\n",
    "        output.write(xmlOutput.getXML())\n"
   ]
  },
  {
   "cell_type": "code",
   "execution_count": 101,
   "metadata": {},
   "outputs": [],
   "source": [
    "#print xmlFichier"
   ]
  },
  {
   "cell_type": "code",
   "execution_count": 102,
   "metadata": {
    "scrolled": true
   },
   "outputs": [],
   "source": [
    "#questionsConsigne.getConsigne(donnees)"
   ]
  },
  {
   "cell_type": "code",
   "execution_count": 103,
   "metadata": {
    "scrolled": true
   },
   "outputs": [],
   "source": [
    "#print xmlOutput.getXML()"
   ]
  },
  {
   "cell_type": "code",
   "execution_count": 104,
   "metadata": {},
   "outputs": [
    {
     "data": {
      "text/plain": [
       "{u'#1#': u'TXT', u'#2#': u'SA'}"
      ]
     },
     "execution_count": 104,
     "metadata": {},
     "output_type": "execute_result"
    }
   ],
   "source": [
    "clozes"
   ]
  },
  {
   "cell_type": "code",
   "execution_count": null,
   "metadata": {},
   "outputs": [],
   "source": []
  }
 ],
 "metadata": {
  "kernelspec": {
   "display_name": "Python 2",
   "language": "python",
   "name": "python2"
  },
  "language_info": {
   "codemirror_mode": {
    "name": "ipython",
    "version": 2
   },
   "file_extension": ".py",
   "mimetype": "text/x-python",
   "name": "python",
   "nbconvert_exporter": "python",
   "pygments_lexer": "ipython2",
   "version": "2.7.11"
  }
 },
 "nbformat": 4,
 "nbformat_minor": 1
}

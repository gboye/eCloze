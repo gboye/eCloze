{
 "cells": [
  {
   "cell_type": "code",
   "execution_count": 176,
   "metadata": {},
   "outputs": [],
   "source": [
    "#import re\n",
    "import sys, codecs, optparse, glob, os\n",
    "import string, yaml, warnings\n",
    "import random as rd\n",
    "from ToolsMoodleXML2 import *\n",
    "from cellbell import ding"
   ]
  },
  {
   "cell_type": "code",
   "execution_count": 177,
   "metadata": {},
   "outputs": [],
   "source": [
    "fA1=\"Phrases-A1-mahira.csv\"\n",
    "fA2=\"Phrases-A2-mahira-comp.csv\"\n",
    "fA1B1=\"PhrasesA1B1.csv\"\n",
    "fA1B2=\"PhrasesA1B2.csv\"\n",
    "fA2B1=\"PhrasesA2B1.csv\"\n",
    "fA2B2=\"PhrasesA2B2.csv\"\n",
    "fB1=\"Phrases-B1-autruches.csv\"\n",
    "fB2=\"Phrases-B2.csv\"\n",
    "fB2comp=\"Phrases-B2-autruches-comp.csv\"\n",
    "fB2ext=\"Phrases-B2-extend.csv\""
   ]
  },
  {
   "cell_type": "code",
   "execution_count": 178,
   "metadata": {},
   "outputs": [],
   "source": [
    "nKalaba=\"K4\"\n",
    "annee=\"20\"\n",
    "limiteDonnees=1500\n",
    "freeSpace=False\n",
    "dossier=\"/ownCloud/Cours/Bordeaux/L1-LinguistiqueGenerale/00-ProjetKalaba/%s-%s\"%(annee,nKalaba)\n",
    "# enonces=[\"Forme-Traduction\",\"Proprietes-Forme\"]\n",
    "# enonces=[\"Forme-Traduction\",\"Traduction-Radical\"]\n",
    "# enonces=[\"Traduction-Radical\"]\n",
    "# enonces=[\"Proprietes-Forme\",\"Glose-Decoupe\"]\n",
    "# enonces=[\"Glose-Decoupe\"]\n",
    "enonces=[\"Proprietes-Forme\"]\n",
    "achatAide=0 # 0 sans aide, 1 achat lettre, 2 achat mot\n",
    "# fLettre=\"A1\"\n",
    "fLettre=\"B2\"\n",
    "theme=\"%s-%s-%s\"%(annee,nKalaba,fLettre)\n",
    "\n",
    "# enonces=[\"Theme\",\"Version\"]\n",
    "# theme=\"Traductions\"\n",
    "# freeSpace=True\n",
    "# achatAide=2 # 0 sans aide, 1 achat lettre, 2 achat mot\n",
    "# penalite=0.125\n",
    "# enonces=[\"Version\"]\n",
    "# enonces=[\"Theme\"]\n",
    "\n",
    "# enonces=[\"Ordre\"]\n",
    "# theme=\"Syntagmes\""
   ]
  },
  {
   "cell_type": "code",
   "execution_count": 179,
   "metadata": {},
   "outputs": [],
   "source": [
    "from os.path import expanduser\n",
    "home = expanduser(\"~\")\n",
    "repertoire=home+dossier\n",
    "base=repertoire+\"/\""
   ]
  },
  {
   "cell_type": "code",
   "execution_count": 180,
   "metadata": {},
   "outputs": [],
   "source": [
    "def chaine2utf8(chaine):\n",
    "    if type(chaine)==str:\n",
    "        result=unicode(chaine.decode('utf8'))\n",
    "    elif type(chaine)==unicode:\n",
    "        result=chaine\n",
    "    return result"
   ]
  },
  {
   "cell_type": "code",
   "execution_count": 181,
   "metadata": {},
   "outputs": [],
   "source": [
    "def substituerChamps(chaine, substituts):\n",
    "    result=chaine\n",
    "    for substitut in substituts:\n",
    "        result=result.replace(substitut,substituts[substitut])\n",
    "    return result"
   ]
  },
  {
   "cell_type": "code",
   "execution_count": 182,
   "metadata": {},
   "outputs": [],
   "source": [
    "def preparationDonnees():\n",
    "    for ligne in donneesLignes:\n",
    "        if not (ligne.strip().strip(\";\")==\"\" or ligne.startswith(\"#\")):\n",
    "            temp=ligne.strip().split(\";\")\n",
    "            result={\"boucle\":[temp],\"conclusion\":[]}\n",
    "            titre=makeChamps(configuration[u\"Titre\"],temp).encode('utf8')\n",
    "            donnees.append({titre:result})\n",
    "    return"
   ]
  },
  {
   "cell_type": "code",
   "execution_count": 183,
   "metadata": {},
   "outputs": [],
   "source": [
    "def numerotationDonnees(donnees):\n",
    "    result={}\n",
    "    for nDonnee, donnee in enumerate(donnees):\n",
    "        result[u\"#%d#\"%(nDonnee+1)]=chaine2utf8(donnee)\n",
    "    return result"
   ]
  },
  {
   "cell_type": "code",
   "execution_count": 184,
   "metadata": {},
   "outputs": [],
   "source": [
    "def preparationConsigne(consigne,clozes,substituts):\n",
    "    \n",
    "    nbChamps=min(len(clozes),len(substituts))+1\n",
    "    result=[]\n",
    "    reponse=[]\n",
    "    nbReponses=set()\n",
    "    txtClozes=[\"#%d#\"%n for n in range(1,nbChamps) if clozes[\"#%d#\"%n]==\"TXT\"]\n",
    "    if debug: print txtClozes\n",
    "    repClozes=[\"#%d#\"%n for n in range(1,nbChamps) if clozes[\"#%d#\"%n] in [\"SAC\",\"SA\"]]\n",
    "    if debug: print repClozes\n",
    "    if len(repClozes)>1:\n",
    "        warnings.warn(\"Attention, pas de questions multiples avec une Short Answer RegExp\")\n",
    "    for element in consigne:\n",
    "        chaine=chaine2utf8(element)\n",
    "        for txtCloze in txtClozes:\n",
    "#            print txtCloze,chaine\n",
    "            chaine=chaine.replace(txtCloze,substituts[txtCloze])\n",
    "        mList=re.findall(ur\"#\\d+#\",chaine)\n",
    "        nbReponses|=set(mList)\n",
    "#        print mList,nbReponses\n",
    "        if mList and len(nbReponses)==1:\n",
    "            chaine=chaine.replace(mList[0],\"\")\n",
    "            if chaine:\n",
    "                result.append(chaine+ur\"<br/>\")\n",
    "            reponse.append(substituts[mList[0]])\n",
    "        else:\n",
    "            result.append(chaine)\n",
    "#        if chaine in clozes:\n",
    "#            champ=substituerChamps(chaine,substituts)\n",
    "#            if clozes[chaine]==\"TXT\":\n",
    "#                result.append(champ)\n",
    "#            else:\n",
    "#                reponse.append(champ)\n",
    "#        else:\n",
    "#            result.append(chaine)\n",
    "    return (result,reponse)"
   ]
  },
  {
   "cell_type": "code",
   "execution_count": 185,
   "metadata": {},
   "outputs": [],
   "source": [
    "for enonce in enonces:\n",
    "    yamlFichier=base+theme+\"-\"+enonce+\".yaml\"\n",
    "    csvFichier=base+theme+\".txt\"\n",
    "    boolEX=False\n",
    "            \n",
    "    with open(yamlFichier, 'r') as stream:\n",
    "        configuration=yaml.safe_load(stream)\n",
    "\n",
    "    with open(csvFichier, 'r') as file:\n",
    "        donneesLignes=file.readlines()\n",
    "    \n",
    "    if len(donneesLignes)>limiteDonnees:\n",
    "        donneesLignes=rd.sample(donneesLignes,limiteDonnees)\n",
    "\n",
    "    donnees=[]\n",
    "\n",
    "    preparationDonnees()\n",
    "\n",
    "        \n",
    "    categorie=configuration[u\"Catégorie\"]+\"/RX\"\n",
    "    consigne=[configuration[u\"Boucle\"][u\"début\"]]+configuration[u\"Boucle\"][u\"contenu\"]\n",
    "    boucleCLOZE=configuration[u\"Boucle\"][u\"Cloze\"]\n",
    "    globalWrap=[configuration[u\"Décor\"][u\"fond\"]+configuration[u\"Décor\"][u\"entete\"]+configuration[u\"Global\"][u\"début\"],configuration[u\"Global\"][\"fin\"]]\n",
    "    questions=XMLSeries(categorie)\n",
    "    clozes=numerotationDonnees(boucleCLOZE)\n",
    "    for exercices in donnees:\n",
    "        for exercice in exercices:\n",
    "            titre=chaine2utf8(exercice)\n",
    "            substituts=numerotationDonnees(exercices[exercice]['boucle'][0])\n",
    "            regexConsigne,regexReponse= preparationConsigne(consigne,clozes,substituts)\n",
    "            regexConsigne=regexConsigne\n",
    "            if freeSpace:\n",
    "                freeSpaceReponses=[]\n",
    "                for reponse in regexReponse:\n",
    "                    newReponse=reponse.replace(u\"'\",u\"['´’′❜]\")\n",
    "                    freeSpaceReponses.append(re.sub(r\"\\s+\",r\"\\s+\",newReponse))\n",
    "                regexReponse.extend(freeSpaceReponses)\n",
    "            questions.addExercice(RegExExercice(titre,[globalWrap[0]]+regexConsigne,regexReponse,usehint=achatAide,penalty=penalite))\n",
    "\n",
    "    xmlOutput=MoodleXML()\n",
    "    xmlOutput.addQuiz(questions.getSeries())\n",
    "\n",
    "    xmlFichier=yamlFichier.split(\".\")[0]+\"-RX.xml\"\n",
    "\n",
    "    with codecs.open(xmlFichier, 'w',encoding=\"utf8\") as output:\n",
    "        output.write(xmlOutput.getXML())\n"
   ]
  },
  {
   "cell_type": "code",
   "execution_count": 186,
   "metadata": {},
   "outputs": [],
   "source": [
    "#print xmlFichier"
   ]
  },
  {
   "cell_type": "code",
   "execution_count": 187,
   "metadata": {
    "scrolled": true
   },
   "outputs": [],
   "source": [
    "#questionsConsigne.getConsigne(donnees)"
   ]
  },
  {
   "cell_type": "code",
   "execution_count": 188,
   "metadata": {
    "scrolled": true
   },
   "outputs": [],
   "source": [
    "#print xmlOutput.getXML()"
   ]
  },
  {
   "cell_type": "code",
   "execution_count": 189,
   "metadata": {},
   "outputs": [
    {
     "data": {
      "text/plain": [
       "{u'#1#': u'TXT',\n",
       " u'#10#': u'TXT',\n",
       " u'#11#': u'TXT',\n",
       " u'#12#': u'TXT',\n",
       " u'#2#': u'TXT',\n",
       " u'#3#': u'TXT',\n",
       " u'#4#': u'TXT',\n",
       " u'#5#': u'TXT',\n",
       " u'#6#': u'SAC',\n",
       " u'#7#': u'TXT',\n",
       " u'#8#': u'TXT',\n",
       " u'#9#': u'TXT'}"
      ]
     },
     "execution_count": 189,
     "metadata": {},
     "output_type": "execute_result"
    }
   ],
   "source": [
    "clozes"
   ]
  },
  {
   "cell_type": "code",
   "execution_count": 190,
   "metadata": {},
   "outputs": [],
   "source": [
    "ding()"
   ]
  }
 ],
 "metadata": {
  "kernelspec": {
   "display_name": "Python 2",
   "language": "python",
   "name": "python2"
  },
  "language_info": {
   "codemirror_mode": {
    "name": "ipython",
    "version": 2
   },
   "file_extension": ".py",
   "mimetype": "text/x-python",
   "name": "python",
   "nbconvert_exporter": "python",
   "pygments_lexer": "ipython2",
   "version": "2.7.15"
  }
 },
 "nbformat": 4,
 "nbformat_minor": 1
}

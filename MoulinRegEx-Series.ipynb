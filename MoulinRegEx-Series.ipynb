{
 "cells": [
  {
   "cell_type": "code",
   "execution_count": 51,
   "metadata": {},
   "outputs": [],
   "source": [
    "#import re\n",
    "import sys, codecs, optparse, glob, os\n",
    "import string, yaml, warnings\n",
    "import random as rd\n",
    "from ToolsMoodleXML2 import *\n",
    "from cellbell import ding"
   ]
  },
  {
   "cell_type": "code",
   "execution_count": 52,
   "metadata": {},
   "outputs": [],
   "source": [
    "fA1=\"Phrases-A1-mahira.csv\"\n",
    "fA2=\"Phrases-A2-mahira-comp.csv\"\n",
    "fA1B1=\"PhrasesA1B1.csv\"\n",
    "fA1B2=\"PhrasesA1B2.csv\"\n",
    "fA2B1=\"PhrasesA2B1.csv\"\n",
    "fA2B2=\"PhrasesA2B2.csv\"\n",
    "fB1=\"Phrases-B1-autruches.csv\"\n",
    "fB2=\"Phrases-B2.csv\"\n",
    "fB2comp=\"Phrases-B2-autruches-comp.csv\"\n",
    "fB2ext=\"Phrases-B2-extend.csv\""
   ]
  },
  {
   "cell_type": "code",
   "execution_count": 53,
   "metadata": {},
   "outputs": [],
   "source": [
    "nKalaba=\"K3\"\n",
    "annee=\"21\"\n",
    "limiteDonnees=1500\n",
    "freeSpace=False\n",
    "dossier=\"/ownCloud/Cours/Bordeaux/L1-LinguistiqueGenerale/00-ProjetKalaba/%s-%s\"%(annee,nKalaba)\n",
    "# enonces=[\"Forme-Traduction\",\"Proprietes-Forme\"]\n",
    "# enonces=[\"Forme-Traduction\",\"Traduction-Radical\"]\n",
    "# enonces=[\"Traduction-Radical\"]\n",
    "# enonces=[\"Proprietes-Forme\",\"Glose-Decoupe\"]\n",
    "# enonces=[\"Glose-Decoupe\"]\n",
    "enonces=[\"Proprietes-Forme\"]\n",
    "achatAide=0 # 0 sans aide, 1 achat lettre, 2 achat mot\n",
    "# fLettre=\"A1\"\n",
    "fLettre=\"B2\"\n",
    "theme=\"%s-%s-%s\"%(annee,nKalaba,fLettre)\n",
    "\n",
    "enonces=[\"Theme\",\"Version\"]\n",
    "theme=\"Traductions\"\n",
    "freeSpace=True\n",
    "achatAide=2 # 0 sans aide, 1 achat lettre, 2 achat mot\n",
    "penalite=0.125\n",
    "# enonces=[\"Version\"]\n",
    "# enonces=[\"Theme\"]\n",
    "\n",
    "# enonces=[\"Ordre\"]\n",
    "# theme=\"Syntagmes\""
   ]
  },
  {
   "cell_type": "code",
   "execution_count": 54,
   "metadata": {},
   "outputs": [],
   "source": [
    "from os.path import expanduser\n",
    "home = expanduser(\"~\")\n",
    "repertoire=home+dossier\n",
    "base=repertoire+\"/\""
   ]
  },
  {
   "cell_type": "code",
   "execution_count": 55,
   "metadata": {},
   "outputs": [],
   "source": [
    "def chaine2utf8(chaine):\n",
    "    if type(chaine)==str:\n",
    "        result=unicode(chaine.decode('utf8'))\n",
    "    elif type(chaine)==unicode:\n",
    "        result=chaine\n",
    "    return result"
   ]
  },
  {
   "cell_type": "code",
   "execution_count": 56,
   "metadata": {},
   "outputs": [],
   "source": [
    "def substituerChamps(chaine, substituts):\n",
    "    result=chaine\n",
    "    for substitut in substituts:\n",
    "        result=result.replace(substitut,substituts[substitut])\n",
    "    return result"
   ]
  },
  {
   "cell_type": "code",
   "execution_count": 57,
   "metadata": {},
   "outputs": [],
   "source": [
    "def preparationDonnees():\n",
    "    for ligne in donneesLignes:\n",
    "        if not (ligne.strip().strip(\";\")==\"\" or ligne.startswith(\"#\")):\n",
    "            temp=ligne.strip().split(\";\")\n",
    "            result={\"boucle\":[temp],\"conclusion\":[]}\n",
    "            titre=makeChamps(configuration[u\"Titre\"],temp).encode('utf8')\n",
    "            donnees.append({titre:result})\n",
    "    return"
   ]
  },
  {
   "cell_type": "code",
   "execution_count": 58,
   "metadata": {},
   "outputs": [],
   "source": [
    "def numerotationDonnees(donnees):\n",
    "    result={}\n",
    "    for nDonnee, donnee in enumerate(donnees):\n",
    "        result[u\"#%d#\"%(nDonnee+1)]=chaine2utf8(donnee)\n",
    "    return result"
   ]
  },
  {
   "cell_type": "code",
   "execution_count": 59,
   "metadata": {},
   "outputs": [],
   "source": [
    "def preparationConsigne(consigne,clozes,substituts):\n",
    "    \n",
    "    nbChamps=min(len(clozes),len(substituts))+1\n",
    "    result=[]\n",
    "    reponse=[]\n",
    "    nbReponses=set()\n",
    "    txtClozes=[\"#%d#\"%n for n in range(1,nbChamps) if clozes[\"#%d#\"%n]==\"TXT\"]\n",
    "    if debug: print txtClozes\n",
    "    repClozes=[\"#%d#\"%n for n in range(1,nbChamps) if clozes[\"#%d#\"%n] in [\"SAC\",\"SA\"]]\n",
    "    if debug: print repClozes\n",
    "    if len(repClozes)>1:\n",
    "        warnings.warn(\"Attention, pas de questions multiples avec une Short Answer RegExp\")\n",
    "    for element in consigne:\n",
    "        chaine=chaine2utf8(element)\n",
    "        for txtCloze in txtClozes:\n",
    "#            print txtCloze,chaine\n",
    "            chaine=chaine.replace(txtCloze,substituts[txtCloze])\n",
    "        mList=re.findall(ur\"#\\d+#\",chaine)\n",
    "        nbReponses|=set(mList)\n",
    "#        print mList,nbReponses\n",
    "        if mList and len(nbReponses)==1:\n",
    "            chaine=chaine.replace(mList[0],\"\")\n",
    "            if chaine:\n",
    "                result.append(chaine+ur\"<br/>\")\n",
    "            reponse.append(substituts[mList[0]])\n",
    "        else:\n",
    "            result.append(chaine)\n",
    "#        if chaine in clozes:\n",
    "#            champ=substituerChamps(chaine,substituts)\n",
    "#            if clozes[chaine]==\"TXT\":\n",
    "#                result.append(champ)\n",
    "#            else:\n",
    "#                reponse.append(champ)\n",
    "#        else:\n",
    "#            result.append(chaine)\n",
    "    return (result,reponse)"
   ]
  },
  {
   "cell_type": "code",
   "execution_count": 60,
   "metadata": {},
   "outputs": [],
   "source": [
    "def chunker(seq, size):\n",
    "    return (seq[pos:pos + size] for pos in xrange(0, len(seq), size))"
   ]
  },
  {
   "cell_type": "code",
   "execution_count": 61,
   "metadata": {},
   "outputs": [],
   "source": [
    "def makeQuestions(donnees):\n",
    "    questions=XMLSeries(categorie)\n",
    "    clozes=numerotationDonnees(boucleCLOZE)\n",
    "    for exercices in donnees:\n",
    "        for exercice in exercices:\n",
    "            titre=chaine2utf8(exercice)\n",
    "            substituts=numerotationDonnees(exercices[exercice]['boucle'][0])\n",
    "            regexConsigne,regexReponse= preparationConsigne(consigne,clozes,substituts)\n",
    "            regexConsigne=regexConsigne\n",
    "            if freeSpace:\n",
    "                freeSpaceReponses=[]\n",
    "                for reponse in regexReponse:\n",
    "                    newReponse=reponse.replace(u\"'\",u\"['´’′❜]\")\n",
    "                    freeSpaceReponses.append(re.sub(r\"\\s+\",r\"\\s+\",newReponse))\n",
    "                regexReponse.extend(freeSpaceReponses)\n",
    "            questions.addExercice(RegExExercice(titre,[globalWrap[0]]+regexConsigne,regexReponse,usehint=achatAide,penalty=penalite))\n",
    "    return questions"
   ]
  },
  {
   "cell_type": "code",
   "execution_count": 62,
   "metadata": {},
   "outputs": [],
   "source": [
    "for enonce in enonces:\n",
    "    yamlFichier=base+theme+\"-\"+enonce+\".yaml\"\n",
    "    csvFichier=base+theme+\".txt\"\n",
    "    boolEX=False\n",
    "            \n",
    "    with open(yamlFichier, 'r') as stream:\n",
    "        configuration=yaml.safe_load(stream)\n",
    "\n",
    "    with open(csvFichier, 'r') as file:\n",
    "#         donneesLignes=rd.shuffle(file.readlines())\n",
    "        donneesLignes=file.readlines()\n",
    "    rd.shuffle(donneesLignes)\n",
    "    \n",
    "# Modifié pour produire des fichiers Moodle XML de limiteDonnees questions\n",
    "\n",
    "    donnees=[]\n",
    "\n",
    "    preparationDonnees()\n",
    "\n",
    "        \n",
    "    categorie=configuration[u\"Catégorie\"]+\"/RX\"\n",
    "    consigne=[configuration[u\"Boucle\"][u\"début\"]]+configuration[u\"Boucle\"][u\"contenu\"]\n",
    "    boucleCLOZE=configuration[u\"Boucle\"][u\"Cloze\"]\n",
    "    globalWrap=[configuration[u\"Décor\"][u\"fond\"]+configuration[u\"Décor\"][u\"entete\"]+configuration[u\"Global\"][u\"début\"],configuration[u\"Global\"][\"fin\"]]\n",
    "    for nC,chunk in enumerate(chunker(donnees,limiteDonnees)):\n",
    "        questions=makeQuestions(chunk)\n",
    "        xmlOutput=MoodleXML()\n",
    "        xmlOutput.addQuiz(questions.getSeries())\n",
    "\n",
    "        xmlFichier=yamlFichier.split(\".\")[0]+\"-RX%d.xml\"%nC\n",
    "\n",
    "        with codecs.open(xmlFichier, 'w',encoding=\"utf8\") as output:\n",
    "            output.write(xmlOutput.getXML())"
   ]
  },
  {
   "cell_type": "code",
   "execution_count": 63,
   "metadata": {},
   "outputs": [],
   "source": [
    "#print xmlFichier"
   ]
  },
  {
   "cell_type": "code",
   "execution_count": 64,
   "metadata": {
    "scrolled": true
   },
   "outputs": [],
   "source": [
    "#questionsConsigne.getConsigne(donnees)"
   ]
  },
  {
   "cell_type": "code",
   "execution_count": 65,
   "metadata": {
    "scrolled": true
   },
   "outputs": [],
   "source": [
    "#print xmlOutput.getXML()"
   ]
  },
  {
   "cell_type": "code",
   "execution_count": 66,
   "metadata": {},
   "outputs": [],
   "source": [
    "# clozes"
   ]
  },
  {
   "cell_type": "code",
   "execution_count": 67,
   "metadata": {},
   "outputs": [
    {
     "ename": "ImportError",
     "evalue": "Library \"c\" not found.",
     "output_type": "error",
     "traceback": [
      "\u001b[0;31m---------------------------------------------------------------------------\u001b[0m",
      "\u001b[0;31mImportError\u001b[0m                               Traceback (most recent call last)",
      "\u001b[0;32m<ipython-input-67-265bf98eb480>\u001b[0m in \u001b[0;36m<module>\u001b[0;34m()\u001b[0m\n\u001b[0;32m----> 1\u001b[0;31m \u001b[0mding\u001b[0m\u001b[0;34m(\u001b[0m\u001b[0;34m)\u001b[0m\u001b[0;34m\u001b[0m\u001b[0m\n\u001b[0m",
      "\u001b[0;32m/Users/gilles/anaconda/lib/python2.7/site-packages/cellbell/cellbell.pyc\u001b[0m in \u001b[0;36mding\u001b[0;34m()\u001b[0m\n\u001b[1;32m     28\u001b[0m     \"\"\"\n\u001b[1;32m     29\u001b[0m \u001b[0;34m\u001b[0m\u001b[0m\n\u001b[0;32m---> 30\u001b[0;31m     \u001b[0mbell\u001b[0m\u001b[0;34m.\u001b[0m\u001b[0mplay\u001b[0m\u001b[0;34m(\u001b[0m\u001b[0;34m)\u001b[0m\u001b[0;34m\u001b[0m\u001b[0m\n\u001b[0m",
      "\u001b[0;32m/Users/gilles/anaconda/lib/python2.7/site-packages/pyglet/media/__init__.pyc\u001b[0m in \u001b[0;36mplay\u001b[0;34m(self)\u001b[0m\n\u001b[1;32m    478\u001b[0m         '''\n\u001b[1;32m    479\u001b[0m         \u001b[0mplayer\u001b[0m \u001b[0;34m=\u001b[0m \u001b[0mManagedSoundPlayer\u001b[0m\u001b[0;34m(\u001b[0m\u001b[0;34m)\u001b[0m\u001b[0;34m\u001b[0m\u001b[0m\n\u001b[0;32m--> 480\u001b[0;31m         \u001b[0mplayer\u001b[0m\u001b[0;34m.\u001b[0m\u001b[0mqueue\u001b[0m\u001b[0;34m(\u001b[0m\u001b[0mself\u001b[0m\u001b[0;34m)\u001b[0m\u001b[0;34m\u001b[0m\u001b[0m\n\u001b[0m\u001b[1;32m    481\u001b[0m         \u001b[0mplayer\u001b[0m\u001b[0;34m.\u001b[0m\u001b[0mplay\u001b[0m\u001b[0;34m(\u001b[0m\u001b[0;34m)\u001b[0m\u001b[0;34m\u001b[0m\u001b[0m\n\u001b[1;32m    482\u001b[0m         \u001b[0;32mreturn\u001b[0m \u001b[0mplayer\u001b[0m\u001b[0;34m\u001b[0m\u001b[0m\n",
      "\u001b[0;32m/Users/gilles/anaconda/lib/python2.7/site-packages/pyglet/media/__init__.pyc\u001b[0m in \u001b[0;36mqueue\u001b[0;34m(self, source)\u001b[0m\n\u001b[1;32m    988\u001b[0m                 \u001b[0mself\u001b[0m\u001b[0;34m.\u001b[0m\u001b[0m_set_eos_action\u001b[0m\u001b[0;34m(\u001b[0m\u001b[0mself\u001b[0m\u001b[0;34m.\u001b[0m\u001b[0m_eos_action\u001b[0m\u001b[0;34m)\u001b[0m\u001b[0;34m\u001b[0m\u001b[0m\n\u001b[1;32m    989\u001b[0m \u001b[0;34m\u001b[0m\u001b[0m\n\u001b[0;32m--> 990\u001b[0;31m         \u001b[0mself\u001b[0m\u001b[0;34m.\u001b[0m\u001b[0m_set_playing\u001b[0m\u001b[0;34m(\u001b[0m\u001b[0mself\u001b[0m\u001b[0;34m.\u001b[0m\u001b[0m_playing\u001b[0m\u001b[0;34m)\u001b[0m\u001b[0;34m\u001b[0m\u001b[0m\n\u001b[0m\u001b[1;32m    991\u001b[0m \u001b[0;34m\u001b[0m\u001b[0m\n\u001b[1;32m    992\u001b[0m     \u001b[0;32mdef\u001b[0m \u001b[0m_set_playing\u001b[0m\u001b[0;34m(\u001b[0m\u001b[0mself\u001b[0m\u001b[0;34m,\u001b[0m \u001b[0mplaying\u001b[0m\u001b[0;34m)\u001b[0m\u001b[0;34m:\u001b[0m\u001b[0;34m\u001b[0m\u001b[0m\n",
      "\u001b[0;32m/Users/gilles/anaconda/lib/python2.7/site-packages/pyglet/media/__init__.pyc\u001b[0m in \u001b[0;36m_set_playing\u001b[0;34m(self, playing)\u001b[0m\n\u001b[1;32m   1015\u001b[0m                 \u001b[0mself\u001b[0m\u001b[0;34m.\u001b[0m\u001b[0m_audio_player\u001b[0m\u001b[0;34m.\u001b[0m\u001b[0mstop\u001b[0m\u001b[0;34m(\u001b[0m\u001b[0;34m)\u001b[0m\u001b[0;34m\u001b[0m\u001b[0m\n\u001b[1;32m   1016\u001b[0m \u001b[0;34m\u001b[0m\u001b[0m\n\u001b[0;32m-> 1017\u001b[0;31m             \u001b[0mpyglet\u001b[0m\u001b[0;34m.\u001b[0m\u001b[0mclock\u001b[0m\u001b[0;34m.\u001b[0m\u001b[0munschedule\u001b[0m\u001b[0;34m(\u001b[0m\u001b[0mself\u001b[0m\u001b[0;34m.\u001b[0m\u001b[0mupdate_texture\u001b[0m\u001b[0;34m)\u001b[0m\u001b[0;34m\u001b[0m\u001b[0m\n\u001b[0m\u001b[1;32m   1018\u001b[0m \u001b[0;34m\u001b[0m\u001b[0m\n\u001b[1;32m   1019\u001b[0m     \u001b[0;32mdef\u001b[0m \u001b[0mplay\u001b[0m\u001b[0;34m(\u001b[0m\u001b[0mself\u001b[0m\u001b[0;34m)\u001b[0m\u001b[0;34m:\u001b[0m\u001b[0;34m\u001b[0m\u001b[0m\n",
      "\u001b[0;32m/Users/gilles/anaconda/lib/python2.7/site-packages/pyglet/__init__.pyc\u001b[0m in \u001b[0;36m__getattr__\u001b[0;34m(self, name)\u001b[0m\n\u001b[1;32m    355\u001b[0m \u001b[0;34m\u001b[0m\u001b[0m\n\u001b[1;32m    356\u001b[0m             \u001b[0mimport_name\u001b[0m \u001b[0;34m=\u001b[0m \u001b[0;34m'pyglet.%s'\u001b[0m \u001b[0;34m%\u001b[0m \u001b[0mself\u001b[0m\u001b[0;34m.\u001b[0m\u001b[0m_module_name\u001b[0m\u001b[0;34m\u001b[0m\u001b[0m\n\u001b[0;32m--> 357\u001b[0;31m             \u001b[0m__import__\u001b[0m\u001b[0;34m(\u001b[0m\u001b[0mimport_name\u001b[0m\u001b[0;34m)\u001b[0m\u001b[0;34m\u001b[0m\u001b[0m\n\u001b[0m\u001b[1;32m    358\u001b[0m             \u001b[0mmodule\u001b[0m \u001b[0;34m=\u001b[0m \u001b[0msys\u001b[0m\u001b[0;34m.\u001b[0m\u001b[0mmodules\u001b[0m\u001b[0;34m[\u001b[0m\u001b[0mimport_name\u001b[0m\u001b[0;34m]\u001b[0m\u001b[0;34m\u001b[0m\u001b[0m\n\u001b[1;32m    359\u001b[0m             \u001b[0mobject\u001b[0m\u001b[0;34m.\u001b[0m\u001b[0m__setattr__\u001b[0m\u001b[0;34m(\u001b[0m\u001b[0mself\u001b[0m\u001b[0;34m,\u001b[0m \u001b[0;34m'_module'\u001b[0m\u001b[0;34m,\u001b[0m \u001b[0mmodule\u001b[0m\u001b[0;34m)\u001b[0m\u001b[0;34m\u001b[0m\u001b[0m\n",
      "\u001b[0;32m/Users/gilles/anaconda/lib/python2.7/site-packages/pyglet/clock.py\u001b[0m in \u001b[0;36m<module>\u001b[0;34m()\u001b[0m\n\u001b[1;32m    166\u001b[0m \u001b[0;34m\u001b[0m\u001b[0m\n\u001b[1;32m    167\u001b[0m \u001b[0;32melse\u001b[0m\u001b[0;34m:\u001b[0m\u001b[0;34m\u001b[0m\u001b[0m\n\u001b[0;32m--> 168\u001b[0;31m     \u001b[0m_c\u001b[0m \u001b[0;34m=\u001b[0m \u001b[0mpyglet\u001b[0m\u001b[0;34m.\u001b[0m\u001b[0mlib\u001b[0m\u001b[0;34m.\u001b[0m\u001b[0mload_library\u001b[0m\u001b[0;34m(\u001b[0m\u001b[0;34m'c'\u001b[0m\u001b[0;34m)\u001b[0m\u001b[0;34m\u001b[0m\u001b[0m\n\u001b[0m\u001b[1;32m    169\u001b[0m     \u001b[0m_c\u001b[0m\u001b[0;34m.\u001b[0m\u001b[0musleep\u001b[0m\u001b[0;34m.\u001b[0m\u001b[0margtypes\u001b[0m \u001b[0;34m=\u001b[0m \u001b[0;34m[\u001b[0m\u001b[0mctypes\u001b[0m\u001b[0;34m.\u001b[0m\u001b[0mc_ulong\u001b[0m\u001b[0;34m]\u001b[0m\u001b[0;34m\u001b[0m\u001b[0m\n\u001b[1;32m    170\u001b[0m \u001b[0;34m\u001b[0m\u001b[0m\n",
      "\u001b[0;32m/Users/gilles/anaconda/lib/python2.7/site-packages/pyglet/lib.pyc\u001b[0m in \u001b[0;36mload_library\u001b[0;34m(self, *names, **kwargs)\u001b[0m\n\u001b[1;32m    140\u001b[0m                     \u001b[0;32mexcept\u001b[0m \u001b[0mOSError\u001b[0m\u001b[0;34m:\u001b[0m\u001b[0;34m\u001b[0m\u001b[0m\n\u001b[1;32m    141\u001b[0m                         \u001b[0;32mpass\u001b[0m\u001b[0;34m\u001b[0m\u001b[0m\n\u001b[0;32m--> 142\u001b[0;31m         \u001b[0;32mraise\u001b[0m \u001b[0mImportError\u001b[0m\u001b[0;34m(\u001b[0m\u001b[0;34m'Library \"%s\" not found.'\u001b[0m \u001b[0;34m%\u001b[0m \u001b[0mnames\u001b[0m\u001b[0;34m[\u001b[0m\u001b[0;36m0\u001b[0m\u001b[0;34m]\u001b[0m\u001b[0;34m)\u001b[0m\u001b[0;34m\u001b[0m\u001b[0m\n\u001b[0m\u001b[1;32m    143\u001b[0m \u001b[0;34m\u001b[0m\u001b[0m\n\u001b[1;32m    144\u001b[0m     \u001b[0mfind_library\u001b[0m \u001b[0;34m=\u001b[0m \u001b[0;32mlambda\u001b[0m \u001b[0mself\u001b[0m\u001b[0;34m,\u001b[0m \u001b[0mname\u001b[0m\u001b[0;34m:\u001b[0m \u001b[0mctypes\u001b[0m\u001b[0;34m.\u001b[0m\u001b[0mutil\u001b[0m\u001b[0;34m.\u001b[0m\u001b[0mfind_library\u001b[0m\u001b[0;34m(\u001b[0m\u001b[0mname\u001b[0m\u001b[0;34m)\u001b[0m\u001b[0;34m\u001b[0m\u001b[0m\n",
      "\u001b[0;31mImportError\u001b[0m: Library \"c\" not found."
     ]
    }
   ],
   "source": [
    "ding()"
   ]
  }
 ],
 "metadata": {
  "kernelspec": {
   "display_name": "Python 2",
   "language": "python",
   "name": "python2"
  },
  "language_info": {
   "codemirror_mode": {
    "name": "ipython",
    "version": 2
   },
   "file_extension": ".py",
   "mimetype": "text/x-python",
   "name": "python",
   "nbconvert_exporter": "python",
   "pygments_lexer": "ipython2",
   "version": "2.7.15"
  }
 },
 "nbformat": 4,
 "nbformat_minor": 1
}

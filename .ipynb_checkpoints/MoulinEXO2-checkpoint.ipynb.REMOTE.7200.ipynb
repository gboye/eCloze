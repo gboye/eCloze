{
 "metadata": {
  "name": "",
  "signature": "sha256:82b09d3c9430ae13613c40002687e37a958584ed4be3603ccaf1fcb6f2f3dec3"
 },
 "nbformat": 3,
 "nbformat_minor": 0,
 "worksheets": [
  {
   "cells": [
    {
     "cell_type": "code",
     "collapsed": false,
     "input": [
      "#import re\n",
      "import sys, codecs, optparse, glob, os\n",
      "import string\n",
      "import random"
     ],
     "language": "python",
     "metadata": {},
     "outputs": [],
     "prompt_number": 1
    },
    {
     "cell_type": "code",
     "collapsed": false,
     "input": [
      "from MoodleXML import *\n",
      "import yaml"
     ],
     "language": "python",
     "metadata": {},
     "outputs": [],
     "prompt_number": 2
    },
    {
     "cell_type": "code",
     "collapsed": false,
     "input": [
      "with open(\"exercice.yaml\", 'r') as stream:\n",
      "    configuration=yaml.load(stream)"
     ],
     "language": "python",
     "metadata": {},
     "outputs": [],
     "prompt_number": 3
    },
    {
     "cell_type": "code",
     "collapsed": false,
     "input": [
      "def getList(entree):\n",
      "    if isinstance(entree,list):\n",
      "        return entree\n",
      "    else:\n",
      "        return [entree]"
     ],
     "language": "python",
     "metadata": {},
     "outputs": [],
     "prompt_number": 4
    },
    {
     "cell_type": "code",
     "collapsed": false,
     "input": [
      "categorie=configuration[u\"Cat\u00e9gorie\"]\n",
      "donnees=configuration[u\"Donn\u00e9es\"]\n",
      "consigne=configuration[u\"Boucle\"][u\"contenu\"]\n",
      "boucleWrap=[configuration[u\"Boucle\"][u\"d\u00e9but\"],configuration[u\"Boucle\"][\"fin\"]]\n",
      "boucleCLOZE=configuration[u\"Boucle\"][u\"Cloze\"]\n",
      "globalWrap=[configuration[u\"Global\"][u\"d\u00e9but\"],configuration[u\"Global\"][\"fin\"]]\n",
      "conclusion=[configuration[u\"Conclusion\"][u\"d\u00e9but\"],configuration[u\"Conclusion\"][\"contenu\"],configuration[u\"Conclusion\"][\"fin\"]]\n",
      "conclusionCLOZE=configuration[u\"Conclusion\"][u\"Cloze\"]\n",
      "\n",
      "questions=XMLClozes(categorie)\n",
      "questionsConsigne=ClozeConsigne(consigne,boucleWrap=boucleWrap,globalWrap=globalWrap,conclusion=conclusion)\n",
      "serie=ClozeSerie(configuration[u\"Boucle\"][u\"Cloze\"],configuration[u\"Conclusion\"][u\"Cloze\"])"
     ],
     "language": "python",
     "metadata": {},
     "outputs": [],
     "prompt_number": 5
    },
    {
     "cell_type": "code",
     "collapsed": false,
     "input": [
      "serie.exercices"
     ],
     "language": "python",
     "metadata": {},
     "outputs": [
      {
       "metadata": {},
       "output_type": "pyout",
       "prompt_number": 6,
       "text": [
        "[]"
       ]
      }
     ],
     "prompt_number": 6
    },
    {
     "cell_type": "code",
     "collapsed": false,
     "input": [
      "for exercices in donnees:\n",
      "    for exercice in exercices:\n",
      "        exerciceBoucle=exercices[exercice][\"boucle\"]\n",
      "        exerciceConclusion=exercices[exercice][\"conclusion\"]\n",
      "        serie.addExercice(Exercice(exerciceBoucle,exerciceConclusion))\n"
     ],
     "language": "python",
     "metadata": {},
     "outputs": [],
     "prompt_number": 7
    },
    {
     "cell_type": "code",
     "collapsed": false,
     "input": [
      "serie.makeSerie(questionsConsigne)"
     ],
     "language": "python",
     "metadata": {},
     "outputs": [
      {
       "output_type": "stream",
       "stream": "stdout",
       "text": [
        "['', '', u'Donnez la base et la construction correspondant au lex\\xe8me POMMIER', 'Base : {1:SAC:=POMME}, Construction : {1:MC:=arbre de BASE~agent de BASE}', '', '', u'Donnez la base et la construction correspondant au lex\\xe8me POMPIER', u'Base : {1:SAC:=POMPE}, Construction : {1:MC:=activit\\xe9 en rapport avec BASE~arbre de BASE}', '', '', u'Quel est le point commun entre ces deux constructions ? {1:MCH:=la phonologie~la s\\xe9mantique}', u'Quelle est la diff\\xe9rence entre ces deux constructions ? {1:MC:=la s\\xe9mantique~la phonologie}', '', '']\n",
        "['', '', u'Donnez la base et la construction correspondant au lex\\xe8me POIRIER', 'Base : {1:SAC:=POIRE}, Construction : {1:MC:=arbre de BASE~agent de BASE}', '', '', u'Donnez la base et la construction correspondant au lex\\xe8me POISSONIER', u'Base : {1:SAC:=POISSON}, Construction : {1:MC:=activit\\xe9 en rapport avec BASE~agent de BASE}', '', '', u'Quel est le point commun entre ces deux constructions ? {1:MCH:=la phonologie~la s\\xe9mantique}', u'Quelle est la diff\\xe9rence entre ces deux constructions ? {1:MC:=la s\\xe9mantique~la phonologie}', '', '']\n",
        "['', '', u'Donnez la base et la construction correspondant au lex\\xe8me VENDEUR', u'Base : {1:SAC:=VENDRE}, Construction : {1:MC:=agent de BASE~activit\\xe9 en rapport avec BASE}', '', '', u'Donnez la base et la construction correspondant au lex\\xe8me POISSONIER', u'Base : {1:SAC:=POISSON}, Construction : {1:MC:=activit\\xe9 en rapport avec BASE~agent de BASE}', '', '', u'Quel est le point commun entre ces deux constructions ? {1:MCH:=la s\\xe9mantique~la phonologie}', u'Quelle est la diff\\xe9rence entre ces deux constructions ? {1:MC:=la phonologie~la s\\xe9mantique}', '', '']\n"
       ]
      }
     ],
     "prompt_number": 8
    },
    {
     "cell_type": "code",
     "collapsed": false,
     "input": [
      "serie.exercices[0].boucle"
     ],
     "language": "python",
     "metadata": {},
     "outputs": [
      {
       "metadata": {},
       "output_type": "pyout",
       "prompt_number": 11,
       "text": [
        "[['POMMIER', '{1:SAC:=POMME}', '{1:MC:=arbre de BASE~agent de BASE}'],\n",
        " ['POMPIER',\n",
        "  '{1:SAC:=POMPE}',\n",
        "  u'{1:MC:=activit\\xe9 en rapport avec BASE~arbre de BASE}']]"
       ]
      }
     ],
     "prompt_number": 11
    },
    {
     "cell_type": "code",
     "collapsed": false,
     "input": [],
     "language": "python",
     "metadata": {},
     "outputs": []
    }
   ],
   "metadata": {}
  }
 ]
}
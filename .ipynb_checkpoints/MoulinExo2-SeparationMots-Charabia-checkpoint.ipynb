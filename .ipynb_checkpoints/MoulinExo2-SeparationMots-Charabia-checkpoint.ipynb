{
 "cells": [
  {
   "cell_type": "code",
   "execution_count": 369,
   "metadata": {},
   "outputs": [],
   "source": [
    "#import re\n",
    "import sys, codecs, optparse, glob, os\n",
    "import string\n",
    "import random\n",
    "import itertools as it"
   ]
  },
  {
   "cell_type": "markdown",
   "metadata": {},
   "source": [
    "### Attention à la gestion des points des parenthèses et des crochets\n",
    "mettre *echapperParCro* à :\n",
    "- *True* pour utiliser les parenthèses et les crochets dans les chaines\n",
    "- *False* pour que les caractères en question soient considérés comme des éléments de **regex**\n",
    "\n",
    "Pour l'instant, les points sont toujours échappés."
   ]
  },
  {
   "cell_type": "code",
   "execution_count": 370,
   "metadata": {},
   "outputs": [],
   "source": [
    "debug=False\n",
    "echapperParCro=False"
   ]
  },
  {
   "cell_type": "code",
   "execution_count": 371,
   "metadata": {},
   "outputs": [],
   "source": [
    "dossier=\"/Github/eGloss\"\n",
    "enonce=\"Test\"\n",
    "theme=\"CH-Separations-Mots\"\n",
    "numeroterQuestions=True\n",
    "adaptatifPenalite=\"0.1000000\"\n",
    "nbHints=9\n",
    "dernierIndiceNote=95.0\n",
    "msgPlusDeMots=u\"Il y a plus de mots\"\n",
    "msgMoinsDeMots=u\"Il y a moins de mots\"\n",
    "def nbIndiceNotes(nb):\n",
    "    if nb==1: \n",
    "        return [\"%50%\"]\n",
    "    elif nb==2:\n",
    "        return [\"\",\"%50%\"]\n",
    "    else:\n",
    "        return [\"\"]+[\"%\"+str(int((i+2)*dernierIndiceNote/nb))+\"%\" for i in range(nb-1)]   "
   ]
  },
  {
   "cell_type": "code",
   "execution_count": 372,
   "metadata": {},
   "outputs": [],
   "source": [
    "if debug:\n",
    "    for i in range(20):\n",
    "        print i,nbIndiceNotes(i) "
   ]
  },
  {
   "cell_type": "markdown",
   "metadata": {},
   "source": [
    "nbIndiceNotes={\n",
    "    1:[\"%50%\"],\n",
    "    2:[\"\",\"%50%\"],\n",
    "    3:[\"\",\"%40%\",\"%75%\"],\n",
    "    4:[\"\",\"%25%\",\"%50%\",\"%75%\"],\n",
    "    5:[\"\",\"%25%\",\"%40%\", \"%60%\",\"%75%\"],\n",
    "    6:[\"\",\"%20%\",\"%35%\",\"%50%\", \"%60%\",\"%75%\"],\n",
    "    7:[\"\",\"%15\",\"%25%\",\"%35%\",\"%50%\", \"%60%\",\"%75%\"],\n",
    "    8:[\"\",\"%15\",\"%25%\",\"%35%\",\"%45%\",\"%55%\", \"%65%\",\"%75%\"],\n",
    "    9:[\"\",\"%5%\",\"%15\",\"%25%\",\"%35%\",\"%45%\",\"%55%\", \"%65%\",\"%75%\"],\n",
    "    10:[\"\",\"%8%\",\"%16%\",\"%24%\",\"%32%\",\"%40%\",\"%48%\", \"%56%\",\"%64%\",\"%75%\"],\n",
    "}"
   ]
  },
  {
   "cell_type": "code",
   "execution_count": 373,
   "metadata": {},
   "outputs": [],
   "source": [
    "from os.path import expanduser\n",
    "home = expanduser(\"~\")\n",
    "repertoire=home+dossier\n",
    "base=repertoire+\"/\""
   ]
  },
  {
   "cell_type": "code",
   "execution_count": 374,
   "metadata": {},
   "outputs": [],
   "source": [
    "from ToolsMoodleXML2 import *\n",
    "import yaml"
   ]
  },
  {
   "cell_type": "code",
   "execution_count": 375,
   "metadata": {},
   "outputs": [],
   "source": [
    "yamlFichier=base+theme+\"-\"+enonce+\".yaml\"\n",
    "csvFichier=base+theme+\".txt\"\n",
    "boolEX=False\n",
    "titreNoEX=False"
   ]
  },
  {
   "cell_type": "code",
   "execution_count": 376,
   "metadata": {},
   "outputs": [],
   "source": [
    "with open(yamlFichier, 'r') as stream:\n",
    "    configuration=yaml.load(stream)\n",
    "    \n",
    "with codecs.open(csvFichier, 'r', encoding=\"utf8\") as file:\n",
    "    donneesLignes=[l.strip() for l in file.readlines() if l.strip()!=\"\"]"
   ]
  },
  {
   "cell_type": "code",
   "execution_count": 377,
   "metadata": {},
   "outputs": [],
   "source": [
    "def sousListes(liste, longueur):\n",
    "    for i in range(0, len(liste), longueur):\n",
    "        yield liste[i:i+longueur]\n",
    "        \n",
    "def sousSuites(liste,longueur):\n",
    "    for i in range(0, len(liste)-longueur+1):\n",
    "        yield liste[i:i+longueur]\n",
    "    "
   ]
  },
  {
   "cell_type": "raw",
   "metadata": {},
   "source": [
    "def motsRegex(mots):\n",
    "    pRegex=[]\n",
    "    debutMots=\"\"\n",
    "    nbMots=0\n",
    "    for chunk in sousListes(mots,4):\n",
    "        setMots=set(chunk)\n",
    "        lSetMots=len(setMots)\n",
    "        auMoins=\"\"\n",
    "        if lSetMots!=4: auMoins=\"au moins\"\n",
    "        cRegex=[]\n",
    "        for l in reversed(range(lSetMots)):\n",
    "            lRegex=[]\n",
    "            for c in it.combinations(setMots,l+1):\n",
    "                lRegex.append(u\"\".join([ur\"(?!.*\\b%s\\b.*)\"%m for m in c]))\n",
    "            lStrRegex=u\"~%%%d%%^%s(\"%debutMots+\"|\".join(lRegex)+u\").*#Début : %d, Suite : %s %d \"%(note,nbMots,auMoins,lSetMots-l-1)\n",
    "            print lStrRegex\n",
    "            cRegex.append(lStrRegex)\n",
    "        debutMots+=\" \".join(chunk)+\" \"\n",
    "        cRegex.append(u\"~%%10%%^(?!%s).*#Début : %d, Suite vous avez identifié les %d mots suivants, mais pas au bon endroit.\"%(debutMots,nbMots,lSetMots))\n",
    "        pRegex.extend(cRegex)\n",
    "        nbMots+=len(chunk)\n",
    "    return pRegex"
   ]
  },
  {
   "cell_type": "code",
   "execution_count": 378,
   "metadata": {},
   "outputs": [],
   "source": [
    "def motsRegex(mots):\n",
    "    indiceNotes=nbIndiceNotes(len(mots))\n",
    "    pRegex=[]\n",
    "    debutMots=u\"\"\n",
    "    debutMots2=u\"———\"\n",
    "    nbMots=0\n",
    "    chunkSize=4\n",
    "    for chunk in sousListes(mots,chunkSize):\n",
    "        setMots=set(chunk)\n",
    "        lSetMots=len(setMots)\n",
    "        cRegex=[]\n",
    "        for l in range(lSetMots):\n",
    "#            print l\n",
    "            lRegex=u\"\".join([ur\"(?!.*\\b%s\\b.*)\"%(\" \".join(s)) for s in sousSuites(chunk,l+1)])\n",
    "#            print lRegex\n",
    "            note=indiceNotes[l+nbMots]\n",
    "            lStrRegex=u\"%s^%s(%s\"%(note,debutMots,lRegex)+u\").*#Début : %s, Suite : %d/%d \"%(debutMots2.strip(),l,len(chunk))\n",
    "            print lStrRegex\n",
    "            cRegex.append(lStrRegex)\n",
    "        debutMots+=\" \".join(chunk)+\" \"\n",
    "        debutMots2=debutMots\n",
    "#        cRegex.append(u\"~%%10%%^(?!%s).*#Début : %d, Suite vous avez identifié les %d mots suivants, mais pas au bon endroit.\"%(debutMots,nbMots,lSetMots))\n",
    "        pRegex.extend(cRegex)\n",
    "        nbMots+=len(chunk)\n",
    "    return pRegex"
   ]
  },
  {
   "cell_type": "code",
   "execution_count": 379,
   "metadata": {},
   "outputs": [
    {
     "name": "stdout",
     "output_type": "stream",
     "text": [
      "^((?!.*\\bron\\b.*)(?!.*\\bjiyizkin\\b.*)(?!.*\\bron\\b.*)(?!.*\\bginxo\\b.*)).*#Début : ———, Suite : 0/4 \n",
      "%9%^((?!.*\\bron jiyizkin\\b.*)(?!.*\\bjiyizkin ron\\b.*)(?!.*\\bron ginxo\\b.*)).*#Début : ———, Suite : 1/4 \n",
      "%13%^((?!.*\\bron jiyizkin ron\\b.*)(?!.*\\bjiyizkin ron ginxo\\b.*)).*#Début : ———, Suite : 2/4 \n",
      "%22%^ron jiyizkin ron ginxo ((?!.*\\bgeci\\b.*)(?!.*\\bwinvxo\\b.*)(?!.*\\bujuz\\b.*)(?!.*\\bjiyizvxon\\b.*)).*#Début : ron jiyizkin ron ginxo, Suite : 0/4 \n",
      "%27%^ron jiyizkin ron ginxo ((?!.*\\bgeci winvxo\\b.*)(?!.*\\bwinvxo ujuz\\b.*)(?!.*\\bujuz jiyizvxon\\b.*)).*#Début : ron jiyizkin ron ginxo, Suite : 1/4 \n",
      "%31%^ron jiyizkin ron ginxo ((?!.*\\bgeci winvxo ujuz\\b.*)(?!.*\\bwinvxo ujuz jiyizvxon\\b.*)).*#Début : ron jiyizkin ron ginxo, Suite : 2/4 \n",
      "%36%^ron jiyizkin ron ginxo ((?!.*\\bgeci winvxo ujuz jiyizvxon\\b.*)).*#Début : ron jiyizkin ron ginxo, Suite : 3/4 \n",
      "%40%^ron jiyizkin ron ginxo geci winvxo ujuz jiyizvxon ((?!.*\\bron\\b.*)(?!.*\\bbecug\\b.*)(?!.*\\botmayakanoza\\b.*)(?!.*\\bginhxoz\\b.*)).*#Début : ron jiyizkin ron ginxo geci winvxo ujuz jiyizvxon, Suite : 0/4 \n",
      "%45%^ron jiyizkin ron ginxo geci winvxo ujuz jiyizvxon ((?!.*\\bron becug\\b.*)(?!.*\\bbecug otmayakanoza\\b.*)(?!.*\\botmayakanoza ginhxoz\\b.*)).*#Début : ron jiyizkin ron ginxo geci winvxo ujuz jiyizvxon, Suite : 1/4 \n",
      "%49%^ron jiyizkin ron ginxo geci winvxo ujuz jiyizvxon ((?!.*\\bron becug otmayakanoza\\b.*)(?!.*\\bbecug otmayakanoza ginhxoz\\b.*)).*#Début : ron jiyizkin ron ginxo geci winvxo ujuz jiyizvxon, Suite : 2/4 \n",
      "%54%^ron jiyizkin ron ginxo geci winvxo ujuz jiyizvxon ((?!.*\\bron becug otmayakanoza ginhxoz\\b.*)).*#Début : ron jiyizkin ron ginxo geci winvxo ujuz jiyizvxon, Suite : 3/4 \n",
      "%58%^ron jiyizkin ron ginxo geci winvxo ujuz jiyizvxon ron becug otmayakanoza ginhxoz ((?!.*\\bekyupenvu\\b.*)(?!.*\\bvangaz\\b.*)(?!.*\\bgivxoz\\b.*)(?!.*\\bmiznxo\\b.*)).*#Début : ron jiyizkin ron ginxo geci winvxo ujuz jiyizvxon ron becug otmayakanoza ginhxoz, Suite : 0/4 \n",
      "%63%^ron jiyizkin ron ginxo geci winvxo ujuz jiyizvxon ron becug otmayakanoza ginhxoz ((?!.*\\bekyupenvu vangaz\\b.*)(?!.*\\bvangaz givxoz\\b.*)(?!.*\\bgivxoz miznxo\\b.*)).*#Début : ron jiyizkin ron ginxo geci winvxo ujuz jiyizvxon ron becug otmayakanoza ginhxoz, Suite : 1/4 \n",
      "%67%^ron jiyizkin ron ginxo geci winvxo ujuz jiyizvxon ron becug otmayakanoza ginhxoz ((?!.*\\bekyupenvu vangaz givxoz\\b.*)(?!.*\\bvangaz givxoz miznxo\\b.*)).*#Début : ron jiyizkin ron ginxo geci winvxo ujuz jiyizvxon ron becug otmayakanoza ginhxoz, Suite : 2/4 \n",
      "%72%^ron jiyizkin ron ginxo geci winvxo ujuz jiyizvxon ron becug otmayakanoza ginhxoz ((?!.*\\bekyupenvu vangaz givxoz miznxo\\b.*)).*#Début : ron jiyizkin ron ginxo geci winvxo ujuz jiyizvxon ron becug otmayakanoza ginhxoz, Suite : 3/4 \n",
      "%76%^ron jiyizkin ron ginxo geci winvxo ujuz jiyizvxon ron becug otmayakanoza ginhxoz ekyupenvu vangaz givxoz miznxo ((?!.*\\brizi\\b.*)(?!.*\\botmavoloyo\\b.*)(?!.*\\bwanacag\\b.*)(?!.*\\bvopa\\b.*)).*#Début : ron jiyizkin ron ginxo geci winvxo ujuz jiyizvxon ron becug otmayakanoza ginhxoz ekyupenvu vangaz givxoz miznxo, Suite : 0/4 \n",
      "%81%^ron jiyizkin ron ginxo geci winvxo ujuz jiyizvxon ron becug otmayakanoza ginhxoz ekyupenvu vangaz givxoz miznxo ((?!.*\\brizi otmavoloyo\\b.*)(?!.*\\botmavoloyo wanacag\\b.*)(?!.*\\bwanacag vopa\\b.*)).*#Début : ron jiyizkin ron ginxo geci winvxo ujuz jiyizvxon ron becug otmayakanoza ginhxoz ekyupenvu vangaz givxoz miznxo, Suite : 1/4 \n",
      "%85%^ron jiyizkin ron ginxo geci winvxo ujuz jiyizvxon ron becug otmayakanoza ginhxoz ekyupenvu vangaz givxoz miznxo ((?!.*\\brizi otmavoloyo wanacag\\b.*)(?!.*\\botmavoloyo wanacag vopa\\b.*)).*#Début : ron jiyizkin ron ginxo geci winvxo ujuz jiyizvxon ron becug otmayakanoza ginhxoz ekyupenvu vangaz givxoz miznxo, Suite : 2/4 \n",
      "%90%^ron jiyizkin ron ginxo geci winvxo ujuz jiyizvxon ron becug otmayakanoza ginhxoz ekyupenvu vangaz givxoz miznxo ((?!.*\\brizi otmavoloyo wanacag vopa\\b.*)).*#Début : ron jiyizkin ron ginxo geci winvxo ujuz jiyizvxon ron becug otmayakanoza ginhxoz ekyupenvu vangaz givxoz miznxo, Suite : 3/4 \n",
      "%95%^ron jiyizkin ron ginxo geci winvxo ujuz jiyizvxon ron becug otmayakanoza ginhxoz ekyupenvu vangaz givxoz miznxo rizi otmavoloyo wanacag vopa ((?!.*\\buyumkizvxo\\b.*)).*#Début : ron jiyizkin ron ginxo geci winvxo ujuz jiyizvxon ron becug otmayakanoza ginhxoz ekyupenvu vangaz givxoz miznxo rizi otmavoloyo wanacag vopa, Suite : 0/1 \n"
     ]
    },
    {
     "data": {
      "text/plain": [
       "[u'^((?!.*\\\\bron\\\\b.*)(?!.*\\\\bjiyizkin\\\\b.*)(?!.*\\\\bron\\\\b.*)(?!.*\\\\bginxo\\\\b.*)).*#D\\xe9but : \\u2014\\u2014\\u2014, Suite : 0/4 ',\n",
       " u'%9%^((?!.*\\\\bron jiyizkin\\\\b.*)(?!.*\\\\bjiyizkin ron\\\\b.*)(?!.*\\\\bron ginxo\\\\b.*)).*#D\\xe9but : \\u2014\\u2014\\u2014, Suite : 1/4 ',\n",
       " u'%13%^((?!.*\\\\bron jiyizkin ron\\\\b.*)(?!.*\\\\bjiyizkin ron ginxo\\\\b.*)).*#D\\xe9but : \\u2014\\u2014\\u2014, Suite : 2/4 ',\n",
       " u'%22%^ron jiyizkin ron ginxo ((?!.*\\\\bgeci\\\\b.*)(?!.*\\\\bwinvxo\\\\b.*)(?!.*\\\\bujuz\\\\b.*)(?!.*\\\\bjiyizvxon\\\\b.*)).*#D\\xe9but : ron jiyizkin ron ginxo, Suite : 0/4 ',\n",
       " u'%27%^ron jiyizkin ron ginxo ((?!.*\\\\bgeci winvxo\\\\b.*)(?!.*\\\\bwinvxo ujuz\\\\b.*)(?!.*\\\\bujuz jiyizvxon\\\\b.*)).*#D\\xe9but : ron jiyizkin ron ginxo, Suite : 1/4 ',\n",
       " u'%31%^ron jiyizkin ron ginxo ((?!.*\\\\bgeci winvxo ujuz\\\\b.*)(?!.*\\\\bwinvxo ujuz jiyizvxon\\\\b.*)).*#D\\xe9but : ron jiyizkin ron ginxo, Suite : 2/4 ',\n",
       " u'%36%^ron jiyizkin ron ginxo ((?!.*\\\\bgeci winvxo ujuz jiyizvxon\\\\b.*)).*#D\\xe9but : ron jiyizkin ron ginxo, Suite : 3/4 ',\n",
       " u'%40%^ron jiyizkin ron ginxo geci winvxo ujuz jiyizvxon ((?!.*\\\\bron\\\\b.*)(?!.*\\\\bbecug\\\\b.*)(?!.*\\\\botmayakanoza\\\\b.*)(?!.*\\\\bginhxoz\\\\b.*)).*#D\\xe9but : ron jiyizkin ron ginxo geci winvxo ujuz jiyizvxon, Suite : 0/4 ',\n",
       " u'%45%^ron jiyizkin ron ginxo geci winvxo ujuz jiyizvxon ((?!.*\\\\bron becug\\\\b.*)(?!.*\\\\bbecug otmayakanoza\\\\b.*)(?!.*\\\\botmayakanoza ginhxoz\\\\b.*)).*#D\\xe9but : ron jiyizkin ron ginxo geci winvxo ujuz jiyizvxon, Suite : 1/4 ',\n",
       " u'%49%^ron jiyizkin ron ginxo geci winvxo ujuz jiyizvxon ((?!.*\\\\bron becug otmayakanoza\\\\b.*)(?!.*\\\\bbecug otmayakanoza ginhxoz\\\\b.*)).*#D\\xe9but : ron jiyizkin ron ginxo geci winvxo ujuz jiyizvxon, Suite : 2/4 ',\n",
       " u'%54%^ron jiyizkin ron ginxo geci winvxo ujuz jiyizvxon ((?!.*\\\\bron becug otmayakanoza ginhxoz\\\\b.*)).*#D\\xe9but : ron jiyizkin ron ginxo geci winvxo ujuz jiyizvxon, Suite : 3/4 ',\n",
       " u'%58%^ron jiyizkin ron ginxo geci winvxo ujuz jiyizvxon ron becug otmayakanoza ginhxoz ((?!.*\\\\bekyupenvu\\\\b.*)(?!.*\\\\bvangaz\\\\b.*)(?!.*\\\\bgivxoz\\\\b.*)(?!.*\\\\bmiznxo\\\\b.*)).*#D\\xe9but : ron jiyizkin ron ginxo geci winvxo ujuz jiyizvxon ron becug otmayakanoza ginhxoz, Suite : 0/4 ',\n",
       " u'%63%^ron jiyizkin ron ginxo geci winvxo ujuz jiyizvxon ron becug otmayakanoza ginhxoz ((?!.*\\\\bekyupenvu vangaz\\\\b.*)(?!.*\\\\bvangaz givxoz\\\\b.*)(?!.*\\\\bgivxoz miznxo\\\\b.*)).*#D\\xe9but : ron jiyizkin ron ginxo geci winvxo ujuz jiyizvxon ron becug otmayakanoza ginhxoz, Suite : 1/4 ',\n",
       " u'%67%^ron jiyizkin ron ginxo geci winvxo ujuz jiyizvxon ron becug otmayakanoza ginhxoz ((?!.*\\\\bekyupenvu vangaz givxoz\\\\b.*)(?!.*\\\\bvangaz givxoz miznxo\\\\b.*)).*#D\\xe9but : ron jiyizkin ron ginxo geci winvxo ujuz jiyizvxon ron becug otmayakanoza ginhxoz, Suite : 2/4 ',\n",
       " u'%72%^ron jiyizkin ron ginxo geci winvxo ujuz jiyizvxon ron becug otmayakanoza ginhxoz ((?!.*\\\\bekyupenvu vangaz givxoz miznxo\\\\b.*)).*#D\\xe9but : ron jiyizkin ron ginxo geci winvxo ujuz jiyizvxon ron becug otmayakanoza ginhxoz, Suite : 3/4 ',\n",
       " u'%76%^ron jiyizkin ron ginxo geci winvxo ujuz jiyizvxon ron becug otmayakanoza ginhxoz ekyupenvu vangaz givxoz miznxo ((?!.*\\\\brizi\\\\b.*)(?!.*\\\\botmavoloyo\\\\b.*)(?!.*\\\\bwanacag\\\\b.*)(?!.*\\\\bvopa\\\\b.*)).*#D\\xe9but : ron jiyizkin ron ginxo geci winvxo ujuz jiyizvxon ron becug otmayakanoza ginhxoz ekyupenvu vangaz givxoz miznxo, Suite : 0/4 ',\n",
       " u'%81%^ron jiyizkin ron ginxo geci winvxo ujuz jiyizvxon ron becug otmayakanoza ginhxoz ekyupenvu vangaz givxoz miznxo ((?!.*\\\\brizi otmavoloyo\\\\b.*)(?!.*\\\\botmavoloyo wanacag\\\\b.*)(?!.*\\\\bwanacag vopa\\\\b.*)).*#D\\xe9but : ron jiyizkin ron ginxo geci winvxo ujuz jiyizvxon ron becug otmayakanoza ginhxoz ekyupenvu vangaz givxoz miznxo, Suite : 1/4 ',\n",
       " u'%85%^ron jiyizkin ron ginxo geci winvxo ujuz jiyizvxon ron becug otmayakanoza ginhxoz ekyupenvu vangaz givxoz miznxo ((?!.*\\\\brizi otmavoloyo wanacag\\\\b.*)(?!.*\\\\botmavoloyo wanacag vopa\\\\b.*)).*#D\\xe9but : ron jiyizkin ron ginxo geci winvxo ujuz jiyizvxon ron becug otmayakanoza ginhxoz ekyupenvu vangaz givxoz miznxo, Suite : 2/4 ',\n",
       " u'%90%^ron jiyizkin ron ginxo geci winvxo ujuz jiyizvxon ron becug otmayakanoza ginhxoz ekyupenvu vangaz givxoz miznxo ((?!.*\\\\brizi otmavoloyo wanacag vopa\\\\b.*)).*#D\\xe9but : ron jiyizkin ron ginxo geci winvxo ujuz jiyizvxon ron becug otmayakanoza ginhxoz ekyupenvu vangaz givxoz miznxo, Suite : 3/4 ',\n",
       " u'%95%^ron jiyizkin ron ginxo geci winvxo ujuz jiyizvxon ron becug otmayakanoza ginhxoz ekyupenvu vangaz givxoz miznxo rizi otmavoloyo wanacag vopa ((?!.*\\\\buyumkizvxo\\\\b.*)).*#D\\xe9but : ron jiyizkin ron ginxo geci winvxo ujuz jiyizvxon ron becug otmayakanoza ginhxoz ekyupenvu vangaz givxoz miznxo rizi otmavoloyo wanacag vopa, Suite : 0/1 ']"
      ]
     },
     "execution_count": 379,
     "metadata": {},
     "output_type": "execute_result"
    }
   ],
   "source": [
    "pRegex=motsRegex(u\"ron jiyizkin ron ginxo geci winvxo ujuz jiyizvxon ron becug otmayakanoza ginhxoz ekyupenvu vangaz givxoz miznxo rizi otmavoloyo wanacag vopa uyumkizvxo\".split(\" \"))\n",
    "pRegex"
   ]
  },
  {
   "cell_type": "code",
   "execution_count": 380,
   "metadata": {},
   "outputs": [
    {
     "name": "stdout",
     "output_type": "stream",
     "text": [
      "^((?!.*\\bron\\b.*)(?!.*\\bjiyizkin\\b.*)(?!.*\\bron\\b.*)(?!.*\\bginxo\\b.*)).*#Début : ———, Suite : 0/4 %9%^((?!.*\\bron jiyizkin\\b.*)(?!.*\\bjiyizkin ron\\b.*)(?!.*\\bron ginxo\\b.*)).*#Début : ———, Suite : 1/4 %13%^((?!.*\\bron jiyizkin ron\\b.*)(?!.*\\bjiyizkin ron ginxo\\b.*)).*#Début : ———, Suite : 2/4 %22%^ron jiyizkin ron ginxo ((?!.*\\bgeci\\b.*)(?!.*\\bwinvxo\\b.*)(?!.*\\bujuz\\b.*)(?!.*\\bjiyizvxon\\b.*)).*#Début : ron jiyizkin ron ginxo, Suite : 0/4 %27%^ron jiyizkin ron ginxo ((?!.*\\bgeci winvxo\\b.*)(?!.*\\bwinvxo ujuz\\b.*)(?!.*\\bujuz jiyizvxon\\b.*)).*#Début : ron jiyizkin ron ginxo, Suite : 1/4 %31%^ron jiyizkin ron ginxo ((?!.*\\bgeci winvxo ujuz\\b.*)(?!.*\\bwinvxo ujuz jiyizvxon\\b.*)).*#Début : ron jiyizkin ron ginxo, Suite : 2/4 %36%^ron jiyizkin ron ginxo ((?!.*\\bgeci winvxo ujuz jiyizvxon\\b.*)).*#Début : ron jiyizkin ron ginxo, Suite : 3/4 %40%^ron jiyizkin ron ginxo geci winvxo ujuz jiyizvxon ((?!.*\\bron\\b.*)(?!.*\\bbecug\\b.*)(?!.*\\botmayakanoza\\b.*)(?!.*\\bginhxoz\\b.*)).*#Début : ron jiyizkin ron ginxo geci winvxo ujuz jiyizvxon, Suite : 0/4 %45%^ron jiyizkin ron ginxo geci winvxo ujuz jiyizvxon ((?!.*\\bron becug\\b.*)(?!.*\\bbecug otmayakanoza\\b.*)(?!.*\\botmayakanoza ginhxoz\\b.*)).*#Début : ron jiyizkin ron ginxo geci winvxo ujuz jiyizvxon, Suite : 1/4 %49%^ron jiyizkin ron ginxo geci winvxo ujuz jiyizvxon ((?!.*\\bron becug otmayakanoza\\b.*)(?!.*\\bbecug otmayakanoza ginhxoz\\b.*)).*#Début : ron jiyizkin ron ginxo geci winvxo ujuz jiyizvxon, Suite : 2/4 %54%^ron jiyizkin ron ginxo geci winvxo ujuz jiyizvxon ((?!.*\\bron becug otmayakanoza ginhxoz\\b.*)).*#Début : ron jiyizkin ron ginxo geci winvxo ujuz jiyizvxon, Suite : 3/4 %58%^ron jiyizkin ron ginxo geci winvxo ujuz jiyizvxon ron becug otmayakanoza ginhxoz ((?!.*\\bekyupenvu\\b.*)(?!.*\\bvangaz\\b.*)(?!.*\\bgivxoz\\b.*)(?!.*\\bmiznxo\\b.*)).*#Début : ron jiyizkin ron ginxo geci winvxo ujuz jiyizvxon ron becug otmayakanoza ginhxoz, Suite : 0/4 %63%^ron jiyizkin ron ginxo geci winvxo ujuz jiyizvxon ron becug otmayakanoza ginhxoz ((?!.*\\bekyupenvu vangaz\\b.*)(?!.*\\bvangaz givxoz\\b.*)(?!.*\\bgivxoz miznxo\\b.*)).*#Début : ron jiyizkin ron ginxo geci winvxo ujuz jiyizvxon ron becug otmayakanoza ginhxoz, Suite : 1/4 %67%^ron jiyizkin ron ginxo geci winvxo ujuz jiyizvxon ron becug otmayakanoza ginhxoz ((?!.*\\bekyupenvu vangaz givxoz\\b.*)(?!.*\\bvangaz givxoz miznxo\\b.*)).*#Début : ron jiyizkin ron ginxo geci winvxo ujuz jiyizvxon ron becug otmayakanoza ginhxoz, Suite : 2/4 %72%^ron jiyizkin ron ginxo geci winvxo ujuz jiyizvxon ron becug otmayakanoza ginhxoz ((?!.*\\bekyupenvu vangaz givxoz miznxo\\b.*)).*#Début : ron jiyizkin ron ginxo geci winvxo ujuz jiyizvxon ron becug otmayakanoza ginhxoz, Suite : 3/4 %76%^ron jiyizkin ron ginxo geci winvxo ujuz jiyizvxon ron becug otmayakanoza ginhxoz ekyupenvu vangaz givxoz miznxo ((?!.*\\brizi\\b.*)(?!.*\\botmavoloyo\\b.*)(?!.*\\bwanacag\\b.*)(?!.*\\bvopa\\b.*)).*#Début : ron jiyizkin ron ginxo geci winvxo ujuz jiyizvxon ron becug otmayakanoza ginhxoz ekyupenvu vangaz givxoz miznxo, Suite : 0/4 %81%^ron jiyizkin ron ginxo geci winvxo ujuz jiyizvxon ron becug otmayakanoza ginhxoz ekyupenvu vangaz givxoz miznxo ((?!.*\\brizi otmavoloyo\\b.*)(?!.*\\botmavoloyo wanacag\\b.*)(?!.*\\bwanacag vopa\\b.*)).*#Début : ron jiyizkin ron ginxo geci winvxo ujuz jiyizvxon ron becug otmayakanoza ginhxoz ekyupenvu vangaz givxoz miznxo, Suite : 1/4 %85%^ron jiyizkin ron ginxo geci winvxo ujuz jiyizvxon ron becug otmayakanoza ginhxoz ekyupenvu vangaz givxoz miznxo ((?!.*\\brizi otmavoloyo wanacag\\b.*)(?!.*\\botmavoloyo wanacag vopa\\b.*)).*#Début : ron jiyizkin ron ginxo geci winvxo ujuz jiyizvxon ron becug otmayakanoza ginhxoz ekyupenvu vangaz givxoz miznxo, Suite : 2/4 %90%^ron jiyizkin ron ginxo geci winvxo ujuz jiyizvxon ron becug otmayakanoza ginhxoz ekyupenvu vangaz givxoz miznxo ((?!.*\\brizi otmavoloyo wanacag vopa\\b.*)).*#Début : ron jiyizkin ron ginxo geci winvxo ujuz jiyizvxon ron becug otmayakanoza ginhxoz ekyupenvu vangaz givxoz miznxo, Suite : 3/4 %95%^ron jiyizkin ron ginxo geci winvxo ujuz jiyizvxon ron becug otmayakanoza ginhxoz ekyupenvu vangaz givxoz miznxo rizi otmavoloyo wanacag vopa ((?!.*\\buyumkizvxo\\b.*)).*#Début : ron jiyizkin ron ginxo geci winvxo ujuz jiyizvxon ron becug otmayakanoza ginhxoz ekyupenvu vangaz givxoz miznxo rizi otmavoloyo wanacag vopa, Suite : 0/1 \n"
     ]
    }
   ],
   "source": [
    "print u\"\".join(pRegex)"
   ]
  },
  {
   "cell_type": "code",
   "execution_count": 381,
   "metadata": {},
   "outputs": [],
   "source": [
    "def echapperCorrection(correction):\n",
    "    result=correction\n",
    "    print \"original\",result\n",
    "    subPoints = re.compile(ur\"(\\.[^*+])\")\n",
    "    result=subPoints.sub(ur\"\\\\\\1\",result)\n",
    "    m=re.match(ur\"^(--\\.\\*\\()(&&.*)(\\)\\.\\*)$\",result)\n",
    "    if m:\n",
    "        (prefixe, corps, suffixe)=m.groups()\n",
    "        subParentheses = re.compile(ur\"\\(([^)]*)\\)\")\n",
    "        corps=subParentheses.sub(ur\"\\\\(\\1\\\\)\",corps)\n",
    "        subCrochets = re.compile(ur\"\\[([^]]*)\\]\")\n",
    "        corps=subCrochets.sub(ur\"\\\\[\\1\\\\]\",corps)\n",
    "        result=prefixe+corps+suffixe\n",
    "    print \"échappé\",result\n",
    "    return result    \n",
    "\n",
    "def modifierCorrection(correction):\n",
    "    result=correction\n",
    "    print \"original\",result\n",
    "    subPoints = re.compile(ur\"(\\.[^*+])\")\n",
    "    result=subPoints.sub(ur\"\\\\\\1\",result)\n",
    "    print \"\\tsubPoints\", result\n",
    "    m=re.match(ur\"^(--\\.\\*\\()(&&.*)(\\)\\.\\*)$\",result)\n",
    "    if m:\n",
    "        (prefixe, corps, suffixe)=m.groups()\n",
    "        if echapperParCro:\n",
    "            subParentheses = re.compile(ur\"\\(([^)]*)\\)\")\n",
    "            corps=subParentheses.sub(ur\"\\\\(\\1\\\\)\",corps)\n",
    "            print \"\\tsubParentheses\",corps\n",
    "            subCrochets = re.compile(ur\"\\[([^]]*)\\]\")\n",
    "            corps=subCrochets.sub(ur\"\\\\[\\1\\\\]\",corps)\n",
    "            print \"\\tsubCrochets\",corps\n",
    "        unites=filter(None,corps.split(\"&&\"))\n",
    "        print \"\\tunités\",unites\n",
    "        corps=\".*\".join(unites)\n",
    "        result=prefixe+corps+suffixe\n",
    "    print \"\\téchappé\",result\n",
    "    return result    \n",
    "\n",
    "\n",
    "def separerMots(elements,titre):\n",
    "    result=[]\n",
    "    elements = filter(None, elements)\n",
    "    mots=elements[0].strip().split(\" \")\n",
    "    nbMots=len(mots)\n",
    "    solution=u\"=%s#Bravo ! C'est la bonne phrase.\"%(elements[0])\n",
    "    corrections=[]\n",
    "    corrections=motsRegex(mots)\n",
    "    nbElements=len(elements[1:])\n",
    "#    if not nbElements in nbIndiceNotes: \n",
    "#        print \"Ajouter une répartition des notes pour %d indices\"%nbElements\n",
    "#        print titre\n",
    "#        print elements[1:]\n",
    "    for n,element in enumerate(elements[1:]):\n",
    "        (reponseSpec,feedbackSpec)=element.split(\"#\")\n",
    "        reponseSpec=modifierCorrection(reponseSpec)\n",
    "        element=\"#\".join([reponseSpec,feedbackSpec])\n",
    "        corrections.append(nbIndiceNotes(nbElements)[n]+element)\n",
    "#    print nbMots\n",
    "    minMots=\"^\"+\"([^ ]+ +)?\"*(nbMots-4)+\"[^ ]+$#%s\"%msgPlusDeMots\n",
    "    maxMots=\"^\"+\"([^ ]+ +)\"*(nbMots+2)+\"([^ ]+ +)*[^ ]+$#%s\"%msgMoinsDeMots\n",
    "#    print \"~\".join(elements)\n",
    "    result.extend([solution,minMots,maxMots])\n",
    "    result.extend(corrections)\n",
    "    return result"
   ]
  },
  {
   "cell_type": "code",
   "execution_count": 382,
   "metadata": {
    "scrolled": true
   },
   "outputs": [
    {
     "name": "stdout",
     "output_type": "stream",
     "text": [
      "ron jiyizkin ron ginxo geci winvxo ujuz jiyizvxon ron becug otmayakanoza ginhxoz ekyupenvu vangaz givxoz miznxo rizi otmavoloyo wanacag vopa uyumkizvxo\n",
      "^((?!.*\\bron\\b.*)(?!.*\\bjiyizkin\\b.*)(?!.*\\bron\\b.*)(?!.*\\bginxo\\b.*)).*#Début : ———, Suite : 0/4 \n",
      "%9%^((?!.*\\bron jiyizkin\\b.*)(?!.*\\bjiyizkin ron\\b.*)(?!.*\\bron ginxo\\b.*)).*#Début : ———, Suite : 1/4 \n",
      "%13%^((?!.*\\bron jiyizkin ron\\b.*)(?!.*\\bjiyizkin ron ginxo\\b.*)).*#Début : ———, Suite : 2/4 \n",
      "%22%^ron jiyizkin ron ginxo ((?!.*\\bgeci\\b.*)(?!.*\\bwinvxo\\b.*)(?!.*\\bujuz\\b.*)(?!.*\\bjiyizvxon\\b.*)).*#Début : ron jiyizkin ron ginxo, Suite : 0/4 \n",
      "%27%^ron jiyizkin ron ginxo ((?!.*\\bgeci winvxo\\b.*)(?!.*\\bwinvxo ujuz\\b.*)(?!.*\\bujuz jiyizvxon\\b.*)).*#Début : ron jiyizkin ron ginxo, Suite : 1/4 \n",
      "%31%^ron jiyizkin ron ginxo ((?!.*\\bgeci winvxo ujuz\\b.*)(?!.*\\bwinvxo ujuz jiyizvxon\\b.*)).*#Début : ron jiyizkin ron ginxo, Suite : 2/4 \n",
      "%36%^ron jiyizkin ron ginxo ((?!.*\\bgeci winvxo ujuz jiyizvxon\\b.*)).*#Début : ron jiyizkin ron ginxo, Suite : 3/4 \n",
      "%40%^ron jiyizkin ron ginxo geci winvxo ujuz jiyizvxon ((?!.*\\bron\\b.*)(?!.*\\bbecug\\b.*)(?!.*\\botmayakanoza\\b.*)(?!.*\\bginhxoz\\b.*)).*#Début : ron jiyizkin ron ginxo geci winvxo ujuz jiyizvxon, Suite : 0/4 \n",
      "%45%^ron jiyizkin ron ginxo geci winvxo ujuz jiyizvxon ((?!.*\\bron becug\\b.*)(?!.*\\bbecug otmayakanoza\\b.*)(?!.*\\botmayakanoza ginhxoz\\b.*)).*#Début : ron jiyizkin ron ginxo geci winvxo ujuz jiyizvxon, Suite : 1/4 \n",
      "%49%^ron jiyizkin ron ginxo geci winvxo ujuz jiyizvxon ((?!.*\\bron becug otmayakanoza\\b.*)(?!.*\\bbecug otmayakanoza ginhxoz\\b.*)).*#Début : ron jiyizkin ron ginxo geci winvxo ujuz jiyizvxon, Suite : 2/4 \n",
      "%54%^ron jiyizkin ron ginxo geci winvxo ujuz jiyizvxon ((?!.*\\bron becug otmayakanoza ginhxoz\\b.*)).*#Début : ron jiyizkin ron ginxo geci winvxo ujuz jiyizvxon, Suite : 3/4 \n",
      "%58%^ron jiyizkin ron ginxo geci winvxo ujuz jiyizvxon ron becug otmayakanoza ginhxoz ((?!.*\\bekyupenvu\\b.*)(?!.*\\bvangaz\\b.*)(?!.*\\bgivxoz\\b.*)(?!.*\\bmiznxo\\b.*)).*#Début : ron jiyizkin ron ginxo geci winvxo ujuz jiyizvxon ron becug otmayakanoza ginhxoz, Suite : 0/4 \n",
      "%63%^ron jiyizkin ron ginxo geci winvxo ujuz jiyizvxon ron becug otmayakanoza ginhxoz ((?!.*\\bekyupenvu vangaz\\b.*)(?!.*\\bvangaz givxoz\\b.*)(?!.*\\bgivxoz miznxo\\b.*)).*#Début : ron jiyizkin ron ginxo geci winvxo ujuz jiyizvxon ron becug otmayakanoza ginhxoz, Suite : 1/4 \n",
      "%67%^ron jiyizkin ron ginxo geci winvxo ujuz jiyizvxon ron becug otmayakanoza ginhxoz ((?!.*\\bekyupenvu vangaz givxoz\\b.*)(?!.*\\bvangaz givxoz miznxo\\b.*)).*#Début : ron jiyizkin ron ginxo geci winvxo ujuz jiyizvxon ron becug otmayakanoza ginhxoz, Suite : 2/4 \n",
      "%72%^ron jiyizkin ron ginxo geci winvxo ujuz jiyizvxon ron becug otmayakanoza ginhxoz ((?!.*\\bekyupenvu vangaz givxoz miznxo\\b.*)).*#Début : ron jiyizkin ron ginxo geci winvxo ujuz jiyizvxon ron becug otmayakanoza ginhxoz, Suite : 3/4 \n",
      "%76%^ron jiyizkin ron ginxo geci winvxo ujuz jiyizvxon ron becug otmayakanoza ginhxoz ekyupenvu vangaz givxoz miznxo ((?!.*\\brizi\\b.*)(?!.*\\botmavoloyo\\b.*)(?!.*\\bwanacag\\b.*)(?!.*\\bvopa\\b.*)).*#Début : ron jiyizkin ron ginxo geci winvxo ujuz jiyizvxon ron becug otmayakanoza ginhxoz ekyupenvu vangaz givxoz miznxo, Suite : 0/4 \n",
      "%81%^ron jiyizkin ron ginxo geci winvxo ujuz jiyizvxon ron becug otmayakanoza ginhxoz ekyupenvu vangaz givxoz miznxo ((?!.*\\brizi otmavoloyo\\b.*)(?!.*\\botmavoloyo wanacag\\b.*)(?!.*\\bwanacag vopa\\b.*)).*#Début : ron jiyizkin ron ginxo geci winvxo ujuz jiyizvxon ron becug otmayakanoza ginhxoz ekyupenvu vangaz givxoz miznxo, Suite : 1/4 \n",
      "%85%^ron jiyizkin ron ginxo geci winvxo ujuz jiyizvxon ron becug otmayakanoza ginhxoz ekyupenvu vangaz givxoz miznxo ((?!.*\\brizi otmavoloyo wanacag\\b.*)(?!.*\\botmavoloyo wanacag vopa\\b.*)).*#Début : ron jiyizkin ron ginxo geci winvxo ujuz jiyizvxon ron becug otmayakanoza ginhxoz ekyupenvu vangaz givxoz miznxo, Suite : 2/4 \n",
      "%90%^ron jiyizkin ron ginxo geci winvxo ujuz jiyizvxon ron becug otmayakanoza ginhxoz ekyupenvu vangaz givxoz miznxo ((?!.*\\brizi otmavoloyo wanacag vopa\\b.*)).*#Début : ron jiyizkin ron ginxo geci winvxo ujuz jiyizvxon ron becug otmayakanoza ginhxoz ekyupenvu vangaz givxoz miznxo, Suite : 3/4 \n",
      "%95%^ron jiyizkin ron ginxo geci winvxo ujuz jiyizvxon ron becug otmayakanoza ginhxoz ekyupenvu vangaz givxoz miznxo rizi otmavoloyo wanacag vopa ((?!.*\\buyumkizvxo\\b.*)).*#Début : ron jiyizkin ron ginxo geci winvxo ujuz jiyizvxon ron becug otmayakanoza ginhxoz ekyupenvu vangaz givxoz miznxo rizi otmavoloyo wanacag vopa, Suite : 0/1 \n"
     ]
    }
   ],
   "source": [
    "consigne=\"<br/>\".join(configuration[u\"Consigne\"])\n",
    "separationExercices=[]\n",
    "for numQuestion,question in enumerate(donneesLignes):\n",
    "    print question\n",
    "    questionLignes=[]\n",
    "    titre=\"Phrase %03d\"%numQuestion\n",
    "    questionLignes.append(consigne)\n",
    "    questionLignes.append(u\"{1:RX:%s}\"%u\"~\".join(separerMots([question],titre)))\n",
    "    textQuestion=u\"<br/>\".join(questionLignes)\n",
    "    separationExercices.append(ClozeExercice(titre,textQuestion,penalty=adaptatifPenalite,nbHints=nbHints))"
   ]
  },
  {
   "cell_type": "code",
   "execution_count": 383,
   "metadata": {},
   "outputs": [],
   "source": [
    "categorie=configuration[u\"Catégorie\"]\n",
    "clozeQuestions=XMLSeries(categorie)"
   ]
  },
  {
   "cell_type": "code",
   "execution_count": 384,
   "metadata": {},
   "outputs": [],
   "source": [
    "for exercice in separationExercices:\n",
    "    clozeQuestions.addExercice(exercice)"
   ]
  },
  {
   "cell_type": "code",
   "execution_count": 385,
   "metadata": {},
   "outputs": [],
   "source": [
    "xmlOutput=MoodleXML()\n",
    "xmlOutput.addQuiz(clozeQuestions.getSeries())"
   ]
  },
  {
   "cell_type": "code",
   "execution_count": 386,
   "metadata": {},
   "outputs": [],
   "source": [
    "xmlFichier=yamlFichier.split(\".\")[0]+\".xml\""
   ]
  },
  {
   "cell_type": "code",
   "execution_count": 387,
   "metadata": {},
   "outputs": [],
   "source": [
    "with codecs.open(xmlFichier, 'w',encoding=\"utf8\") as output:\n",
    "#    print [questions.getClozes()]\n",
    "    output.write(xmlOutput.getXML())"
   ]
  },
  {
   "cell_type": "code",
   "execution_count": 388,
   "metadata": {},
   "outputs": [
    {
     "name": "stdout",
     "output_type": "stream",
     "text": [
      "<?xml version=\"1.0\" encoding=\"UTF-8\"?>\n",
      "<quiz>\n",
      "<question type=\"category\">\n",
      "<category>\n",
      "<text>\n",
      "Charabia/Séparation des mots/Cloze\n",
      "</text>\n",
      "</category>\n",
      "</question><question type=\"cloze\">\n",
      "<name><text>Phrase 000</text></name>\n",
      "<questiontext><text><![CDATA[Séparer les mots par des espaces :<br/>{1:RX:=ron jiyizkin ron ginxo geci winvxo ujuz jiyizvxon ron becug otmayakanoza ginhxoz ekyupenvu vangaz givxoz miznxo rizi otmavoloyo wanacag vopa uyumkizvxo#Bravo ! C'est la bonne phrase.~^([^ ]+ +)?([^ ]+ +)?([^ ]+ +)?([^ ]+ +)?([^ ]+ +)?([^ ]+ +)?([^ ]+ +)?([^ ]+ +)?([^ ]+ +)?([^ ]+ +)?([^ ]+ +)?([^ ]+ +)?([^ ]+ +)?([^ ]+ +)?([^ ]+ +)?([^ ]+ +)?([^ ]+ +)?[^ ]+$#Il y a plus de mots~^([^ ]+ +)([^ ]+ +)([^ ]+ +)([^ ]+ +)([^ ]+ +)([^ ]+ +)([^ ]+ +)([^ ]+ +)([^ ]+ +)([^ ]+ +)([^ ]+ +)([^ ]+ +)([^ ]+ +)([^ ]+ +)([^ ]+ +)([^ ]+ +)([^ ]+ +)([^ ]+ +)([^ ]+ +)([^ ]+ +)([^ ]+ +)([^ ]+ +)([^ ]+ +)([^ ]+ +)*[^ ]+$#Il y a moins de mots~^((?!.*\\bron\\b.*)(?!.*\\bjiyizkin\\b.*)(?!.*\\bron\\b.*)(?!.*\\bginxo\\b.*)).*#Début : ———, Suite : 0/4 ~%9%^((?!.*\\bron jiyizkin\\b.*)(?!.*\\bjiyizkin ron\\b.*)(?!.*\\bron ginxo\\b.*)).*#Début : ———, Suite : 1/4 ~%13%^((?!.*\\bron jiyizkin ron\\b.*)(?!.*\\bjiyizkin ron ginxo\\b.*)).*#Début : ———, Suite : 2/4 ~%22%^ron jiyizkin ron ginxo ((?!.*\\bgeci\\b.*)(?!.*\\bwinvxo\\b.*)(?!.*\\bujuz\\b.*)(?!.*\\bjiyizvxon\\b.*)).*#Début : ron jiyizkin ron ginxo, Suite : 0/4 ~%27%^ron jiyizkin ron ginxo ((?!.*\\bgeci winvxo\\b.*)(?!.*\\bwinvxo ujuz\\b.*)(?!.*\\bujuz jiyizvxon\\b.*)).*#Début : ron jiyizkin ron ginxo, Suite : 1/4 ~%31%^ron jiyizkin ron ginxo ((?!.*\\bgeci winvxo ujuz\\b.*)(?!.*\\bwinvxo ujuz jiyizvxon\\b.*)).*#Début : ron jiyizkin ron ginxo, Suite : 2/4 ~%36%^ron jiyizkin ron ginxo ((?!.*\\bgeci winvxo ujuz jiyizvxon\\b.*)).*#Début : ron jiyizkin ron ginxo, Suite : 3/4 ~%40%^ron jiyizkin ron ginxo geci winvxo ujuz jiyizvxon ((?!.*\\bron\\b.*)(?!.*\\bbecug\\b.*)(?!.*\\botmayakanoza\\b.*)(?!.*\\bginhxoz\\b.*)).*#Début : ron jiyizkin ron ginxo geci winvxo ujuz jiyizvxon, Suite : 0/4 ~%45%^ron jiyizkin ron ginxo geci winvxo ujuz jiyizvxon ((?!.*\\bron becug\\b.*)(?!.*\\bbecug otmayakanoza\\b.*)(?!.*\\botmayakanoza ginhxoz\\b.*)).*#Début : ron jiyizkin ron ginxo geci winvxo ujuz jiyizvxon, Suite : 1/4 ~%49%^ron jiyizkin ron ginxo geci winvxo ujuz jiyizvxon ((?!.*\\bron becug otmayakanoza\\b.*)(?!.*\\bbecug otmayakanoza ginhxoz\\b.*)).*#Début : ron jiyizkin ron ginxo geci winvxo ujuz jiyizvxon, Suite : 2/4 ~%54%^ron jiyizkin ron ginxo geci winvxo ujuz jiyizvxon ((?!.*\\bron becug otmayakanoza ginhxoz\\b.*)).*#Début : ron jiyizkin ron ginxo geci winvxo ujuz jiyizvxon, Suite : 3/4 ~%58%^ron jiyizkin ron ginxo geci winvxo ujuz jiyizvxon ron becug otmayakanoza ginhxoz ((?!.*\\bekyupenvu\\b.*)(?!.*\\bvangaz\\b.*)(?!.*\\bgivxoz\\b.*)(?!.*\\bmiznxo\\b.*)).*#Début : ron jiyizkin ron ginxo geci winvxo ujuz jiyizvxon ron becug otmayakanoza ginhxoz, Suite : 0/4 ~%63%^ron jiyizkin ron ginxo geci winvxo ujuz jiyizvxon ron becug otmayakanoza ginhxoz ((?!.*\\bekyupenvu vangaz\\b.*)(?!.*\\bvangaz givxoz\\b.*)(?!.*\\bgivxoz miznxo\\b.*)).*#Début : ron jiyizkin ron ginxo geci winvxo ujuz jiyizvxon ron becug otmayakanoza ginhxoz, Suite : 1/4 ~%67%^ron jiyizkin ron ginxo geci winvxo ujuz jiyizvxon ron becug otmayakanoza ginhxoz ((?!.*\\bekyupenvu vangaz givxoz\\b.*)(?!.*\\bvangaz givxoz miznxo\\b.*)).*#Début : ron jiyizkin ron ginxo geci winvxo ujuz jiyizvxon ron becug otmayakanoza ginhxoz, Suite : 2/4 ~%72%^ron jiyizkin ron ginxo geci winvxo ujuz jiyizvxon ron becug otmayakanoza ginhxoz ((?!.*\\bekyupenvu vangaz givxoz miznxo\\b.*)).*#Début : ron jiyizkin ron ginxo geci winvxo ujuz jiyizvxon ron becug otmayakanoza ginhxoz, Suite : 3/4 ~%76%^ron jiyizkin ron ginxo geci winvxo ujuz jiyizvxon ron becug otmayakanoza ginhxoz ekyupenvu vangaz givxoz miznxo ((?!.*\\brizi\\b.*)(?!.*\\botmavoloyo\\b.*)(?!.*\\bwanacag\\b.*)(?!.*\\bvopa\\b.*)).*#Début : ron jiyizkin ron ginxo geci winvxo ujuz jiyizvxon ron becug otmayakanoza ginhxoz ekyupenvu vangaz givxoz miznxo, Suite : 0/4 ~%81%^ron jiyizkin ron ginxo geci winvxo ujuz jiyizvxon ron becug otmayakanoza ginhxoz ekyupenvu vangaz givxoz miznxo ((?!.*\\brizi otmavoloyo\\b.*)(?!.*\\botmavoloyo wanacag\\b.*)(?!.*\\bwanacag vopa\\b.*)).*#Début : ron jiyizkin ron ginxo geci winvxo ujuz jiyizvxon ron becug otmayakanoza ginhxoz ekyupenvu vangaz givxoz miznxo, Suite : 1/4 ~%85%^ron jiyizkin ron ginxo geci winvxo ujuz jiyizvxon ron becug otmayakanoza ginhxoz ekyupenvu vangaz givxoz miznxo ((?!.*\\brizi otmavoloyo wanacag\\b.*)(?!.*\\botmavoloyo wanacag vopa\\b.*)).*#Début : ron jiyizkin ron ginxo geci winvxo ujuz jiyizvxon ron becug otmayakanoza ginhxoz ekyupenvu vangaz givxoz miznxo, Suite : 2/4 ~%90%^ron jiyizkin ron ginxo geci winvxo ujuz jiyizvxon ron becug otmayakanoza ginhxoz ekyupenvu vangaz givxoz miznxo ((?!.*\\brizi otmavoloyo wanacag vopa\\b.*)).*#Début : ron jiyizkin ron ginxo geci winvxo ujuz jiyizvxon ron becug otmayakanoza ginhxoz ekyupenvu vangaz givxoz miznxo, Suite : 3/4 ~%95%^ron jiyizkin ron ginxo geci winvxo ujuz jiyizvxon ron becug otmayakanoza ginhxoz ekyupenvu vangaz givxoz miznxo rizi otmavoloyo wanacag vopa ((?!.*\\buyumkizvxo\\b.*)).*#Début : ron jiyizkin ron ginxo geci winvxo ujuz jiyizvxon ron becug otmayakanoza ginhxoz ekyupenvu vangaz givxoz miznxo rizi otmavoloyo wanacag vopa, Suite : 0/1 }]]></text></questiontext>\n",
      "<generalfeedback><text>Bien reçu.</text></generalfeedback>\n",
      "<shuffleanswers>1</shuffleanswers>\n",
      "<penalty>0.1000000</penalty>\n",
      "<hint format=\"html\"><text><![CDATA[<p>Il vous reste 10 essais<br></p>]]></text></hint>\n",
      "<hint format=\"html\"><text><![CDATA[<p>Il vous reste 9 essais<br></p>]]></text></hint>\n",
      "<hint format=\"html\"><text><![CDATA[<p>Il vous reste 8 essais<br></p>]]></text></hint>\n",
      "<hint format=\"html\"><text><![CDATA[<p>Il vous reste 7 essais<br></p>]]></text></hint>\n",
      "<hint format=\"html\"><text><![CDATA[<p>Il vous reste 6 essais<br></p>]]></text></hint>\n",
      "<hint format=\"html\"><text><![CDATA[<p>Il vous reste 5 essais<br></p>]]></text></hint>\n",
      "<hint format=\"html\"><text><![CDATA[<p>Il vous reste 4 essais<br></p>]]></text></hint>\n",
      "<hint format=\"html\"><text><![CDATA[<p>Il vous reste 3 essais<br></p>]]></text></hint>\n",
      "<hint format=\"html\"><text><![CDATA[<p>Il vous reste 2 essais<br></p>]]></text></hint>\n",
      "<hint format=\"html\"><text><![CDATA[<p>Il vous reste 1 essais<br></p>]]></text></hint>\n",
      "</question>\n",
      "</quiz>\n"
     ]
    }
   ],
   "source": [
    "print xmlOutput.getXML()"
   ]
  },
  {
   "cell_type": "code",
   "execution_count": null,
   "metadata": {},
   "outputs": [],
   "source": [
    "motReferences"
   ]
  },
  {
   "cell_type": "code",
   "execution_count": null,
   "metadata": {},
   "outputs": [],
   "source": [
    "correction=u\"--.*(&& gris(M)[SG.⊖] && vert(M)[SG.⊖] && clair[M.SG.⊖]).*\"\n",
    "#correction=u\"--.*(&& DEF-M.SG.⊖ chat&& DEF-F.SG.⊖ gouttière).*\"\n",
    "(prefixe, corps, suffixe)=re.match(ur\"^(--\\.\\*\\()(&&.*)(\\)\\.\\*)$\",correction).groups()\n",
    "print corps\n",
    "subParentheses = re.compile(ur\"\\(([^)]*)\\)\")\n",
    "result=subParentheses.sub(ur\"\\\\(\\1\\\\)\",corps)\n",
    "print result\n",
    "subCrochets = re.compile(ur\"\\[([^]]*)\\]\")\n",
    "result=subCrochets.sub(ur\"\\\\[\\1\\\\]\",result)\n",
    "subPoints = re.compile(ur\"(\\.[^*])\")\n",
    "result=subPoints.sub(ur\"\\\\\\1\",result)\n",
    "\n",
    "print prefixe+result+suffixe"
   ]
  },
  {
   "cell_type": "code",
   "execution_count": null,
   "metadata": {},
   "outputs": [],
   "source": [
    "subParentheses = re.compile(ur\"&&([^&)]*)\\(([^)]*)\\)\")\n",
    "subCrochets = re.compile(ur\"&&([^&[]*)\\[([^\\]]*)\\]\")\n",
    "subPoints = re.compile(ur\"&&(([^)\\.]|\\\\\\)|\\\\\\.)+)(\\.[^*])\")\n",
    "print subPoints.search(correction)\n",
    "result=subParentheses.sub(ur\"&&\\1\\\\(\\2\\\\)\",correction)\n",
    "print result\n",
    "result=subCrochets.sub(ur\"&&\\1\\\\[\\2\\\\]\",result)\n",
    "print result\n",
    "result=subPoints.sub(ur\"&&\\1\\\\\\3\",result)\n",
    "print result"
   ]
  },
  {
   "cell_type": "code",
   "execution_count": null,
   "metadata": {},
   "outputs": [],
   "source": [
    "for ligne in donneesLignes:\n",
    "    if ligne[0]!=\"#\" and ligne.strip()!=\"\":\n",
    "        print ligne\n",
    "        mots=ligne.split(\" \")\n",
    "        nbSpaces=len(mots)\n",
    "        regex=u\"^\"+u\"([^ ]+ +)?\"*nbSpaces+u\"[^ ]+$\"\n",
    "        m=re.match(regex,ligne)\n",
    "        if m:\n",
    "            print m.group(0)"
   ]
  },
  {
   "cell_type": "code",
   "execution_count": null,
   "metadata": {},
   "outputs": [],
   "source": [
    "nbSpaces=5\n",
    "chaine=u\"1 2 3\"\n",
    "regex=u\"^\"+u\"([^ ]+ +)?\"*nbSpaces+u\"[^ ]+$\"\n",
    "m=re.match(regex,chaine)\n",
    "if m:\n",
    "    print m.group(0)"
   ]
  },
  {
   "cell_type": "code",
   "execution_count": null,
   "metadata": {},
   "outputs": [],
   "source": [
    "phrase=u\"ron jiyizkin ron ginxo geci winvxo ujuz jiyizvxon ron becug otmayakanoza ginhxoz ekyupenvu vangaz givxoz miznxo rizi otmavoloyo wanacag vopa uyumkizvxo\"\n",
    "phrase.replace(\" \",\"\")"
   ]
  }
 ],
 "metadata": {
  "kernelspec": {
   "display_name": "Python 2",
   "language": "python",
   "name": "python2"
  },
  "language_info": {
   "codemirror_mode": {
    "name": "ipython",
    "version": 2
   },
   "file_extension": ".py",
   "mimetype": "text/x-python",
   "name": "python",
   "nbconvert_exporter": "python",
   "pygments_lexer": "ipython2",
   "version": "2.7.11"
  }
 },
 "nbformat": 4,
 "nbformat_minor": 1
}

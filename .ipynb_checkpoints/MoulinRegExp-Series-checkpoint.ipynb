{
 "cells": [
  {
   "cell_type": "code",
   "execution_count": 1,
   "metadata": {
    "collapsed": false
   },
   "outputs": [],
   "source": [
    "#import re\n",
    "import sys, codecs, optparse, glob, os\n",
    "import string, yaml\n",
    "import random, warnings\n",
    "from ToolsMoodleXML2 import *"
   ]
  },
  {
   "cell_type": "code",
   "execution_count": 2,
   "metadata": {
    "collapsed": false
   },
   "outputs": [],
   "source": [
    "nKalaba=\"K2\"\n",
    "dossier=\"/ownCloud/Cours/Bordeaux/L1-LinguistiqueGenerale/Kalaba-Project/16-%s\"%nKalaba\n",
    "enonces=[\"Theme\",\"Version\"]\n",
    "theme=\"Traductions\""
   ]
  },
  {
   "cell_type": "code",
   "execution_count": 3,
   "metadata": {
    "collapsed": false
   },
   "outputs": [],
   "source": [
    "from os.path import expanduser\n",
    "home = expanduser(\"~\")\n",
    "repertoire=home+dossier\n",
    "base=repertoire+\"/\""
   ]
  },
  {
   "cell_type": "code",
   "execution_count": 7,
   "metadata": {
    "collapsed": false
   },
   "outputs": [
    {
     "ename": "NameError",
     "evalue": "name 'donneesNoEX' is not defined",
     "output_type": "error",
     "traceback": [
      "\u001b[0;31m---------------------------------------------------------------------------\u001b[0m",
      "\u001b[0;31mNameError\u001b[0m                                 Traceback (most recent call last)",
      "\u001b[0;32m<ipython-input-7-ed629f560d01>\u001b[0m in \u001b[0;36m<module>\u001b[0;34m()\u001b[0m\n\u001b[1;32m     17\u001b[0m     \u001b[0;32melse\u001b[0m\u001b[0;34m:\u001b[0m\u001b[0;34m\u001b[0m\u001b[0m\n\u001b[1;32m     18\u001b[0m     \u001b[0;31m#    print \"sans #EX;\"\u001b[0m\u001b[0;34m\u001b[0m\u001b[0;34m\u001b[0m\u001b[0m\n\u001b[0;32m---> 19\u001b[0;31m         \u001b[0mdonneesNoEX\u001b[0m\u001b[0;34m(\u001b[0m\u001b[0;34m)\u001b[0m\u001b[0;34m\u001b[0m\u001b[0m\n\u001b[0m\u001b[1;32m     20\u001b[0m \u001b[0;34m\u001b[0m\u001b[0m\n\u001b[1;32m     21\u001b[0m \u001b[0;34m\u001b[0m\u001b[0m\n",
      "\u001b[0;31mNameError\u001b[0m: name 'donneesNoEX' is not defined"
     ]
    }
   ],
   "source": [
    "for enonce in enonces:\n",
    "    yamlFichier=base+theme+\"-\"+enonce+\".yaml\"\n",
    "    csvFichier=base+theme+\".txt\"\n",
    "    boolEX=False\n",
    "    titreNoEX=False\n",
    "            \n",
    "    with open(yamlFichier, 'r') as stream:\n",
    "        configuration=yaml.load(stream)\n",
    "\n",
    "    with open(csvFichier, 'r') as file:\n",
    "        donneesLignes=file.readlines()\n",
    "\n",
    "    donnees=[]\n",
    "    if boolEX or donneesLignes[0].startswith(\"#EX;\"):\n",
    "    #    print \"avec #EX;\"\n",
    "        donneesEX()\n",
    "    else:\n",
    "    #    print \"sans #EX;\"\n",
    "        donneesNoEX()\n",
    "\n",
    "        \n",
    "    categorie=configuration[u\"Catégorie\"]\n",
    "    #donnees=configuration[u\"Données\"]\n",
    "    consigne=configuration[u\"Boucle\"][u\"contenu\"]\n",
    "    boucleWrap=[configuration[u\"Boucle\"][u\"début\"],configuration[u\"Boucle\"][\"fin\"]]\n",
    "    boucleCLOZE=configuration[u\"Boucle\"][u\"Cloze\"]\n",
    "    globalWrap=[configuration[u\"Décor\"][u\"fond\"]+configuration[u\"Décor\"][u\"entete\"]+configuration[u\"Global\"][u\"début\"],configuration[u\"Global\"][\"fin\"]]\n",
    "    if \"Conclusion\" in configuration:\n",
    "        conclusion=[configuration[u\"Conclusion\"][u\"début\"],configuration[u\"Conclusion\"][\"contenu\"],configuration[u\"Conclusion\"][\"fin\"]]\n",
    "        conclusionCLOZE=configuration[u\"Conclusion\"][u\"Cloze\"]\n",
    "    else:\n",
    "        conclusion=[\"\",\"\",\"\"]\n",
    "        conclusionCLOZE=[]\n",
    "    questions=XMLSeries(categorie)\n",
    "    questionsConsigne=ClozeConsigne(consigne,boucleWrap=boucleWrap,globalWrap=globalWrap,conclusion=conclusion)\n",
    "    serie=ClozeSerie(configuration[u\"Boucle\"][u\"Cloze\"],conclusionCLOZE)\n",
    "\n",
    "    for exercices in donnees:\n",
    "    #    print \"exercices\",exercices\n",
    "        for exercice in exercices:\n",
    "    #        print \"exercice\",exercice\n",
    "            exerciceBoucle=exercices[exercice][\"boucle\"]\n",
    "            exerciceConclusion=exercices[exercice][\"conclusion\"]\n",
    "            serie.addExercice(Exercice(exerciceBoucle,exerciceConclusion,exercice.decode('utf8')))\n",
    "\n",
    "    for exercice in serie.makeSerie(questionsConsigne):\n",
    "#        print exercice.corps\n",
    "#        print\n",
    "        questions.addExercice(exercice)\n",
    "\n",
    "    xmlOutput=MoodleXML()\n",
    "    xmlOutput.addQuiz(questions.getSeries())\n",
    "\n",
    "    xmlFichier=yamlFichier.split(\".\")[0]+\".xml\"\n",
    "\n",
    "#    with codecs.open(xmlFichier, 'w',encoding=\"utf8\") as output:\n",
    "#        output.write(xmlOutput.getXML())"
   ]
  },
  {
   "cell_type": "code",
   "execution_count": 5,
   "metadata": {
    "collapsed": false
   },
   "outputs": [
    {
     "data": {
      "text/plain": [
       "u'<?xml version=\"1.0\" encoding=\"UTF-8\"?>\\n<quiz>\\n<question type=\"category\">\\n<category>\\n<text>\\nKalaba16/K2/Traduction/B2/Version\\n</text>\\n</category>\\n</question>\\n</quiz>'"
      ]
     },
     "execution_count": 5,
     "metadata": {},
     "output_type": "execute_result"
    }
   ],
   "source": [
    "xmlOutput.getXML()"
   ]
  },
  {
   "cell_type": "code",
   "execution_count": null,
   "metadata": {
    "collapsed": true
   },
   "outputs": [],
   "source": []
  }
 ],
 "metadata": {
  "kernelspec": {
   "display_name": "Python 2",
   "language": "python",
   "name": "python2"
  },
  "language_info": {
   "codemirror_mode": {
    "name": "ipython",
    "version": 2
   },
   "file_extension": ".py",
   "mimetype": "text/x-python",
   "name": "python",
   "nbconvert_exporter": "python",
   "pygments_lexer": "ipython2",
   "version": "2.7.11"
  }
 },
 "nbformat": 4,
 "nbformat_minor": 0
}

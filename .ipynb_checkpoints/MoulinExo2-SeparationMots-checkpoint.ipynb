{
 "cells": [
  {
   "cell_type": "code",
   "execution_count": 460,
   "metadata": {
    "collapsed": false
   },
   "outputs": [],
   "source": [
    "#import re\n",
    "import sys, codecs, optparse, glob, os\n",
    "import string\n",
    "import random"
   ]
  },
  {
   "cell_type": "code",
   "execution_count": 461,
   "metadata": {
    "collapsed": false
   },
   "outputs": [],
   "source": [
    "dossier=\"/Github/eGloss\"\n",
    "enonce=\"Simple\"\n",
    "theme=\"SeparationMorphes\"\n",
    "adaptatifPenalite=\"0.1000000\"\n",
    "dernierIndiceNote=75.0\n",
    "msgPlusDeMots=u\"Il y a plus de mots\"\n",
    "msgMoinsDeMots=u\"Il y a moins de mots\"\n",
    "def nbIndiceNotes(nb):\n",
    "    if nb==1: \n",
    "        return [\"%50%\"]\n",
    "    elif nb==2:\n",
    "        return [\"\",\"%50%\"]\n",
    "    else:\n",
    "        return [\"\"]+[\"%\"+str(int((i+2)*dernierIndiceNote/nb))+\"%\" for i in range(nb-1)]   "
   ]
  },
  {
   "cell_type": "code",
   "execution_count": 462,
   "metadata": {
    "collapsed": false
   },
   "outputs": [
    {
     "name": "stdout",
     "output_type": "stream",
     "text": [
      "0 ['']\n",
      "1 ['%50%']\n",
      "2 ['', '%50%']\n",
      "3 ['', '%50%', '%75%']\n",
      "4 ['', '%37%', '%56%', '%75%']\n",
      "5 ['', '%30%', '%45%', '%60%', '%75%']\n",
      "6 ['', '%25%', '%37%', '%50%', '%62%', '%75%']\n",
      "7 ['', '%21%', '%32%', '%42%', '%53%', '%64%', '%75%']\n",
      "8 ['', '%18%', '%28%', '%37%', '%46%', '%56%', '%65%', '%75%']\n",
      "9 ['', '%16%', '%25%', '%33%', '%41%', '%50%', '%58%', '%66%', '%75%']\n",
      "10 ['', '%15%', '%22%', '%30%', '%37%', '%45%', '%52%', '%60%', '%67%', '%75%']\n",
      "11 ['', '%13%', '%20%', '%27%', '%34%', '%40%', '%47%', '%54%', '%61%', '%68%', '%75%']\n",
      "12 ['', '%12%', '%18%', '%25%', '%31%', '%37%', '%43%', '%50%', '%56%', '%62%', '%68%', '%75%']\n",
      "13 ['', '%11%', '%17%', '%23%', '%28%', '%34%', '%40%', '%46%', '%51%', '%57%', '%63%', '%69%', '%75%']\n",
      "14 ['', '%10%', '%16%', '%21%', '%26%', '%32%', '%37%', '%42%', '%48%', '%53%', '%58%', '%64%', '%69%', '%75%']\n",
      "15 ['', '%10%', '%15%', '%20%', '%25%', '%30%', '%35%', '%40%', '%45%', '%50%', '%55%', '%60%', '%65%', '%70%', '%75%']\n",
      "16 ['', '%9%', '%14%', '%18%', '%23%', '%28%', '%32%', '%37%', '%42%', '%46%', '%51%', '%56%', '%60%', '%65%', '%70%', '%75%']\n",
      "17 ['', '%8%', '%13%', '%17%', '%22%', '%26%', '%30%', '%35%', '%39%', '%44%', '%48%', '%52%', '%57%', '%61%', '%66%', '%70%', '%75%']\n",
      "18 ['', '%8%', '%12%', '%16%', '%20%', '%25%', '%29%', '%33%', '%37%', '%41%', '%45%', '%50%', '%54%', '%58%', '%62%', '%66%', '%70%', '%75%']\n",
      "19 ['', '%7%', '%11%', '%15%', '%19%', '%23%', '%27%', '%31%', '%35%', '%39%', '%43%', '%47%', '%51%', '%55%', '%59%', '%63%', '%67%', '%71%', '%75%']\n"
     ]
    }
   ],
   "source": [
    "for i in range(20):\n",
    "    print i,nbIndiceNotes(i) "
   ]
  },
  {
   "cell_type": "markdown",
   "metadata": {
    "collapsed": false
   },
   "source": [
    "nbIndiceNotes={\n",
    "    1:[\"%50%\"],\n",
    "    2:[\"\",\"%50%\"],\n",
    "    3:[\"\",\"%40%\",\"%75%\"],\n",
    "    4:[\"\",\"%25%\",\"%50%\",\"%75%\"],\n",
    "    5:[\"\",\"%25%\",\"%40%\", \"%60%\",\"%75%\"],\n",
    "    6:[\"\",\"%20%\",\"%35%\",\"%50%\", \"%60%\",\"%75%\"],\n",
    "    7:[\"\",\"%15\",\"%25%\",\"%35%\",\"%50%\", \"%60%\",\"%75%\"],\n",
    "    8:[\"\",\"%15\",\"%25%\",\"%35%\",\"%45%\",\"%55%\", \"%65%\",\"%75%\"],\n",
    "    9:[\"\",\"%5%\",\"%15\",\"%25%\",\"%35%\",\"%45%\",\"%55%\", \"%65%\",\"%75%\"],\n",
    "    10:[\"\",\"%8%\",\"%16%\",\"%24%\",\"%32%\",\"%40%\",\"%48%\", \"%56%\",\"%64%\",\"%75%\"],\n",
    "}"
   ]
  },
  {
   "cell_type": "code",
   "execution_count": 463,
   "metadata": {
    "collapsed": false
   },
   "outputs": [],
   "source": [
    "from os.path import expanduser\n",
    "home = expanduser(\"~\")\n",
    "repertoire=home+dossier\n",
    "base=repertoire+\"/\""
   ]
  },
  {
   "cell_type": "code",
   "execution_count": 464,
   "metadata": {
    "collapsed": false
   },
   "outputs": [],
   "source": [
    "from MoodleXML import *\n",
    "import yaml"
   ]
  },
  {
   "cell_type": "code",
   "execution_count": 465,
   "metadata": {
    "collapsed": false
   },
   "outputs": [],
   "source": [
    "yamlFichier=base+theme+\"-\"+enonce+\".yaml\"\n",
    "csvFichier=base+theme+\".txt\"\n",
    "boolEX=True\n",
    "titreNoEX=False"
   ]
  },
  {
   "cell_type": "code",
   "execution_count": 466,
   "metadata": {
    "collapsed": false
   },
   "outputs": [],
   "source": [
    "with open(yamlFichier, 'r') as stream:\n",
    "    configuration=yaml.load(stream)\n",
    "    \n",
    "with codecs.open(csvFichier, 'r', encoding=\"utf8\") as file:\n",
    "    donneesLignes=file.readlines()"
   ]
  },
  {
   "cell_type": "code",
   "execution_count": 467,
   "metadata": {
    "collapsed": false
   },
   "outputs": [],
   "source": [
    "def donneesEX():\n",
    "    titre=[]\n",
    "    result={}\n",
    "    boolMultiLignes=False\n",
    "    i=0\n",
    "    for ligne in donneesLignes:\n",
    "        if debug or 0: print ligne\n",
    "        i+=1\n",
    "        if ligne.startswith(\"#EX;\"):\n",
    "            if result:\n",
    "                donnees.append({\"-\".join(titre):result})\n",
    "            titre=[]\n",
    "            result={\"boucle\":[],\"conclusion\":[]}\n",
    "            temp=ligne.strip().split(\";\")\n",
    "            if len(temp)>1 and temp[1]!=\"\":\n",
    "                result[\"conclusion\"]=temp[1:]\n",
    "        elif ligne.startswith(\"#EXM;\"):\n",
    "            boolMultiLignes=True\n",
    "            if result:\n",
    "                donnees.append({\"-\".join(titre):result})\n",
    "            titre=[]\n",
    "            result={\"boucle\":[],\"conclusion\":[]}\n",
    "            temp=ligne.strip().split(\";\")\n",
    "            if len(temp)>1 and temp[1]!=\"\":\n",
    "                titre=temp[1:]            \n",
    "        elif ligne.startswith(\"#\"):\n",
    "            pass\n",
    "        else:\n",
    "            temp=ligne.strip().split(\";\")\n",
    "            if boolMultiLignes:\n",
    "                result[\"boucle\"].extend(temp)\n",
    "            else:\n",
    "                result[\"boucle\"].append(temp)\n",
    "#            titre.append(makeChamps(configuration[u\"Titre\"],temp).encode('utf8'))\n",
    "    donnees.append({\"-\".join(titre):result})\n",
    "\n",
    "def donneesNoEX():\n",
    "    if titreNoEX:\n",
    "        debut=1\n",
    "    else:\n",
    "        debut=0\n",
    "    for ligne in donneesLignes[debut:]:\n",
    "        if not (ligne.strip().strip(\";\")==\"\" or ligne.startswith(\"#\")):\n",
    "            temp=ligne.strip().split(\";\")\n",
    "            result={\"boucle\":[temp],\"conclusion\":[]}\n",
    "            titre=makeChamps(configuration[u\"Titre\"],temp).encode('utf8')\n",
    "            donnees.append({titre:result})\n",
    "    return\n",
    "\n",
    "donnees=[]\n",
    "if boolEX or donneesLignes[0].startswith(\"#EX;\"):\n",
    "#    print \"avec #EX;\"\n",
    "    donneesEX()\n",
    "else:\n",
    "#    print \"sans #EX;\"\n",
    "    donneesNoEX()"
   ]
  },
  {
   "cell_type": "code",
   "execution_count": 468,
   "metadata": {
    "collapsed": false
   },
   "outputs": [],
   "source": [
    "def lierMot(ref,chaine):\n",
    "    if motReferences[ref]:\n",
    "        mot=motReferences[ref]\n",
    "    else:\n",
    "        mot=ref\n",
    "    result=chaine.replace(ref,u'<a href=\"https://fr.wikipedia.org/wiki/%s\" target=\"_blank\" style=\"color:blue\">%s</a>'%(mot,ref))\n",
    "    return result\n",
    "\n",
    "def echapperCorrection(correction):\n",
    "    result=correction\n",
    "    print \"original\",result\n",
    "    subPoints = re.compile(ur\"(\\.[^*+])\")\n",
    "    result=subPoints.sub(ur\"\\\\\\1\",result)\n",
    "    m=re.match(ur\"^(--\\.\\*\\()(&&.*)(\\)\\.\\*)$\",result)\n",
    "    if m:\n",
    "        (prefixe, corps, suffixe)=m.groups()\n",
    "        subParentheses = re.compile(ur\"\\(([^)]*)\\)\")\n",
    "        corps=subParentheses.sub(ur\"\\\\(\\1\\\\)\",corps)\n",
    "        subCrochets = re.compile(ur\"\\[([^]]*)\\]\")\n",
    "        corps=subCrochets.sub(ur\"\\\\[\\1\\\\]\",corps)\n",
    "        result=prefixe+corps+suffixe\n",
    "    print \"échappé\",result\n",
    "    return result    \n",
    "\n",
    "def modifierCorrection(correction):\n",
    "    result=correction\n",
    "    print \"original\",result\n",
    "    subPoints = re.compile(ur\"(\\.[^*+])\")\n",
    "    result=subPoints.sub(ur\"\\\\\\1\",result)\n",
    "    m=re.match(ur\"^(--\\.\\*\\()(&&.*)(\\)\\.\\*)$\",result)\n",
    "    if m:\n",
    "        (prefixe, corps, suffixe)=m.groups()        \n",
    "        subParentheses = re.compile(ur\"\\(([^)]*)\\)\")\n",
    "        corps=subParentheses.sub(ur\"\\\\(\\1\\\\)\",corps)\n",
    "        subCrochets = re.compile(ur\"\\[([^]]*)\\]\")\n",
    "        corps=subCrochets.sub(ur\"\\\\[\\1\\\\]\",corps)\n",
    "        unites=filter(None,corps.split(\"&&\"))\n",
    "        print \"unités\",unites\n",
    "        corps=\".*\".join(unites)\n",
    "        result=prefixe+corps+suffixe\n",
    "    print \"échappé\",result\n",
    "    return result    \n",
    "\n",
    "\n",
    "def separerMots(elements,titre):\n",
    "    result=[]\n",
    "    elements = filter(None, elements)\n",
    "    nbMots=len(elements[0].strip().split(\" \"))\n",
    "    solution=u\"=%s#Bravo ! La phrase était : %s\"%(elements[0],titre)\n",
    "    corrections=[]\n",
    "    nbElements=len(elements[1:])\n",
    "#    if not nbElements in nbIndiceNotes: \n",
    "#        print \"Ajouter une répartition des notes pour %d indices\"%nbElements\n",
    "#        print titre\n",
    "#        print elements[1:]\n",
    "    for n,element in enumerate(elements[1:]):\n",
    "        (reponseSpec,feedbackSpec)=element.split(\"#\")\n",
    "        reponseSpec=modifierCorrection(reponseSpec)\n",
    "        if feedbackSpec:\n",
    "            for mot in motReferences:\n",
    "                if mot in feedbackSpec:\n",
    "                    feedbackSpec=lierMot(mot,feedbackSpec)\n",
    "        element=\"#\".join([reponseSpec,feedbackSpec])\n",
    "        corrections.append(nbIndiceNotes(nbElements)[n]+element)\n",
    "#    print nbMots\n",
    "    minMots=\"^\"+\"([^ ]+ +)?\"*(nbMots-4)+\"[^ ]+$#%s\"%msgPlusDeMots\n",
    "    maxMots=\"^\"+\"([^ ]+ +)\"*(nbMots+2)+\"([^ ]+ +)*[^ ]+$#%s\"%msgMoinsDeMots\n",
    "#    print \"~\".join(elements)\n",
    "    result.extend([solution,minMots,maxMots])\n",
    "    result.extend(corrections)\n",
    "    return result"
   ]
  },
  {
   "cell_type": "code",
   "execution_count": 469,
   "metadata": {
    "collapsed": false,
    "scrolled": true
   },
   "outputs": [
    {
     "name": "stdout",
     "output_type": "stream",
     "text": [
      "original --.*(&& ʃa && gʁi && suʁi && o && də && gutjɛʁ && vɛʁ && klɛʁ).*\n",
      "unités [u' \\u0283a ', u' g\\u0281i ', u' su\\u0281i ', u' o ', u' d\\u0259 ', u' gutj\\u025b\\u0281 ', u' v\\u025b\\u0281 ', u' kl\\u025b\\u0281']\n",
      "échappé --.*( ʃa .* gʁi .* suʁi .* o .* də .* gutjɛʁ .* vɛʁ .* klɛʁ).*\n",
      "original --.*opsɛʁv-ɛ .*\n",
      "échappé --.*opsɛʁv-ɛ .*\n",
      "original --.*(&&l-ə && d-y && l-a ).*\n",
      "unités [u'l-\\u0259 ', u' d-y ', u' l-a ']\n",
      "échappé --.*(l-ə .* d-y .* l-a ).*\n",
      "original --.*z-opsɛʁv-ɛ .*\n",
      "échappé --.*z-opsɛʁv-ɛ .*\n",
      "original --.* nu-z-opsɛʁv-ɛ .*\n",
      "échappé --.* nu-z-opsɛʁv-ɛ .*\n",
      "original --.*(&& chat&& gris&& souris&&observer&& haut&& gouttière&& vert&& clair).*\n",
      "unités [u' chat', u' gris', u' souris', u'observer', u' haut', u' goutti\\xe8re', u' vert', u' clair']\n",
      "échappé --.*( chat.* gris.* souris.*observer.* haut.* gouttière.* vert.* clair).*\n",
      "original --.*(&&DEF&& DE DEF).*\n",
      "unités [u'DEF', u' DE DEF']\n",
      "échappé --.*(DEF.* DE DEF).*\n",
      "original --.*(&& chat\\S*M\\S*SG&& souris\\S*F\\S*SG && haut\\S*M\\S*SG&& gouttière\\S*F\\S*SG).*\n",
      "unités [u' chat\\\\S*M\\\\S*SG', u' souris\\\\S*F\\\\S*SG ', u' haut\\\\S*M\\\\S*SG', u' goutti\\xe8re\\\\S*F\\\\S*SG']\n",
      "échappé --.*( chat\\S*M\\S*SG.* souris\\S*F\\S*SG .* haut\\S*M\\S*SG.* gouttière\\S*F\\S*SG).*\n",
      "original --.*(&& chat(M)[SG] && souris(F)[SG] && haut(M)[SG] && gouttière(F)[SG] ).*\n",
      "unités [u' chat\\\\(M\\\\)\\\\[SG\\\\] ', u' souris\\\\(F\\\\)\\\\[SG\\\\] ', u' haut\\\\(M\\\\)\\\\[SG\\\\] ', u' goutti\\xe8re\\\\(F\\\\)\\\\[SG\\\\] ']\n",
      "échappé --.*( chat\\(M\\)\\[SG\\] .* souris\\(F\\)\\[SG\\] .* haut\\(M\\)\\[SG\\] .* gouttière\\(F\\)\\[SG\\] ).*\n",
      "original --.*(&&DEF\\S*M\\S*SG\\S* chat&& DEF\\S*F\\S*SG\\S* gouttière).*\n",
      "unités [u'DEF\\\\S*M\\\\S*SG\\\\S* chat', u' DEF\\\\S*F\\\\S*SG\\\\S* goutti\\xe8re']\n",
      "échappé --.*(DEF\\S*M\\S*SG\\S* chat.* DEF\\S*F\\S*SG\\S* gouttière).*\n",
      "original --.*(&&DEF-M.SG.*chat&& DEF-F.SG.*gouttière).*\n",
      "unités [u'DEF-M\\\\.SG.*chat', u' DEF-F\\\\.SG.*goutti\\xe8re']\n",
      "échappé --.*(DEF-M\\.SG.*chat.* DEF-F\\.SG.*gouttière).*\n",
      "original --.*(&& gris\\S*M\\S*SG\\S* souris&& vert\\S*M\\S*SG\\S* clair\\S*M\\S*SG).*\n",
      "unités [u' gris\\\\S*M\\\\S*SG\\\\S* souris', u' vert\\\\S*M\\\\S*SG\\\\S* clair\\\\S*M\\\\S*SG']\n",
      "échappé --.*( gris\\S*M\\S*SG\\S* souris.* vert\\S*M\\S*SG\\S* clair\\S*M\\S*SG).*\n",
      "original --.*(&& gris(M)[SG] && vert(M)[SG] clair[M.SG]).*\n",
      "unités [u' gris\\\\(M\\\\)\\\\[SG\\\\] ', u' vert\\\\(M\\\\)\\\\[SG\\\\] clair\\\\[M\\\\.SG\\\\]']\n",
      "échappé --.*( gris\\(M\\)\\[SG\\] .* vert\\(M\\)\\[SG\\] clair\\[M\\.SG\\]).*\n",
      "original --.*(&&DEF-M.SG.⊖ chat&& DEF-F.SG.⊖ gouttière).*\n",
      "unités [u'DEF-M\\\\.SG\\\\.\\u2296 chat', u' DEF-F\\\\.SG\\\\.\\u2296 goutti\\xe8re']\n",
      "échappé --.*(DEF-M\\.SG\\.⊖ chat.* DEF-F\\.SG\\.⊖ gouttière).*\n",
      "original --.* DE_DEF.*\n",
      "échappé --.* DE_DEF.*\n",
      "original --.* DE_DEF-M.SG.*\n",
      "échappé --.* DE_DEF-M\\.SG.*\n",
      "original --.* DE_DEF-M.SG.⊖ haut.*\n",
      "échappé --.* DE_DEF-M\\.SG\\.⊖ haut.*\n",
      "original --.*(&& PRO.1PL.OBJ-PRO.PL.⊕-observer(G1)-IND.IPF.3SG ).*\n",
      "unités [u' PRO\\\\.1PL\\\\.OBJ-PRO\\\\.PL\\\\.\\u2295-observer\\\\(G1\\\\)-IND\\\\.IPF\\\\.3SG ']\n",
      "échappé --.*( PRO\\.1PL\\.OBJ-PRO\\.PL\\.⊕-observer\\(G1\\)-IND\\.IPF\\.3SG ).*\n"
     ]
    }
   ],
   "source": [
    "consigne=\"<br/>\".join(configuration[u\"Consigne\"])\n",
    "motReferences=configuration[u\"Références\"]\n",
    "separationExercices=[]\n",
    "for question in donnees:\n",
    "    questionLignes=[]\n",
    "    for nom in question:\n",
    "        titre=nom\n",
    "        questionLignes.append(consigne)\n",
    "        questionLignes.append(u\"\".join(re.split(\"[ -]\",question[nom][\"boucle\"][0])))\n",
    "#        questionLignes.append(u\"\".join(question[nom][\"boucle\"][0].split(\" \")))\n",
    "        questionLignes.append(u\"{1:RXC:%s}\"%u\"~\".join(separerMots(question[nom][\"boucle\"],titre)))\n",
    "#        print questionLignes\n",
    "        textQuestion=u\"<br/>\".join(questionLignes)\n",
    "        separationExercices.append(ClozeExercice(titre,textQuestion,penalty=adaptatifPenalite))"
   ]
  },
  {
   "cell_type": "code",
   "execution_count": 470,
   "metadata": {
    "collapsed": false
   },
   "outputs": [],
   "source": [
    "categorie=configuration[u\"Catégorie\"]\n",
    "clozeQuestions=XMLClozes(categorie)"
   ]
  },
  {
   "cell_type": "code",
   "execution_count": 471,
   "metadata": {
    "collapsed": false
   },
   "outputs": [],
   "source": [
    "for exercice in separationExercices:\n",
    "    clozeQuestions.addExercice(exercice)"
   ]
  },
  {
   "cell_type": "code",
   "execution_count": 472,
   "metadata": {
    "collapsed": false
   },
   "outputs": [],
   "source": [
    "xmlOutput=MoodleXML()\n",
    "xmlOutput.addQuiz(clozeQuestions.getClozes())"
   ]
  },
  {
   "cell_type": "code",
   "execution_count": 473,
   "metadata": {
    "collapsed": false
   },
   "outputs": [],
   "source": [
    "xmlFichier=yamlFichier.split(\".\")[0]+\".xml\""
   ]
  },
  {
   "cell_type": "code",
   "execution_count": 474,
   "metadata": {
    "collapsed": false
   },
   "outputs": [],
   "source": [
    "with codecs.open(xmlFichier, 'w',encoding=\"utf8\") as output:\n",
    "#    print [questions.getClozes()]\n",
    "    output.write(xmlOutput.getXML())"
   ]
  },
  {
   "cell_type": "code",
   "execution_count": 475,
   "metadata": {
    "collapsed": false
   },
   "outputs": [
    {
     "data": {
      "text/plain": [
       "{'clitique': None,\n",
       " 'datif': None,\n",
       " u'd\\xe9monstratif': u'Adjectif_d\\xe9monstratif',\n",
       " 'liaison': u'Liaison_en_fran\\xe7ais',\n",
       " 'partitif': 'Article_partitif',\n",
       " 'possessif': None,\n",
       " u'pr\\xe9position': None,\n",
       " u'r\\xe9fl\\xe9chi': u'Morphologie_du_pronom_personnel_en_fran\\xe7ais#Pronom_r.C3.A9fl.C3.A9chi_et_pronom_non_r.C3.A9fl.C3.A9chi'}"
      ]
     },
     "execution_count": 475,
     "metadata": {},
     "output_type": "execute_result"
    }
   ],
   "source": [
    "motReferences"
   ]
  },
  {
   "cell_type": "code",
   "execution_count": 476,
   "metadata": {
    "collapsed": false
   },
   "outputs": [
    {
     "name": "stdout",
     "output_type": "stream",
     "text": [
      "&& gris(M)[SG.⊖] && vert(M)[SG.⊖] && clair[M.SG.⊖]\n",
      "&& gris\\(M\\)[SG.⊖] && vert\\(M\\)[SG.⊖] && clair[M.SG.⊖]\n",
      "--.*(&& gris\\(M\\)\\[SG\\.⊖\\] && vert\\(M\\)\\[SG\\.⊖\\] && clair\\[M\\.SG\\.⊖\\]).*\n"
     ]
    }
   ],
   "source": [
    "correction=u\"--.*(&& gris(M)[SG.⊖] && vert(M)[SG.⊖] && clair[M.SG.⊖]).*\"\n",
    "#correction=u\"--.*(&& DEF-M.SG.⊖ chat&& DEF-F.SG.⊖ gouttière).*\"\n",
    "(prefixe, corps, suffixe)=re.match(ur\"^(--\\.\\*\\()(&&.*)(\\)\\.\\*)$\",correction).groups()\n",
    "print corps\n",
    "subParentheses = re.compile(ur\"\\(([^)]*)\\)\")\n",
    "result=subParentheses.sub(ur\"\\\\(\\1\\\\)\",corps)\n",
    "print result\n",
    "subCrochets = re.compile(ur\"\\[([^]]*)\\]\")\n",
    "result=subCrochets.sub(ur\"\\\\[\\1\\\\]\",result)\n",
    "subPoints = re.compile(ur\"(\\.[^*])\")\n",
    "result=subPoints.sub(ur\"\\\\\\1\",result)\n",
    "\n",
    "print prefixe+result+suffixe"
   ]
  },
  {
   "cell_type": "code",
   "execution_count": 477,
   "metadata": {
    "collapsed": false
   },
   "outputs": [
    {
     "name": "stdout",
     "output_type": "stream",
     "text": [
      "<_sre.SRE_Match object at 0x1045fe160>\n",
      "--.*(&& gris\\(M\\)[SG.⊖] && vert\\(M\\)[SG.⊖] && clair[M.SG.⊖]).*\n",
      "--.*(&& gris\\(M\\)\\[SG.⊖\\] && vert\\(M\\)\\[SG.⊖\\] && clair\\[M.SG.⊖\\]).*\n",
      "--.*(&& gris\\(M\\)\\[SG\\.⊖\\] && vert\\(M\\)\\[SG\\.⊖\\] && clair\\[M\\.SG.⊖\\]).*\n"
     ]
    }
   ],
   "source": [
    "subParentheses = re.compile(ur\"&&([^&)]*)\\(([^)]*)\\)\")\n",
    "subCrochets = re.compile(ur\"&&([^&[]*)\\[([^\\]]*)\\]\")\n",
    "subPoints = re.compile(ur\"&&(([^)\\.]|\\\\\\)|\\\\\\.)+)(\\.[^*])\")\n",
    "print subPoints.search(correction)\n",
    "result=subParentheses.sub(ur\"&&\\1\\\\(\\2\\\\)\",correction)\n",
    "print result\n",
    "result=subCrochets.sub(ur\"&&\\1\\\\[\\2\\\\]\",result)\n",
    "print result\n",
    "result=subPoints.sub(ur\"&&\\1\\\\\\3\",result)\n",
    "print result"
   ]
  }
 ],
 "metadata": {
  "kernelspec": {
   "display_name": "Python 2",
   "language": "python",
   "name": "python2"
  },
  "language_info": {
   "codemirror_mode": {
    "name": "ipython",
    "version": 2
   },
   "file_extension": ".py",
   "mimetype": "text/x-python",
   "name": "python",
   "nbconvert_exporter": "python",
   "pygments_lexer": "ipython2",
   "version": "2.7.10"
  }
 },
 "nbformat": 4,
 "nbformat_minor": 0
}

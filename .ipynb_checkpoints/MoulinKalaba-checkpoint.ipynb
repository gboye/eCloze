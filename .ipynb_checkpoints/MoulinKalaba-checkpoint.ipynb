{
 "metadata": {
  "name": "",
  "signature": "sha256:4baaa94b147b7576c38fb3ddad508df5b92b45cfb8e89f90df769477867cb55f"
 },
 "nbformat": 3,
 "nbformat_minor": 0,
 "worksheets": [
  {
   "cells": [
    {
     "cell_type": "markdown",
     "metadata": {},
     "source": [
      "#Construction d'exercice pour le kalaba\n",
      "\n",
      "- Transcription de la phon\u00e9tique TIPA en API UTF8\n",
      "- Calcul du nombre de morceaux\n",
      "- Ajout des r\u00e9ponses partielles pour le d\u00e9coupage\n",
      " \n",
      "La partie conclusion est laiss\u00e9e vide"
     ]
    },
    {
     "cell_type": "code",
     "collapsed": false,
     "input": [
      "import yaml"
     ],
     "language": "python",
     "metadata": {},
     "outputs": [],
     "prompt_number": 124
    },
    {
     "cell_type": "code",
     "collapsed": false,
     "input": [
      "from os.path import expanduser\n",
      "home = expanduser(\"~\")\n",
      "repertoire=home+\"/Copy/Cours/Bordeaux/L1-UE1/Kalaba-14\"\n",
      "base=repertoire+\"/\"\n",
      "serie=\"Noms\""
     ],
     "language": "python",
     "metadata": {},
     "outputs": [],
     "prompt_number": 125
    },
    {
     "cell_type": "code",
     "collapsed": false,
     "input": [
      "from itertools import combinations\n",
      "import re"
     ],
     "language": "python",
     "metadata": {},
     "outputs": [],
     "prompt_number": 126
    },
    {
     "cell_type": "code",
     "collapsed": false,
     "input": [
      "marksMoodle=[100,90,80,75,70,66.666,60,50,40,33.333,30,25,20,16.666,14.2857,12.5,11.111,10,5,0]\n",
      "def noteMoodle(note):\n",
      "    return min(marksMoodle, key=lambda x:abs(x-note))"
     ],
     "language": "python",
     "metadata": {},
     "outputs": [],
     "prompt_number": 127
    },
    {
     "cell_type": "code",
     "collapsed": false,
     "input": [
      "def assemblages(analyse):\n",
      "    chunks = re.findall(ur\"(racine([^)]+)x[^+-]+|[+-]|[^-+]+)\", analyse)\n",
      "    morceaux = [x for (x,y) in chunks if not x in [\"+\",\"-\"]]\n",
      "    separateurs = [x for (x,y) in chunks if x in [\"+\",\"-\"]]\n",
      "    n=len(separateurs)\n",
      "    formes=[]\n",
      "    formes.append(analyse)\n",
      "    if re.search(\"^[^+]+\\+[^+]+\\+[^+]+\",analyse):\n",
      "        formes.append(\"~%%%s%%\" % noteMoodle(100-(100*1/n))+analyse.replace(\"+\",\"-\"))\n",
      "    for i in range(1,n):\n",
      "        for elements in combinations(range(n),i):\n",
      "            boolTirets=False\n",
      "            boolRacine=False\n",
      "            badRacine=False\n",
      "            forme=\"~%%%s%%\" % noteMoodle(100-(100*i/n))\n",
      "            for m,morceau in enumerate(morceaux):\n",
      "                if re.search(\"racine([^)]+)\",morceau):\n",
      "                    boolRacine=True\n",
      "                    if not(re.search(\"[%+-]$\",forme)) or (m in elements):\n",
      "                        badRacine=True\n",
      "                forme+=morceau\n",
      "                if not (m in elements) and m<n:\n",
      "                    forme+=separateurs[m]\n",
      "                    if separateurs[m] in [\"+\"]:\n",
      "                        boolTirets=True\n",
      "            if not(badRacine):\n",
      "                formes.append(forme)\n",
      "                if boolTirets:\n",
      "                    formes.append(forme.replace('+','-'))\n",
      "    return \"\".join(formes)"
     ],
     "language": "python",
     "metadata": {},
     "outputs": [],
     "prompt_number": 128
    },
    {
     "cell_type": "code",
     "collapsed": false,
     "input": [
      "def decoupages(analyse):\n",
      "    morceaux=analyse.split(\"-\")\n",
      "    n=len(morceaux)-1\n",
      "    formes=[]\n",
      "    for i in range(1,n):\n",
      "        print i,n,i/n\n",
      "        for element in combinations(range(n),i):\n",
      "            forme=\"~%%%s%%\" % noteMoodle(100-(100*i/n))\n",
      "            for m,morceau in enumerate(morceaux):\n",
      "                forme+=morceau\n",
      "                if not (m in element) and m<n:\n",
      "                    forme+=\"-\"\n",
      "            formes.append(forme)\n",
      "    return \"\".join(formes)"
     ],
     "language": "python",
     "metadata": {},
     "outputs": [],
     "prompt_number": 129
    },
    {
     "cell_type": "code",
     "collapsed": false,
     "input": [
      "def recoder(chaine,table):\n",
      "    if type(chaine)==str:\n",
      "        temp=unicode(chaine.decode('utf8')).translate(table)\n",
      "        result=temp.encode('utf8')\n",
      "    elif type(chaine)==unicode:\n",
      "        result=chaine.translate(table)\n",
      "    return result"
     ],
     "language": "python",
     "metadata": {},
     "outputs": [],
     "prompt_number": 130
    },
    {
     "cell_type": "code",
     "collapsed": false,
     "input": [
      "with open(base+\"14-Kalaba-\"+serie+\".csv\", 'r') as file:\n",
      "    donnees=file.readlines()"
     ],
     "language": "python",
     "metadata": {},
     "outputs": [],
     "prompt_number": 131
    },
    {
     "cell_type": "code",
     "collapsed": false,
     "input": [
      "with open(base+\"Phonology.yaml\", 'r') as stream:\n",
      "    phonology=yaml.load(stream)\n",
      "tipaIn = unicode(phonology[\"translations\"][\"ipa\"][\"in\"])\n",
      "ipaIn = [ord(char) for char in tipaIn]\n",
      "ipaOut = unicode(phonology[\"translations\"][\"ipa\"][\"out\"])\n",
      "toipa = dict(zip(ipaIn, ipaOut))"
     ],
     "language": "python",
     "metadata": {},
     "outputs": [],
     "prompt_number": 132
    },
    {
     "cell_type": "code",
     "collapsed": false,
     "input": [
      "results=[]\n",
      "for donnee in donnees:\n",
      "    if donnee.startswith(\"#\"):\n",
      "        results.append(donnee.strip())\n",
      "    else:\n",
      "        champs=donnee.strip().split(\";\")\n",
      "        champs[2]=recoder(champs[2],toipa)\n",
      "        champs[3]=recoder(champs[3],toipa)\n",
      "        morceaux=champs[3].split(\"-\")\n",
      "        numMorceaux=str(len(morceaux))\n",
      "        champs[3]=assemblages(champs[3])\n",
      "        champs.append(numMorceaux)\n",
      "        results.append(\";\".join(champs))"
     ],
     "language": "python",
     "metadata": {},
     "outputs": [],
     "prompt_number": 133
    },
    {
     "cell_type": "code",
     "collapsed": false,
     "input": [
      "with open(base+\"14-Kalaba-\"+serie+\".txt\", 'w') as file:\n",
      "    for result in results:\n",
      "        file.write(result+\"\\n\")"
     ],
     "language": "python",
     "metadata": {},
     "outputs": [],
     "prompt_number": 134
    },
    {
     "cell_type": "code",
     "collapsed": false,
     "input": [],
     "language": "python",
     "metadata": {},
     "outputs": [],
     "prompt_number": 134
    }
   ],
   "metadata": {}
  }
 ]
}
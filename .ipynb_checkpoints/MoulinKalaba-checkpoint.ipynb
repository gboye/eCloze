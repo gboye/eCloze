{
 "metadata": {
  "name": "",
  "signature": "sha256:ff2392cfab0158a3d2280ea4bac62d6c9f64bf2c87d09530b2b2a9668ff3e48d"
 },
 "nbformat": 3,
 "nbformat_minor": 0,
 "worksheets": [
  {
   "cells": [
    {
     "cell_type": "markdown",
     "metadata": {},
     "source": [
      "#Construction d'exercice \u00e0 n \u00e9l\u00e9ments pour le kalaba\n",
      "\n",
      "Tirage de n \u00e9l\u00e9ments diff\u00e9rents au hasard\n",
      "Transcription de la phon\u00e9tique TIPA en API UTF8\n",
      " \n",
      "La partie conclusion est laiss\u00e9e vide"
     ]
    },
    {
     "cell_type": "code",
     "collapsed": false,
     "input": [
      "import yaml"
     ],
     "language": "python",
     "metadata": {},
     "outputs": [],
     "prompt_number": 7
    },
    {
     "cell_type": "code",
     "collapsed": false,
     "input": [
      "serie=\"Adjectifs\"\n",
      "dossier=\"/Copy/Cours/Bordeaux/L1-UE1/Kalaba-14\""
     ],
     "language": "python",
     "metadata": {},
     "outputs": [],
     "prompt_number": 8
    },
    {
     "cell_type": "code",
     "collapsed": false,
     "input": [
      "from os.path import expanduser\n",
      "home = expanduser(\"~\")\n",
      "repertoire=home+dossier\n",
      "base=repertoire+\"/\""
     ],
     "language": "python",
     "metadata": {},
     "outputs": [],
     "prompt_number": 9
    },
    {
     "cell_type": "code",
     "collapsed": false,
     "input": [
      "def recoder(chaine,table):\n",
      "    if type(chaine)==str:\n",
      "        temp=unicode(chaine.decode('utf8')).translate(table)\n",
      "        result=temp.encode('utf8')\n",
      "    elif type(chaine)==unicode:\n",
      "        result=chaine.translate(table)\n",
      "    return result"
     ],
     "language": "python",
     "metadata": {},
     "outputs": [],
     "prompt_number": 10
    },
    {
     "cell_type": "code",
     "collapsed": false,
     "input": [
      "nomCSV=base+\"14-Kalaba-\"+serie+\".csv\"\n",
      "with open(nomCSV, 'r') as file:\n",
      "    donnees=file.readlines()"
     ],
     "language": "python",
     "metadata": {},
     "outputs": [],
     "prompt_number": 11
    },
    {
     "cell_type": "code",
     "collapsed": false,
     "input": [
      "nomPhonology=base+\"Phonology.yaml\"\n",
      "with open(nomPhonology, 'r') as stream:\n",
      "    phonology=yaml.load(stream)\n",
      "tipaIn = unicode(phonology[\"translations\"][\"ipa\"][\"in\"])\n",
      "ipaIn = [ord(char) for char in tipaIn]\n",
      "ipaOut = unicode(phonology[\"translations\"][\"ipa\"][\"out\"])\n",
      "toipa = dict(zip(ipaIn, ipaOut))"
     ],
     "language": "python",
     "metadata": {},
     "outputs": [],
     "prompt_number": 12
    },
    {
     "cell_type": "code",
     "collapsed": false,
     "input": [
      "results=[]\n",
      "for donnee in donnees:\n",
      "    if donnee.startswith(\"#\"):\n",
      "        results.append(donnee.strip())\n",
      "    else:\n",
      "        champs=donnee.strip().split(\";\")\n",
      "        champs[2]=recoder(champs[2],toipa)\n",
      "        champs[3]=recoder(champs[3],toipa)\n",
      "        results.append(\";\".join(champs))"
     ],
     "language": "python",
     "metadata": {},
     "outputs": [],
     "prompt_number": 13
    },
    {
     "cell_type": "code",
     "collapsed": false,
     "input": [
      "nomTXT=nomCSV.replace(\".csv\",\".txt\")\n",
      "with open(nomTXT, 'w') as file:\n",
      "    for result in results:\n",
      "        file.write(result+\"\\n\")"
     ],
     "language": "python",
     "metadata": {},
     "outputs": [],
     "prompt_number": 14
    },
    {
     "cell_type": "code",
     "collapsed": false,
     "input": [],
     "language": "python",
     "metadata": {},
     "outputs": [],
     "prompt_number": 14
    }
   ],
   "metadata": {}
  }
 ]
}
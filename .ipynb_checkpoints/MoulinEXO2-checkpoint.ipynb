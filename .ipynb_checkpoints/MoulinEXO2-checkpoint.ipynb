{
 "metadata": {
  "name": "",
  "signature": "sha256:66f7e17b054e9ed0b6c6dd1881bbf830f2e8a80bfd80e9ec34f3ddae7d3f77ac"
 },
 "nbformat": 3,
 "nbformat_minor": 0,
 "worksheets": [
  {
   "cells": [
    {
     "cell_type": "code",
     "collapsed": false,
     "input": [
      "#import re\n",
      "import sys, codecs, optparse, glob, os\n",
      "import string\n",
      "import random"
     ],
     "language": "python",
     "metadata": {},
     "outputs": []
    },
    {
     "cell_type": "code",
     "collapsed": false,
     "input": [
      "marksMoodle=[100,90,80,75,70,66.666,60,50,40,33.333,30,25,20,16.666,14.2857,12.5,11.111,10,5,0]\n",
      "def noteMoodle(note):\n",
      "    return min(marksMoodle, key=lambda x:abs(x-note))"
     ],
     "language": "python",
     "metadata": {},
     "outputs": [],
     "prompt_number": 106
    },
    {
     "cell_type": "code",
     "collapsed": false,
     "input": [
      "from os.path import expanduser\n",
      "home = expanduser(\"~\")\n",
      "repertoire=home+\"/Copy/Cours/Bordeaux/L1-UE1/Kalaba-14\"\n",
      "base=repertoire+\"/\"\n",
      "serie=\"Adjectifs\""
     ],
     "language": "python",
     "metadata": {},
     "outputs": [],
     "prompt_number": 38
    },
    {
     "cell_type": "code",
     "collapsed": false,
     "input": [
      "from MoodleXML import *\n",
      "import yaml"
     ],
     "language": "python",
     "metadata": {},
     "outputs": [],
     "prompt_number": 39
    },
    {
     "cell_type": "code",
     "collapsed": false,
     "input": [
      "yamlFichier=base+\"EXO2-14-Kalaba-\"+serie+\".yaml\"\n",
      "csvFichier=base+\"14-Kalaba-\"+serie+\".txt\"\n",
      "boolEX=False\n",
      "titreNoEX=True"
     ],
     "language": "python",
     "metadata": {},
     "outputs": [],
     "prompt_number": 40
    },
    {
     "cell_type": "code",
     "collapsed": false,
     "input": [
      "with open(yamlFichier, 'r') as stream:\n",
      "    configuration=yaml.load(stream)\n",
      "    \n",
      "with open(csvFichier, 'r') as file:\n",
      "    donneesLignes=file.readlines()"
     ],
     "language": "python",
     "metadata": {},
     "outputs": [],
     "prompt_number": 41
    },
    {
     "cell_type": "code",
     "collapsed": false,
     "input": [
      "def donneesEX():\n",
      "    titre=[]\n",
      "    result=\"\"\n",
      "    i=0\n",
      "    for ligne in donneesLignes:\n",
      "        i+=1\n",
      "        if ligne.startswith(\"#EX;\"):\n",
      "            if result!=\"\":\n",
      "                donnees.append({\"-\".join(titre):result})\n",
      "            titre=[]\n",
      "            result={\"boucle\":[],\"conclusion\":[]}\n",
      "            temp=ligne.strip().split(\";\")\n",
      "            if len(temp)>1 and temp[1]!=\"\":\n",
      "                result[\"conclusion\"]=temp[1:]\n",
      "        elif ligne.startswith(\"#\"):\n",
      "            pass\n",
      "        else:\n",
      "            temp=ligne.strip().split(\";\")\n",
      "            result[\"boucle\"].append(temp)\n",
      "            titre.append(makeChamps(configuration[u\"Titre\"],temp).encode('utf8'))\n",
      "    donnees.append({\"-\".join(titre):result})\n",
      "\n",
      "def donneesNoEX():\n",
      "    if titreNoEX:\n",
      "        debut=1\n",
      "    else:\n",
      "        debut=0\n",
      "    for ligne in donneesLignes[debut:]:\n",
      "        if not (ligne.strip().strip(\";\")==\"\" or ligne.startswith(\"#\")):\n",
      "            temp=ligne.strip().split(\";\")\n",
      "            result={\"boucle\":[temp],\"conclusion\":[]}\n",
      "            titre=makeChamps(configuration[u\"Titre\"],temp).encode('utf8')\n",
      "            donnees.append({titre:result})\n",
      "\n",
      "donnees=[]\n",
      "if boolEX or donneesLignes[0].startswith(\"#EX;\"):\n",
      "#    print \"avec #EX;\"\n",
      "    donneesEX()\n",
      "else:\n",
      "#    print \"sans #EX;\"\n",
      "    donneesNoEX()"
     ],
     "language": "python",
     "metadata": {},
     "outputs": [],
     "prompt_number": 42
    },
    {
     "cell_type": "code",
     "collapsed": false,
     "input": [
      "categorie=configuration[u\"Cat\u00e9gorie\"]\n",
      "#donnees=configuration[u\"Donn\u00e9es\"]\n",
      "consigne=configuration[u\"Boucle\"][u\"contenu\"]\n",
      "boucleWrap=[configuration[u\"Boucle\"][u\"d\u00e9but\"],configuration[u\"Boucle\"][\"fin\"]]\n",
      "boucleCLOZE=configuration[u\"Boucle\"][u\"Cloze\"]\n",
      "globalWrap=[configuration[u\"Global\"][u\"d\u00e9but\"],configuration[u\"Global\"][\"fin\"]]\n",
      "if \"Conclusion\" in configuration:\n",
      "    conclusion=[configuration[u\"Conclusion\"][u\"d\u00e9but\"],configuration[u\"Conclusion\"][\"contenu\"],configuration[u\"Conclusion\"][\"fin\"]]\n",
      "    conclusionCLOZE=configuration[u\"Conclusion\"][u\"Cloze\"]\n",
      "else:\n",
      "    conclusion=[\"\",\"\",\"\"]\n",
      "    conclusionCLOZE=[]\n",
      "questions=XMLClozes(categorie)\n",
      "questionsConsigne=ClozeConsigne(consigne,boucleWrap=boucleWrap,globalWrap=globalWrap,conclusion=conclusion)\n",
      "serie=ClozeSerie(configuration[u\"Boucle\"][u\"Cloze\"],conclusionCLOZE)"
     ],
     "language": "python",
     "metadata": {},
     "outputs": [],
     "prompt_number": 43
    },
    {
     "cell_type": "code",
     "collapsed": false,
     "input": [
      "for exercices in donnees:\n",
      "#    print \"exercices\",exercices\n",
      "    for exercice in exercices:\n",
      "#        print \"exercice\",exercice\n",
      "        exerciceBoucle=exercices[exercice][\"boucle\"]\n",
      "        exerciceConclusion=exercices[exercice][\"conclusion\"]\n",
      "        serie.addExercice(Exercice(exerciceBoucle,exerciceConclusion,exercice.decode('utf8')))"
     ],
     "language": "python",
     "metadata": {},
     "outputs": [],
     "prompt_number": 44
    },
    {
     "cell_type": "code",
     "collapsed": false,
     "input": [
      "for exercice in serie.makeSerie(questionsConsigne):\n",
      "    questions.addExercice(exercice)"
     ],
     "language": "python",
     "metadata": {},
     "outputs": [],
     "prompt_number": 45
    },
    {
     "cell_type": "code",
     "collapsed": false,
     "input": [
      "xmlOutput=MoodleXML()\n",
      "xmlOutput.addQuiz(questions.getClozes())"
     ],
     "language": "python",
     "metadata": {},
     "outputs": [],
     "prompt_number": 46
    },
    {
     "cell_type": "code",
     "collapsed": false,
     "input": [
      "xmlFichier=csvFichier.split(\".\")[0]+\".xml\""
     ],
     "language": "python",
     "metadata": {},
     "outputs": [],
     "prompt_number": 47
    },
    {
     "cell_type": "code",
     "collapsed": false,
     "input": [
      "with codecs.open(xmlFichier, 'w',\"utf8\") as output:\n",
      "#    print [questions.getClozes()]\n",
      "    output.write(xmlOutput.getXML())"
     ],
     "language": "python",
     "metadata": {},
     "outputs": [],
     "prompt_number": 48
    }
   ],
   "metadata": {}
  }
 ]
}
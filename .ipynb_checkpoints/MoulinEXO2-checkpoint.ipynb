{
 "metadata": {
  "name": "",
  "signature": "sha256:c2addf4f8e7b6b535d8787b187e68031fe6fd456645cab7b94ff2607bdf154f4"
 },
 "nbformat": 3,
 "nbformat_minor": 0,
 "worksheets": [
  {
   "cells": [
    {
     "cell_type": "code",
     "collapsed": false,
     "input": [
      "#import re\n",
      "import sys, codecs, optparse, glob, os\n",
      "import string\n",
      "import random"
     ],
     "language": "python",
     "metadata": {},
     "outputs": [],
     "prompt_number": 1
    },
    {
     "cell_type": "code",
     "collapsed": false,
     "input": [
      "from MoodleXML import *\n",
      "import yaml"
     ],
     "language": "python",
     "metadata": {},
     "outputs": [],
     "prompt_number": 2
    },
    {
     "cell_type": "code",
     "collapsed": false,
     "input": [
      "with open(\"EXO2-Morpho.yaml\", 'r') as stream:\n",
      "    configuration=yaml.load(stream)\n",
      "    \n",
      "with open(\"EXO2-Morpho.txt\", 'r') as file:\n",
      "    donneesLignes=file.readlines()"
     ],
     "language": "python",
     "metadata": {},
     "outputs": [],
     "prompt_number": 3
    },
    {
     "cell_type": "code",
     "collapsed": false,
     "input": [
      "donnees=[]\n",
      "titre=[]\n",
      "result=\"\"\n",
      "i=0\n",
      "for ligne in donneesLignes:\n",
      "    i+=1\n",
      "    if ligne.startswith(\"#EX;\"):\n",
      "        if result!=\"\":\n",
      "            donnees.append({\"-\".join(titre):result})\n",
      "        titre=[]\n",
      "        result={\"boucle\":[],\"conclusion\":[]}\n",
      "        temp=ligne.strip().split(\";\")\n",
      "        if len(temp)>1 and temp[1]!=\"\":\n",
      "            result[\"conclusion\"]=temp[1:]\n",
      "    elif ligne.startswith(\"#\"):\n",
      "        pass\n",
      "    else:\n",
      "        temp=ligne.strip().split(\";\")\n",
      "        result[\"boucle\"].append(temp)\n",
      "        titre.append(temp[0])\n",
      "donnees.append({\"-\".join(titre):result})"
     ],
     "language": "python",
     "metadata": {},
     "outputs": [],
     "prompt_number": 8
    },
    {
     "cell_type": "code",
     "collapsed": false,
     "input": [
      "categorie=configuration[u\"Cat\u00e9gorie\"]\n",
      "#donnees=configuration[u\"Donn\u00e9es\"]\n",
      "consigne=configuration[u\"Boucle\"][u\"contenu\"]\n",
      "boucleWrap=[configuration[u\"Boucle\"][u\"d\u00e9but\"],configuration[u\"Boucle\"][\"fin\"]]\n",
      "boucleCLOZE=configuration[u\"Boucle\"][u\"Cloze\"]\n",
      "globalWrap=[configuration[u\"Global\"][u\"d\u00e9but\"],configuration[u\"Global\"][\"fin\"]]\n",
      "conclusion=[configuration[u\"Conclusion\"][u\"d\u00e9but\"],configuration[u\"Conclusion\"][\"contenu\"],configuration[u\"Conclusion\"][\"fin\"]]\n",
      "conclusionCLOZE=configuration[u\"Conclusion\"][u\"Cloze\"]\n",
      "\n",
      "questions=XMLClozes(categorie)\n",
      "questionsConsigne=ClozeConsigne(consigne,boucleWrap=boucleWrap,globalWrap=globalWrap,conclusion=conclusion)\n",
      "serie=ClozeSerie(configuration[u\"Boucle\"][u\"Cloze\"],configuration[u\"Conclusion\"][u\"Cloze\"])"
     ],
     "language": "python",
     "metadata": {},
     "outputs": [],
     "prompt_number": 9
    },
    {
     "cell_type": "code",
     "collapsed": false,
     "input": [
      "serie.mcConclusions"
     ],
     "language": "python",
     "metadata": {},
     "outputs": [
      {
       "metadata": {},
       "output_type": "pyout",
       "prompt_number": 10,
       "text": [
        "[0, 1]"
       ]
      }
     ],
     "prompt_number": 10
    },
    {
     "cell_type": "code",
     "collapsed": false,
     "input": [
      "for exercices in donnees:\n",
      "    for exercice in exercices:\n",
      "        exerciceBoucle=exercices[exercice][\"boucle\"]\n",
      "        exerciceConclusion=exercices[exercice][\"conclusion\"]\n",
      "        serie.addExercice((exerciceBoucle,exerciceConclusion))\n",
      "#print questions.getClozes()\n",
      "#print questions.boucles\n",
      "#print questions.conclusions"
     ],
     "language": "python",
     "metadata": {},
     "outputs": [
      {
       "output_type": "stream",
       "stream": "stdout",
       "text": [
        "[['POMMIER', 'POMME', 'N', 'N.M', 'radical+je', 'arbre qui produit des BASES'], ['POMPIER', 'POMPE', 'N', 'N.M', 'radical+je', 'm\\xc3\\xa9tier en rapport avec la BASE']] ['la phonologie', 'la s\\xc3\\xa9mantique']\n",
        "[['POISSONIER', 'POISSON', 'N', 'N.M', 'radical+je', 'm\\xc3\\xa9tier en rapport avec la BASE'], ['GARAGISTE', 'GARAGE', 'N', 'N', 'radical+ist', 'm\\xc3\\xa9tier en rapport avec la BASE']] ['la s\\xc3\\xa9mantique', 'la phonologie']\n",
        "[['POMPISTE', 'POMPE', 'N', 'N', 'radical+ist', 'm\\xc3\\xa9tier en rapport avec la BASE'], ['MANGEABLE', 'MANGER', 'V', 'Adj', 'radical.IMPF+abl', 'qui peut \\xc3\\xaatre BAS\\xc3\\x89']] ['rien', 'tout']\n",
        "[['TRAITABLE', 'TRAITER', 'V', 'Adj', 'radical.IMPF+abl', 'qui peut \\xc3\\xaatre BAS\\xc3\\x89'], ['INTRAITABLE', 'TRAITABLE', 'Adj', 'Adj', '\\xc9\\x9b\\xcc\\x83+radical', \"qui n'est pas BASE\"]] ['rien', 'tout']\n",
        "[['IMMANGEABLE', 'MANGEABLE', 'Adj', 'Adj', '\\xc9\\x9b\\xcc\\x83+radical', \"qui n'est pas BASE\"], ['INCONNU', 'CONNU', 'Adj', 'Adj', '\\xc9\\x9b\\xcc\\x83+radical', \"qui n'est pas BASE\"]] ['tout', 'rien']\n",
        "[['MONTEUR', 'MONTER', 'V', 'N.M', 'radical.IMPF+\\xc5\\x93r', 'Agent ou Instrument de BASER'], ['BATTEUSE', 'BATTRE', 'V', 'N.F', 'radical.IMPF+\\xc3\\xb8z', 'Agent ou Instrument de BASER']] ['la s\\xc3\\xa9mantique', 'la phonologie']\n",
        "[['DRESSAGE', 'DRESSER', 'V', 'N.M', 'radical.IMPF+a\\xca\\x92', 'action de BASER'], ['JARDINET', 'JARDIN', 'N.M', 'N.M', 'radical+\\xc9\\x9b', 'diminutif de BASE']] ['rien', 'tout']\n",
        "[['MAISONNETTE', 'MAISON', 'N.F', 'N.F', 'radical+\\xc9\\x9bt', 'diminutif de BASE'], ['CACHETTE', 'CACHE', 'N.F', 'N.F', 'radical+\\xc9\\x9bt', 'diminutif de BASE']] ['tout', 'rien']\n",
        "[['ROBUSTESSE', 'ROBUSTE', 'Adj', 'N.F', 'radical.F+\\xc9\\x9bs', \"propri\\xc3\\xa9t\\xc3\\xa9 d'\\xc3\\xaatre BASE\"], ['TENDRESSE', 'TENDRE', 'Adj', 'N.F', 'radical.F+\\xc9\\x9bs', \"propri\\xc3\\xa9t\\xc3\\xa9 d'\\xc3\\xaatre BASE\"]] ['tout', 'rien']\n",
        "[['PETITESSE', 'PETIT', 'Adj', 'N.F', 'radical.F+\\xc9\\x9bs', \"propri\\xc3\\xa9t\\xc3\\xa9 d'\\xc3\\xaatre BASE\"], ['GRANDEUR', 'GRAND', 'Adj', 'N.F', 'radical.F+\\xc5\\x93r', \"propri\\xc3\\xa9t\\xc3\\xa9 d'\\xc3\\xaatre BASE\"]] ['la s\\xc3\\xa9mantique', 'la phonologie']\n",
        "[['HAUTEUR', 'HAUT', 'Adj', 'N.F', 'radical.F+\\xc5\\x93r', \"propri\\xc3\\xa9t\\xc3\\xa9 d'\\xc3\\xaatre BASE\"], ['OURSON', 'OURS', 'N', 'N.M', 'radical+\\xc9\\x94\\xcc\\x83', 'petit de BASE']] ['rien', 'tout']\n",
        "[['GIRAFON', 'GIRAFE', 'N', 'N.M', 'radical+\\xc9\\x94\\xcc\\x83', 'petit de BASE'], ['BASKETTEUR', 'BASKET', 'N', 'N.M', 'radical+\\xc5\\x93r', 'sportif qui pratique la BASE']] ['rien', 'tout']\n",
        "[['ESCRIMEUR', 'ESCRIME', 'N', 'N.M', 'radical+\\xc5\\x93r', 'sportif qui pratique la BASE'], ['POURSUITEUR', 'POURSUITE', 'N', 'N.M', 'radical+\\xc5\\x93r', 'sportif qui pratique la BASE']] ['tout', 'rien']\n",
        "[['PICOTEMENT', 'PICOTER', 'V', 'N.M', 'radical.IMPF+m\\xc9\\x91\\xcc\\x83', 'r\\xc3\\xa9sultat de BASER'], ['REDRESSEMENT', 'REDRESSER', 'V', 'N.M', 'radical.IMPF+m\\xc9\\x91\\xcc\\x83', 'r\\xc3\\xa9sultat de BASER']] ['tout', 'rien']\n",
        "[['BANALISER', 'BANAL', 'Adj', 'V', 'radical.F+iz', 'rendre BASE']] []\n"
       ]
      },
      {
       "ename": "IndexError",
       "evalue": "list index out of range",
       "output_type": "pyerr",
       "traceback": [
        "\u001b[0;31m---------------------------------------------------------------------------\u001b[0m\n\u001b[0;31mIndexError\u001b[0m                                Traceback (most recent call last)",
        "\u001b[0;32m<ipython-input-11-80edbd919a7f>\u001b[0m in \u001b[0;36m<module>\u001b[0;34m()\u001b[0m\n\u001b[1;32m      3\u001b[0m         \u001b[0mexerciceBoucle\u001b[0m\u001b[0;34m=\u001b[0m\u001b[0mexercices\u001b[0m\u001b[0;34m[\u001b[0m\u001b[0mexercice\u001b[0m\u001b[0;34m]\u001b[0m\u001b[0;34m[\u001b[0m\u001b[0;34m\"boucle\"\u001b[0m\u001b[0;34m]\u001b[0m\u001b[0;34m\u001b[0m\u001b[0m\n\u001b[1;32m      4\u001b[0m         \u001b[0mexerciceConclusion\u001b[0m\u001b[0;34m=\u001b[0m\u001b[0mexercices\u001b[0m\u001b[0;34m[\u001b[0m\u001b[0mexercice\u001b[0m\u001b[0;34m]\u001b[0m\u001b[0;34m[\u001b[0m\u001b[0;34m\"conclusion\"\u001b[0m\u001b[0;34m]\u001b[0m\u001b[0;34m\u001b[0m\u001b[0m\n\u001b[0;32m----> 5\u001b[0;31m         \u001b[0mserie\u001b[0m\u001b[0;34m.\u001b[0m\u001b[0maddExercice\u001b[0m\u001b[0;34m(\u001b[0m\u001b[0;34m(\u001b[0m\u001b[0mexerciceBoucle\u001b[0m\u001b[0;34m,\u001b[0m\u001b[0mexerciceConclusion\u001b[0m\u001b[0;34m)\u001b[0m\u001b[0;34m)\u001b[0m\u001b[0;34m\u001b[0m\u001b[0m\n\u001b[0m\u001b[1;32m      6\u001b[0m \u001b[0;31m#print questions.getClozes()\u001b[0m\u001b[0;34m\u001b[0m\u001b[0;34m\u001b[0m\u001b[0m\n\u001b[1;32m      7\u001b[0m \u001b[0;31m#print questions.boucles\u001b[0m\u001b[0;34m\u001b[0m\u001b[0;34m\u001b[0m\u001b[0m\n",
        "\u001b[0;32m/Users/gilles/Copy/Python/workspace/eCloze/MoodleXML.pyc\u001b[0m in \u001b[0;36maddExercice\u001b[0;34m(self, exercice)\u001b[0m\n\u001b[1;32m     96\u001b[0m             \u001b[0;32mif\u001b[0m \u001b[0;32mnot\u001b[0m \u001b[0mindex\u001b[0m \u001b[0;32min\u001b[0m \u001b[0mself\u001b[0m\u001b[0;34m.\u001b[0m\u001b[0mreponsesConclusions\u001b[0m\u001b[0;34m:\u001b[0m\u001b[0;34m\u001b[0m\u001b[0m\n\u001b[1;32m     97\u001b[0m                 \u001b[0mself\u001b[0m\u001b[0;34m.\u001b[0m\u001b[0mreponsesConclusions\u001b[0m\u001b[0;34m[\u001b[0m\u001b[0mindex\u001b[0m\u001b[0;34m]\u001b[0m\u001b[0;34m=\u001b[0m\u001b[0mset\u001b[0m\u001b[0;34m(\u001b[0m\u001b[0;34m)\u001b[0m\u001b[0;34m\u001b[0m\u001b[0m\n\u001b[0;32m---> 98\u001b[0;31m             \u001b[0mself\u001b[0m\u001b[0;34m.\u001b[0m\u001b[0mreponsesConclusions\u001b[0m\u001b[0;34m[\u001b[0m\u001b[0mindex\u001b[0m\u001b[0;34m]\u001b[0m\u001b[0;34m.\u001b[0m\u001b[0madd\u001b[0m\u001b[0;34m(\u001b[0m\u001b[0mconclusion\u001b[0m\u001b[0;34m[\u001b[0m\u001b[0mindex\u001b[0m\u001b[0;34m]\u001b[0m\u001b[0;34m)\u001b[0m\u001b[0;34m\u001b[0m\u001b[0m\n\u001b[0m\u001b[1;32m     99\u001b[0m \u001b[0;34m\u001b[0m\u001b[0m\n\u001b[1;32m    100\u001b[0m     \u001b[0;32mdef\u001b[0m \u001b[0mmakeSerie\u001b[0m\u001b[0;34m(\u001b[0m\u001b[0mself\u001b[0m\u001b[0;34m)\u001b[0m\u001b[0;34m:\u001b[0m\u001b[0;34m\u001b[0m\u001b[0m\n",
        "\u001b[0;31mIndexError\u001b[0m: list index out of range"
       ]
      }
     ],
     "prompt_number": 11
    },
    {
     "cell_type": "code",
     "collapsed": false,
     "input": [
      "serie.reponsesBoucles"
     ],
     "language": "python",
     "metadata": {},
     "outputs": [
      {
       "metadata": {},
       "output_type": "pyout",
       "prompt_number": 8,
       "text": [
        "{2: {u'activit\\xe9 en rapport avec BASE', 'agent de BASE', 'arbre de BASE'}}"
       ]
      }
     ],
     "prompt_number": 8
    },
    {
     "cell_type": "code",
     "collapsed": false,
     "input": [],
     "language": "python",
     "metadata": {},
     "outputs": [],
     "prompt_number": 8
    }
   ],
   "metadata": {}
  }
 ]
}
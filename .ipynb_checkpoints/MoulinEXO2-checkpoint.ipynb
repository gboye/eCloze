{
 "metadata": {
  "name": "",
  "signature": "sha256:d30b72ede8d42b28e1da3bf3f2adbedace3e0a1a7b8ff83bbc5ffc5d0441bf7f"
 },
 "nbformat": 3,
 "nbformat_minor": 0,
 "worksheets": [
  {
   "cells": [
    {
     "cell_type": "code",
     "collapsed": false,
     "input": [
      "#import re\n",
      "import sys, codecs, optparse, glob, os\n",
      "import string\n",
      "import random"
     ],
     "language": "python",
     "metadata": {},
     "outputs": [],
     "prompt_number": 14
    },
    {
     "cell_type": "code",
     "collapsed": false,
     "input": [
      "dossier=\"/Copy/Cours/Bordeaux/L1-UE1/Kalaba-14\"\n",
      "serie=\"Adjectifs\""
     ],
     "language": "python",
     "metadata": {},
     "outputs": [],
     "prompt_number": 15
    },
    {
     "cell_type": "code",
     "collapsed": false,
     "input": [
      "from os.path import expanduser\n",
      "home = expanduser(\"~\")\n",
      "repertoire=home+dossier\n",
      "base=repertoire+\"/\""
     ],
     "language": "python",
     "metadata": {},
     "outputs": [],
     "prompt_number": 16
    },
    {
     "cell_type": "code",
     "collapsed": false,
     "input": [
      "from MoodleXML import *\n",
      "import yaml"
     ],
     "language": "python",
     "metadata": {},
     "outputs": [],
     "prompt_number": 17
    },
    {
     "cell_type": "code",
     "collapsed": false,
     "input": [
      "yamlFichier=base+\"EXO2-14-Kalaba-\"+serie+\"-Morphes.yaml\"\n",
      "csvFichier=base+\"14-Kalaba-\"+serie+\".txt\"\n",
      "boolEX=False\n",
      "titreNoEX=True"
     ],
     "language": "python",
     "metadata": {},
     "outputs": [],
     "prompt_number": 18
    },
    {
     "cell_type": "code",
     "collapsed": false,
     "input": [
      "with open(yamlFichier, 'r') as stream:\n",
      "    configuration=yaml.load(stream)\n",
      "    \n",
      "with open(csvFichier, 'r') as file:\n",
      "    donneesLignes=file.readlines()"
     ],
     "language": "python",
     "metadata": {},
     "outputs": [],
     "prompt_number": 19
    },
    {
     "cell_type": "code",
     "collapsed": false,
     "input": [
      "def donneesEX():\n",
      "    titre=[]\n",
      "    result=\"\"\n",
      "    i=0\n",
      "    for ligne in donneesLignes:\n",
      "        i+=1\n",
      "        if ligne.startswith(\"#EX;\"):\n",
      "            if result!=\"\":\n",
      "                donnees.append({\"-\".join(titre):result})\n",
      "            titre=[]\n",
      "            result={\"boucle\":[],\"conclusion\":[]}\n",
      "            temp=ligne.strip().split(\";\")\n",
      "            if len(temp)>1 and temp[1]!=\"\":\n",
      "                result[\"conclusion\"]=temp[1:]\n",
      "        elif ligne.startswith(\"#\"):\n",
      "            pass\n",
      "        else:\n",
      "            temp=ligne.strip().split(\";\")\n",
      "            result[\"boucle\"].append(temp)\n",
      "            titre.append(makeChamps(configuration[u\"Titre\"],temp).encode('utf8'))\n",
      "    donnees.append({\"-\".join(titre):result})\n",
      "\n",
      "def donneesNoEX():\n",
      "    if titreNoEX:\n",
      "        debut=1\n",
      "    else:\n",
      "        debut=0\n",
      "    for ligne in donneesLignes[debut:]:\n",
      "        if not (ligne.strip().strip(\";\")==\"\" or ligne.startswith(\"#\")):\n",
      "            temp=ligne.strip().split(\";\")\n",
      "            result={\"boucle\":[temp],\"conclusion\":[]}\n",
      "            titre=makeChamps(configuration[u\"Titre\"],temp).encode('utf8')\n",
      "            donnees.append({titre:result})\n",
      "\n",
      "donnees=[]\n",
      "if boolEX or donneesLignes[0].startswith(\"#EX;\"):\n",
      "#    print \"avec #EX;\"\n",
      "    donneesEX()\n",
      "else:\n",
      "#    print \"sans #EX;\"\n",
      "    donneesNoEX()"
     ],
     "language": "python",
     "metadata": {},
     "outputs": [],
     "prompt_number": 20
    },
    {
     "cell_type": "code",
     "collapsed": false,
     "input": [
      "categorie=configuration[u\"Cat\u00e9gorie\"]\n",
      "#donnees=configuration[u\"Donn\u00e9es\"]\n",
      "consigne=configuration[u\"Boucle\"][u\"contenu\"]\n",
      "boucleWrap=[configuration[u\"Boucle\"][u\"d\u00e9but\"],configuration[u\"Boucle\"][\"fin\"]]\n",
      "boucleCLOZE=configuration[u\"Boucle\"][u\"Cloze\"]\n",
      "globalWrap=[configuration[u\"Global\"][u\"d\u00e9but\"],configuration[u\"Global\"][\"fin\"]]\n",
      "if \"Conclusion\" in configuration:\n",
      "    conclusion=[configuration[u\"Conclusion\"][u\"d\u00e9but\"],configuration[u\"Conclusion\"][\"contenu\"],configuration[u\"Conclusion\"][\"fin\"]]\n",
      "    conclusionCLOZE=configuration[u\"Conclusion\"][u\"Cloze\"]\n",
      "else:\n",
      "    conclusion=[\"\",\"\",\"\"]\n",
      "    conclusionCLOZE=[]\n",
      "questions=XMLClozes(categorie)\n",
      "questionsConsigne=ClozeConsigne(consigne,boucleWrap=boucleWrap,globalWrap=globalWrap,conclusion=conclusion)\n",
      "serie=ClozeSerie(configuration[u\"Boucle\"][u\"Cloze\"],conclusionCLOZE)"
     ],
     "language": "python",
     "metadata": {},
     "outputs": [],
     "prompt_number": 21
    },
    {
     "cell_type": "code",
     "collapsed": false,
     "input": [
      "for exercices in donnees:\n",
      "#    print \"exercices\",exercices\n",
      "    for exercice in exercices:\n",
      "#        print \"exercice\",exercice\n",
      "        exerciceBoucle=exercices[exercice][\"boucle\"]\n",
      "        exerciceConclusion=exercices[exercice][\"conclusion\"]\n",
      "        serie.addExercice(Exercice(exerciceBoucle,exerciceConclusion,exercice.decode('utf8')))"
     ],
     "language": "python",
     "metadata": {},
     "outputs": [],
     "prompt_number": 22
    },
    {
     "cell_type": "code",
     "collapsed": false,
     "input": [
      "for exercice in serie.makeSerie(questionsConsigne):\n",
      "    questions.addExercice(exercice)"
     ],
     "language": "python",
     "metadata": {},
     "outputs": [],
     "prompt_number": 23
    },
    {
     "cell_type": "code",
     "collapsed": false,
     "input": [
      "xmlOutput=MoodleXML()\n",
      "xmlOutput.addQuiz(questions.getClozes())"
     ],
     "language": "python",
     "metadata": {},
     "outputs": [],
     "prompt_number": 24
    },
    {
     "cell_type": "code",
     "collapsed": false,
     "input": [
      "xmlFichier=yamlFichier.split(\".\")[0]+\".xml\""
     ],
     "language": "python",
     "metadata": {},
     "outputs": [],
     "prompt_number": 25
    },
    {
     "cell_type": "code",
     "collapsed": false,
     "input": [
      "with codecs.open(xmlFichier, 'w',\"utf8\") as output:\n",
      "#    print [questions.getClozes()]\n",
      "    output.write(xmlOutput.getXML())"
     ],
     "language": "python",
     "metadata": {},
     "outputs": [],
     "prompt_number": 26
    },
    {
     "cell_type": "code",
     "collapsed": false,
     "input": [],
     "language": "python",
     "metadata": {},
     "outputs": [],
     "prompt_number": 26
    }
   ],
   "metadata": {}
  }
 ]
}
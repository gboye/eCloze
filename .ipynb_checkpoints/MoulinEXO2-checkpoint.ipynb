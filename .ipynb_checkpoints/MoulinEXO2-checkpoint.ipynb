{
 "metadata": {
  "name": "",
  "signature": "sha256:3c5df84dbf92ffb7080ba6ca51a7d62a7126b7389e72c78ac6581127ebf20f91"
 },
 "nbformat": 3,
 "nbformat_minor": 0,
 "worksheets": [
  {
   "cells": [
    {
     "cell_type": "code",
     "collapsed": false,
     "input": [
      "#import re\n",
      "import sys, codecs, optparse, glob, os\n",
      "import string\n",
      "import random"
     ],
     "language": "python",
     "metadata": {},
     "outputs": [],
     "prompt_number": 1
    },
    {
     "cell_type": "code",
     "collapsed": false,
     "input": [
      "from MoodleXML import *\n",
      "import yaml"
     ],
     "language": "python",
     "metadata": {},
     "outputs": [],
     "prompt_number": 2
    },
    {
     "cell_type": "code",
     "collapsed": false,
     "input": [
      "with open(\"EXO2-Morpho.yaml\", 'r') as stream:\n",
      "    configuration=yaml.load(stream)\n",
      "    \n",
      "with open(\"EXO2-Morpho.txt\", 'r') as file:\n",
      "    donneesLignes=file.readlines()"
     ],
     "language": "python",
     "metadata": {},
     "outputs": [],
     "prompt_number": 3
    },
    {
     "cell_type": "code",
     "collapsed": false,
     "input": [
      "donnees=[]\n",
      "titre=[]\n",
      "result=\"\"\n",
      "i=0\n",
      "for ligne in donneesLignes:\n",
      "    i+=1\n",
      "    if ligne.startswith(\"#EX;\"):\n",
      "        if result!=\"\":\n",
      "            donnees.append({\"-\".join(titre):result})\n",
      "        titre=[]\n",
      "        result={\"boucle\":[],\"conclusion\":[]}\n",
      "        temp=ligne.strip().split(\";\")\n",
      "        if len(temp)>1 and temp[1]!=\"\":\n",
      "            result[\"conclusion\"]=temp[1:]\n",
      "    elif ligne.startswith(\"#\"):\n",
      "        pass\n",
      "    else:\n",
      "        temp=ligne.strip().split(\";\")\n",
      "        result[\"boucle\"].append(temp)\n",
      "        titre.append(temp[0])\n",
      "donnees.append({\"-\".join(titre):result})"
     ],
     "language": "python",
     "metadata": {},
     "outputs": [],
     "prompt_number": 4
    },
    {
     "cell_type": "code",
     "collapsed": false,
     "input": [
      "categorie=configuration[u\"Cat\u00e9gorie\"]\n",
      "#donnees=configuration[u\"Donn\u00e9es\"]\n",
      "consigne=configuration[u\"Boucle\"][u\"contenu\"]\n",
      "boucleWrap=[configuration[u\"Boucle\"][u\"d\u00e9but\"],configuration[u\"Boucle\"][\"fin\"]]\n",
      "boucleCLOZE=configuration[u\"Boucle\"][u\"Cloze\"]\n",
      "globalWrap=[configuration[u\"Global\"][u\"d\u00e9but\"],configuration[u\"Global\"][\"fin\"]]\n",
      "conclusion=[configuration[u\"Conclusion\"][u\"d\u00e9but\"],configuration[u\"Conclusion\"][\"contenu\"],configuration[u\"Conclusion\"][\"fin\"]]\n",
      "conclusionCLOZE=configuration[u\"Conclusion\"][u\"Cloze\"]\n",
      "\n",
      "questions=XMLClozes(categorie)\n",
      "questionsConsigne=ClozeConsigne(consigne,boucleWrap=boucleWrap,globalWrap=globalWrap,conclusion=conclusion)\n",
      "serie=ClozeSerie(configuration[u\"Boucle\"][u\"Cloze\"],configuration[u\"Conclusion\"][u\"Cloze\"])"
     ],
     "language": "python",
     "metadata": {},
     "outputs": [],
     "prompt_number": 5
    },
    {
     "cell_type": "code",
     "collapsed": false,
     "input": [
      "for exercices in donnees:\n",
      "    for exercice in exercices:\n",
      "        exerciceBoucle=exercices[exercice][\"boucle\"]\n",
      "        exerciceConclusion=exercices[exercice][\"conclusion\"]\n",
      "        serie.addExercice(Exercice(exerciceBoucle,exerciceConclusion))"
     ],
     "language": "python",
     "metadata": {},
     "outputs": [],
     "prompt_number": 6
    },
    {
     "cell_type": "code",
     "collapsed": false,
     "input": [
      "for corpsExercice in serie.makeSerie(questionsConsigne):\n",
      "    questions.addExercice(ClozeExercice(\"titre\",corpsExercice))"
     ],
     "language": "python",
     "metadata": {},
     "outputs": [],
     "prompt_number": 7
    },
    {
     "cell_type": "code",
     "collapsed": false,
     "input": [
      "with codecs.open(\"EXO2-Morpho.xml\", 'w',\"utf8\") as output:\n",
      "#    print [questions.getClozes()]\n",
      "    output.write(questions.getClozes())"
     ],
     "language": "python",
     "metadata": {},
     "outputs": [],
     "prompt_number": 8
    },
    {
     "cell_type": "code",
     "collapsed": false,
     "input": [],
     "language": "python",
     "metadata": {},
     "outputs": [],
     "prompt_number": 8
    }
   ],
   "metadata": {}
  }
 ]
}
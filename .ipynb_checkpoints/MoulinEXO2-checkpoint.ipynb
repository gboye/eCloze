{
 "cells": [
  {
   "cell_type": "code",
   "execution_count": 1,
   "metadata": {
    "collapsed": false
   },
   "outputs": [],
   "source": [
    "#import re\n",
    "import sys, codecs, optparse, glob, os\n",
    "import string\n",
    "import random"
   ]
  },
  {
   "cell_type": "code",
   "execution_count": 2,
   "metadata": {
    "collapsed": false
   },
   "outputs": [],
   "source": [
    "dossier=\"/Copy/Cours/Bordeaux/L1-UE1/Kalaba-15/04-Ergatif\"\n",
    "enonce=\"Theme\"\n",
    "theme=\"Traductions\""
   ]
  },
  {
   "cell_type": "code",
   "execution_count": 3,
   "metadata": {
    "collapsed": false
   },
   "outputs": [],
   "source": [
    "dossier=\"/ownCloud/Python/Moodle/Cloze/Cloze-Template/Morphologie\"\n",
    "enonce=\"Entrainement\"\n",
    "theme=\"Cloze-Constructions-160302\"\n",
    "csv=enonce\n",
    "extensionCSV=\".csv\""
   ]
  },
  {
   "cell_type": "code",
   "execution_count": 4,
   "metadata": {
    "collapsed": false
   },
   "outputs": [],
   "source": [
    "from os.path import expanduser\n",
    "home = expanduser(\"~\")\n",
    "repertoire=home+dossier\n",
    "base=repertoire+\"/\""
   ]
  },
  {
   "cell_type": "code",
   "execution_count": 5,
   "metadata": {
    "collapsed": false
   },
   "outputs": [],
   "source": [
    "from ToolsMoodleXML import *\n",
    "import ToolsMoodleXML\n",
    "import yaml"
   ]
  },
  {
   "cell_type": "code",
   "execution_count": 6,
   "metadata": {
    "collapsed": false
   },
   "outputs": [],
   "source": [
    "yamlFichier=base+theme+\"-\"+enonce+\".yaml\"\n",
    "csvFichier=base+theme+\"-\"+csv+extensionCSV\n",
    "boolEX=False\n",
    "titreNoEX=False"
   ]
  },
  {
   "cell_type": "code",
   "execution_count": 7,
   "metadata": {
    "collapsed": true
   },
   "outputs": [],
   "source": [
    "with open(yamlFichier, 'r') as stream:\n",
    "    configuration=yaml.load(stream)\n",
    "    \n",
    "with open(csvFichier, 'r') as file:\n",
    "    donneesLignes=file.readlines()\n",
    "    "
   ]
  },
  {
   "cell_type": "code",
   "execution_count": 8,
   "metadata": {
    "collapsed": false
   },
   "outputs": [],
   "source": [
    "ToolsMoodleXML.penalite=configuration[u\"Pénalité\"]\n",
    "ToolsMoodleXML.maxChoix=configuration[\"NbChoix\"]-1 #maxChoix alternatives à la solution pour avoir NbChoix en tout"
   ]
  },
  {
   "cell_type": "code",
   "execution_count": 9,
   "metadata": {
    "collapsed": false
   },
   "outputs": [],
   "source": [
    "def donneesEX():\n",
    "    titre=[]\n",
    "    result=\"\"\n",
    "    i=0\n",
    "    for ligne in donneesLignes:\n",
    "        i+=1\n",
    "        if ligne.startswith(\"#EX;\"):\n",
    "            if result!=\"\":\n",
    "                donnees.append({\"-\".join(titre):result})\n",
    "            titre=[]\n",
    "            result={\"boucle\":[],\"conclusion\":[]}\n",
    "            temp=ligne.strip().split(\";\")\n",
    "            if len(temp)>1 and temp[1]!=\"\":\n",
    "                result[\"conclusion\"]=temp[1:]\n",
    "        elif ligne.startswith(\"#\"):\n",
    "            pass\n",
    "        else:\n",
    "            temp=ligne.strip().split(\";\")\n",
    "            result[\"boucle\"].append(temp)\n",
    "            titre.append(makeChamps(configuration[u\"Titre\"],temp).encode('utf8'))\n",
    "    donnees.append({\"-\".join(titre):result})\n",
    "\n",
    "def donneesNoEX():\n",
    "    if titreNoEX:\n",
    "        debut=1\n",
    "    else:\n",
    "        debut=0\n",
    "    for ligne in donneesLignes[debut:]:\n",
    "        if not (ligne.strip().strip(\";\")==\"\" or ligne.startswith(\"#\")):\n",
    "            temp=ligne.strip().split(\";\")\n",
    "            result={\"boucle\":[temp],\"conclusion\":[]}\n",
    "            titre=makeChamps(configuration[u\"Titre\"],temp).encode('utf8')\n",
    "            donnees.append({titre:result})\n",
    "    return\n",
    "\n",
    "donnees=[]\n",
    "if boolEX or donneesLignes[0].startswith(\"#EX;\"):\n",
    "#    print \"avec #EX;\"\n",
    "    donneesEX()\n",
    "else:\n",
    "#    print \"sans #EX;\"\n",
    "    donneesNoEX()"
   ]
  },
  {
   "cell_type": "code",
   "execution_count": 10,
   "metadata": {
    "collapsed": false
   },
   "outputs": [],
   "source": [
    "categorie=configuration[u\"Catégorie\"]\n",
    "#donnees=configuration[u\"Données\"]\n",
    "consigne=configuration[u\"Boucle\"][u\"contenu\"]\n",
    "boucleWrap=[configuration[u\"Boucle\"][u\"début\"],configuration[u\"Boucle\"][\"fin\"]]\n",
    "boucleCLOZE=configuration[u\"Boucle\"][u\"Cloze\"]\n",
    "globalWrap=[configuration[u\"Global\"][u\"début\"],configuration[u\"Global\"][\"fin\"]]\n",
    "if \"Conclusion\" in configuration:\n",
    "    conclusion=[configuration[u\"Conclusion\"][u\"début\"],configuration[u\"Conclusion\"][\"contenu\"],configuration[u\"Conclusion\"][\"fin\"]]\n",
    "    conclusionCLOZE=configuration[u\"Conclusion\"][u\"Cloze\"]\n",
    "else:\n",
    "    conclusion=[\"\",\"\",\"\"]\n",
    "    conclusionCLOZE=[]\n",
    "questions=XMLClozes(categorie)\n",
    "questionsConsigne=ClozeConsigne(consigne,boucleWrap=boucleWrap,globalWrap=globalWrap,conclusion=conclusion)\n",
    "serie=ClozeSerie(configuration[u\"Boucle\"][u\"Cloze\"],conclusionCLOZE)"
   ]
  },
  {
   "cell_type": "code",
   "execution_count": 11,
   "metadata": {
    "collapsed": false
   },
   "outputs": [],
   "source": [
    "for exercices in donnees:\n",
    "#    print \"exercices\",exercices\n",
    "    for exercice in exercices:\n",
    "#        print \"exercice\",exercice\n",
    "        exerciceBoucle=exercices[exercice][\"boucle\"]\n",
    "        exerciceConclusion=exercices[exercice][\"conclusion\"]\n",
    "        serie.addExercice(Exercice(exerciceBoucle,exerciceConclusion,exercice.decode('utf8')))"
   ]
  },
  {
   "cell_type": "code",
   "execution_count": 12,
   "metadata": {
    "collapsed": false
   },
   "outputs": [],
   "source": [
    "for exercice in serie.makeSerie(questionsConsigne):\n",
    "#    print exercice.corps\n",
    "    questions.addExercice(exercice)"
   ]
  },
  {
   "cell_type": "code",
   "execution_count": 13,
   "metadata": {
    "collapsed": false
   },
   "outputs": [],
   "source": [
    "xmlOutput=MoodleXML()\n",
    "xmlOutput.addQuiz(questions.getClozes())"
   ]
  },
  {
   "cell_type": "code",
   "execution_count": 14,
   "metadata": {
    "collapsed": false
   },
   "outputs": [],
   "source": [
    "xmlFichier=yamlFichier.split(\".\")[0]+\".xml\""
   ]
  },
  {
   "cell_type": "code",
   "execution_count": 15,
   "metadata": {
    "collapsed": false
   },
   "outputs": [],
   "source": [
    "with codecs.open(xmlFichier, 'w',encoding=\"utf8\") as output:\n",
    "#    print [questions.getClozes()]\n",
    "    output.write(xmlOutput.getXML())"
   ]
  },
  {
   "cell_type": "code",
   "execution_count": null,
   "metadata": {
    "collapsed": false
   },
   "outputs": [],
   "source": []
  }
 ],
 "metadata": {
  "kernelspec": {
   "display_name": "Python 2",
   "language": "python",
   "name": "python2"
  },
  "language_info": {
   "codemirror_mode": {
    "name": "ipython",
    "version": 2
   },
   "file_extension": ".py",
   "mimetype": "text/x-python",
   "name": "python",
   "nbconvert_exporter": "python",
   "pygments_lexer": "ipython2",
   "version": "2.7.11"
  }
 },
 "nbformat": 4,
 "nbformat_minor": 0
}

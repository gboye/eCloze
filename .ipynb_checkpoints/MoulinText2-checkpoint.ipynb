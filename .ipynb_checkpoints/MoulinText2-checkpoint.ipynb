{
 "cells": [
  {
   "cell_type": "code",
   "execution_count": 135,
   "metadata": {},
   "outputs": [],
   "source": [
    "#import re\n",
    "import sys, codecs, optparse, glob, os\n",
    "import string\n",
    "import random"
   ]
  },
  {
   "cell_type": "code",
   "execution_count": 136,
   "metadata": {
    "collapsed": true
   },
   "outputs": [],
   "source": [
    "dossier=\"/Users/gilles/Github/eCloze/\"\n",
    "enonce=\"Test\"\n",
    "theme=\"Test\""
   ]
  },
  {
   "cell_type": "code",
   "execution_count": 137,
   "metadata": {},
   "outputs": [],
   "source": [
    "from ToolsMoodleXML2 import *\n",
    "import ToolsMoodleXML\n",
    "import yaml"
   ]
  },
  {
   "cell_type": "code",
   "execution_count": 138,
   "metadata": {},
   "outputs": [],
   "source": [
    "yamlFichier=dossier+enonce+\".yaml\"\n",
    "csvFichier=dossier+theme+\".txt\"\n",
    "boolEX=False\n",
    "titreNoEX=False"
   ]
  },
  {
   "cell_type": "code",
   "execution_count": 139,
   "metadata": {},
   "outputs": [],
   "source": [
    "with codecs.open(yamlFichier, 'r',encoding=\"utf8\") as stream:\n",
    "    configuration=yaml.load(stream)\n",
    "    \n",
    "with codecs.open(csvFichier, 'r',encoding=\"utf8\") as file:\n",
    "    donneesLignes=file.readlines()\n",
    "    "
   ]
  },
  {
   "cell_type": "code",
   "execution_count": 140,
   "metadata": {
    "collapsed": true
   },
   "outputs": [],
   "source": [
    "def donneesEX():\n",
    "    titre=[]\n",
    "    result=\"\"\n",
    "    i=0\n",
    "    for ligne in donneesLignes:\n",
    "        i+=1\n",
    "        if ligne.startswith(\"#EX;\"):\n",
    "            if result!=\"\":\n",
    "                donnees.append({\"-\".join(titre):result})\n",
    "            titre=[]\n",
    "            result={\"boucle\":[],\"conclusion\":[]}\n",
    "            temp=ligne.strip().split(\";\")\n",
    "            if len(temp)>1 and temp[1]!=\"\":\n",
    "                result[\"conclusion\"]=temp[1:]\n",
    "        elif ligne.startswith(\"#\"):\n",
    "            pass\n",
    "        else:\n",
    "            temp=ligne.strip().split(\";\")\n",
    "            result[\"boucle\"].append(temp)\n",
    "            titre.append(makeChamps(configuration[u\"Titre\"],temp).encode('utf8'))\n",
    "    donnees.append({\"-\".join(titre):result})\n",
    "\n",
    "def donneesNoEX():\n",
    "    if titreNoEX:\n",
    "        debut=1\n",
    "    else:\n",
    "        debut=0\n",
    "    for ligne in donneesLignes[debut:]:\n",
    "        if not (ligne.strip().strip(\";\")==\"\" or ligne.startswith(\"#\")):\n",
    "            donnees.append(ligne)\n",
    "    return\n",
    "\n",
    "donnees=[]\n",
    "if boolEX or donneesLignes[0].startswith(\"#EX;\"):\n",
    "#    print \"avec #EX;\"\n",
    "    donneesEX()\n",
    "else:\n",
    "#    print \"sans #EX;\"\n",
    "    donneesNoEX()"
   ]
  },
  {
   "cell_type": "code",
   "execution_count": 141,
   "metadata": {},
   "outputs": [],
   "source": [
    "if u\"Pénalité\" in configuration:\n",
    "    ToolsMoodleXML.penalite=configuration[u\"Pénalité\"]\n",
    "if u\"NbChoix\" in configuration:\n",
    "    ToolsMoodleXML.maxChoix=configuration[\"NbChoix\"]-1 #maxChoix alternatives à la solution pour avoir NbChoix en tout"
   ]
  },
  {
   "cell_type": "code",
   "execution_count": 142,
   "metadata": {},
   "outputs": [],
   "source": [
    "categorie=configuration[u\"Catégorie\"]\n",
    "titreGeneral=configuration[u\"Titre\"]\n",
    "questions=XMLSeries(categorie)\n",
    "debutConsigne=configuration[u\"Consigne\"][u\"début\"]\n",
    "finConsigne=configuration[u\"Consigne\"][u\"fin\"]"
   ]
  },
  {
   "cell_type": "code",
   "execution_count": 143,
   "metadata": {},
   "outputs": [],
   "source": [
    "def questionParentheses(chaine):\n",
    "    result=chaine\n",
    "    m=re.search(ur\"\\(([^)]+)\\)\",result)\n",
    "    while m:\n",
    "#        print m.group(0)\n",
    "        result=result.replace(m.group(0),u\"{1:SAC:%s}\"%m.group(1))\n",
    "        m=re.search(ur\"\\(([^)]+)\\)\",result)\n",
    "    return result\n",
    "\n",
    "def questionCrochets(chaine):\n",
    "    result=chaine\n",
    "    m=re.search(ur\"\\[([^]]+)\\]\",result)\n",
    "    while m:\n",
    "#        print m.group(0)\n",
    "        resultMC=\"~\".join(m.group(1).split(\";\"))\n",
    "        result=result.replace(m.group(0),u\"{1:MC:=%s}\"%resultMC)\n",
    "        m=re.search(ur\"\\[([^]]+)\\]\",result)\n",
    "    return result\n",
    "\n",
    "def questionParCro(chaine):\n",
    "    chainePar=questionParentheses(chaine)\n",
    "    chaineCro=questionCrochets(chainePar)\n",
    "    return chaineCro"
   ]
  },
  {
   "cell_type": "code",
   "execution_count": 144,
   "metadata": {},
   "outputs": [
    {
     "name": "stdout",
     "output_type": "stream",
     "text": [
      "Ceci est {1:SAC:une réponse courte}, cela est un {1:MC:=choix multiple~schmilblick~truc~bazar}.\n"
     ]
    }
   ],
   "source": [
    "print questionParCro(u\"Ceci est (une réponse courte), cela est un [choix multiple;schmilblick;truc;bazar].\")"
   ]
  },
  {
   "cell_type": "code",
   "execution_count": 145,
   "metadata": {},
   "outputs": [
    {
     "name": "stdout",
     "output_type": "stream",
     "text": [
      "Notez vos réponses.<br/>Les trous sont notés entre {1:SAC:parenthèses}. Les choix multiples entre {1:MC:=crochets~parenthèses~accolades} séparés par des {1:SAC:points-virgules}, le bon choix étant le {1:MC:=premier~second~troisième}.\n",
      "<br/>\n",
      "Notez vos réponses.<br/>Par défaut, chaque ligne compte pour {1:SAC:un exercice} mais on pourrait choisir un séparateur explicite comme {1:MC:=\\#EX~\\#TITRE} pour donner un titre à chaque question et avoir des questions sur plusieurs lignes. <br/>\n"
     ]
    }
   ],
   "source": [
    "for numEx,exercices in enumerate(donnees):\n",
    "    titre=\"%s%02d\"%(titreGeneral, numEx+1)\n",
    "    corps=debutConsigne+questionParCro(exercices)+finConsigne\n",
    "    print corps\n",
    "    questions.addExercice(ClozeExercice(titre,corps))"
   ]
  },
  {
   "cell_type": "code",
   "execution_count": 146,
   "metadata": {},
   "outputs": [],
   "source": [
    "xmlOutput=MoodleXML()\n",
    "xmlOutput.addQuiz(questions.getSeries())"
   ]
  },
  {
   "cell_type": "code",
   "execution_count": 147,
   "metadata": {},
   "outputs": [],
   "source": [
    "xmlFichier=yamlFichier.split(\".\")[0]+\".xml\""
   ]
  },
  {
   "cell_type": "code",
   "execution_count": 148,
   "metadata": {},
   "outputs": [],
   "source": [
    "with codecs.open(xmlFichier, 'w',encoding=\"utf8\") as output:\n",
    "#    print [questions.getClozes()]\n",
    "    output.write(xmlOutput.getXML())"
   ]
  },
  {
   "cell_type": "code",
   "execution_count": null,
   "metadata": {},
   "outputs": [],
   "source": []
  }
 ],
 "metadata": {
  "kernelspec": {
   "display_name": "Python 2",
   "language": "python",
   "name": "python2"
  },
  "language_info": {
   "codemirror_mode": {
    "name": "ipython",
    "version": 2
   },
   "file_extension": ".py",
   "mimetype": "text/x-python",
   "name": "python",
   "nbconvert_exporter": "python",
   "pygments_lexer": "ipython2",
   "version": "2.7.11"
  }
 },
 "nbformat": 4,
 "nbformat_minor": 1
}

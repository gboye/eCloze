{
 "cells": [
  {
   "cell_type": "code",
   "execution_count": 488,
   "metadata": {
    "collapsed": true
   },
   "outputs": [],
   "source": [
    "#import re\n",
    "import sys, codecs, optparse, glob, os\n",
    "import string\n",
    "import random"
   ]
  },
  {
   "cell_type": "code",
   "execution_count": 489,
   "metadata": {
    "collapsed": true
   },
   "outputs": [],
   "source": [
    "dossier=\"/Users/gilles/Github/eCloze/\"\n",
    "enonce=\"MCLangueEcrite1ePart2\"\n",
    "theme=\"MCLangueEcrite1ePart2\""
   ]
  },
  {
   "cell_type": "code",
   "execution_count": 490,
   "metadata": {
    "collapsed": true
   },
   "outputs": [],
   "source": [
    "from ToolsMoodleXML2 import *\n",
    "import ToolsMoodleXML\n",
    "import yaml"
   ]
  },
  {
   "cell_type": "code",
   "execution_count": 491,
   "metadata": {
    "collapsed": true
   },
   "outputs": [],
   "source": [
    "yamlFichier=dossier+enonce+\".yaml\"\n",
    "csvFichier=dossier+theme+\".txt\"\n",
    "boolEX=False\n",
    "titreNoEX=False"
   ]
  },
  {
   "cell_type": "code",
   "execution_count": 492,
   "metadata": {},
   "outputs": [],
   "source": [
    "with codecs.open(yamlFichier, 'r',encoding=\"utf8\") as stream:\n",
    "    configuration=yaml.load(stream)\n",
    "    \n",
    "with codecs.open(csvFichier, 'r',encoding=\"utf8\") as file:\n",
    "    donneesLignes=file.readlines()\n",
    "    "
   ]
  },
  {
   "cell_type": "code",
   "execution_count": 493,
   "metadata": {},
   "outputs": [],
   "source": [
    "def donneesEX():\n",
    "    titre=[]\n",
    "    result=\"\"\n",
    "    i=0\n",
    "    for ligne in donneesLignes:\n",
    "        i+=1\n",
    "        if ligne.startswith(\"#EX;\"):\n",
    "            if result!=\"\":\n",
    "                donnees.append({\"-\".join(titre):result})\n",
    "            titre=[]\n",
    "            result={\"boucle\":[],\"conclusion\":[]}\n",
    "            temp=ligne.strip().split(\";\")\n",
    "            if len(temp)>1 and temp[1]!=\"\":\n",
    "                result[\"conclusion\"]=temp[1:]\n",
    "        elif ligne.startswith(\"#\"):\n",
    "            pass\n",
    "        else:\n",
    "            temp=ligne.strip().split(\";\")\n",
    "            result[\"boucle\"].append(temp)\n",
    "            titre.append(makeChamps(configuration[u\"Titre\"],temp).encode('utf8'))\n",
    "    donnees.append({\"-\".join(titre):result})\n",
    "\n",
    "def donneesNoEX():\n",
    "    if titreNoEX:\n",
    "        debut=1\n",
    "    else:\n",
    "        debut=0\n",
    "    for ligne in donneesLignes[debut:]:\n",
    "        if not (ligne.strip().strip(\";\")==\"\" or ligne.startswith(\"#\")):\n",
    "            donnees.append(ligne)\n",
    "    return\n",
    "\n",
    "def donneesNoLine():\n",
    "    donnees.append(\"\")\n",
    "    for ligne in donneesLignes:\n",
    "        if not (ligne.strip().strip(\";\")==\"\" or ligne.startswith(\"#\")):\n",
    "            donnees[-1]+=ligne+\"<br>\"\n",
    "        elif ligne.strip().strip(\";\")==\"\":\n",
    "            donnees.append(\"\")\n",
    "\n",
    "donnees=[]\n",
    "if boolEX or donneesLignes[0].startswith(\"#EX;\"):\n",
    "#    print \"avec #EX;\"\n",
    "    donneesEX()\n",
    "elif not boolEX:\n",
    "    donneesNoLine()\n",
    "else:\n",
    "#    print \"sans #EX;\"\n",
    "    donneesNoEX()"
   ]
  },
  {
   "cell_type": "code",
   "execution_count": 494,
   "metadata": {
    "collapsed": true
   },
   "outputs": [],
   "source": [
    "if u\"Pénalité\" in configuration:\n",
    "    ToolsMoodleXML.penalite=configuration[u\"Pénalité\"]\n",
    "if u\"NbChoix\" in configuration:\n",
    "    ToolsMoodleXML.maxChoix=configuration[\"NbChoix\"]-1 #maxChoix alternatives à la solution pour avoir NbChoix en tout"
   ]
  },
  {
   "cell_type": "code",
   "execution_count": 495,
   "metadata": {
    "collapsed": true
   },
   "outputs": [],
   "source": [
    "categorie=configuration[u\"Catégorie\"]\n",
    "titreGeneral=configuration[u\"Titre\"]\n",
    "questions=XMLSeries(categorie)\n",
    "debutConsigne=configuration[u\"Consigne\"][u\"début\"]\n",
    "finConsigne=configuration[u\"Consigne\"][u\"fin\"]"
   ]
  },
  {
   "cell_type": "code",
   "execution_count": 496,
   "metadata": {
    "collapsed": true
   },
   "outputs": [],
   "source": [
    "def escapeDieseTilde(chaine):\n",
    "    result=chaine\n",
    "    m=re.search(ur\"(?<!\\\\)(#|~)\",result)\n",
    "    while m:\n",
    "        print m.group(0),m.group(1)   \n",
    "        result=result.replace(m.group(0),ur\"\\%s\"%m.group(1))\n",
    "        m=re.search(ur\"(?<!\\\\)(#|~)\",result)\n",
    "    return result\n",
    "\n",
    "def questionParentheses(chaine):\n",
    "    result=chaine\n",
    "#    m=re.search(ur\"\\(([^)]+)\\)\",result)\n",
    "    m=re.search(ur\"(?<!\\\\)\\((.+)(?<!\\\\)\\)\",result)\n",
    "    while m:\n",
    "        result=result.replace(m.group(0),u\"{1:SAC:=%s}\"%m.group(1))\n",
    "        m=re.search(ur\"(?<!\\\\)\\((.+)(?<!\\\\)\\)\",result)\n",
    "    result=result.replace(ur\"\\(\",\"(\").replace(ur\"\\)\",\")\")\n",
    "    return result\n",
    "\n",
    "def questionCrochets(chaine):\n",
    "    result=chaine\n",
    "    m=re.search(ur\"(?<!\\\\)\\[(([^\\]]|\\\\\\])+)(?<!\\\\)\\]\",result)\n",
    "    while m:\n",
    "        resultMC=\"~\".join(m.group(1).split(\";\"))\n",
    "        print resultMC\n",
    "        result=result.replace(m.group(0),u\"{1:MC:=%s}\"%resultMC)\n",
    "        m=re.search(ur\"(?<!\\\\)\\[(([^\\]]|\\\\\\])+)(?<!\\\\)\\]\",result)\n",
    "    result=result.replace(ur\"\\[\",\"[\").replace(ur\"\\]\",\"]\")\n",
    "    return result\n",
    "\n",
    "def questionParCro(chaine):\n",
    "    chaineEsc=escapeDieseTilde(chaine)\n",
    "    chainePar=questionParentheses(chaineEsc)\n",
    "    chaineCro=questionCrochets(chainePar)\n",
    "    return chaineCro"
   ]
  },
  {
   "cell_type": "code",
   "execution_count": 497,
   "metadata": {},
   "outputs": [
    {
     "name": "stdout",
     "output_type": "stream",
     "text": [
      "~ ~\n",
      "# #\n",
      "une~un~des\n",
      "choix multiple~\\[schmilblick\\]~truc\\~bizarre~bazar~\\#EX\n",
      "Ceci est {1:MC:=une~un~des} réponse ({1:SAC:=courte}), cela est un {1:MC:=choix multiple~[schmilblick]~truc\\~bizarre~bazar~\\#EX}.\n"
     ]
    }
   ],
   "source": [
    "print questionParCro(ur\"Ceci est [une;un;des] réponse \\((courte)\\), cela est un [choix multiple;\\[schmilblick\\];truc~bizarre;bazar;#EX].\")"
   ]
  },
  {
   "cell_type": "code",
   "execution_count": 498,
   "metadata": {},
   "outputs": [
    {
     "name": "stdout",
     "output_type": "stream",
     "text": [
      "bibliothèque~parc~bureau de poste~piscine\n",
      "journaliste~peintre~acteur / actrice~romancier(ère)\n",
      "Fruits~Leçon~Réveil~Arbre\n",
      "fleur~voiture~pain~livre~chien\n",
      "Quoi/que~Nom/prénom~Je/moi~Exemple\n",
      "Employé(e) d’une compagnie~Metteur en scène~Romancier(ère)~Chanteur(euse) d’opéra\n",
      "Amie~Qui~Personne~Dialogue\n",
      "Médecin~Chaise~Bureau/table~Photo\n",
      "Enchanté(é) de vous rencontrer.~Ah, vraiment ?~Cela fait plaisir de vous revoir.~Bonjour.\n",
      "대학원생~대학생~사람~선생님\n",
      "역사~읽기~전공~대화\n",
      "네~아니요~도~씨\n",
      "독일~영국~미국~호주\n",
      "일본어~중국어~일본 사람~가봉 사람\n",
      "김미진 선생님은 배우예요.~김미진은 선생님이에요.~김미진 씨는 선생님이에요.~김미진 씨는 배우 선생님이에요.\n",
      "나 : 아니요, 모르간도 프랑스 사람이 아니에요.~나 : 네, 모르간은 프랑스 사람이 아니에요.~나 : 아니요, 모르간은 프랑스 사람이 아니에요.~나 : 아니요, 모르간은 프랑스 사람이에요.\n",
      "김 선생님은 화가예요 ?~김 선생님, 당신은 화가예요 ?~김 교수님, 당신은 화가예요 ?~김 선생님, 너는 화가예요 ?\n",
      "괜차나요~괜찬아요~괜찬나요~괜차나요\n",
      "한구거~한국거~하구거~안구거\n",
      "꼳~꼿~꽅~꽃\n",
      "<br/>Choisissez la traduction correcte.<br>\n",
      "<br>1.\t도서관\n",
      "<br>{1:MC:=bibliothèque~parc~bureau de poste~piscine}<br>\n",
      "<br>2.\t 기자\n",
      "<br>{1:MC:=journaliste~peintre~acteur / actrice~romancier(ère)}<br>\n",
      "<br>3.\t 과일\n",
      "<br>{1:MC:=Fruits~Leçon~Réveil~Arbre}<br>\n",
      "<br>4.\t꽃\n",
      "<br>{1:MC:=fleur~voiture~pain~livre~chien}<br> \n",
      "<br>5.\t 뭐\n",
      "<br>{1:MC:=Quoi/que~Nom/prénom~Je/moi~Exemple}<br>\n",
      "<br>6.\t 회사원\n",
      "<br>{1:MC:=Employé(e) d’une compagnie~Metteur en scène~Romancier(ère)~Chanteur(euse) d’opéra}<br>\n",
      "<br>7.\t친구\n",
      "<br>{1:MC:=Amie~Qui~Personne~Dialogue}<br>\n",
      "<br>8.\t 의사\n",
      "<br>{1:MC:=Médecin~Chaise~Bureau/table~Photo}<br>\n",
      "<br>9.\t 처음 뵙겠습니다.\n",
      "<br>{1:MC:=Enchanté(é) de vous rencontrer.~Ah, vraiment ?~Cela fait plaisir de vous revoir.~Bonjour.}<br>\n",
      "<br>10.\t Etudiant(e) en master\n",
      "<br>{1:MC:=대학원생~대학생~사람~선생님}<br>\n",
      "<br>11.\t  Histoire\n",
      "<br>{1:MC:=역사~읽기~전공~대화}<br>\n",
      "<br>12.\t Oui\n",
      "<br>{1:MC:=네~아니요~도~씨}<br>\n",
      "<br>13.\t Allemagne\n",
      "<br>{1:MC:=독일~영국~미국~호주}<br>\n",
      "<br>14.\t  Japonais(langue)\n",
      "<br>{1:MC:=일본어~중국어~일본 사람~가봉 사람}<br>\n",
      "<br>15.\t Madame Kim Mi-jin est actrice.\n",
      "<br>{1:MC:=김미진 선생님은 배우예요.~김미진은 선생님이에요.~김미진 씨는 선생님이에요.~김미진 씨는 배우 선생님이에요.}<br>\n",
      "<br>16.\t 가 : Pierre n’est pas français. Est-ce que Morgane est française ?\n",
      "<br> \t 나 : Non, Morgane n’est pas française non plus.\n",
      "<br>{1:MC:=나 : 아니요, 모르간도 프랑스 사람이 아니에요.~나 : 네, 모르간은 프랑스 사람이 아니에요.~나 : 아니요, 모르간은 프랑스 사람이 아니에요.~나 : 아니요, 모르간은 프랑스 사람이에요.}<br>\n",
      "<br>17.\t  Madame Kim , vous êtes peintre ?\n",
      "<br>{1:MC:=김 선생님은 화가예요 ?~김 선생님, 당신은 화가예요 ?~김 교수님, 당신은 화가예요 ?~김 선생님, 너는 화가예요 ?}<br><br>\n",
      "<br>Choisissez  l’écriture correcte lors de la prononciation.<br>\n",
      "<br>18.\t괜찮아요. se prononce  (          ?            ) -> liaison\n",
      "<br>{1:MC:=괜차나요~괜찬아요~괜찬나요~괜차나요}<br>\n",
      "<br>19.\t 한국어 se prononce  (            ?           ) -> liaison\n",
      "<br>{1:MC:=한구거~한국거~하구거~안구거}<br>\n",
      "<br>20.\t 꽃 se prononce  ( ? )  ->  consonne finale\n",
      "<br>{1:MC:=꼳~꼿~꽅~꽃}<br><br><br/>\n"
     ]
    }
   ],
   "source": [
    "for numEx,exercices in enumerate(donnees):\n",
    "    titre=\"%s%02d\"%(titreGeneral, numEx+1)\n",
    "    corps=debutConsigne+questionParCro(exercices)+finConsigne\n",
    "    print corps\n",
    "    questions.addExercice(ClozeExercice(titre,corps))"
   ]
  },
  {
   "cell_type": "code",
   "execution_count": 499,
   "metadata": {
    "collapsed": true
   },
   "outputs": [],
   "source": [
    "xmlOutput=MoodleXML()\n",
    "xmlOutput.addQuiz(questions.getSeries())"
   ]
  },
  {
   "cell_type": "code",
   "execution_count": 500,
   "metadata": {
    "collapsed": true
   },
   "outputs": [],
   "source": [
    "xmlFichier=yamlFichier.split(\".\")[0]+\".xml\""
   ]
  },
  {
   "cell_type": "code",
   "execution_count": 501,
   "metadata": {
    "collapsed": true
   },
   "outputs": [],
   "source": [
    "with codecs.open(xmlFichier, 'w',encoding=\"utf8\") as output:\n",
    "#    print [questions.getClozes()]\n",
    "    output.write(xmlOutput.getXML())"
   ]
  },
  {
   "cell_type": "code",
   "execution_count": 502,
   "metadata": {},
   "outputs": [
    {
     "name": "stdout",
     "output_type": "stream",
     "text": [
      "bibliothèque~parc~bureau de poste~piscine\n",
      "journaliste~peintre~acteur / actrice~romancier(ère)\n",
      "Fruits~Leçon~Réveil~Arbre\n",
      "fleur~voiture~pain~livre~chien\n",
      "Quoi/que~Nom/prénom~Je/moi~Exemple\n",
      "Employé(e) d’une compagnie~Metteur en scène~Romancier(ère)~Chanteur(euse) d’opéra\n",
      "Amie~Qui~Personne~Dialogue\n",
      "Médecin~Chaise~Bureau/table~Photo\n",
      "Enchanté(é) de vous rencontrer.~Ah, vraiment ?~Cela fait plaisir de vous revoir.~Bonjour.\n",
      "대학원생~대학생~사람~선생님\n",
      "역사~읽기~전공~대화\n",
      "네~아니요~도~씨\n",
      "독일~영국~미국~호주\n",
      "일본어~중국어~일본 사람~가봉 사람\n",
      "김미진 선생님은 배우예요.~김미진은 선생님이에요.~김미진 씨는 선생님이에요.~김미진 씨는 배우 선생님이에요.\n",
      "나 : 아니요, 모르간도 프랑스 사람이 아니에요.~나 : 네, 모르간은 프랑스 사람이 아니에요.~나 : 아니요, 모르간은 프랑스 사람이 아니에요.~나 : 아니요, 모르간은 프랑스 사람이에요.\n",
      "김 선생님은 화가예요 ?~김 선생님, 당신은 화가예요 ?~김 교수님, 당신은 화가예요 ?~김 선생님, 너는 화가예요 ?\n",
      "괜차나요~괜찬아요~괜찬나요~괜차나요\n",
      "한구거~한국거~하구거~안구거\n",
      "꼳~꼿~꽅~꽃\n",
      "Choisissez la traduction correcte.<br>\n",
      "<br>1.\t도서관\n",
      "<br>{1:MC:=bibliothèque~parc~bureau de poste~piscine}<br>\n",
      "<br>2.\t 기자\n",
      "<br>{1:MC:=journaliste~peintre~acteur / actrice~romancier(ère)}<br>\n",
      "<br>3.\t 과일\n",
      "<br>{1:MC:=Fruits~Leçon~Réveil~Arbre}<br>\n",
      "<br>4.\t꽃\n",
      "<br>{1:MC:=fleur~voiture~pain~livre~chien}<br> \n",
      "<br>5.\t 뭐\n",
      "<br>{1:MC:=Quoi/que~Nom/prénom~Je/moi~Exemple}<br>\n",
      "<br>6.\t 회사원\n",
      "<br>{1:MC:=Employé(e) d’une compagnie~Metteur en scène~Romancier(ère)~Chanteur(euse) d’opéra}<br>\n",
      "<br>7.\t친구\n",
      "<br>{1:MC:=Amie~Qui~Personne~Dialogue}<br>\n",
      "<br>8.\t 의사\n",
      "<br>{1:MC:=Médecin~Chaise~Bureau/table~Photo}<br>\n",
      "<br>9.\t 처음 뵙겠습니다.\n",
      "<br>{1:MC:=Enchanté(é) de vous rencontrer.~Ah, vraiment ?~Cela fait plaisir de vous revoir.~Bonjour.}<br>\n",
      "<br>10.\t Etudiant(e) en master\n",
      "<br>{1:MC:=대학원생~대학생~사람~선생님}<br>\n",
      "<br>11.\t  Histoire\n",
      "<br>{1:MC:=역사~읽기~전공~대화}<br>\n",
      "<br>12.\t Oui\n",
      "<br>{1:MC:=네~아니요~도~씨}<br>\n",
      "<br>13.\t Allemagne\n",
      "<br>{1:MC:=독일~영국~미국~호주}<br>\n",
      "<br>14.\t  Japonais(langue)\n",
      "<br>{1:MC:=일본어~중국어~일본 사람~가봉 사람}<br>\n",
      "<br>15.\t Madame Kim Mi-jin est actrice.\n",
      "<br>{1:MC:=김미진 선생님은 배우예요.~김미진은 선생님이에요.~김미진 씨는 선생님이에요.~김미진 씨는 배우 선생님이에요.}<br>\n",
      "<br>16.\t 가 : Pierre n’est pas français. Est-ce que Morgane est française ?\n",
      "<br> \t 나 : Non, Morgane n’est pas française non plus.\n",
      "<br>{1:MC:=나 : 아니요, 모르간도 프랑스 사람이 아니에요.~나 : 네, 모르간은 프랑스 사람이 아니에요.~나 : 아니요, 모르간은 프랑스 사람이 아니에요.~나 : 아니요, 모르간은 프랑스 사람이에요.}<br>\n",
      "<br>17.\t  Madame Kim , vous êtes peintre ?\n",
      "<br>{1:MC:=김 선생님은 화가예요 ?~김 선생님, 당신은 화가예요 ?~김 교수님, 당신은 화가예요 ?~김 선생님, 너는 화가예요 ?}<br><br>\n",
      "<br>Choisissez  l’écriture correcte lors de la prononciation.<br>\n",
      "<br>18.\t괜찮아요. se prononce  (          ?            ) -> liaison\n",
      "<br>{1:MC:=괜차나요~괜찬아요~괜찬나요~괜차나요}<br>\n",
      "<br>19.\t 한국어 se prononce  (            ?           ) -> liaison\n",
      "<br>{1:MC:=한구거~한국거~하구거~안구거}<br>\n",
      "<br>20.\t 꽃 se prononce  ( ? )  ->  consonne finale\n",
      "<br>{1:MC:=꼳~꼿~꽅~꽃}<br><br>\n"
     ]
    }
   ],
   "source": [
    "print questionParCro(donnees[0])"
   ]
  }
 ],
 "metadata": {
  "kernelspec": {
   "display_name": "Python 2",
   "language": "python",
   "name": "python2"
  },
  "language_info": {
   "codemirror_mode": {
    "name": "ipython",
    "version": 2
   },
   "file_extension": ".py",
   "mimetype": "text/x-python",
   "name": "python",
   "nbconvert_exporter": "python",
   "pygments_lexer": "ipython2",
   "version": "2.7.11"
  }
 },
 "nbformat": 4,
 "nbformat_minor": 1
}

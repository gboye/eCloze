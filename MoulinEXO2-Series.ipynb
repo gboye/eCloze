{
 "cells": [
  {
   "cell_type": "code",
   "execution_count": 12,
   "metadata": {},
   "outputs": [
    {
     "name": "stdout",
     "output_type": "stream",
     "text": [
      "\n"
     ]
    }
   ],
   "source": [
    "#import re\n",
    "import sys, codecs, optparse, glob, os\n",
    "import string, yaml\n",
    "import random, warnings\n",
    "from ToolsMoodleXML2 import *\n",
    "#from cellbell import ding\n",
    "\n",
    "def ding():\n",
    "    os.system('afplay /System/Library/Sounds/Submarine.aiff')"
   ]
  },
  {
   "cell_type": "code",
   "execution_count": 13,
   "metadata": {},
   "outputs": [],
   "source": [
    "nKalaba=\"K1\"\n",
    "annee=\"24\"\n",
    "dossier=\"/sDrive/Cours/Bordeaux/L1-LinguistiqueGenerale/00-ProjetKalaba/%s-%s\"%(annee,nKalaba)\n",
    "enonces=[\"Forme-Radical\",\n",
    "         \"Forme-Traduction\",\"Traduction-Radical\",\n",
    "#         \"Forme-Traduction-MC\",\"Traduction-Radical-MC\",\n",
    "#         \"Forme-Proprietes\",\n",
    "         \"Glose-Decoupe\",\"Decoupe-Glose-MC\",\"Decoupe-Glose\"\n",
    "        ]\n",
    "enonces=[\n",
    "         \"Forme-Traduction\",\"Traduction-Radical\",\n",
    "         \"Proprietes-Forme\",\n",
    "         \"Decoupe-Glose-MC\",\"Decoupe-Glose\"\n",
    "        ]\n",
    "\n",
    "# enonces=[\"Glose-Decoupe-MC\",\"Proprietes-Forme-MC\"]\n",
    "\n",
    "#enonces=[\"Decoupe-Glose-MC\"]\n",
    "theme=\"EX-A1\"\n",
    "\n",
    "# enonces=[\"Theme\",\"Version\"]\n",
    "# theme=\"Traductions\"\n",
    "\n",
    "enonces=[\"Proprietes-Forme\"]\n",
    "theme=\"EX-B2\"\n",
    "\n",
    "# enonces=[\"Ordre\"]\n",
    "# theme=\"Syntagmes\""
   ]
  },
  {
   "cell_type": "code",
   "execution_count": 14,
   "metadata": {},
   "outputs": [],
   "source": [
    "from os.path import expanduser\n",
    "home = expanduser(\"~\")\n",
    "repertoire=home+dossier\n",
    "base=repertoire+\"/\""
   ]
  },
  {
   "cell_type": "code",
   "execution_count": 15,
   "metadata": {},
   "outputs": [],
   "source": [
    "def donneesEX():\n",
    "    titre=[]\n",
    "    result=\"\"\n",
    "    i=0\n",
    "    for ligne in donneesLignes:\n",
    "        i+=1\n",
    "        if ligne.startswith(\"#EX;\"):\n",
    "            if result!=\"\":\n",
    "                donnees.append({\"-\".join(titre):result})\n",
    "            titre=[]\n",
    "            result={\"boucle\":[],\"conclusion\":[]}\n",
    "            temp=ligne.strip().split(\";\")\n",
    "            if len(temp)>1 and temp[1]!=\"\":\n",
    "                result[\"conclusion\"]=temp[1:]\n",
    "        elif ligne.startswith(\"#\"):\n",
    "            pass\n",
    "        else:\n",
    "            temp=ligne.strip().split(\";\")\n",
    "            result[\"boucle\"].append(temp)\n",
    "            titre.append(makeChamps(configuration[u\"Titre\"],temp).encode('utf8'))\n",
    "    donnees.append({\"-\".join(titre):result})\n",
    "\n",
    "def donneesNoEX():\n",
    "    if titreNoEX:\n",
    "        debut=1\n",
    "    else:\n",
    "        debut=0\n",
    "    for ligne in donneesLignes[debut:]:\n",
    "        if not (ligne.strip().strip(\";\")==\"\" or ligne.startswith(\"#\")):\n",
    "            temp=ligne.strip().split(\";\")\n",
    "            result={\"boucle\":[temp],\"conclusion\":[]}\n",
    "            titre=makeChamps(configuration[u\"Titre\"],temp).encode('utf8')\n",
    "            donnees.append({titre:result})\n",
    "    return"
   ]
  },
  {
   "cell_type": "code",
   "execution_count": 16,
   "metadata": {},
   "outputs": [],
   "source": [
    "for enonce in enonces:\n",
    "    yamlFichier=base+theme+\"-\"+enonce+\".yaml\"\n",
    "    csvFichier=base+theme+\".txt\"\n",
    "    boolEX=False\n",
    "    titreNoEX=False\n",
    "            \n",
    "    with open(yamlFichier, 'r') as stream:\n",
    "        configuration=yaml.safe_load(stream)\n",
    "\n",
    "    with open(csvFichier, 'r') as file:\n",
    "        donneesLignes=file.readlines()\n",
    "\n",
    "    donnees=[]\n",
    "    if boolEX or donneesLignes[0].startswith(\"#EX;\"):\n",
    "    #    print \"avec #EX;\"\n",
    "        donneesEX()\n",
    "    else:\n",
    "    #    print \"sans #EX;\"\n",
    "        donneesNoEX()\n",
    "\n",
    "        \n",
    "    categorie=configuration[u\"Catégorie\"]\n",
    "    #donnees=configuration[u\"Données\"]\n",
    "    consigne=configuration[u\"Boucle\"][u\"contenu\"]\n",
    "    boucleWrap=[configuration[u\"Boucle\"][u\"début\"],configuration[u\"Boucle\"][\"fin\"]]\n",
    "    boucleCLOZE=configuration[u\"Boucle\"][u\"Cloze\"]\n",
    "    globalWrap=[configuration[u\"Décor\"][u\"fond\"]+configuration[u\"Décor\"][u\"entete\"]+configuration[u\"Global\"][u\"début\"],configuration[u\"Global\"][\"fin\"]]\n",
    "    if \"Conclusion\" in configuration:\n",
    "        conclusion=[configuration[u\"Conclusion\"][u\"début\"],configuration[u\"Conclusion\"][\"contenu\"],configuration[u\"Conclusion\"][\"fin\"]]\n",
    "        conclusionCLOZE=configuration[u\"Conclusion\"][u\"Cloze\"]\n",
    "    else:\n",
    "        conclusion=[\"\",\"\",\"\"]\n",
    "        conclusionCLOZE=[]\n",
    "    questions=XMLSeries(categorie)\n",
    "    questionsConsigne=ClozeConsigne(consigne,boucleWrap=boucleWrap,globalWrap=globalWrap,conclusion=conclusion)\n",
    "    serie=ClozeSerie(configuration[u\"Boucle\"][u\"Cloze\"],conclusionCLOZE)\n",
    "\n",
    "    for exercices in donnees:\n",
    "    #    print \"exercices\",exercices\n",
    "        for exercice in exercices:\n",
    "    #        print \"exercice\",exercice\n",
    "            exerciceBoucle=exercices[exercice][\"boucle\"]\n",
    "            exerciceConclusion=exercices[exercice][\"conclusion\"]\n",
    "            serie.addExercice(Exercice(exerciceBoucle,exerciceConclusion,exercice.decode('utf8')))\n",
    "\n",
    "    for exercice in serie.makeSerie(questionsConsigne):\n",
    "#        print exercice.corps\n",
    "#        print\n",
    "        questions.addExercice(exercice)\n",
    "\n",
    "    xmlOutput=MoodleXML()\n",
    "    xmlOutput.addQuiz(questions.getSeries())\n",
    "\n",
    "    xmlFichier=yamlFichier.split(\".\")[0]+\".xml\"\n",
    "\n",
    "    with codecs.open(xmlFichier, 'w',encoding=\"utf8\") as output:\n",
    "    #    print [questions.getClozes()]\n",
    "        output.write(xmlOutput.getXML())"
   ]
  },
  {
   "cell_type": "code",
   "execution_count": 17,
   "metadata": {},
   "outputs": [],
   "source": [
    "#xmlOutput.getXML()"
   ]
  },
  {
   "cell_type": "code",
   "execution_count": 18,
   "metadata": {},
   "outputs": [],
   "source": [
    "ding()"
   ]
  },
  {
   "cell_type": "code",
   "execution_count": null,
   "metadata": {},
   "outputs": [],
   "source": []
  }
 ],
 "metadata": {
  "kernelspec": {
   "display_name": "Python2",
   "language": "python",
   "name": "python2"
  },
  "language_info": {
   "codemirror_mode": {
    "name": "ipython",
    "version": 2
   },
   "file_extension": ".py",
   "mimetype": "text/x-python",
   "name": "python",
   "nbconvert_exporter": "python",
   "pygments_lexer": "ipython2",
   "version": "2.7.16"
  }
 },
 "nbformat": 4,
 "nbformat_minor": 4
}

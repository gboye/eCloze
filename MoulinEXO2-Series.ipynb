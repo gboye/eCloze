{
 "cells": [
  {
   "cell_type": "code",
   "execution_count": 43,
   "metadata": {
    "collapsed": true
   },
   "outputs": [],
   "source": [
    "#import re\n",
    "import sys, codecs, optparse, glob, os\n",
    "import string, yaml\n",
    "import random, warnings\n",
    "from ToolsMoodleXML2 import *"
   ]
  },
  {
   "cell_type": "code",
   "execution_count": 44,
   "metadata": {
    "collapsed": true
   },
   "outputs": [],
   "source": [
    "nKalaba=\"K3\"\n",
    "annee=\"17\"\n",
    "dossier=\"/ownCloud/Cours/Bordeaux/L1-LinguistiqueGenerale/Kalaba-Project/%s-%s\"%(annee,nKalaba)\n",
    "enonces=[\"Forme-Radical\",\n",
    "         \"Forme-Traduction\",\"Traduction-Radical\",\n",
    "#         \"Forme-Traduction-MC\",\"Traduction-Radical-MC\",\n",
    "#         \"Forme-Proprietes\",\n",
    "         \"Glose-Decoupe\",\"Decoupe-Glose-MC\",\"Decoupe-Glose\"\n",
    "        ]\n",
    "enonces=[\n",
    "         \"Forme-Traduction\",\"Traduction-Radical\",\n",
    "#         \"Forme-Traduction-MC\",\"Traduction-Radical-MC\",\n",
    "#         \"Forme-Proprietes\",\n",
    "         \"Proprietes-Forme\",\n",
    "#         \"Glose-Decoupe\",\n",
    "         \"Decoupe-Glose-MC\",\n",
    "#         \"Decoupe-Glose\"\n",
    "        ]\n",
    "theme=\"%s-%s-A1\"%(annee,nKalaba)\n",
    "\n",
    "#enonces=[\"Glose-Decoupe\",\"Proprietes-Forme\"]\n",
    "#theme=\"%s-%s-A1\"%(annee,nKalaba)\n",
    "\n",
    "#enonces=[\"Theme\",\"Version\"]\n",
    "#theme=\"Traductions\"\n",
    "\n",
    "#enonces=[\"Proprietes-Forme\"]\n",
    "#theme=\"%s-%s-B2\"%(annee,nKalaba)\n",
    "\n",
    "#enonces=[\"Ordre\"]\n",
    "#theme=\"Syntagmes\""
   ]
  },
  {
   "cell_type": "code",
   "execution_count": 45,
   "metadata": {
    "collapsed": true
   },
   "outputs": [],
   "source": [
    "from os.path import expanduser\n",
    "home = expanduser(\"~\")\n",
    "repertoire=home+dossier\n",
    "base=repertoire+\"/\""
   ]
  },
  {
   "cell_type": "code",
   "execution_count": 46,
   "metadata": {
    "collapsed": true
   },
   "outputs": [],
   "source": [
    "def donneesEX():\n",
    "    titre=[]\n",
    "    result=\"\"\n",
    "    i=0\n",
    "    for ligne in donneesLignes:\n",
    "        i+=1\n",
    "        if ligne.startswith(\"#EX;\"):\n",
    "            if result!=\"\":\n",
    "                donnees.append({\"-\".join(titre):result})\n",
    "            titre=[]\n",
    "            result={\"boucle\":[],\"conclusion\":[]}\n",
    "            temp=ligne.strip().split(\";\")\n",
    "            if len(temp)>1 and temp[1]!=\"\":\n",
    "                result[\"conclusion\"]=temp[1:]\n",
    "        elif ligne.startswith(\"#\"):\n",
    "            pass\n",
    "        else:\n",
    "            temp=ligne.strip().split(\";\")\n",
    "            result[\"boucle\"].append(temp)\n",
    "            titre.append(makeChamps(configuration[u\"Titre\"],temp).encode('utf8'))\n",
    "    donnees.append({\"-\".join(titre):result})\n",
    "\n",
    "def donneesNoEX():\n",
    "    if titreNoEX:\n",
    "        debut=1\n",
    "    else:\n",
    "        debut=0\n",
    "    for ligne in donneesLignes[debut:]:\n",
    "        if not (ligne.strip().strip(\";\")==\"\" or ligne.startswith(\"#\")):\n",
    "            temp=ligne.strip().split(\";\")\n",
    "            result={\"boucle\":[temp],\"conclusion\":[]}\n",
    "            titre=makeChamps(configuration[u\"Titre\"],temp).encode('utf8')\n",
    "            donnees.append({titre:result})\n",
    "    return"
   ]
  },
  {
   "cell_type": "code",
   "execution_count": 47,
   "metadata": {},
   "outputs": [
    {
     "name": "stdout",
     "output_type": "stream",
     "text": [
      "1 2 3 4 5 6 7 8 10 11 12 13 14 15 16 17 19 20 21 22 23 24 25 26 28 29 30 31 32 33 34 35 37 38 39 40 41 42 43 44 46 47 48 49 50 51 52 53 55 56 57 58 59 60 61 62 64 65 66 67 68 69 70 71 73 74 75 76 77 78 79 80 82 83 84 85 86 87 88 89 91 92 93 94 95 96 97 98 100 101 102 103 104 105 106 107 109 110 111 112 113 114 115 116 118 119 120 121 122 123 124 125 126 127 128 129 130 131 132 133 134 135 136 137 138 139 140 141 142 143 144 145 146 147 148 149 150 151 152 154 155 156 157 158 159 160 161 162 163 164 165 166 167 168 169 170 171 172 173 174 175 176 177 178 179 180 181 182 183 184 185 186 187 188 190 191 192 193 194 195 196 197 198 199 200 201 202 203 204 205 206 207 208 209 210 211 212 213 214 215 216 217 218 219 220 221 222 223 224 226 227 228 229 230 231 232 233 234 235 236 237 238 239 240 241 242 244 245 246 247 248 249 250 251 252 253 254 255 256 257 258 259 260 262 263 264 265 266 267 268 269 270 271 272 273 274 275 276 277 278 280 281 282 283 284 285 286 287 288 289 290 291 292 293 294 295 296 298 299 300 301 302 303 304 305 306 307 308 309 310 311 312 313 314 316 317 318 319 320 321 322 323 324 325 326 327 328 329 330 331 332 334 335 336 337 338 339 340 341 342 343 344 345 346 347 348 349 350 352 353 354 355 356 357 358 359 360 361 362 363 364 365 366 367 368 370 371 372 373 374 375 376 377 378 379 380 381 382 383 384 385 386 388 389 390 391 392 393 394 395 396 397 398 399 400 401 402 403 404 406 407 408 409 410 411 412 413 414 415 416 417 418 419 420 421 422 424 425 426 427 428 429 430 431 432 433 434 435 436 437 438 439 440 442 443 444 445 446 447 448 449 450 451 452 453 454 455 456 457 458 460 461 462 463 464 465 466 467 468 469 470 471 472 473 474 475 476 478 479 480 481 482 483 484 485 486 487 488 489 490 491 492 493 494 496 497 498 499 500 501 502 503 504 505 506 507 508 509 510 511 512 514 515 516 517 518 519 520 521 522 523 524 525 526 527 528 529 530 532 533 534 535 536 537 538 539 540 541 542 543 544 545 546 547 548 550 551 552 553 554 555 556 557 558 559 560 561 562 563 564 565 566 568 569 570 571 572 573 574 575 576 577 578 579 580 581 582 583 584 586 587 588 589 590 591 592 593 594 595 596 597 598 599 600 601 602 604 605 606 607 608 609 610 611 612 613 614 615 616 617 618 619 620 622 623 624 625 626 627 628 629 630 631 632 633 634 635 636 637 638 640 641 642 643 644 645 646 647 648 649 650 651 652 653 654 655 656 658 659 660 661 662 663 664 665 666 667 668 669 670 671 672 673 674 676 677 678 679 680 681 682 683 684 685 686 687 688 689 690 691 692 694 695 696 697 698 699 700 701 702 703 704 705 706 707 708 709 710 722 723 724 725 726 727 728 729 730 731 732 734 735 736 737 738 739 740 741 742 743 744 746 747 748 749 750 751 752 753 754 755 756 758 759 760 761 762 763 764 765 766 767 768 770 771 772 773 774 775 776 777 778 779 780 782 783 784 785 786 787 788 789 790 791 792 794 795 796 797 798 799 800 801 802 803 804 806 807 808 809 810 811 812 813 814 815 816 818 819 820 821 822 823 824 825 826 827 828 830 831 832 833 834 835 836 837 838 839 840 842 843 844 845 846 847 848 849 850 851 852 854 855 856 857 858 859 860 861 862 863 864 866 867 868 869 870 871 872 873 874 875 876 878 879 880 881 882 883 884 885 886 887 888 890 891 892 893 894 895 896 897 898 899 900 902 903 904 905 906 907 908 909 910 911 912 914 915 916 917 918 919 920 921 922 923 924 926 927 928 929 930 931 932 933 934 935 936 938 939 940 941 942 943 944 945 946 947 948 950 951 952 953 954 955 956 957 958 959 960 962 963 964 965 966 967 968 969 970 971 972 974 975 976 977 978 979 980 981 982 983 984 986 987 988 989 990 991 992 993 994 995 996 998 999 1000 1001 1002 1003 1004 1005 1006 1007 1008 1010 1011 1012 1013 1014 1015 1016 1017 1018 1019 1020 1022 1023 1024 1025 1026 1027 1028 1029 1030 1031 1032 1034 1035 1036 1037 1038 1039 1040 1041 1042 1043 1044 1046 1047 1048 1049 1050 1051 1052 1053 1054 1055 1056 1058 1059 1060 1061 1062 1063 1064 1065 1066 1067 1068 1070 1071 1072 1073 1074 1075 1076 1077 1078 1079 1080 1082 1083 1084 1085 1086 1087 1088 1089 1090 1091 1092 1094 1095 1096 1097 1098 1099 1100 1101 1102 1103 1104 1106 1107 1108 1109 1110 1111 1112 1113 1114 1115 1116 1118 1119 1120 1121 1122 1123 1124 1125 1126 1127 1128 1130 1131 1132 1133 1134 1135 1136 1137 1138 1139 1140 1142 1143 1144 1145 1146 1147 1148 1149 1150 1151 1152 1154 1155 1156 1157 1158 1159 1160 1161 1162 1163 1164 1166 1167 1168 1169 1170 1171 1172 1173 1174 1175 1176 1178 1179 1180 1181 1182 1183 1184 1185 1186 1187 1188 1190 1191 1192 1193 1194 1195 1196 1197 1198 1199 1200 1202 1203 1204 1205 1206 1207 1208 1209 1210 1211 1212 1214 1215 1216 1217 1218 1219 1220 1221 1222 1223 1224\n"
     ]
    }
   ],
   "source": [
    "for enonce in enonces:\n",
    "    yamlFichier=base+theme+\"-\"+enonce+\".yaml\"\n",
    "    csvFichier=base+theme+\".txt\"\n",
    "    boolEX=False\n",
    "    titreNoEX=False\n",
    "            \n",
    "    with open(yamlFichier, 'r') as stream:\n",
    "        configuration=yaml.load(stream)\n",
    "\n",
    "    with open(csvFichier, 'r') as file:\n",
    "        donneesLignes=file.readlines()\n",
    "\n",
    "    donnees=[]\n",
    "    if boolEX or donneesLignes[0].startswith(\"#EX;\"):\n",
    "    #    print \"avec #EX;\"\n",
    "        donneesEX()\n",
    "    else:\n",
    "    #    print \"sans #EX;\"\n",
    "        donneesNoEX()\n",
    "\n",
    "        \n",
    "    categorie=configuration[u\"Catégorie\"]\n",
    "    #donnees=configuration[u\"Données\"]\n",
    "    consigne=configuration[u\"Boucle\"][u\"contenu\"]\n",
    "    boucleWrap=[configuration[u\"Boucle\"][u\"début\"],configuration[u\"Boucle\"][\"fin\"]]\n",
    "    boucleCLOZE=configuration[u\"Boucle\"][u\"Cloze\"]\n",
    "    globalWrap=[configuration[u\"Décor\"][u\"fond\"]+configuration[u\"Décor\"][u\"entete\"]+configuration[u\"Global\"][u\"début\"],configuration[u\"Global\"][\"fin\"]]\n",
    "    if \"Conclusion\" in configuration:\n",
    "        conclusion=[configuration[u\"Conclusion\"][u\"début\"],configuration[u\"Conclusion\"][\"contenu\"],configuration[u\"Conclusion\"][\"fin\"]]\n",
    "        conclusionCLOZE=configuration[u\"Conclusion\"][u\"Cloze\"]\n",
    "    else:\n",
    "        conclusion=[\"\",\"\",\"\"]\n",
    "        conclusionCLOZE=[]\n",
    "    questions=XMLSeries(categorie)\n",
    "    questionsConsigne=ClozeConsigne(consigne,boucleWrap=boucleWrap,globalWrap=globalWrap,conclusion=conclusion)\n",
    "    serie=ClozeSerie(configuration[u\"Boucle\"][u\"Cloze\"],conclusionCLOZE)\n",
    "\n",
    "    for exercices in donnees:\n",
    "    #    print \"exercices\",exercices\n",
    "        for exercice in exercices:\n",
    "    #        print \"exercice\",exercice\n",
    "            exerciceBoucle=exercices[exercice][\"boucle\"]\n",
    "            exerciceConclusion=exercices[exercice][\"conclusion\"]\n",
    "            serie.addExercice(Exercice(exerciceBoucle,exerciceConclusion,exercice.decode('utf8')))\n",
    "\n",
    "    for exercice in serie.makeSerie(questionsConsigne):\n",
    "#        print exercice.corps\n",
    "#        print\n",
    "        questions.addExercice(exercice)\n",
    "\n",
    "    xmlOutput=MoodleXML()\n",
    "    xmlOutput.addQuiz(questions.getSeries())\n",
    "\n",
    "    xmlFichier=yamlFichier.split(\".\")[0]+\".xml\"\n",
    "\n",
    "    with codecs.open(xmlFichier, 'w',encoding=\"utf8\") as output:\n",
    "    #    print [questions.getClozes()]\n",
    "        output.write(xmlOutput.getXML())"
   ]
  },
  {
   "cell_type": "code",
   "execution_count": 48,
   "metadata": {
    "collapsed": true
   },
   "outputs": [],
   "source": [
    "#xmlOutput.getXML()"
   ]
  },
  {
   "cell_type": "code",
   "execution_count": null,
   "metadata": {
    "collapsed": true
   },
   "outputs": [],
   "source": []
  }
 ],
 "metadata": {
  "kernelspec": {
   "display_name": "Python 2",
   "language": "python",
   "name": "python2"
  },
  "language_info": {
   "codemirror_mode": {
    "name": "ipython",
    "version": 2
   },
   "file_extension": ".py",
   "mimetype": "text/x-python",
   "name": "python",
   "nbconvert_exporter": "python",
   "pygments_lexer": "ipython2",
   "version": "2.7.11"
  }
 },
 "nbformat": 4,
 "nbformat_minor": 1
}

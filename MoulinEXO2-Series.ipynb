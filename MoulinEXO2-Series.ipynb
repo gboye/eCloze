{
 "cells": [
  {
   "cell_type": "code",
<<<<<<< Updated upstream
   "execution_count": 1,
=======
   "execution_count": 70,
>>>>>>> Stashed changes
   "metadata": {
    "collapsed": false
   },
   "outputs": [],
   "source": [
    "#import re\n",
    "import sys, codecs, optparse, glob, os\n",
    "import string, yaml\n",
    "import random, warnings\n",
    "from ToolsMoodleXML2 import *"
   ]
  },
  {
   "cell_type": "code",
<<<<<<< Updated upstream
   "execution_count": 2,
=======
   "execution_count": 71,
>>>>>>> Stashed changes
   "metadata": {
    "collapsed": false
   },
   "outputs": [],
   "source": [
    "dossier=\"/ownCloud/Cours/Bordeaux/L1-LinguistiqueGenerale/Kalaba-Project/16-K2\"\n",
    "enonces=[\"Forme-Radical\",\n",
    "         \"Forme-Traduction\",\"Traduction-Radical\",\n",
    "#         \"Forme-Traduction-MC\",\"Traduction-Radical-MC\",\n",
    "#         \"Forme-Proprietes\",\n",
    "         \"Glose-Decoupe\",\"Decoupe-Glose-MC\",\"Decoupe-Glose\"\n",
    "        ]\n",
    "enonces=[\n",
    "         \"Forme-Traduction\",\"Traduction-Radical\",\n",
    "#         \"Forme-Traduction-MC\",\"Traduction-Radical-MC\",\n",
    "#         \"Forme-Proprietes\",\n",
    "         \"Proprietes-Forme\",\n",
    "#         \"Glose-Decoupe\",\n",
    "         \"Decoupe-Glose-MC\",\n",
    "#         \"Decoupe-Glose\"\n",
    "        ]\n",
<<<<<<< Updated upstream
    "theme=\"16-K2-A1\"\n",
    "enonces=[\"Theme\",\"Version\"]\n",
    "theme=\"Traductions\"\n",
    "#enonces=[\"Proprietes-Forme\"]\n",
    "#theme=\"16-K2-B2\""
=======
    "#theme=\"16-K1-A1\"\n",
    "#enonces=[\"Theme\",\"Version\"]\n",
    "#theme=\"Traductions\"\n",
    "#enonces=[\"Proprietes-Forme\"]\n",
    "#theme=\"16-K1-B2\"\n",
    "enonces=[\"Ordre\"]\n",
    "theme=\"Syntagmes\""
>>>>>>> Stashed changes
   ]
  },
  {
   "cell_type": "code",
<<<<<<< Updated upstream
   "execution_count": 3,
=======
   "execution_count": 72,
>>>>>>> Stashed changes
   "metadata": {
    "collapsed": false
   },
   "outputs": [],
   "source": [
    "from os.path import expanduser\n",
    "home = expanduser(\"~\")\n",
    "repertoire=home+dossier\n",
    "base=repertoire+\"/\""
   ]
  },
  {
   "cell_type": "code",
<<<<<<< Updated upstream
   "execution_count": 4,
=======
   "execution_count": 73,
>>>>>>> Stashed changes
   "metadata": {
    "collapsed": false
   },
   "outputs": [],
   "source": [
    "def donneesEX():\n",
    "    titre=[]\n",
    "    result=\"\"\n",
    "    i=0\n",
    "    for ligne in donneesLignes:\n",
    "        i+=1\n",
    "        if ligne.startswith(\"#EX;\"):\n",
    "            if result!=\"\":\n",
    "                donnees.append({\"-\".join(titre):result})\n",
    "            titre=[]\n",
    "            result={\"boucle\":[],\"conclusion\":[]}\n",
    "            temp=ligne.strip().split(\";\")\n",
    "            if len(temp)>1 and temp[1]!=\"\":\n",
    "                result[\"conclusion\"]=temp[1:]\n",
    "        elif ligne.startswith(\"#\"):\n",
    "            pass\n",
    "        else:\n",
    "            temp=ligne.strip().split(\";\")\n",
    "            result[\"boucle\"].append(temp)\n",
    "            titre.append(makeChamps(configuration[u\"Titre\"],temp).encode('utf8'))\n",
    "    donnees.append({\"-\".join(titre):result})\n",
    "\n",
    "def donneesNoEX():\n",
    "    if titreNoEX:\n",
    "        debut=1\n",
    "    else:\n",
    "        debut=0\n",
    "    for ligne in donneesLignes[debut:]:\n",
    "        if not (ligne.strip().strip(\";\")==\"\" or ligne.startswith(\"#\")):\n",
    "            temp=ligne.strip().split(\";\")\n",
    "            result={\"boucle\":[temp],\"conclusion\":[]}\n",
    "            titre=makeChamps(configuration[u\"Titre\"],temp).encode('utf8')\n",
    "            donnees.append({titre:result})\n",
    "    return"
   ]
  },
  {
   "cell_type": "code",
<<<<<<< Updated upstream
   "execution_count": 5,
=======
   "execution_count": 74,
>>>>>>> Stashed changes
   "metadata": {
    "collapsed": false
   },
   "outputs": [],
   "source": [
    "for enonce in enonces:\n",
    "    yamlFichier=base+theme+\"-\"+enonce+\".yaml\"\n",
    "    csvFichier=base+theme+\".txt\"\n",
    "    boolEX=False\n",
    "    titreNoEX=False\n",
    "            \n",
    "    with open(yamlFichier, 'r') as stream:\n",
    "        configuration=yaml.load(stream)\n",
    "\n",
    "    with open(csvFichier, 'r') as file:\n",
    "        donneesLignes=file.readlines()\n",
    "\n",
    "    donnees=[]\n",
    "    if boolEX or donneesLignes[0].startswith(\"#EX;\"):\n",
    "    #    print \"avec #EX;\"\n",
    "        donneesEX()\n",
    "    else:\n",
    "    #    print \"sans #EX;\"\n",
    "        donneesNoEX()\n",
    "\n",
    "        \n",
    "    categorie=configuration[u\"Catégorie\"]\n",
    "    #donnees=configuration[u\"Données\"]\n",
    "    consigne=configuration[u\"Boucle\"][u\"contenu\"]\n",
    "    boucleWrap=[configuration[u\"Boucle\"][u\"début\"],configuration[u\"Boucle\"][\"fin\"]]\n",
    "    boucleCLOZE=configuration[u\"Boucle\"][u\"Cloze\"]\n",
    "    globalWrap=[configuration[u\"Décor\"][u\"fond\"]+configuration[u\"Décor\"][u\"entete\"]+configuration[u\"Global\"][u\"début\"],configuration[u\"Global\"][\"fin\"]]\n",
    "    if \"Conclusion\" in configuration:\n",
    "        conclusion=[configuration[u\"Conclusion\"][u\"début\"],configuration[u\"Conclusion\"][\"contenu\"],configuration[u\"Conclusion\"][\"fin\"]]\n",
    "        conclusionCLOZE=configuration[u\"Conclusion\"][u\"Cloze\"]\n",
    "    else:\n",
    "        conclusion=[\"\",\"\",\"\"]\n",
    "        conclusionCLOZE=[]\n",
    "    questions=XMLSeries(categorie)\n",
    "    questionsConsigne=ClozeConsigne(consigne,boucleWrap=boucleWrap,globalWrap=globalWrap,conclusion=conclusion)\n",
    "    serie=ClozeSerie(configuration[u\"Boucle\"][u\"Cloze\"],conclusionCLOZE)\n",
    "\n",
    "    for exercices in donnees:\n",
    "    #    print \"exercices\",exercices\n",
    "        for exercice in exercices:\n",
    "    #        print \"exercice\",exercice\n",
    "            exerciceBoucle=exercices[exercice][\"boucle\"]\n",
    "            exerciceConclusion=exercices[exercice][\"conclusion\"]\n",
    "            serie.addExercice(Exercice(exerciceBoucle,exerciceConclusion,exercice.decode('utf8')))\n",
    "\n",
    "    for exercice in serie.makeSerie(questionsConsigne):\n",
    "#        print exercice.corps\n",
    "#        print\n",
    "        questions.addExercice(exercice)\n",
    "\n",
    "    xmlOutput=MoodleXML()\n",
    "    xmlOutput.addQuiz(questions.getSeries())\n",
    "\n",
    "    xmlFichier=yamlFichier.split(\".\")[0]+\".xml\"\n",
    "\n",
    "    with codecs.open(xmlFichier, 'w',encoding=\"utf8\") as output:\n",
    "    #    print [questions.getClozes()]\n",
    "        output.write(xmlOutput.getXML())"
   ]
  },
  {
   "cell_type": "code",
<<<<<<< Updated upstream
   "execution_count": 6,
=======
   "execution_count": 75,
>>>>>>> Stashed changes
   "metadata": {
    "collapsed": false
   },
   "outputs": [],
   "source": [
    "#xmlOutput.getXML()"
   ]
  },
  {
   "cell_type": "code",
   "execution_count": null,
   "metadata": {
    "collapsed": true
   },
   "outputs": [],
   "source": []
  }
 ],
 "metadata": {
  "kernelspec": {
   "display_name": "Python 2",
   "language": "python",
   "name": "python2"
  },
  "language_info": {
   "codemirror_mode": {
    "name": "ipython",
    "version": 2
   },
   "file_extension": ".py",
   "mimetype": "text/x-python",
   "name": "python",
   "nbconvert_exporter": "python",
   "pygments_lexer": "ipython2",
   "version": "2.7.11"
  }
 },
 "nbformat": 4,
 "nbformat_minor": 0
}

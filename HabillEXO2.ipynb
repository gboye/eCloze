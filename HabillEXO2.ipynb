{
 "metadata": {
  "name": "",
  "signature": "sha256:064f9d9838ac4e1e1776f93b891de83116bae4c38e39b332db5ce4e9c46439f1"
 },
 "nbformat": 3,
 "nbformat_minor": 0,
 "worksheets": [
  {
   "cells": [
    {
     "cell_type": "code",
     "collapsed": false,
     "input": [
      "import sys, codecs, optparse, glob, os"
     ],
     "language": "python",
     "metadata": {},
     "outputs": [],
     "prompt_number": 1
    },
    {
     "cell_type": "code",
     "collapsed": false,
     "input": [
      "from MoodleXML import *"
     ],
     "language": "python",
     "metadata": {},
     "outputs": [],
     "prompt_number": 2
    },
    {
     "cell_type": "markdown",
     "metadata": {},
     "source": [
      "Nom du fichier d'entr\u00e9e : *csvFichier*"
     ]
    },
    {
     "cell_type": "code",
     "collapsed": false,
     "input": [
      "csvFichier=\"questionsScript.txt\""
     ],
     "language": "python",
     "metadata": {},
     "outputs": [],
     "prompt_number": 3
    },
    {
     "cell_type": "code",
     "collapsed": false,
     "input": [
      "with open(csvFichier, 'r') as file:\n",
      "    donneesLignes=file.readlines()"
     ],
     "language": "python",
     "metadata": {},
     "outputs": [],
     "prompt_number": 4
    },
    {
     "cell_type": "markdown",
     "metadata": {},
     "source": [
      "On initialise la s\u00e9rie de *questions* Cloze en donnant la cat\u00e9gorie\n",
      "\n",
      "- si une ligne commence par **\"#EX;\"** c'est le d\u00e9but d'un exercice\n",
      " - on ajoute l'exercice en cours aux *questions* sous la forme d'un ClozeExercice\n",
      " - on initialise pour le suivant : *titre* et *corps*\n",
      "- sinon\n",
      " - on ajoute la ligne au corps de l'exercice"
     ]
    },
    {
     "cell_type": "code",
     "collapsed": false,
     "input": [
      "questions=XMLClozes(\"PySyntax\")\n",
      "\n",
      "titre=\"default\"\n",
      "corps=\"\"\n",
      "for ligne in donneesLignes:\n",
      "    ligne=ligne.strip()\n",
      "    if ligne.startswith(\"#EX;\"):\n",
      "        if corps!=\"\":\n",
      "            questions.addExercice(ClozeExercice(titre,corps))\n",
      "            titre=ligne.split(\";\")[1]\n",
      "            corps=\"\"\n",
      "    else:\n",
      "        corps+=ligne+\"\\n\""
     ],
     "language": "python",
     "metadata": {},
     "outputs": [],
     "prompt_number": 5
    },
    {
     "cell_type": "markdown",
     "metadata": {},
     "source": [
      "On d\u00e9clare une structure pour Moodle XML\n",
      "\n",
      "On y ajoute les *questions*"
     ]
    },
    {
     "cell_type": "code",
     "collapsed": false,
     "input": [
      "xmlOutput=MoodleXML()\n",
      "xmlOutput.addQuiz(questions.getClozes())"
     ],
     "language": "python",
     "metadata": {},
     "outputs": [],
     "prompt_number": 6
    },
    {
     "cell_type": "markdown",
     "metadata": {},
     "source": [
      "On cr\u00e9e le nom du fichier de sortie \u00e0 partir de celui du fichier d'entr\u00e9e\n",
      "\n",
      "On \u00e9crit le r\u00e9sultat dans le fichier."
     ]
    },
    {
     "cell_type": "code",
     "collapsed": false,
     "input": [
      "xmlFichier=csvFichier.split(\".\")[0]+\".xml\""
     ],
     "language": "python",
     "metadata": {},
     "outputs": [],
     "prompt_number": 7
    },
    {
     "cell_type": "code",
     "collapsed": false,
     "input": [
      "with codecs.open(xmlFichier, 'w',\"utf8\") as output:\n",
      "    output.write(xmlOutput.getXML())"
     ],
     "language": "python",
     "metadata": {},
     "outputs": [],
     "prompt_number": 8
    }
   ],
   "metadata": {}
  }
 ]
}
{
 "cells": [
  {
   "cell_type": "code",
   "execution_count": 48,
   "metadata": {
    "collapsed": true
   },
   "outputs": [],
   "source": [
    "#import re\n",
    "import sys, codecs, optparse, glob, os\n",
    "import string\n",
    "import random"
   ]
  },
  {
   "cell_type": "markdown",
   "metadata": {},
   "source": [
    "### Attention à la gestion des points des parenthèses et des crochets\n",
    "mettre *echapperParCro* à :\n",
    "- *True* pour utiliser les parenthèses et les crochets dans les chaines\n",
    "- *False* pour que les caractères en question soient considérés comme des éléments de **regex**\n",
    "\n",
    "Pour l'instant, les points sont toujours échappés."
   ]
  },
  {
   "cell_type": "code",
   "execution_count": 49,
   "metadata": {
    "collapsed": true
   },
   "outputs": [],
   "source": [
    "debug=False\n",
    "echapperParCro=False"
   ]
  },
  {
   "cell_type": "code",
   "execution_count": 50,
   "metadata": {
    "collapsed": true
   },
   "outputs": [],
   "source": [
    "dossier=\"/Github/eGloss\"\n",
    "enonce=\"Test\"\n",
    "theme=\"CH-Separations-Mots\"\n",
    "numeroterQuestions=True\n",
    "adaptatifPenalite=\"0.2000000\"\n",
    "dernierIndiceNote=75.0\n",
    "msgPlusDeMots=u\"Il y a plus de mots\"\n",
    "msgMoinsDeMots=u\"Il y a moins de mots\"\n",
    "def nbIndiceNotes(nb):\n",
    "    if nb==1: \n",
    "        return [\"%50%\"]\n",
    "    elif nb==2:\n",
    "        return [\"\",\"%50%\"]\n",
    "    else:\n",
    "        return [\"\"]+[\"%\"+str(int((i+2)*dernierIndiceNote/nb))+\"%\" for i in range(nb-1)]   "
   ]
  },
  {
   "cell_type": "code",
   "execution_count": 51,
   "metadata": {
    "collapsed": true
   },
   "outputs": [],
   "source": [
    "if debug:\n",
    "    for i in range(20):\n",
    "        print i,nbIndiceNotes(i) "
   ]
  },
  {
   "cell_type": "markdown",
   "metadata": {},
   "source": [
    "nbIndiceNotes={\n",
    "    1:[\"%50%\"],\n",
    "    2:[\"\",\"%50%\"],\n",
    "    3:[\"\",\"%40%\",\"%75%\"],\n",
    "    4:[\"\",\"%25%\",\"%50%\",\"%75%\"],\n",
    "    5:[\"\",\"%25%\",\"%40%\", \"%60%\",\"%75%\"],\n",
    "    6:[\"\",\"%20%\",\"%35%\",\"%50%\", \"%60%\",\"%75%\"],\n",
    "    7:[\"\",\"%15\",\"%25%\",\"%35%\",\"%50%\", \"%60%\",\"%75%\"],\n",
    "    8:[\"\",\"%15\",\"%25%\",\"%35%\",\"%45%\",\"%55%\", \"%65%\",\"%75%\"],\n",
    "    9:[\"\",\"%5%\",\"%15\",\"%25%\",\"%35%\",\"%45%\",\"%55%\", \"%65%\",\"%75%\"],\n",
    "    10:[\"\",\"%8%\",\"%16%\",\"%24%\",\"%32%\",\"%40%\",\"%48%\", \"%56%\",\"%64%\",\"%75%\"],\n",
    "}"
   ]
  },
  {
   "cell_type": "code",
   "execution_count": 52,
   "metadata": {
    "collapsed": true
   },
   "outputs": [],
   "source": [
    "from os.path import expanduser\n",
    "home = expanduser(\"~\")\n",
    "repertoire=home+dossier\n",
    "base=repertoire+\"/\""
   ]
  },
  {
   "cell_type": "code",
   "execution_count": 53,
   "metadata": {
    "collapsed": true
   },
   "outputs": [],
   "source": [
    "from ToolsMoodleXML2 import *\n",
    "import yaml"
   ]
  },
  {
   "cell_type": "code",
   "execution_count": 54,
   "metadata": {
    "collapsed": true
   },
   "outputs": [],
   "source": [
    "yamlFichier=base+theme+\"-\"+enonce+\".yaml\"\n",
    "csvFichier=base+theme+\".txt\"\n",
    "boolEX=True\n",
    "titreNoEX=False"
   ]
  },
  {
   "cell_type": "code",
   "execution_count": 55,
   "metadata": {
    "collapsed": true
   },
   "outputs": [],
   "source": [
    "with open(yamlFichier, 'r') as stream:\n",
    "    configuration=yaml.load(stream)\n",
    "    \n",
    "with codecs.open(csvFichier, 'r', encoding=\"utf8\") as file:\n",
    "    donneesLignes=file.readlines()"
   ]
  },
  {
   "cell_type": "code",
   "execution_count": 56,
   "metadata": {
    "collapsed": true
   },
   "outputs": [],
   "source": [
    "def donneesEX():\n",
    "    titre=[]\n",
    "    result={}\n",
    "    boolMultiLignes=False\n",
    "    i=0\n",
    "    for ligne in donneesLignes:\n",
    "        if debug or 0: print ligne\n",
    "        i+=1\n",
    "        if ligne.startswith(\"#EX;\"):\n",
    "            if result:\n",
    "                donnees.append({\"-\".join(titre):result})\n",
    "            titre=[]\n",
    "            result={\"boucle\":[],\"conclusion\":[]}\n",
    "            temp=ligne.strip().split(\";\")\n",
    "            if len(temp)>1 and temp[1]!=\"\":\n",
    "                result[\"conclusion\"]=temp[1:]\n",
    "        elif ligne.startswith(\"#EXM;\"):\n",
    "            boolMultiLignes=True\n",
    "            if result:\n",
    "                donnees.append({\"-\".join(titre):result})\n",
    "            titre=[]\n",
    "            result={\"boucle\":[],\"conclusion\":[]}\n",
    "            temp=ligne.strip().split(\";\")\n",
    "            if len(temp)>1 and temp[1]!=\"\":\n",
    "                titre=temp[1:]            \n",
    "        elif ligne.startswith(\"#\"):\n",
    "            pass\n",
    "        else:\n",
    "            temp=ligne.strip().split(\";\")\n",
    "            if boolMultiLignes:\n",
    "                result[\"boucle\"].extend(temp)\n",
    "            else:\n",
    "                result[\"boucle\"].append(temp)\n",
    "#            titre.append(makeChamps(configuration[u\"Titre\"],temp).encode('utf8'))\n",
    "    donnees.append({\"-\".join(titre):result})\n",
    "\n",
    "def donneesNoEX():\n",
    "    if titreNoEX:\n",
    "        debut=1\n",
    "    else:\n",
    "        debut=0\n",
    "    for ligne in donneesLignes[debut:]:\n",
    "        if not (ligne.strip().strip(\";\")==\"\" or ligne.startswith(\"#\")):\n",
    "            temp=ligne.strip().split(\";\")\n",
    "            result={\"boucle\":[temp],\"conclusion\":[]}\n",
    "            titre=makeChamps(configuration[u\"Titre\"],temp).encode('utf8')\n",
    "            donnees.append({titre:result})\n",
    "    return\n",
    "\n",
    "donnees=[]\n",
    "if boolEX or donneesLignes[0].startswith(\"#EX;\"):\n",
    "#    print \"avec #EX;\"\n",
    "    donneesEX()\n",
    "else:\n",
    "#    print \"sans #EX;\"\n",
    "    donneesNoEX()"
   ]
  },
  {
   "cell_type": "code",
   "execution_count": 57,
   "metadata": {
    "collapsed": true
   },
   "outputs": [],
   "source": [
    "def lierMot(ref,chaine):\n",
    "    if motReferences[ref]:\n",
    "        mot=motReferences[ref]\n",
    "    else:\n",
    "        mot=ref\n",
    "    result=chaine.replace(ref,u'<a href=\"https://fr.wikipedia.org/wiki/%s\" target=\"_blank\" style=\"color:blue\">%s</a>'%(mot,ref))\n",
    "    return result\n",
    "\n",
    "def echapperCorrection(correction):\n",
    "    result=correction\n",
    "    print \"original\",result\n",
    "    subPoints = re.compile(ur\"(\\.[^*+])\")\n",
    "    result=subPoints.sub(ur\"\\\\\\1\",result)\n",
    "    m=re.match(ur\"^(--\\.\\*\\()(&&.*)(\\)\\.\\*)$\",result)\n",
    "    if m:\n",
    "        (prefixe, corps, suffixe)=m.groups()\n",
    "        subParentheses = re.compile(ur\"\\(([^)]*)\\)\")\n",
    "        corps=subParentheses.sub(ur\"\\\\(\\1\\\\)\",corps)\n",
    "        subCrochets = re.compile(ur\"\\[([^]]*)\\]\")\n",
    "        corps=subCrochets.sub(ur\"\\\\[\\1\\\\]\",corps)\n",
    "        result=prefixe+corps+suffixe\n",
    "    print \"échappé\",result\n",
    "    return result    \n",
    "\n",
    "def modifierCorrection(correction):\n",
    "    result=correction\n",
    "    print \"original\",result\n",
    "    subPoints = re.compile(ur\"(\\.[^*+])\")\n",
    "    result=subPoints.sub(ur\"\\\\\\1\",result)\n",
    "    print \"\\tsubPoints\", result\n",
    "    m=re.match(ur\"^(--\\.\\*\\()(&&.*)(\\)\\.\\*)$\",result)\n",
    "    if m:\n",
    "        (prefixe, corps, suffixe)=m.groups()\n",
    "        if echapperParCro:\n",
    "            subParentheses = re.compile(ur\"\\(([^)]*)\\)\")\n",
    "            corps=subParentheses.sub(ur\"\\\\(\\1\\\\)\",corps)\n",
    "            print \"\\tsubParentheses\",corps\n",
    "            subCrochets = re.compile(ur\"\\[([^]]*)\\]\")\n",
    "            corps=subCrochets.sub(ur\"\\\\[\\1\\\\]\",corps)\n",
    "            print \"\\tsubCrochets\",corps\n",
    "        unites=filter(None,corps.split(\"&&\"))\n",
    "        print \"\\tunités\",unites\n",
    "        corps=\".*\".join(unites)\n",
    "        result=prefixe+corps+suffixe\n",
    "    print \"\\téchappé\",result\n",
    "    return result    \n",
    "\n",
    "\n",
    "def separerMots(elements,titre):\n",
    "    result=[]\n",
    "    elements = filter(None, elements)\n",
    "    nbMots=len(elements[0].strip().split(\" \"))\n",
    "    solution=u\"=%s#Bravo ! La phrase était : %s\"%(elements[0],titre)\n",
    "    corrections=[]\n",
    "    nbElements=len(elements[1:])\n",
    "#    if not nbElements in nbIndiceNotes: \n",
    "#        print \"Ajouter une répartition des notes pour %d indices\"%nbElements\n",
    "#        print titre\n",
    "#        print elements[1:]\n",
    "    for n,element in enumerate(elements[1:]):\n",
    "        (reponseSpec,feedbackSpec)=element.split(\"#\")\n",
    "        reponseSpec=modifierCorrection(reponseSpec)\n",
    "        if feedbackSpec:\n",
    "            for mot in motReferences:\n",
    "                if mot in feedbackSpec:\n",
    "                    feedbackSpec=lierMot(mot,feedbackSpec)\n",
    "        element=\"#\".join([reponseSpec,feedbackSpec])\n",
    "        corrections.append(nbIndiceNotes(nbElements)[n]+element)\n",
    "#    print nbMots\n",
    "    minMots=\"^\"+\"([^ ]+ +)?\"*(nbMots-4)+\"[^ ]+$#%s\"%msgPlusDeMots\n",
    "    maxMots=\"^\"+\"([^ ]+ +)\"*(nbMots+2)+\"([^ ]+ +)*[^ ]+$#%s\"%msgMoinsDeMots\n",
    "#    print \"~\".join(elements)\n",
    "    result.extend([solution,minMots,maxMots])\n",
    "    result.extend(corrections)\n",
    "    return result"
   ]
  },
  {
   "cell_type": "code",
   "execution_count": 58,
   "metadata": {
    "scrolled": true
   },
   "outputs": [
    {
     "name": "stdout",
     "output_type": "stream",
     "text": [
      "original ron jiyizkin ron ginxo geci winvxo ujuz jiyizvxon ron becug otmayakanoza ginhxoz ekyupenvu vangaz givxoz miznxo rizi otmavoloyo wanacag v.*a\n",
      "\tsubPoints ron jiyizkin ron ginxo geci winvxo ujuz jiyizvxon ron becug otmayakanoza ginhxoz ekyupenvu vangaz givxoz miznxo rizi otmavoloyo wanacag v.*a\n",
      "\téchappé ron jiyizkin ron ginxo geci winvxo ujuz jiyizvxon ron becug otmayakanoza ginhxoz ekyupenvu vangaz givxoz miznxo rizi otmavoloyo wanacag v.*a\n",
      "original ron jiyizkin ron ginxo geci winvxo ujuz jiyizvxon ron becug otmayakanoza ginhxoz ekyupenvu vangaz givxoz miznxo rizi otmavoloyo w.*a uyumkizvxo\n",
      "\tsubPoints ron jiyizkin ron ginxo geci winvxo ujuz jiyizvxon ron becug otmayakanoza ginhxoz ekyupenvu vangaz givxoz miznxo rizi otmavoloyo w.*a uyumkizvxo\n",
      "\téchappé ron jiyizkin ron ginxo geci winvxo ujuz jiyizvxon ron becug otmayakanoza ginhxoz ekyupenvu vangaz givxoz miznxo rizi otmavoloyo w.*a uyumkizvxo\n",
      "original ron jiyizkin ron ginxo geci winvxo ujuz jiyizvxon ron becug otmayakanoza ginhxoz ekyupenvu vangaz givxoz miznxo rizi o.*g vopa uyumkizvxo\n",
      "\tsubPoints ron jiyizkin ron ginxo geci winvxo ujuz jiyizvxon ron becug otmayakanoza ginhxoz ekyupenvu vangaz givxoz miznxo rizi o.*g vopa uyumkizvxo\n",
      "\téchappé ron jiyizkin ron ginxo geci winvxo ujuz jiyizvxon ron becug otmayakanoza ginhxoz ekyupenvu vangaz givxoz miznxo rizi o.*g vopa uyumkizvxo\n",
      "original ron jiyizkin ron ginxo geci winvxo ujuz jiyizvxon ron becug otmayakanoza ginhxoz ekyupenvu vangaz givxoz miznxo r.*o wanacag vopa uyumkizvxo\n",
      "\tsubPoints ron jiyizkin ron ginxo geci winvxo ujuz jiyizvxon ron becug otmayakanoza ginhxoz ekyupenvu vangaz givxoz miznxo r.*o wanacag vopa uyumkizvxo\n",
      "\téchappé ron jiyizkin ron ginxo geci winvxo ujuz jiyizvxon ron becug otmayakanoza ginhxoz ekyupenvu vangaz givxoz miznxo r.*o wanacag vopa uyumkizvxo\n",
      "original ron jiyizkin ron ginxo geci winvxo ujuz jiyizvxon ron becug otmayakanoza ginhxoz ekyupenvu vangaz givxoz m.*i otmavoloyo wanacag vopa uyumkizvxo\n",
      "\tsubPoints ron jiyizkin ron ginxo geci winvxo ujuz jiyizvxon ron becug otmayakanoza ginhxoz ekyupenvu vangaz givxoz m.*i otmavoloyo wanacag vopa uyumkizvxo\n",
      "\téchappé ron jiyizkin ron ginxo geci winvxo ujuz jiyizvxon ron becug otmayakanoza ginhxoz ekyupenvu vangaz givxoz m.*i otmavoloyo wanacag vopa uyumkizvxo\n",
      "original ron jiyizkin ron ginxo geci winvxo ujuz jiyizvxon ron becug otmayakanoza ginhxoz ekyupenvu vangaz g.*o rizi otmavoloyo wanacag vopa uyumkizvxo\n",
      "\tsubPoints ron jiyizkin ron ginxo geci winvxo ujuz jiyizvxon ron becug otmayakanoza ginhxoz ekyupenvu vangaz g.*o rizi otmavoloyo wanacag vopa uyumkizvxo\n",
      "\téchappé ron jiyizkin ron ginxo geci winvxo ujuz jiyizvxon ron becug otmayakanoza ginhxoz ekyupenvu vangaz g.*o rizi otmavoloyo wanacag vopa uyumkizvxo\n",
      "original ron jiyizkin ron ginxo geci winvxo ujuz jiyizvxon ron becug otmayakanoza ginhxoz ekyupenvu v.*z miznxo rizi otmavoloyo wanacag vopa uyumkizvxo\n",
      "\tsubPoints ron jiyizkin ron ginxo geci winvxo ujuz jiyizvxon ron becug otmayakanoza ginhxoz ekyupenvu v.*z miznxo rizi otmavoloyo wanacag vopa uyumkizvxo\n",
      "\téchappé ron jiyizkin ron ginxo geci winvxo ujuz jiyizvxon ron becug otmayakanoza ginhxoz ekyupenvu v.*z miznxo rizi otmavoloyo wanacag vopa uyumkizvxo\n",
      "original ron jiyizkin ron ginxo geci winvxo ujuz jiyizvxon ron becug otmayakanoza ginhxoz e.*z givxoz miznxo rizi otmavoloyo wanacag vopa uyumkizvxo\n",
      "\tsubPoints ron jiyizkin ron ginxo geci winvxo ujuz jiyizvxon ron becug otmayakanoza ginhxoz e.*z givxoz miznxo rizi otmavoloyo wanacag vopa uyumkizvxo\n",
      "\téchappé ron jiyizkin ron ginxo geci winvxo ujuz jiyizvxon ron becug otmayakanoza ginhxoz e.*z givxoz miznxo rizi otmavoloyo wanacag vopa uyumkizvxo\n",
      "original ron jiyizkin ron ginxo geci winvxo ujuz jiyizvxon ron becug otmayakanoza g.*u vangaz givxoz miznxo rizi otmavoloyo wanacag vopa uyumkizvxo\n",
      "\tsubPoints ron jiyizkin ron ginxo geci winvxo ujuz jiyizvxon ron becug otmayakanoza g.*u vangaz givxoz miznxo rizi otmavoloyo wanacag vopa uyumkizvxo\n",
      "\téchappé ron jiyizkin ron ginxo geci winvxo ujuz jiyizvxon ron becug otmayakanoza g.*u vangaz givxoz miznxo rizi otmavoloyo wanacag vopa uyumkizvxo\n",
      "original ron jiyizkin ron ginxo geci winvxo ujuz jiyizvxon ron becug o.*z ekyupenvu vangaz givxoz miznxo rizi otmavoloyo wanacag vopa uyumkizvxo\n",
      "\tsubPoints ron jiyizkin ron ginxo geci winvxo ujuz jiyizvxon ron becug o.*z ekyupenvu vangaz givxoz miznxo rizi otmavoloyo wanacag vopa uyumkizvxo\n",
      "\téchappé ron jiyizkin ron ginxo geci winvxo ujuz jiyizvxon ron becug o.*z ekyupenvu vangaz givxoz miznxo rizi otmavoloyo wanacag vopa uyumkizvxo\n",
      "original ron jiyizkin ron ginxo geci winvxo ujuz jiyizvxon ron b.*a ginhxoz ekyupenvu vangaz givxoz miznxo rizi otmavoloyo wanacag vopa uyumkizvxo\n",
      "\tsubPoints ron jiyizkin ron ginxo geci winvxo ujuz jiyizvxon ron b.*a ginhxoz ekyupenvu vangaz givxoz miznxo rizi otmavoloyo wanacag vopa uyumkizvxo\n",
      "\téchappé ron jiyizkin ron ginxo geci winvxo ujuz jiyizvxon ron b.*a ginhxoz ekyupenvu vangaz givxoz miznxo rizi otmavoloyo wanacag vopa uyumkizvxo\n",
      "original ron jiyizkin ron ginxo geci winvxo ujuz jiyizvxon r.*g otmayakanoza ginhxoz ekyupenvu vangaz givxoz miznxo rizi otmavoloyo wanacag vopa uyumkizvxo\n",
      "\tsubPoints ron jiyizkin ron ginxo geci winvxo ujuz jiyizvxon r.*g otmayakanoza ginhxoz ekyupenvu vangaz givxoz miznxo rizi otmavoloyo wanacag vopa uyumkizvxo\n",
      "\téchappé ron jiyizkin ron ginxo geci winvxo ujuz jiyizvxon r.*g otmayakanoza ginhxoz ekyupenvu vangaz givxoz miznxo rizi otmavoloyo wanacag vopa uyumkizvxo\n",
      "original ron jiyizkin ron ginxo geci winvxo ujuz j.*n becug otmayakanoza ginhxoz ekyupenvu vangaz givxoz miznxo rizi otmavoloyo wanacag vopa uyumkizvxo\n",
      "\tsubPoints ron jiyizkin ron ginxo geci winvxo ujuz j.*n becug otmayakanoza ginhxoz ekyupenvu vangaz givxoz miznxo rizi otmavoloyo wanacag vopa uyumkizvxo\n",
      "\téchappé ron jiyizkin ron ginxo geci winvxo ujuz j.*n becug otmayakanoza ginhxoz ekyupenvu vangaz givxoz miznxo rizi otmavoloyo wanacag vopa uyumkizvxo\n",
      "original ron jiyizkin ron ginxo geci winvxo u.*n ron becug otmayakanoza ginhxoz ekyupenvu vangaz givxoz miznxo rizi otmavoloyo wanacag vopa uyumkizvxo\n",
      "\tsubPoints ron jiyizkin ron ginxo geci winvxo u.*n ron becug otmayakanoza ginhxoz ekyupenvu vangaz givxoz miznxo rizi otmavoloyo wanacag vopa uyumkizvxo\n",
      "\téchappé ron jiyizkin ron ginxo geci winvxo u.*n ron becug otmayakanoza ginhxoz ekyupenvu vangaz givxoz miznxo rizi otmavoloyo wanacag vopa uyumkizvxo\n",
      "original ron jiyizkin ron ginxo geci w.*z jiyizvxon ron becug otmayakanoza ginhxoz ekyupenvu vangaz givxoz miznxo rizi otmavoloyo wanacag vopa uyumkizvxo\n",
      "\tsubPoints ron jiyizkin ron ginxo geci w.*z jiyizvxon ron becug otmayakanoza ginhxoz ekyupenvu vangaz givxoz miznxo rizi otmavoloyo wanacag vopa uyumkizvxo\n",
      "\téchappé ron jiyizkin ron ginxo geci w.*z jiyizvxon ron becug otmayakanoza ginhxoz ekyupenvu vangaz givxoz miznxo rizi otmavoloyo wanacag vopa uyumkizvxo\n",
      "original ron jiyizkin ron ginxo g.*o ujuz jiyizvxon ron becug otmayakanoza ginhxoz ekyupenvu vangaz givxoz miznxo rizi otmavoloyo wanacag vopa uyumkizvxo\n",
      "\tsubPoints ron jiyizkin ron ginxo g.*o ujuz jiyizvxon ron becug otmayakanoza ginhxoz ekyupenvu vangaz givxoz miznxo rizi otmavoloyo wanacag vopa uyumkizvxo\n",
      "\téchappé ron jiyizkin ron ginxo g.*o ujuz jiyizvxon ron becug otmayakanoza ginhxoz ekyupenvu vangaz givxoz miznxo rizi otmavoloyo wanacag vopa uyumkizvxo\n",
      "original ron jiyizkin ron g.*i winvxo ujuz jiyizvxon ron becug otmayakanoza ginhxoz ekyupenvu vangaz givxoz miznxo rizi otmavoloyo wanacag vopa uyumkizvxo\n",
      "\tsubPoints ron jiyizkin ron g.*i winvxo ujuz jiyizvxon ron becug otmayakanoza ginhxoz ekyupenvu vangaz givxoz miznxo rizi otmavoloyo wanacag vopa uyumkizvxo\n",
      "\téchappé ron jiyizkin ron g.*i winvxo ujuz jiyizvxon ron becug otmayakanoza ginhxoz ekyupenvu vangaz givxoz miznxo rizi otmavoloyo wanacag vopa uyumkizvxo\n",
      "original ron jiyizkin r.*o geci winvxo ujuz jiyizvxon ron becug otmayakanoza ginhxoz ekyupenvu vangaz givxoz miznxo rizi otmavoloyo wanacag vopa uyumkizvxo\n",
      "\tsubPoints ron jiyizkin r.*o geci winvxo ujuz jiyizvxon ron becug otmayakanoza ginhxoz ekyupenvu vangaz givxoz miznxo rizi otmavoloyo wanacag vopa uyumkizvxo\n",
      "\téchappé ron jiyizkin r.*o geci winvxo ujuz jiyizvxon ron becug otmayakanoza ginhxoz ekyupenvu vangaz givxoz miznxo rizi otmavoloyo wanacag vopa uyumkizvxo\n",
      "original ron j.*n ginxo geci winvxo ujuz jiyizvxon ron becug otmayakanoza ginhxoz ekyupenvu vangaz givxoz miznxo rizi otmavoloyo wanacag vopa uyumkizvxo\n",
      "\tsubPoints ron j.*n ginxo geci winvxo ujuz jiyizvxon ron becug otmayakanoza ginhxoz ekyupenvu vangaz givxoz miznxo rizi otmavoloyo wanacag vopa uyumkizvxo\n",
      "\téchappé ron j.*n ginxo geci winvxo ujuz jiyizvxon ron becug otmayakanoza ginhxoz ekyupenvu vangaz givxoz miznxo rizi otmavoloyo wanacag vopa uyumkizvxo\n",
      "original r.*n ron ginxo geci winvxo ujuz jiyizvxon ron becug otmayakanoza ginhxoz ekyupenvu vangaz givxoz miznxo rizi otmavoloyo wanacag vopa uyumkizvxo\n",
      "\tsubPoints r.*n ron ginxo geci winvxo ujuz jiyizvxon ron becug otmayakanoza ginhxoz ekyupenvu vangaz givxoz miznxo rizi otmavoloyo wanacag vopa uyumkizvxo\n",
      "\téchappé r.*n ron ginxo geci winvxo ujuz jiyizvxon ron becug otmayakanoza ginhxoz ekyupenvu vangaz givxoz miznxo rizi otmavoloyo wanacag vopa uyumkizvxo\n"
>>>>>>> Stashed changes
     ]
    }
   ],
   "source": [
    "consigne=\"<br/>\".join(configuration[u\"Consigne\"])\n",
    "motReferences=configuration[u\"Références\"]\n",
    "separationExercices=[]\n",
    "for numQuestion,question in enumerate(donnees):\n",
    "    questionLignes=[]\n",
    "    for nom in question:\n",
    "        titre=nom\n",
    "        if numeroterQuestions :\n",
    "            titreQuestion=\"%02d-\"%(numQuestion+1)+nom\n",
    "        else:\n",
    "            titreQuestion=nom\n",
    "        questionLignes.append(consigne)\n",
    "        #####\n",
    "        #\n",
    "        # Ajouté le égal = dans le split pour les clitiques\n",
    "        #\n",
    "        ####\n",
    "        questionLignes.append(u\"\".join(re.split(\"[ -=]\",question[nom][\"boucle\"][0])))\n",
    "#        questionLignes.append(u\"\".join(question[nom][\"boucle\"][0].split(\" \")))\n",
    "        questionLignes.append(u\"{1:RXC:%s}\"%u\"~\".join(separerMots(question[nom][\"boucle\"],titre)))\n",
    "#        print questionLignes\n",
    "        textQuestion=u\"<br/>\".join(questionLignes)\n",
    "        separationExercices.append(ClozeExercice(titreQuestion,textQuestion,penalty=adaptatifPenalite,nbHints=3))"
   ]
  },
  {
   "cell_type": "code",
   "execution_count": 59,
   "metadata": {
    "collapsed": true
   },
   "outputs": [],
   "source": [
    "categorie=configuration[u\"Catégorie\"]\n",
    "clozeQuestions=XMLSeries(categorie)"
   ]
  },
  {
   "cell_type": "code",
   "execution_count": 60,
   "metadata": {
    "collapsed": true
   },
   "outputs": [],
   "source": [
    "for exercice in separationExercices:\n",
    "    clozeQuestions.addExercice(exercice)"
   ]
  },
  {
   "cell_type": "code",
   "execution_count": 61,
   "metadata": {
    "collapsed": true
   },
   "outputs": [],
   "source": [
    "xmlOutput=MoodleXML()\n",
    "xmlOutput.addQuiz(clozeQuestions.getSeries())"
   ]
  },
  {
   "cell_type": "code",
   "execution_count": 62,
   "metadata": {
    "collapsed": true
   },
   "outputs": [],
   "source": [
    "xmlFichier=yamlFichier.split(\".\")[0]+\".xml\""
   ]
  },
  {
   "cell_type": "code",
   "execution_count": 63,
   "metadata": {
    "collapsed": true
   },
   "outputs": [],
   "source": [
    "with codecs.open(xmlFichier, 'w',encoding=\"utf8\") as output:\n",
    "#    print [questions.getClozes()]\n",
    "    output.write(xmlOutput.getXML())"
   ]
  },
  {
   "cell_type": "code",
   "execution_count": 18,
   "metadata": {},
   "outputs": [
    {
     "data": {
      "text/plain": [
       "{'clitique': None,\n",
       " 'datif': None,\n",
       " u'd\\xe9monstratif': u'Adjectif_d\\xe9monstratif',\n",
       " 'liaison': u'Liaison_en_fran\\xe7ais',\n",
       " 'partitif': 'Article_partitif',\n",
       " 'possessif': None,\n",
       " u'pr\\xe9position': None,\n",
       " u'r\\xe9fl\\xe9chi': u'Morphologie_du_pronom_personnel_en_fran\\xe7ais#Pronom_r.C3.A9fl.C3.A9chi_et_pronom_non_r.C3.A9fl.C3.A9chi'}"
      ]
     },
     "execution_count": 18,
     "metadata": {},
     "output_type": "execute_result"
    }
   ],
   "source": [
    "motReferences"
   ]
  },
  {
   "cell_type": "code",
   "execution_count": 19,
   "metadata": {},
   "outputs": [
    {
     "name": "stdout",
     "output_type": "stream",
     "text": [
      "&& gris(M)[SG.⊖] && vert(M)[SG.⊖] && clair[M.SG.⊖]\n",
      "&& gris\\(M\\)[SG.⊖] && vert\\(M\\)[SG.⊖] && clair[M.SG.⊖]\n",
      "--.*(&& gris\\(M\\)\\[SG\\.⊖\\] && vert\\(M\\)\\[SG\\.⊖\\] && clair\\[M\\.SG\\.⊖\\]).*\n"
     ]
    }
   ],
   "source": [
    "correction=u\"--.*(&& gris(M)[SG.⊖] && vert(M)[SG.⊖] && clair[M.SG.⊖]).*\"\n",
    "#correction=u\"--.*(&& DEF-M.SG.⊖ chat&& DEF-F.SG.⊖ gouttière).*\"\n",
    "(prefixe, corps, suffixe)=re.match(ur\"^(--\\.\\*\\()(&&.*)(\\)\\.\\*)$\",correction).groups()\n",
    "print corps\n",
    "subParentheses = re.compile(ur\"\\(([^)]*)\\)\")\n",
    "result=subParentheses.sub(ur\"\\\\(\\1\\\\)\",corps)\n",
    "print result\n",
    "subCrochets = re.compile(ur\"\\[([^]]*)\\]\")\n",
    "result=subCrochets.sub(ur\"\\\\[\\1\\\\]\",result)\n",
    "subPoints = re.compile(ur\"(\\.[^*])\")\n",
    "result=subPoints.sub(ur\"\\\\\\1\",result)\n",
    "\n",
    "print prefixe+result+suffixe"
   ]
  },
  {
   "cell_type": "code",
   "execution_count": 20,
   "metadata": {},
   "outputs": [
    {
     "name": "stdout",
     "output_type": "stream",
     "text": [
      "<_sre.SRE_Match object at 0x1047907e8>\n",
      "--.*(&& gris\\(M\\)[SG.⊖] && vert\\(M\\)[SG.⊖] && clair[M.SG.⊖]).*\n",
      "--.*(&& gris\\(M\\)\\[SG.⊖\\] && vert\\(M\\)\\[SG.⊖\\] && clair\\[M.SG.⊖\\]).*\n",
      "--.*(&& gris\\(M\\)\\[SG\\.⊖\\] && vert\\(M\\)\\[SG\\.⊖\\] && clair\\[M\\.SG.⊖\\]).*\n"
     ]
    }
   ],
   "source": [
    "subParentheses = re.compile(ur\"&&([^&)]*)\\(([^)]*)\\)\")\n",
    "subCrochets = re.compile(ur\"&&([^&[]*)\\[([^\\]]*)\\]\")\n",
    "subPoints = re.compile(ur\"&&(([^)\\.]|\\\\\\)|\\\\\\.)+)(\\.[^*])\")\n",
    "print subPoints.search(correction)\n",
    "result=subParentheses.sub(ur\"&&\\1\\\\(\\2\\\\)\",correction)\n",
    "print result\n",
    "result=subCrochets.sub(ur\"&&\\1\\\\[\\2\\\\]\",result)\n",
    "print result\n",
    "result=subPoints.sub(ur\"&&\\1\\\\\\3\",result)\n",
    "print result"
   ]
  },
  {
   "cell_type": "code",
   "execution_count": 23,
   "metadata": {},
   "outputs": [
    {
     "name": "stdout",
     "output_type": "stream",
     "text": [
      "ron jiyizkin ron ginxo geci winvxo ujuz jiyizvxon ron becug otmayakanoza ginhxoz ekyupenvu vangaz givxoz miznxo rizi otmavoloyo wanacag vopa uyumkizvxo\n",
      "\n",
      "ron jiyizkin ron ginxo geci winvxo ujuz jiyizvxon ron becug otmayakanoza ginhxoz ekyupenvu vangaz givxoz miznxo rizi otmavoloyo wanacag vopa uyumkizvxo\n",
      "\n"
     ]
    }
   ],
   "source": [
    "for ligne in donneesLignes:\n",
    "    if ligne[0]!=\"#\" and ligne.strip()!=\"\":\n",
    "        print ligne\n",
    "        mots=ligne.split(\" \")\n",
    "        nbSpaces=len(mots)\n",
    "        regex=u\"^\"+u\"([^ ]+ +)?\"*nbSpaces+u\"[^ ]+$\"\n",
    "        m=re.match(regex,ligne)\n",
    "        if m:\n",
    "            print m.group(0)"
   ]
  },
  {
   "cell_type": "code",
   "execution_count": 22,
   "metadata": {},
   "outputs": [
    {
     "name": "stdout",
     "output_type": "stream",
     "text": [
      "1 2 3\n"
     ]
    }
   ],
   "source": [
    "nbSpaces=5\n",
    "chaine=u\"1 2 3\"\n",
    "regex=u\"^\"+u\"([^ ]+ +)?\"*nbSpaces+u\"[^ ]+$\"\n",
    "m=re.match(regex,chaine)\n",
    "if m:\n",
    "    print m.group(0)"
   ]
  },
  {
   "cell_type": "code",
   "execution_count": 25,
   "metadata": {},
   "outputs": [
    {
     "data": {
      "text/plain": [
       "u'ronjiyizkinronginxogeciwinvxoujuzjiyizvxonronbecugotmayakanozaginhxozekyupenvuvangazgivxozmiznxoriziotmavoloyowanacagvopauyumkizvxo'"
      ]
     },
     "execution_count": 25,
     "metadata": {},
     "output_type": "execute_result"
    }
   ],
   "source": [
    "phrase=u\"ron jiyizkin ron ginxo geci winvxo ujuz jiyizvxon ron becug otmayakanoza ginhxoz ekyupenvu vangaz givxoz miznxo rizi otmavoloyo wanacag vopa uyumkizvxo\"\n",
    "phrase.replace(\" \",\"\")"
   ]
  }
 ],
 "metadata": {
  "kernelspec": {
   "display_name": "Python 2",
   "language": "python",
   "name": "python2"
  },
  "language_info": {
   "codemirror_mode": {
    "name": "ipython",
    "version": 2
   },
   "file_extension": ".py",
   "mimetype": "text/x-python",
   "name": "python",
   "nbconvert_exporter": "python",
   "pygments_lexer": "ipython2",
   "version": "2.7.11"
  }
 },
 "nbformat": 4,
 "nbformat_minor": 1
}

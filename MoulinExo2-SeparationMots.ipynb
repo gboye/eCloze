{
 "cells": [
  {
   "cell_type": "code",
   "execution_count": 1,
   "metadata": {
    "collapsed": false
   },
   "outputs": [],
   "source": [
    "#import re\n",
    "import sys, codecs, optparse, glob, os\n",
    "import string\n",
    "import random"
   ]
  },
  {
   "cell_type": "code",
   "execution_count": 2,
   "metadata": {
    "collapsed": false
   },
   "outputs": [],
   "source": [
    "dossier=\"/Github/eGloss\"\n",
    "enonce=\"Simple\"\n",
    "theme=\"SeparationMorphes\"\n",
    "adaptatifPenalite=\"0.1000000\"\n",
    "dernierIndiceNote=75.0\n",
    "msgPlusDeMots=u\"Il y a plus de mots\"\n",
    "msgMoinsDeMots=u\"Il y a moins de mots\"\n",
    "def nbIndiceNotes(nb):\n",
    "    if nb==1: \n",
    "        return [\"%50%\"]\n",
    "    elif nb==2:\n",
    "        return [\"\",\"%50%\"]\n",
    "    else:\n",
    "        return [\"\"]+[\"%\"+str(int((i+2)*dernierIndiceNote/nb))+\"%\" for i in range(nb-1)]   "
   ]
  },
  {
   "cell_type": "code",
   "execution_count": 3,
   "metadata": {
    "collapsed": false
   },
   "outputs": [
    {
     "name": "stdout",
     "output_type": "stream",
     "text": [
      "0 ['']\n",
      "1 ['%50%']\n",
      "2 ['', '%50%']\n",
      "3 ['', '%50%', '%75%']\n",
      "4 ['', '%37%', '%56%', '%75%']\n",
      "5 ['', '%30%', '%45%', '%60%', '%75%']\n",
      "6 ['', '%25%', '%37%', '%50%', '%62%', '%75%']\n",
      "7 ['', '%21%', '%32%', '%42%', '%53%', '%64%', '%75%']\n",
      "8 ['', '%18%', '%28%', '%37%', '%46%', '%56%', '%65%', '%75%']\n",
      "9 ['', '%16%', '%25%', '%33%', '%41%', '%50%', '%58%', '%66%', '%75%']\n",
      "10 ['', '%15%', '%22%', '%30%', '%37%', '%45%', '%52%', '%60%', '%67%', '%75%']\n",
      "11 ['', '%13%', '%20%', '%27%', '%34%', '%40%', '%47%', '%54%', '%61%', '%68%', '%75%']\n",
      "12 ['', '%12%', '%18%', '%25%', '%31%', '%37%', '%43%', '%50%', '%56%', '%62%', '%68%', '%75%']\n",
      "13 ['', '%11%', '%17%', '%23%', '%28%', '%34%', '%40%', '%46%', '%51%', '%57%', '%63%', '%69%', '%75%']\n",
      "14 ['', '%10%', '%16%', '%21%', '%26%', '%32%', '%37%', '%42%', '%48%', '%53%', '%58%', '%64%', '%69%', '%75%']\n",
      "15 ['', '%10%', '%15%', '%20%', '%25%', '%30%', '%35%', '%40%', '%45%', '%50%', '%55%', '%60%', '%65%', '%70%', '%75%']\n",
      "16 ['', '%9%', '%14%', '%18%', '%23%', '%28%', '%32%', '%37%', '%42%', '%46%', '%51%', '%56%', '%60%', '%65%', '%70%', '%75%']\n",
      "17 ['', '%8%', '%13%', '%17%', '%22%', '%26%', '%30%', '%35%', '%39%', '%44%', '%48%', '%52%', '%57%', '%61%', '%66%', '%70%', '%75%']\n",
      "18 ['', '%8%', '%12%', '%16%', '%20%', '%25%', '%29%', '%33%', '%37%', '%41%', '%45%', '%50%', '%54%', '%58%', '%62%', '%66%', '%70%', '%75%']\n",
      "19 ['', '%7%', '%11%', '%15%', '%19%', '%23%', '%27%', '%31%', '%35%', '%39%', '%43%', '%47%', '%51%', '%55%', '%59%', '%63%', '%67%', '%71%', '%75%']\n"
     ]
    }
   ],
   "source": [
    "for i in range(20):\n",
    "    print i,nbIndiceNotes(i) "
   ]
  },
  {
   "cell_type": "markdown",
   "metadata": {
    "collapsed": false
   },
   "source": [
    "nbIndiceNotes={\n",
    "    1:[\"%50%\"],\n",
    "    2:[\"\",\"%50%\"],\n",
    "    3:[\"\",\"%40%\",\"%75%\"],\n",
    "    4:[\"\",\"%25%\",\"%50%\",\"%75%\"],\n",
    "    5:[\"\",\"%25%\",\"%40%\", \"%60%\",\"%75%\"],\n",
    "    6:[\"\",\"%20%\",\"%35%\",\"%50%\", \"%60%\",\"%75%\"],\n",
    "    7:[\"\",\"%15\",\"%25%\",\"%35%\",\"%50%\", \"%60%\",\"%75%\"],\n",
    "    8:[\"\",\"%15\",\"%25%\",\"%35%\",\"%45%\",\"%55%\", \"%65%\",\"%75%\"],\n",
    "    9:[\"\",\"%5%\",\"%15\",\"%25%\",\"%35%\",\"%45%\",\"%55%\", \"%65%\",\"%75%\"],\n",
    "    10:[\"\",\"%8%\",\"%16%\",\"%24%\",\"%32%\",\"%40%\",\"%48%\", \"%56%\",\"%64%\",\"%75%\"],\n",
    "}"
   ]
  },
  {
   "cell_type": "code",
   "execution_count": 4,
   "metadata": {
    "collapsed": false
   },
   "outputs": [],
   "source": [
    "from os.path import expanduser\n",
    "home = expanduser(\"~\")\n",
    "repertoire=home+dossier\n",
    "base=repertoire+\"/\""
   ]
  },
  {
   "cell_type": "code",
   "execution_count": 5,
   "metadata": {
    "collapsed": false
   },
   "outputs": [],
   "source": [
    "from MoodleXML import *\n",
    "import yaml"
   ]
  },
  {
   "cell_type": "code",
   "execution_count": 6,
   "metadata": {
    "collapsed": false
   },
   "outputs": [],
   "source": [
    "yamlFichier=base+theme+\"-\"+enonce+\".yaml\"\n",
    "csvFichier=base+theme+\".txt\"\n",
    "boolEX=True\n",
    "titreNoEX=False"
   ]
  },
  {
   "cell_type": "code",
   "execution_count": 7,
   "metadata": {
    "collapsed": false
   },
   "outputs": [],
   "source": [
    "with open(yamlFichier, 'r') as stream:\n",
    "    configuration=yaml.load(stream)\n",
    "    \n",
    "with codecs.open(csvFichier, 'r', encoding=\"utf8\") as file:\n",
    "    donneesLignes=file.readlines()"
   ]
  },
  {
   "cell_type": "code",
   "execution_count": 8,
   "metadata": {
    "collapsed": false
   },
   "outputs": [],
   "source": [
    "def donneesEX():\n",
    "    titre=[]\n",
    "    result={}\n",
    "    boolMultiLignes=False\n",
    "    i=0\n",
    "    for ligne in donneesLignes:\n",
    "        if debug or 0: print ligne\n",
    "        i+=1\n",
    "        if ligne.startswith(\"#EX;\"):\n",
    "            if result:\n",
    "                donnees.append({\"-\".join(titre):result})\n",
    "            titre=[]\n",
    "            result={\"boucle\":[],\"conclusion\":[]}\n",
    "            temp=ligne.strip().split(\";\")\n",
    "            if len(temp)>1 and temp[1]!=\"\":\n",
    "                result[\"conclusion\"]=temp[1:]\n",
    "        elif ligne.startswith(\"#EXM;\"):\n",
    "            boolMultiLignes=True\n",
    "            if result:\n",
    "                donnees.append({\"-\".join(titre):result})\n",
    "            titre=[]\n",
    "            result={\"boucle\":[],\"conclusion\":[]}\n",
    "            temp=ligne.strip().split(\";\")\n",
    "            if len(temp)>1 and temp[1]!=\"\":\n",
    "                titre=temp[1:]            \n",
    "        elif ligne.startswith(\"#\"):\n",
    "            pass\n",
    "        else:\n",
    "            temp=ligne.strip().split(\";\")\n",
    "            if boolMultiLignes:\n",
    "                result[\"boucle\"].extend(temp)\n",
    "            else:\n",
    "                result[\"boucle\"].append(temp)\n",
    "#            titre.append(makeChamps(configuration[u\"Titre\"],temp).encode('utf8'))\n",
    "    donnees.append({\"-\".join(titre):result})\n",
    "\n",
    "def donneesNoEX():\n",
    "    if titreNoEX:\n",
    "        debut=1\n",
    "    else:\n",
    "        debut=0\n",
    "    for ligne in donneesLignes[debut:]:\n",
    "        if not (ligne.strip().strip(\";\")==\"\" or ligne.startswith(\"#\")):\n",
    "            temp=ligne.strip().split(\";\")\n",
    "            result={\"boucle\":[temp],\"conclusion\":[]}\n",
    "            titre=makeChamps(configuration[u\"Titre\"],temp).encode('utf8')\n",
    "            donnees.append({titre:result})\n",
    "    return\n",
    "\n",
    "donnees=[]\n",
    "if boolEX or donneesLignes[0].startswith(\"#EX;\"):\n",
    "#    print \"avec #EX;\"\n",
    "    donneesEX()\n",
    "else:\n",
    "#    print \"sans #EX;\"\n",
    "    donneesNoEX()"
   ]
  },
  {
   "cell_type": "code",
   "execution_count": 9,
   "metadata": {
    "collapsed": false
   },
   "outputs": [],
   "source": [
    "def lierMot(ref,chaine):\n",
    "    if motReferences[ref]:\n",
    "        mot=motReferences[ref]\n",
    "    else:\n",
    "        mot=ref\n",
    "    result=chaine.replace(ref,u'<a href=\"https://fr.wikipedia.org/wiki/%s\" target=\"_blank\" style=\"color:blue\">%s</a>'%(mot,ref))\n",
    "    return result\n",
    "\n",
    "def echapperCorrection(correction):\n",
    "    result=correction\n",
    "    print \"original\",result\n",
    "    subPoints = re.compile(ur\"(\\.[^*+])\")\n",
    "    result=subPoints.sub(ur\"\\\\\\1\",result)\n",
    "    m=re.match(ur\"^(--\\.\\*\\()(&&.*)(\\)\\.\\*)$\",result)\n",
    "    if m:\n",
    "        (prefixe, corps, suffixe)=m.groups()\n",
    "        subParentheses = re.compile(ur\"\\(([^)]*)\\)\")\n",
    "        corps=subParentheses.sub(ur\"\\\\(\\1\\\\)\",corps)\n",
    "        subCrochets = re.compile(ur\"\\[([^]]*)\\]\")\n",
    "        corps=subCrochets.sub(ur\"\\\\[\\1\\\\]\",corps)\n",
    "        result=prefixe+corps+suffixe\n",
    "    print \"échappé\",result\n",
    "    return result    \n",
    "\n",
    "def modifierCorrection(correction):\n",
    "    result=correction\n",
    "    print \"original\",result\n",
    "    subPoints = re.compile(ur\"(\\.[^*+])\")\n",
    "    result=subPoints.sub(ur\"\\\\\\1\",result)\n",
    "    m=re.match(ur\"^(--\\.\\*\\()(&&.*)(\\)\\.\\*)$\",result)\n",
    "    if m:\n",
    "        (prefixe, corps, suffixe)=m.groups()        \n",
    "        subParentheses = re.compile(ur\"\\(([^)]*)\\)\")\n",
    "        corps=subParentheses.sub(ur\"\\\\(\\1\\\\)\",corps)\n",
    "        subCrochets = re.compile(ur\"\\[([^]]*)\\]\")\n",
    "        corps=subCrochets.sub(ur\"\\\\[\\1\\\\]\",corps)\n",
    "        unites=filter(None,corps.split(\"&&\"))\n",
    "        print \"unités\",unites\n",
    "        corps=\".*\".join(unites)\n",
    "        result=prefixe+corps+suffixe\n",
    "    print \"échappé\",result\n",
    "    return result    \n",
    "\n",
    "\n",
    "def separerMots(elements,titre):\n",
    "    result=[]\n",
    "    elements = filter(None, elements)\n",
    "    nbMots=len(elements[0].strip().split(\" \"))\n",
    "    solution=u\"=%s#Bravo ! La phrase était : %s\"%(elements[0],titre)\n",
    "    corrections=[]\n",
    "    nbElements=len(elements[1:])\n",
    "#    if not nbElements in nbIndiceNotes: \n",
    "#        print \"Ajouter une répartition des notes pour %d indices\"%nbElements\n",
    "#        print titre\n",
    "#        print elements[1:]\n",
    "    for n,element in enumerate(elements[1:]):\n",
    "        (reponseSpec,feedbackSpec)=element.split(\"#\")\n",
    "        reponseSpec=modifierCorrection(reponseSpec)\n",
    "        if feedbackSpec:\n",
    "            for mot in motReferences:\n",
    "                if mot in feedbackSpec:\n",
    "                    feedbackSpec=lierMot(mot,feedbackSpec)\n",
    "        element=\"#\".join([reponseSpec,feedbackSpec])\n",
    "        corrections.append(nbIndiceNotes(nbElements)[n]+element)\n",
    "#    print nbMots\n",
    "    minMots=\"^\"+\"([^ ]+ +)?\"*(nbMots-4)+\"[^ ]+$#%s\"%msgPlusDeMots\n",
    "    maxMots=\"^\"+\"([^ ]+ +)\"*(nbMots+2)+\"([^ ]+ +)*[^ ]+$#%s\"%msgMoinsDeMots\n",
    "#    print \"~\".join(elements)\n",
    "    result.extend([solution,minMots,maxMots])\n",
    "    result.extend(corrections)\n",
    "    return result"
   ]
  },
  {
   "cell_type": "code",
   "execution_count": 10,
   "metadata": {
    "collapsed": false,
    "scrolled": true
   },
   "outputs": [
    {
     "name": "stdout",
     "output_type": "stream",
     "text": [
      "original --.*(&& ʃa && gʁi && suʁi && o && də && gutjɛʁ && vɛʁ && klɛʁ).*\n",
      "unités [u' \\u0283a ', u' g\\u0281i ', u' su\\u0281i ', u' o ', u' d\\u0259 ', u' gutj\\u025b\\u0281 ', u' v\\u025b\\u0281 ', u' kl\\u025b\\u0281']\n",
      "échappé --.*( ʃa .* gʁi .* suʁi .* o .* də .* gutjɛʁ .* vɛʁ .* klɛʁ).*\n",
      "original --.*opsɛʁv-ɛ .*\n",
      "échappé --.*opsɛʁv-ɛ .*\n",
      "original --.*(&&l-ə && d-y && l-a ).*\n",
      "unités [u'l-\\u0259 ', u' d-y ', u' l-a ']\n",
      "échappé --.*(l-ə .* d-y .* l-a ).*\n",
      "original --.*nu\\S*z-opsɛʁv-ɛ .*\n",
      "échappé --.*nu\\S*z-opsɛʁv-ɛ .*\n",
      "original --.* nu-z-opsɛʁv-ɛ .*\n",
      "échappé --.* nu-z-opsɛʁv-ɛ .*\n",
      "original --.* kɥizin\n",
      "échappé --.* kɥizin\n",
      "original --.* uvʁə-bwat .*\n",
      "échappé --.* uvʁə-bwat .*\n",
      "original --.* œ̃-n .*\n",
      "échappé --.* œ̃-n .*\n",
      "original --amɛn-mwa .*\n",
      "échappé --amɛn-mwa .*\n",
      "original --.*(&& ɑ̃fɑ̃ && aʁive && lise && bys).*\n",
      "unités [u' \\u0251\\u0303f\\u0251\\u0303 ', u' a\\u0281ive ', u' lise ', u' bys']\n",
      "échappé --.*( ɑ̃fɑ̃ .* aʁive .* lise .* bys).*\n",
      "original --.*s-ɛt .*\n",
      "échappé --.*s-ɛt .*\n",
      "original --.* ɛ-t .*\n",
      "échappé --.* ɛ-t .*\n",
      "original --.*(&& sos && tɔ̃b\\S*e && luʃ && ʃosyʁ).*\n",
      "unités [u' sos ', u' t\\u0254\\u0303b\\\\S*e ', u' lu\\u0283 ', u' \\u0283osy\\u0281']\n",
      "échappé --.*( sos .* tɔ̃b\\S*e .* luʃ .* ʃosyʁ).*\n",
      "original --.* syʁ .*\n",
      "échappé --.* syʁ .*\n",
      "original --d-əla sos.*\n",
      "échappé --d-əla sos.*\n",
      "original --.* də l-a luʃ.*\n",
      "échappé --.* də l-a luʃ.*\n",
      "original --.*(&& ami && asi && baʁ).*\n",
      "unités [u' ami ', u' asi ', u' ba\\u0281']\n",
      "échappé --.*( ami .* asi .* baʁ).*\n",
      "original --.*dø-z.*\n",
      "échappé --.*dø-z.*\n",
      "original --.*sɔ̃-t .*\n",
      "échappé --.*sɔ̃-t .*\n",
      "original --.* sə-sɔ̃-t .*\n",
      "échappé --.* sə-sɔ̃-t .*\n",
      "original --.*(&&emili && mi\\S*z && matɛ̃).*\n",
      "unités [u'emili ', u' mi\\\\S*z ', u' mat\\u025b\\u0303']\n",
      "échappé --.*(emili .* mi\\S*z .* matɛ̃).*\n",
      "original --.* potofø .*\n",
      "échappé --.* potofø .*\n",
      "original --.*(&& dɑ̃ && s-ɔ̃ ).*\n",
      "unités [u' d\\u0251\\u0303 ', u' s-\\u0254\\u0303 ']\n",
      "échappé --.*( dɑ̃ .* s-ɔ̃ ).*\n",
      "original --.* mi-z .*\n",
      "échappé --.* mi-z .*\n",
      "original --.* l-a .*\n",
      "échappé --.* l-a .*\n",
      "original --.*(&& etydjɑ̃ && pa && avɑ̃s).*\n",
      "unités [u' etydj\\u0251\\u0303 ', u' pa ', u' av\\u0251\\u0303s']\n",
      "échappé --.*( etydjɑ̃ .* pa .* avɑ̃s).*\n",
      "original --.*le-z .*\n",
      "échappé --.*le-z .*\n",
      "original --.* ɑ̃-n .*\n",
      "échappé --.* ɑ̃-n .*\n",
      "original --.* n-aʁiv .*\n",
      "échappé --.* n-aʁiv .*\n",
      "original --.*(&& ide && sogʁəny && mwa).*\n",
      "unités [u' ide ', u' sog\\u0281\\u0259ny ', u' mwa']\n",
      "échappé --.*( ide .* sogʁəny .* mwa).*\n",
      "original --sɔ̃-n .*\n",
      "échappé --sɔ̃-n .*\n",
      "original --.* pa .*\n",
      "échappé --.* pa .*\n",
      "original --.* nə-vjɛ̃ .*\n",
      "échappé --.* nə-vjɛ̃ .*\n",
      "original --.*(&& ɑ̃glɛ && di).*\n",
      "unités [u' \\u0251\\u0303gl\\u025b ', u' di']\n",
      "échappé --.*( ɑ̃glɛ .* di).*\n",
      "original --.* savɑ̃-t .*\n",
      "échappé --.* savɑ̃-t .*\n",
      "original --.*l-a di\n",
      "échappé --.*l-a di\n",
      "original --.* mə-l-a .*\n",
      "échappé --.* mə-l-a .*\n",
      "original --.*(&&kamij && mi && afɛʁ).*\n",
      "unités [u'kamij ', u' mi ', u' af\\u025b\\u0281']\n",
      "échappé --.*(kamij .* mi .* afɛʁ).*\n",
      "original --.* paʁtu .*\n",
      "échappé --.* paʁtu .*\n",
      "original --.* t-e-z .*\n",
      "échappé --.* t-e-z .*\n",
      "original --.* ɑ̃\\S*n-a .*\n",
      "échappé --.* ɑ̃\\S*n-a .*\n",
      "original --.* ɑ̃-n-a .*\n",
      "échappé --.* ɑ̃-n-a .*\n",
      "original --.*(&& deby && dø\\S*z\\S*jɛm && avɑ̃).*\n",
      "unités [u' deby ', u' d\\xf8\\\\S*z\\\\S*j\\u025bm ', u' av\\u0251\\u0303']\n",
      "échappé --.*( deby .* dø\\S*z\\S*jɛm .* avɑ̃).*\n",
      "original --.* mi-tɑ̃\n",
      "échappé --.* mi-tɑ̃\n",
      "original --dɔn-lə.*\n",
      "échappé --dɔn-lə.*\n",
      "original --dɔn-lə-lɥi .*\n",
      "échappé --dɔn-lə-lɥi .*\n",
      "original --.*(&& fas && tu && mɔ̃d).*\n",
      "unités [u' fas ', u' tu ', u' m\\u0254\\u0303d']\n",
      "échappé --.*( fas .* tu .* mɔ̃d).*\n",
      "original --.*(&&va && jø ).*\n",
      "unités [u'va ', u' j\\xf8 ']\n",
      "échappé --.*(va .* jø ).*\n",
      "original --.*di-ʁ .*\n",
      "échappé --.*di-ʁ .*\n",
      "original --.*lɥi-di-ʁ.*\n",
      "échappé --.*lɥi-di-ʁ.*\n",
      "original --.* lə-lɥi-di-ʁ .*\n",
      "échappé --.* lə-lɥi-di-ʁ .*\n",
      "original --.*(&& ʃɑ̃t\\S*e && poɛm ).*\n",
      "unités [u' \\u0283\\u0251\\u0303t\\\\S*e ', u' po\\u025bm ']\n",
      "échappé --.*( ʃɑ̃t\\S*e .* poɛm ).*\n",
      "original --.*(&& s-ə && oʒuʁdɥi).*\n",
      "unités [u' s-\\u0259 ', u' o\\u0292u\\u0281d\\u0265i']\n",
      "échappé --.*( s-ə .* oʒuʁdɥi).*\n",
      "original --.*(&&ʁəgaʁd-e && ʃɑ̃t-e ).*\n",
      "unités [u'\\u0281\\u0259ga\\u0281d-e ', u' \\u0283\\u0251\\u0303t-e ']\n",
      "échappé --.*(ʁəgaʁd-e .* ʃɑ̃t-e ).*\n",
      "original --.*lɛs-mwa .*\n",
      "échappé --.*lɛs-mwa .*\n",
      "original --.* la-ʁəgaʁd-e .*\n",
      "échappé --.* la-ʁəgaʁd-e .*\n",
      "original --.*(&& pʁi && gʁad && betiz && vakɑ̃s).*\n",
      "unités [u' p\\u0281i ', u' g\\u0281ad ', u' betiz ', u' vak\\u0251\\u0303s']\n",
      "échappé --.*( pʁi .* gʁad .* betiz .* vakɑ̃s).*\n",
      "original --.*(&& puʁ && avɛk && pɑ̃dɑ̃ ).*\n",
      "unités [u' pu\\u0281 ', u' av\\u025bk ', u' p\\u0251\\u0303d\\u0251\\u0303 ']\n",
      "échappé --.*( puʁ .* avɛk .* pɑ̃dɑ̃ ).*\n",
      "original --.*ɑ̃\\S*n-ɛ.*\n",
      "échappé --.*ɑ̃\\S*n-ɛ.*\n",
      "original --ʒɑ̃\\S*n-ɛ.*\n",
      "échappé --ʒɑ̃\\S*n-ɛ.*\n",
      "original --ʒ-ɑ̃-n-ɛ .*\n",
      "échappé --ʒ-ɑ̃-n-ɛ .*\n",
      "original --.*(&& twa && italjɛn).*\n",
      "unités [u' twa ', u' italj\\u025bn']\n",
      "échappé --.*( twa .* italjɛn).*\n",
      "original --.*(&& avɛk && puʁ ).*\n",
      "unités [u' av\\u025bk ', u' pu\\u0281 ']\n",
      "échappé --.*( avɛk .* puʁ ).*\n",
      "original --.* ɛskapad-z .*\n",
      "échappé --.* ɛskapad-z .*\n",
      "original --.* t-e-z .*\n",
      "échappé --.* t-e-z .*\n",
      "original --pʁɑ̃-lə .*\n",
      "échappé --pʁɑ̃-lə .*\n",
      "original --.*(&& otomobil && bjɛ̃).*\n",
      "unités [u' otomobil ', u' bj\\u025b\\u0303']\n",
      "échappé --.*( otomobil .* bjɛ̃).*\n",
      "original --.*(&& dɑ̃ && tu ).*\n",
      "unités [u' d\\u0251\\u0303 ', u' tu ']\n",
      "échappé --.*( dɑ̃ .* tu ).*\n",
      "original --.*(&& t-ɔ̃-n && l-e ).*\n",
      "unités [u' t-\\u0254\\u0303-n ', u' l-e ']\n",
      "échappé --.*( t-ɔ̃-n .* l-e ).*\n",
      "original --.* ɔ̃-sə-ʁa .*\n",
      "échappé --.* ɔ̃-sə-ʁa .*\n",
      "original --.*(&& sjɛl && etwal).*\n",
      "unités [u' sj\\u025bl ', u' etwal']\n",
      "échappé --.*( sjɛl .* etwal).*\n",
      "original --.*(&& l-ə && d-e-z ).*\n",
      "unités [u' l-\\u0259 ', u' d-e-z ']\n",
      "échappé --.*( l-ə .* d-e-z ).*\n",
      "original --.*(&&e && dɑ̃ ).*\n",
      "unités [u'e ', u' d\\u0251\\u0303 ']\n",
      "échappé --.*(e .* dɑ̃ ).*\n",
      "original --.*j-o-ʁa .*\n",
      "échappé --.*j-o-ʁa .*\n",
      "original --.* il-j-o-ʁa .*\n",
      "échappé --.* il-j-o-ʁa .*\n",
      "original --.*(&& solɛj && vwal).*\n",
      "unités [u' sol\\u025bj ', u' vwal']\n",
      "échappé --.*( solɛj .* vwal).*\n",
      "original --.*(&& d-y && l-e ).*\n",
      "unités [u' d-y ', u' l-e ']\n",
      "échappé --.*( d-y .* l-e ).*\n",
      "original --.*(&&e && kɑ̃-t ).*\n",
      "unités [u'e ', u' k\\u0251\\u0303-t ']\n",
      "échappé --.*(e .* kɑ̃-t ).*\n",
      "original --.* ɔ̃-mɛt-ʁa .*\n",
      "échappé --.* ɔ̃-mɛt-ʁa .*\n",
      "original --.*(&& vi && dɑ̃s\\S*e && itali).*\n",
      "unités [u' vi ', u' d\\u0251\\u0303s\\\\S*e ', u' itali']\n",
      "échappé --.*( vi .* dɑ̃s\\S*e .* itali).*\n",
      "original --.*(&& l-a && l-ə && kalipso).*\n",
      "unités [u' l-a ', u' l-\\u0259 ', u' kalipso']\n",
      "échappé --.*( l-a .* l-ə .* kalipso).*\n",
      "original --.*ɑ̃-n-i-ʁa .*\n",
      "échappé --.*ɑ̃-n-i-ʁa .*\n",
      "original --.*s-ɑ̃-n-i-ʁa .*\n",
      "échappé --.*s-ɑ̃-n-i-ʁa .*\n",
      "original --ɔ̃-s-ɑ̃-n-i-ʁa .*\n",
      "échappé --ɔ̃-s-ɑ̃-n-i-ʁa .*\n"
     ]
    }
   ],
   "source": [
    "consigne=\"<br/>\".join(configuration[u\"Consigne\"])\n",
    "motReferences=configuration[u\"Références\"]\n",
    "separationExercices=[]\n",
    "for question in donnees:\n",
    "    questionLignes=[]\n",
    "    for nom in question:\n",
    "        titre=nom\n",
    "        questionLignes.append(consigne)\n",
    "        questionLignes.append(u\"\".join(re.split(\"[ -]\",question[nom][\"boucle\"][0])))\n",
    "#        questionLignes.append(u\"\".join(question[nom][\"boucle\"][0].split(\" \")))\n",
    "        questionLignes.append(u\"{1:RXC:%s}\"%u\"~\".join(separerMots(question[nom][\"boucle\"],titre)))\n",
    "#        print questionLignes\n",
    "        textQuestion=u\"<br/>\".join(questionLignes)\n",
    "        separationExercices.append(ClozeExercice(titre,textQuestion,penalty=adaptatifPenalite))"
   ]
  },
  {
   "cell_type": "code",
   "execution_count": 11,
   "metadata": {
    "collapsed": false
   },
   "outputs": [],
   "source": [
    "categorie=configuration[u\"Catégorie\"]\n",
    "clozeQuestions=XMLClozes(categorie)"
   ]
  },
  {
   "cell_type": "code",
   "execution_count": 12,
   "metadata": {
    "collapsed": false
   },
   "outputs": [],
   "source": [
    "for exercice in separationExercices:\n",
    "    clozeQuestions.addExercice(exercice)"
   ]
  },
  {
   "cell_type": "code",
   "execution_count": 13,
   "metadata": {
    "collapsed": false
   },
   "outputs": [],
   "source": [
    "xmlOutput=MoodleXML()\n",
    "xmlOutput.addQuiz(clozeQuestions.getClozes())"
   ]
  },
  {
   "cell_type": "code",
   "execution_count": 14,
   "metadata": {
    "collapsed": false
   },
   "outputs": [],
   "source": [
    "xmlFichier=yamlFichier.split(\".\")[0]+\".xml\""
   ]
  },
  {
   "cell_type": "code",
   "execution_count": 15,
   "metadata": {
    "collapsed": false
   },
   "outputs": [],
   "source": [
    "with codecs.open(xmlFichier, 'w',encoding=\"utf8\") as output:\n",
    "#    print [questions.getClozes()]\n",
    "    output.write(xmlOutput.getXML())"
   ]
  },
  {
   "cell_type": "code",
   "execution_count": 16,
   "metadata": {
    "collapsed": false
   },
   "outputs": [
    {
     "data": {
      "text/plain": [
       "{'clitique': None,\n",
       " 'datif': None,\n",
       " u'd\\xe9monstratif': u'Adjectif_d\\xe9monstratif',\n",
       " 'liaison': u'Liaison_en_fran\\xe7ais',\n",
       " 'partitif': 'Article_partitif',\n",
       " 'possessif': None,\n",
       " u'pr\\xe9position': None,\n",
       " u'r\\xe9fl\\xe9chi': u'Morphologie_du_pronom_personnel_en_fran\\xe7ais#Pronom_r.C3.A9fl.C3.A9chi_et_pronom_non_r.C3.A9fl.C3.A9chi'}"
      ]
     },
     "execution_count": 16,
     "metadata": {},
     "output_type": "execute_result"
    }
   ],
   "source": [
    "motReferences"
   ]
  },
  {
   "cell_type": "code",
   "execution_count": 17,
   "metadata": {
    "collapsed": false
   },
   "outputs": [
    {
     "name": "stdout",
     "output_type": "stream",
     "text": [
      "&& gris(M)[SG.⊖] && vert(M)[SG.⊖] && clair[M.SG.⊖]\n",
      "&& gris\\(M\\)[SG.⊖] && vert\\(M\\)[SG.⊖] && clair[M.SG.⊖]\n",
      "--.*(&& gris\\(M\\)\\[SG\\.⊖\\] && vert\\(M\\)\\[SG\\.⊖\\] && clair\\[M\\.SG\\.⊖\\]).*\n"
     ]
    }
   ],
   "source": [
    "correction=u\"--.*(&& gris(M)[SG.⊖] && vert(M)[SG.⊖] && clair[M.SG.⊖]).*\"\n",
    "#correction=u\"--.*(&& DEF-M.SG.⊖ chat&& DEF-F.SG.⊖ gouttière).*\"\n",
    "(prefixe, corps, suffixe)=re.match(ur\"^(--\\.\\*\\()(&&.*)(\\)\\.\\*)$\",correction).groups()\n",
    "print corps\n",
    "subParentheses = re.compile(ur\"\\(([^)]*)\\)\")\n",
    "result=subParentheses.sub(ur\"\\\\(\\1\\\\)\",corps)\n",
    "print result\n",
    "subCrochets = re.compile(ur\"\\[([^]]*)\\]\")\n",
    "result=subCrochets.sub(ur\"\\\\[\\1\\\\]\",result)\n",
    "subPoints = re.compile(ur\"(\\.[^*])\")\n",
    "result=subPoints.sub(ur\"\\\\\\1\",result)\n",
    "\n",
    "print prefixe+result+suffixe"
   ]
  },
  {
   "cell_type": "code",
   "execution_count": 18,
   "metadata": {
    "collapsed": false
   },
   "outputs": [
    {
     "name": "stdout",
     "output_type": "stream",
     "text": [
      "<_sre.SRE_Match object at 0x103ff1290>\n",
      "--.*(&& gris\\(M\\)[SG.⊖] && vert\\(M\\)[SG.⊖] && clair[M.SG.⊖]).*\n",
      "--.*(&& gris\\(M\\)\\[SG.⊖\\] && vert\\(M\\)\\[SG.⊖\\] && clair\\[M.SG.⊖\\]).*\n",
      "--.*(&& gris\\(M\\)\\[SG\\.⊖\\] && vert\\(M\\)\\[SG\\.⊖\\] && clair\\[M\\.SG.⊖\\]).*\n"
     ]
    }
   ],
   "source": [
    "subParentheses = re.compile(ur\"&&([^&)]*)\\(([^)]*)\\)\")\n",
    "subCrochets = re.compile(ur\"&&([^&[]*)\\[([^\\]]*)\\]\")\n",
    "subPoints = re.compile(ur\"&&(([^)\\.]|\\\\\\)|\\\\\\.)+)(\\.[^*])\")\n",
    "print subPoints.search(correction)\n",
    "result=subParentheses.sub(ur\"&&\\1\\\\(\\2\\\\)\",correction)\n",
    "print result\n",
    "result=subCrochets.sub(ur\"&&\\1\\\\[\\2\\\\]\",result)\n",
    "print result\n",
    "result=subPoints.sub(ur\"&&\\1\\\\\\3\",result)\n",
    "print result"
   ]
  }
 ],
 "metadata": {
  "kernelspec": {
   "display_name": "Python 2",
   "language": "python",
   "name": "python2"
  },
  "language_info": {
   "codemirror_mode": {
    "name": "ipython",
    "version": 2
   },
   "file_extension": ".py",
   "mimetype": "text/x-python",
   "name": "python",
   "nbconvert_exporter": "python",
   "pygments_lexer": "ipython2",
   "version": "2.7.10"
  }
 },
 "nbformat": 4,
 "nbformat_minor": 0
}

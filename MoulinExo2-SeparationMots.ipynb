{
 "cells": [
  {
   "cell_type": "code",
   "execution_count": 58,
   "metadata": {
    "collapsed": false
   },
   "outputs": [],
   "source": [
    "#import re\n",
    "import sys, codecs, optparse, glob, os\n",
    "import string\n",
    "import random"
   ]
  },
  {
   "cell_type": "code",
   "execution_count": 59,
   "metadata": {
    "collapsed": false
   },
   "outputs": [],
   "source": [
    "dossier=\"/Github/eGloss\"\n",
    "enonce=\"Simple\"\n",
    "theme=\"SeparationMorphes\"\n",
    "adaptatifPenalite=\"0.1000000\"\n",
    "msgPlusDeMots=u\"Il y a plus de mots\"\n",
    "msgMoinsDeMots=u\"Il y a moins de mots\"\n",
    "nbIndiceNotes={\n",
    "    1:[\"%50%\"],\n",
    "    2:[\"\",\"%50%\"],\n",
    "    3:[\"\",\"%40%\",\"%75%\"],\n",
    "    4:[\"\",\"%25%\",\"%50%\",\"%75%\"],\n",
    "    5:[\"\",\"%25%\",\"%40%\", \"%60%\",\"%75%\"],\n",
    "    6:[\"\",\"%20%\",\"%35%\",\"%50%\", \"%60%\",\"%75%\"],\n",
    "    7:[\"\",\"%15\",\"%25%\",\"%35%\",\"%50%\", \"%60%\",\"%75%\"],\n",
    "    8:[\"\",\"%15\",\"%25%\",\"%35%\",\"%45%\",\"%55%\", \"%65%\",\"%75%\"],\n",
    "    9:[\"\",\"%5%\",\"%15\",\"%25%\",\"%35%\",\"%45%\",\"%55%\", \"%65%\",\"%75%\"],\n",
    "    10:[\"\",\"%8%\",\"%16%\",\"%24%\",\"%32%\",\"%40%\",\"%48%\", \"%56%\",\"%64%\",\"%75%\"],\n",
    "}"
   ]
  },
  {
   "cell_type": "code",
   "execution_count": 60,
   "metadata": {
    "collapsed": false
   },
   "outputs": [],
   "source": [
    "from os.path import expanduser\n",
    "home = expanduser(\"~\")\n",
    "repertoire=home+dossier\n",
    "base=repertoire+\"/\""
   ]
  },
  {
   "cell_type": "code",
   "execution_count": 61,
   "metadata": {
    "collapsed": false
   },
   "outputs": [],
   "source": [
    "from MoodleXML import *\n",
    "import yaml"
   ]
  },
  {
   "cell_type": "code",
   "execution_count": 62,
   "metadata": {
    "collapsed": false
   },
   "outputs": [],
   "source": [
    "yamlFichier=base+theme+\"-\"+enonce+\".yaml\"\n",
    "csvFichier=base+theme+\".txt\"\n",
    "boolEX=True\n",
    "titreNoEX=False"
   ]
  },
  {
   "cell_type": "code",
   "execution_count": 63,
   "metadata": {
    "collapsed": false
   },
   "outputs": [],
   "source": [
    "with open(yamlFichier, 'r') as stream:\n",
    "    configuration=yaml.load(stream)\n",
    "    \n",
    "with codecs.open(csvFichier, 'r', encoding=\"utf8\") as file:\n",
    "    donneesLignes=file.readlines()"
   ]
  },
  {
   "cell_type": "code",
   "execution_count": 64,
   "metadata": {
    "collapsed": false
   },
   "outputs": [],
   "source": [
    "def donneesEX():\n",
    "    titre=[]\n",
    "    result={}\n",
    "    boolMultiLignes=False\n",
    "    i=0\n",
    "    for ligne in donneesLignes:\n",
    "        if debug or 0: print ligne\n",
    "        i+=1\n",
    "        if ligne.startswith(\"#EX;\"):\n",
    "            if result:\n",
    "                donnees.append({\"-\".join(titre):result})\n",
    "            titre=[]\n",
    "            result={\"boucle\":[],\"conclusion\":[]}\n",
    "            temp=ligne.strip().split(\";\")\n",
    "            if len(temp)>1 and temp[1]!=\"\":\n",
    "                result[\"conclusion\"]=temp[1:]\n",
    "        elif ligne.startswith(\"#EXM;\"):\n",
    "            boolMultiLignes=True\n",
    "            if result:\n",
    "                donnees.append({\"-\".join(titre):result})\n",
    "            titre=[]\n",
    "            result={\"boucle\":[],\"conclusion\":[]}\n",
    "            temp=ligne.strip().split(\";\")\n",
    "            if len(temp)>1 and temp[1]!=\"\":\n",
    "                titre=temp[1:]            \n",
    "        elif ligne.startswith(\"#\"):\n",
    "            pass\n",
    "        else:\n",
    "            temp=ligne.strip().split(\";\")\n",
    "            if boolMultiLignes:\n",
    "                result[\"boucle\"].extend(temp)\n",
    "            else:\n",
    "                result[\"boucle\"].append(temp)\n",
    "#            titre.append(makeChamps(configuration[u\"Titre\"],temp).encode('utf8'))\n",
    "    donnees.append({\"-\".join(titre):result})\n",
    "\n",
    "def donneesNoEX():\n",
    "    if titreNoEX:\n",
    "        debut=1\n",
    "    else:\n",
    "        debut=0\n",
    "    for ligne in donneesLignes[debut:]:\n",
    "        if not (ligne.strip().strip(\";\")==\"\" or ligne.startswith(\"#\")):\n",
    "            temp=ligne.strip().split(\";\")\n",
    "            result={\"boucle\":[temp],\"conclusion\":[]}\n",
    "            titre=makeChamps(configuration[u\"Titre\"],temp).encode('utf8')\n",
    "            donnees.append({titre:result})\n",
    "    return\n",
    "\n",
    "donnees=[]\n",
    "if boolEX or donneesLignes[0].startswith(\"#EX;\"):\n",
    "#    print \"avec #EX;\"\n",
    "    donneesEX()\n",
    "else:\n",
    "#    print \"sans #EX;\"\n",
    "    donneesNoEX()"
   ]
  },
  {
   "cell_type": "code",
   "execution_count": 65,
   "metadata": {
    "collapsed": false
   },
   "outputs": [],
   "source": [
    "def lierMot(ref,chaine):\n",
    "    if motReferences[ref]:\n",
    "        mot=motReferences[ref]\n",
    "    else:\n",
    "        mot=ref\n",
    "    result=chaine.replace(ref,u'<a href=\"https://fr.wikipedia.org/wiki/%s\" target=\"_blank\" style=\"color:blue\">%s</a>'%(mot,ref))\n",
    "    return result\n",
    "\n",
    "def separerMots(elements,titre):\n",
    "    result=[]\n",
    "    elements = filter(None, elements)\n",
    "    nbMots=len(elements[0].strip().split(\" \"))\n",
    "    solution=u\"=%s#Bravo ! La phrase était : %s\"%(elements[0],titre)\n",
    "    corrections=[]\n",
    "    nbElements=len(elements[1:])\n",
    "    if not nbElements in nbIndiceNotes: \n",
    "        print \"Ajouter une répartition des notes pour %d indices\"%nbElements\n",
    "        print titre\n",
    "        print elements[1:]\n",
    "    for n,element in enumerate(elements[1:]):\n",
    "        (reponseSpec,feedbackSpec)=element.split(\"#\")\n",
    "        if feedbackSpec:\n",
    "            for mot in motReferences:\n",
    "                if mot in feedbackSpec:\n",
    "                    feedbackSpec=lierMot(mot,feedbackSpec)\n",
    "        element=\"#\".join([reponseSpec,feedbackSpec])\n",
    "        corrections.append(nbIndiceNotes[nbElements][n]+element)\n",
    "#    print nbMots\n",
    "    minMots=\"^\"+\"([^ ]+ +)?\"*(nbMots-4)+\"[^ ]+$#%s\"%msgPlusDeMots\n",
    "    maxMots=\"^\"+\"([^ ]+ +)\"*(nbMots+2)+\"([^ ]+ +)*[^ ]+$#%s\"%msgMoinsDeMots\n",
    "#    print \"~\".join(elements)\n",
    "    result.extend([solution,minMots,maxMots])\n",
    "    result.extend(corrections)\n",
    "    return result"
   ]
  },
  {
   "cell_type": "code",
   "execution_count": 66,
   "metadata": {
    "collapsed": false,
    "scrolled": true
   },
   "outputs": [],
   "source": [
    "consigne=\"<br/>\".join(configuration[u\"Consigne\"])\n",
    "motReferences=configuration[u\"Références\"]\n",
    "separationExercices=[]\n",
    "for question in donnees:\n",
    "    questionLignes=[]\n",
    "    for nom in question:\n",
    "        titre=nom\n",
    "        questionLignes.append(consigne)\n",
    "        questionLignes.append(u\"\".join(re.split(\"[ -]\",question[nom][\"boucle\"][0])))\n",
    "#        questionLignes.append(u\"\".join(question[nom][\"boucle\"][0].split(\" \")))\n",
    "        questionLignes.append(u\"{1:RXC:%s}\"%u\"~\".join(separerMots(question[nom][\"boucle\"],titre)))\n",
    "#        print questionLignes\n",
    "        textQuestion=u\"<br/>\".join(questionLignes)\n",
    "        separationExercices.append(ClozeExercice(titre,textQuestion,penalty=adaptatifPenalite))"
   ]
  },
  {
   "cell_type": "code",
   "execution_count": 67,
   "metadata": {
    "collapsed": false
   },
   "outputs": [],
   "source": [
    "categorie=configuration[u\"Catégorie\"]\n",
    "clozeQuestions=XMLClozes(categorie)"
   ]
  },
  {
   "cell_type": "code",
   "execution_count": 68,
   "metadata": {
    "collapsed": false
   },
   "outputs": [],
   "source": [
    "for exercice in separationExercices:\n",
    "    clozeQuestions.addExercice(exercice)"
   ]
  },
  {
   "cell_type": "code",
   "execution_count": 69,
   "metadata": {
    "collapsed": false
   },
   "outputs": [],
   "source": [
    "xmlOutput=MoodleXML()\n",
    "xmlOutput.addQuiz(clozeQuestions.getClozes())"
   ]
  },
  {
   "cell_type": "code",
   "execution_count": 70,
   "metadata": {
    "collapsed": false
   },
   "outputs": [],
   "source": [
    "xmlFichier=yamlFichier.split(\".\")[0]+\".xml\""
   ]
  },
  {
   "cell_type": "code",
   "execution_count": 71,
   "metadata": {
    "collapsed": false
   },
   "outputs": [],
   "source": [
    "with codecs.open(xmlFichier, 'w',encoding=\"utf8\") as output:\n",
    "#    print [questions.getClozes()]\n",
    "    output.write(xmlOutput.getXML())"
   ]
  },
  {
   "cell_type": "code",
   "execution_count": 72,
   "metadata": {
    "collapsed": false
   },
   "outputs": [
    {
     "data": {
      "text/plain": [
       "{'clitique': None,\n",
       " 'datif': None,\n",
       " u'd\\xe9monstratif': u'Adjectif_d\\xe9monstratif',\n",
       " 'liaison': u'Liaison_en_fran\\xe7ais',\n",
       " 'partitif': 'Article_partitif',\n",
       " 'possessif': None,\n",
       " u'pr\\xe9position': None,\n",
       " u'r\\xe9fl\\xe9chi': u'Morphologie_du_pronom_personnel_en_fran\\xe7ais#Pronom_r.C3.A9fl.C3.A9chi_et_pronom_non_r.C3.A9fl.C3.A9chi'}"
      ]
     },
     "execution_count": 72,
     "metadata": {},
     "output_type": "execute_result"
    }
   ],
   "source": [
    "motReferences"
   ]
  }
 ],
 "metadata": {
  "kernelspec": {
   "display_name": "Python 2",
   "language": "python",
   "name": "python2"
  },
  "language_info": {
   "codemirror_mode": {
    "name": "ipython",
    "version": 2
   },
   "file_extension": ".py",
   "mimetype": "text/x-python",
   "name": "python",
   "nbconvert_exporter": "python",
   "pygments_lexer": "ipython2",
   "version": "2.7.10"
  }
 },
 "nbformat": 4,
 "nbformat_minor": 0
}

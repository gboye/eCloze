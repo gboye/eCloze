{
 "metadata": {
  "name": "",
  "signature": "sha256:d2839bfd86983030de715d8f58e4199b0d9101dd1e285463ba748bf9ad067898"
 },
 "nbformat": 3,
 "nbformat_minor": 0,
 "worksheets": [
  {
   "cells": [
    {
     "cell_type": "markdown",
     "metadata": {},
     "source": [
      "#Construction d'une partie conclusion pour un exercice simple\n",
      "\n",
      "La conclusion est bas\u00e9e sur une compilation des champs identiques et des champs diff\u00e9rents. Par exemple, POMMIER et POMPIER partage la m\u00eame construction de forme mais pas la m\u00eame construction de sens. La conclusion demandera ce qui est commun entre les deux formations et ce qui est diff\u00e9rent.\n",
      "\n",
      "- chaque ligne ne contient qu'une s\u00e9rie de donn\u00e9es correspondant \u00e0 la m\u00eame structure\n",
      "- le script assemble deux lignes et compare les champs dans *comparaisonChamps*\n",
      " - si les champs sont identiques, on ajoute l'\u00e9tiquette \u00e0 la liste des identiques\n",
      " - sinon, on ajoute l'\u00e9tiquette \u00e0 la liste des diff\u00e9rents\n",
      " - si tout est identique, on remplace la liste par \"tout\"\n",
      " - si rien n'est identique, on remplace la liste par \"rien\" et pareil pour diff\u00e9rent...\n",
      " \n",
      "La partie conclusion est ajout\u00e9e sur la ligne qui s\u00e9pare les exercices #EX;identiques;diff\u00e9rents"
     ]
    },
    {
     "cell_type": "code",
     "collapsed": false,
     "input": [
      "import itertools,random"
     ],
     "language": "python",
     "metadata": {},
     "outputs": [],
     "prompt_number": 9
    },
    {
     "cell_type": "markdown",
     "metadata": {},
     "source": [
      "- Le s\u00e9parateur *sep* est le point-virgule.\n",
      "- On tire 100 paires.\n",
      "- Les champs \u00e0 comparer sont le 4 et le 5"
     ]
    },
    {
     "cell_type": "code",
     "collapsed": false,
     "input": [
      "sep=\";\"\n",
      "nPaires=250\n",
      "comparaisonChamps={4:\"la construction de la forme\",5:\"la construction du sens\"}"
     ],
     "language": "python",
     "metadata": {},
     "outputs": [],
     "prompt_number": 10
    },
    {
     "cell_type": "markdown",
     "metadata": {},
     "source": [
      "Le fichier CSV est \"MorphoBase.txt\""
     ]
    },
    {
     "cell_type": "code",
     "collapsed": false,
     "input": [
      "with open(\"MorphoBase.txt\", 'r') as file:\n",
      "    donnees=file.readlines()"
     ],
     "language": "python",
     "metadata": {},
     "outputs": [],
     "prompt_number": 11
    },
    {
     "cell_type": "markdown",
     "metadata": {},
     "source": [
      "- on calcule toutes les paires possibles avec deux lignes\n",
      "- on enl\u00e8ve les paires qui contiennent deux fois la m\u00eame ligne"
     ]
    },
    {
     "cell_type": "code",
     "collapsed": false,
     "input": [
      "paires=list(itertools.product(range(len(donnees)),range(len(donnees))))\n",
      "paires=[(x,y) for (x,y) in paires if x!=y]"
     ],
     "language": "python",
     "metadata": {},
     "outputs": [],
     "prompt_number": 12
    },
    {
     "cell_type": "markdown",
     "metadata": {},
     "source": [
      "- on tire *nPaires* au hasard parmi toutes les paires"
     ]
    },
    {
     "cell_type": "code",
     "collapsed": false,
     "input": [
      "selections=random.sample(paires,nPaires)"
     ],
     "language": "python",
     "metadata": {},
     "outputs": [],
     "prompt_number": 13
    },
    {
     "cell_type": "markdown",
     "metadata": {},
     "source": [
      "##objet pour contenir un exercice boucles+conclusion"
     ]
    },
    {
     "cell_type": "code",
     "collapsed": false,
     "input": [
      "class exCSV:\n",
      "    def __init__(self):\n",
      "        self.titre=\"titre\"\n",
      "        self.conclusion=\"\"\n",
      "        self.boucles=[]\n",
      "        \n",
      "    def addTitre(self,titre):\n",
      "        self.titre=titre\n",
      "        \n",
      "    def addConclusion(self,conclusion):\n",
      "        self.conclusion=conclusion\n",
      "    \n",
      "    def addBoucle(self,boucle):\n",
      "        self.boucles.append(boucle)"
     ],
     "language": "python",
     "metadata": {},
     "outputs": [],
     "prompt_number": 14
    },
    {
     "cell_type": "markdown",
     "metadata": {},
     "source": [
      "##Objet pour contenir une liste d'objets exCSV\n",
      "- sampleExos \u00e9quilibre entre les tout/rien et les r\u00e9ponses partielles\n",
      "- getCSV renvoie toutes les paires assembl\u00e9es"
     ]
    },
    {
     "cell_type": "code",
     "collapsed": false,
     "input": [
      "class CSV:\n",
      "    def __init__(self):\n",
      "        self.exos=[]\n",
      "        self.partiel=[]\n",
      "        self.total=[]\n",
      "    \n",
      "    def addExo(self,exo):\n",
      "        self.exos.append(exo)\n",
      "        \n",
      "    def sampleExos(self):\n",
      "        if not self.partiel and not self.total:\n",
      "            for exo in self.exos: \n",
      "                if \"tout\" in exo.conclusion:\n",
      "                    self.total.append(exo)\n",
      "                else:\n",
      "                    self.partiel.append(exo)\n",
      "        extrait=random.sample(self.total,len(self.partiel))+self.partiel\n",
      "#        print extrait\n",
      "        random.shuffle(extrait)\n",
      "#        print extrait\n",
      "        for exo in extrait:\n",
      "            print exo.conclusion\n",
      "            for boucle in exo.boucles:\n",
      "                print boucle            \n",
      "                \n",
      "        \n",
      "        \n",
      "    def getCSV(self):\n",
      "        for exo in self.exos:\n",
      "            print exo.conclusion\n",
      "            for boucle in exo.boucles:\n",
      "                print boucle"
     ],
     "language": "python",
     "metadata": {},
     "outputs": [],
     "prompt_number": 15
    },
    {
     "cell_type": "markdown",
     "metadata": {},
     "source": [
      "- pour chaque \u00e9l\u00e9ment des s\u00e9lections\n",
      " - on calcule les champs des deux \u00e9l\u00e9ments A et B\n",
      " - on compare les champs pertinents et on note ce qui est identique et ce qui est diff\u00e9rent\n",
      " - on remplace la liste compl\u00e8te par \"tout\", la liste vide par \"rien\" et sinon on transforme la liste en cha\u00eene \u00e0 virgule"
     ]
    },
    {
     "cell_type": "code",
     "collapsed": false,
     "input": [
      "sortieCSV=CSV()\n",
      "for selection in selections:\n",
      "    aElements=donnees[selection[0]].strip().split(sep)\n",
      "    bElements=donnees[selection[1]].strip().split(sep)\n",
      "    identiques=[]\n",
      "    differents=[]\n",
      "    for comparaison in comparaisonChamps:\n",
      "        if aElements[comparaison]==bElements[comparaison]:\n",
      "            identiques.append(comparaisonChamps[comparaison])\n",
      "        else:\n",
      "            differents.append(comparaisonChamps[comparaison])\n",
      "\n",
      "    if len(identiques)==len(comparaisonChamps):\n",
      "        strIdentiques=\"tout\"\n",
      "    elif len(identiques)==0:\n",
      "        strIdentiques=\"rien\"\n",
      "    else:\n",
      "        strIdentiques=\", \".join(identiques)\n",
      "\n",
      "    if len(differents)==len(comparaisonChamps):\n",
      "        strDifferents=\"tout\"\n",
      "    elif len(differents)==0:\n",
      "        strDifferents=\"rien\"\n",
      "    else:\n",
      "        strDifferents=\", \".join(differents)\n",
      "    \n",
      "    elementCSV=exCSV()\n",
      "    elementCSV.addConclusion(\"#EX;%s;%s\"%(strIdentiques,strDifferents))\n",
      "    elementCSV.addBoucle(donnees[selection[0]].strip())\n",
      "    elementCSV.addBoucle(donnees[selection[1]].strip())\n",
      "    sortieCSV.addExo(elementCSV)\n",
      "sortieCSV.sampleExos()\n",
      "    "
     ],
     "language": "python",
     "metadata": {},
     "outputs": [
      {
       "output_type": "stream",
       "stream": "stdout",
       "text": [
        "#EX;rien;tout\n",
        "TIGRESSE;TIGRE;N.M;N.F;radical+\u025bs;\u00e9quivalent femelle de BASE\n",
        "\u00c9PAISSEUR;\u00c9PAIS;Adj;N.F;radical.F+\u0153r;propri\u00e9t\u00e9 d'\u00eatre BASE\n",
        "#EX;la construction du sens;la construction de la forme\n",
        "LARGEUR;LARGE;Adj;N.F;radical.F+\u0153r;propri\u00e9t\u00e9 d'\u00eatre BASE\n",
        "TENDRESSE;TENDRE;Adj;N.F;radical.F+\u025bs;propri\u00e9t\u00e9 d'\u00eatre BASE\n",
        "#EX;rien;tout\n",
        "TENDRESSE;TENDRE;Adj;N.F;radical.F+\u025bs;propri\u00e9t\u00e9 d'\u00eatre BASE\n",
        "H\u00d4TESSE;H\u00d4TE;N.M;N.F;radical+\u025bs;\u00e9quivalent femelle de BASE\n",
        "#EX;la construction du sens;la construction de la forme\n",
        "PETITESSE;PETIT;Adj;N.F;radical.F+\u025bs;propri\u00e9t\u00e9 d'\u00eatre BASE\n",
        "BOURGEOISIE;BOURGEOIS;Adj;N.F;radical.F+i;propri\u00e9t\u00e9 d'\u00eatre BASE\n",
        "#EX;rien;tout\n",
        "RUDESSE;RUDE;Adj;N.F;radical.F+\u025bs;propri\u00e9t\u00e9 d'\u00eatre BASE\n",
        "CASSE-T\u00caTE;CASSER-T\u00caTE;V-N;N.M;radical.PRS.SG-radical;Agent ou Instrument qui VERBE les NOMS\n",
        "#EX;rien;tout\n",
        "COUPELLE;COUPE;N.F;N.F;radical+\u025bl;diminutif de BASE\n",
        "GRACIEUSEMENT;GRACIEUX;Adj;Adv;radical.F+m\u0251\u0303;de mani\u00e8re BASE\n",
        "#EX;rien;tout\n",
        "OURSON;OURS;N;N.M;radical+\u0254\u0303;petit de BASE\n",
        "BASKETTEUR;BASKET;N;N.M;radical+\u0153r;sportif qui pratique la BASE\n",
        "#EX;la construction du sens;la construction de la forme\n",
        "TENDRESSE;TENDRE;Adj;N.F;radical.F+\u025bs;propri\u00e9t\u00e9 d'\u00eatre BASE\n",
        "ANIMALIT\u00c9;ANIMAL;Adj;N.F;radical.F+ite;propri\u00e9t\u00e9 d'\u00eatre BASE\n",
        "#EX;la construction du sens;la construction de la forme\n",
        "CHEVILLETTE;CHEVILLE;N.F;N.F;radical+\u025bt;diminutif de BASE\n",
        "COUPELLE;COUPE;N.F;N.F;radical+\u025bl;diminutif de BASE\n",
        "#EX;rien;tout\n",
        "SIMPLEMENT;SIMPLE;Adj;Adv;radical.F+m\u0251\u0303;de mani\u00e8re BASE\n",
        "POMPIER;POMPE;N;N.M;radical+je;m\u00e9tier en rapport avec la BASE\n",
        "#EX;rien;tout\n",
        "POMMIER;POMME;N;N.M;radical+je;arbre qui produit des BASES\n",
        "H\u00d4TESSE;H\u00d4TE;N.M;N.F;radical+\u025bs;\u00e9quivalent femelle de BASE\n",
        "#EX;la construction du sens;la construction de la forme\n",
        "SPORTIVIT\u00c9;SPORTIF;Adj;N.F;radical.F+ite;propri\u00e9t\u00e9 d'\u00eatre BASE\n",
        "LARGEUR;LARGE;Adj;N.F;radical.F+\u0153r;propri\u00e9t\u00e9 d'\u00eatre BASE\n",
        "#EX;la construction du sens;la construction de la forme\n",
        "TOURELLE;TOUR;N.F;N.F;radical+\u025bl;diminutif de BASE\n",
        "MAISONNETTE;MAISON;N.F;N.F;radical+\u025bt;diminutif de BASE\n",
        "#EX;la construction du sens;la construction de la forme\n",
        "SPORTIVIT\u00c9;SPORTIF;Adj;N.F;radical.F+ite;propri\u00e9t\u00e9 d'\u00eatre BASE\n",
        "COURTOISIE;COURTOIS;Adj;N.F;radical.F+i;propri\u00e9t\u00e9 d'\u00eatre BASE\n",
        "#EX;rien;tout\n",
        "TRIPIER;TRIPE;N;N.M;radical+je;m\u00e9tier en rapport avec la BASE\n",
        "DRESSAGE;DRESSER;V;N.M;radical.IMPF+a\u0292;action de BASER\n",
        "#EX;rien;tout\n",
        "RIGIDIFIER;RIGIDE;Adj;V;radical.F+ifi;rendre BASE\n",
        "GARAGISTE;GARAGE;N;N;radical+ist;m\u00e9tier en rapport avec la BASE\n",
        "#EX;rien;tout\n",
        "ESCRIMEUR;ESCRIME;N;N.M;radical+\u0153r;sportif qui pratique la BASE\n",
        "CYCLISTE;CYCLE;N;N;radical+ist;adepte de la BASE\n",
        "#EX;la construction du sens;la construction de la forme\n",
        "BIQUETTE;BIQUE;N.F;N.F;radical+\u025bt;diminutif de BASE\n",
        "JARDINET;JARDIN;N.M;N.M;radical+\u025b;diminutif de BASE\n",
        "#EX;la construction du sens;la construction de la forme\n",
        "RIGIDIFIER;RIGIDE;Adj;V;radical.F+ifi;rendre BASE\n",
        "BANALISER;BANAL;Adj;V;radical.F+iz;rendre BASE\n",
        "#EX;la construction du sens;la construction de la forme\n",
        "BAQUET;BAC;N.M;N.M;radical+\u025b;diminutif de BASE\n",
        "LAMELLE;LAME;N.F;N.F;radical+\u025bl;diminutif de BASE\n",
        "#EX;rien;tout\n",
        "COURTOISIE;COURTOIS;Adj;N.F;radical.F+i;propri\u00e9t\u00e9 d'\u00eatre BASE\n",
        "KAYAKISTE;KAYAK;N;N;radical+ist;adepte de la BASE\n",
        "#EX;rien;tout\n",
        "CHANOINESSE;CHANOINE;N.M;N.F;radical+\u025bs;\u00e9quivalent femelle de BASE\n",
        "GIRAFON;GIRAFE;N;N.M;radical+\u0254\u0303;petit de BASE\n",
        "#EX;la construction du sens;la construction de la forme\n",
        "LARGEUR;LARGE;Adj;N.F;radical.F+\u0153r;propri\u00e9t\u00e9 d'\u00eatre BASE\n",
        "BOURGEOISIE;BOURGEOIS;Adj;N.F;radical.F+i;propri\u00e9t\u00e9 d'\u00eatre BASE\n",
        "#EX;la construction du sens;la construction de la forme\n",
        "CHAUFFAGISTE;CHAUFFAGE;N;N;radical+ist;m\u00e9tier en rapport avec la BASE\n",
        "POISSONIER;POISSON;N;N.M;radical+je;m\u00e9tier en rapport avec la BASE\n"
       ]
      }
     ],
     "prompt_number": 16
    },
    {
     "cell_type": "code",
     "collapsed": false,
     "input": [],
     "language": "python",
     "metadata": {},
     "outputs": [],
     "prompt_number": 16
    },
    {
     "cell_type": "code",
     "collapsed": false,
     "input": [],
     "language": "python",
     "metadata": {},
     "outputs": [],
     "prompt_number": 16
    }
   ],
   "metadata": {}
  }
 ]
}
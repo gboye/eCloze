{
 "cells": [
  {
   "cell_type": "code",
   "execution_count": 513,
   "metadata": {
    "collapsed": false
   },
   "outputs": [],
   "source": [
    "#import re\n",
    "import sys, codecs, optparse, glob, os\n",
    "import string\n",
    "import random"
   ]
  },
  {
   "cell_type": "code",
   "execution_count": 514,
   "metadata": {
    "collapsed": false
   },
   "outputs": [],
   "source": [
    "dossier=\"/Github/eGloss\"\n",
    "enonce=\"Exo1\"\n",
    "theme=\"GlosesMots\"\n",
    "adaptatifPenalite=\"0.1000000\"\n",
    "dernierIndiceNote=75.0\n",
    "msgPlusDeMots=u\"Il y a plus de mots\"\n",
    "msgMoinsDeMots=u\"Il y a moins de mots\"\n",
    "def nbIndiceNotes(nb):\n",
    "    if nb==1: \n",
    "        return [\"%50%\"]\n",
    "    elif nb==2:\n",
    "        return [\"\",\"%50%\"]\n",
    "    else:\n",
    "        return [\"\"]+[\"%\"+str(int((i+2)*dernierIndiceNote/nb))+\"%\" for i in range(nb-1)]   "
   ]
  },
  {
   "cell_type": "code",
   "execution_count": 515,
   "metadata": {
    "collapsed": false
   },
   "outputs": [],
   "source": [
    "from os.path import expanduser\n",
    "home = expanduser(\"~\")\n",
    "repertoire=home+dossier\n",
    "base=repertoire+\"/\""
   ]
  },
  {
   "cell_type": "code",
   "execution_count": 516,
   "metadata": {
    "collapsed": false
   },
   "outputs": [],
   "source": [
    "from MoodleXML import *\n",
    "import yaml"
   ]
  },
  {
   "cell_type": "code",
   "execution_count": 517,
   "metadata": {
    "collapsed": false
   },
   "outputs": [],
   "source": [
    "yamlFichier=base+theme+\"-\"+enonce+\".yaml\"\n",
    "csvFichier=base+theme+\".txt\"\n",
    "boolEX=True\n",
    "titreNoEX=False"
   ]
  },
  {
   "cell_type": "code",
   "execution_count": 518,
   "metadata": {
    "collapsed": false
   },
   "outputs": [],
   "source": [
    "with open(yamlFichier, 'r') as stream:\n",
    "    configuration=yaml.load(stream)\n",
    "    \n",
    "with codecs.open(csvFichier, 'r', encoding=\"utf8\") as file:\n",
    "    donneesLignes=file.readlines()"
   ]
  },
  {
   "cell_type": "code",
   "execution_count": 519,
   "metadata": {
    "collapsed": false
   },
   "outputs": [],
   "source": [
    "def donneesEX():\n",
    "    titre=[]\n",
    "    result={}\n",
    "    boolMultiLignes=False\n",
    "    i=0\n",
    "    for ligne in donneesLignes:\n",
    "        if debug or 0: print ligne\n",
    "        i+=1\n",
    "        if ligne.startswith(\"#EX;\"):\n",
    "            if result:\n",
    "                donnees.append({\"-\".join(titre):result})\n",
    "            titre=[]\n",
    "            result={\"boucle\":[],\"conclusion\":[]}\n",
    "            temp=ligne.strip().split(\";\")\n",
    "            if len(temp)>1 and temp[1]!=\"\":\n",
    "                result[\"conclusion\"]=temp[1:]\n",
    "        elif ligne.startswith(\"#EXM;\"):\n",
    "            boolMultiLignes=True\n",
    "            if result:\n",
    "                donnees.append({\"-\".join(titre):result})\n",
    "            titre=[]\n",
    "            result={\"boucle\":[],\"conclusion\":[]}\n",
    "            temp=ligne.strip().split(\";\")\n",
    "            if len(temp)>1 and temp[1]!=\"\":\n",
    "                titre=temp[1:]            \n",
    "        elif ligne.startswith(\"#\"):\n",
    "            pass\n",
    "        else:\n",
    "            temp=ligne.strip().split(\";\")\n",
    "            if boolMultiLignes:\n",
    "                result[\"boucle\"].extend(temp)\n",
    "            else:\n",
    "                result[\"boucle\"].append(temp)\n",
    "    donnees.append({\"-\".join(titre):result})\n",
    "\n",
    "def donneesNoEX():\n",
    "    if titreNoEX:\n",
    "        debut=1\n",
    "    else:\n",
    "        debut=0\n",
    "    for ligne in donneesLignes[debut:]:\n",
    "        if not (ligne.strip().strip(\";\")==\"\" or ligne.startswith(\"#\")):\n",
    "            temp=ligne.strip().split(\";\")\n",
    "            result={\"boucle\":[temp],\"conclusion\":[]}\n",
    "            titre=makeChamps(configuration[u\"Titre\"],temp).encode('utf8')\n",
    "            donnees.append({titre:result})\n",
    "    return\n",
    "\n",
    "donnees=[]\n",
    "if boolEX or donneesLignes[0].startswith(\"#EX;\"):\n",
    "    donneesEX()\n",
    "else:\n",
    "    donneesNoEX()"
   ]
  },
  {
   "cell_type": "code",
   "execution_count": 520,
   "metadata": {
    "collapsed": true
   },
   "outputs": [],
   "source": [
    "def lierMot(ref,chaine):\n",
    "    if motReferences[ref]:\n",
    "        mot=motReferences[ref]\n",
    "    else:\n",
    "        mot=ref\n",
    "    result=chaine.replace(ref,u'<a href=\"https://fr.wikipedia.org/wiki/%s\" target=\"_blank\" style=\"color:blue\">%s</a>'%(mot,ref))\n",
    "    return result"
   ]
  },
  {
   "cell_type": "code",
   "execution_count": 521,
   "metadata": {
    "collapsed": true
   },
   "outputs": [],
   "source": [
    "def modifierCorrection(correction):\n",
    "    result=correction\n",
    "    subPoints = re.compile(ur\"(\\.(?![*+])|-(?![-.])|_)\")\n",
    "    result=subPoints.sub(ur\"\\S*\",result)\n",
    "    m=re.match(ur\"^(--\\.\\*\\()(&&.*)(\\)\\.\\*)$\",result)\n",
    "    if m:\n",
    "        (prefixe, corps, suffixe)=m.groups()        \n",
    "        if re.search(ur\"(\\(([^)]*)\\)|\\[([^]]*)\\])\",corps):\n",
    "            boolIntermediaire=True\n",
    "        subParentheses = re.compile(ur\"\\(([^)]*)\\)\")\n",
    "        corps=subParentheses.sub(ur\"\\S*\\1\\S*\",corps)\n",
    "        subCrochets = re.compile(ur\"\\[([^]]*)\\]\")\n",
    "        corps=subCrochets.sub(ur\"\\S*\\1\\S*\",corps)\n",
    "        unites=filter(None,corps.split(\"&&\"))\n",
    "#        print \"unités\",unites\n",
    "        corps=\".*\".join(unites)\n",
    "        result=prefixe+corps+suffixe\n",
    "    return result    \n",
    "\n",
    "def echapperCorrection(correction):\n",
    "    boolIntermediaire=False\n",
    "    listeResult=[]\n",
    "    subComplexe=re.compile(ur\"(\\.(?![*+])|-(?![-.])|_)\")\n",
    "    if subComplexe.search(correction):\n",
    "        boolIntermediaire=True\n",
    "    result=correction\n",
    "#    print \"original\",result\n",
    "    subPoints = re.compile(ur\"(\\.(?![*+]))\")\n",
    "    result=subPoints.sub(ur\"\\\\\\1\",result)\n",
    "    m=re.match(ur\"^(--\\.\\*\\()(&&.*)(\\)\\.\\*)$\",result)\n",
    "    if m:\n",
    "        (prefixe, corps, suffixe)=m.groups()        \n",
    "        subParentheses = re.compile(ur\"\\(([^)]*)\\)\")\n",
    "        if subParentheses.search(corps):\n",
    "            boolIntermediaire=True\n",
    "            corps=subParentheses.sub(ur\"\\\\(\\1\\\\)\",corps)\n",
    "        subCrochets = re.compile(ur\"\\[([^]]*)\\]\")\n",
    "        if subCrochets.search(corps):\n",
    "            boolIntermediaire=True\n",
    "            corps=subCrochets.sub(ur\"\\\\[\\1\\\\]\",corps)\n",
    "        unites=filter(None,corps.split(\"&&\"))\n",
    "#        print \"unités\",unites\n",
    "        corps=\".*\".join(unites)\n",
    "        result=prefixe+corps+suffixe\n",
    "    if boolIntermediaire:\n",
    "        print \"intermédiaire\",correction\n",
    "        listeResult.append(modifierCorrection(correction))\n",
    "    listeResult.append(result)\n",
    "#    print \"échappé\",result\n",
    "    return listeResult    "
   ]
  },
  {
   "cell_type": "code",
   "execution_count": 522,
   "metadata": {
    "collapsed": false
   },
   "outputs": [],
   "source": [
    "def separerMots(elements,titre,reponse):\n",
    "    result=[]\n",
    "    elements = filter(None, elements)\n",
    "    nbMots=len(reponse.strip().split(\" \"))\n",
    "    solution=u\"=%s#Bravo ! La phrase était : %s\"%(reponse,titre)\n",
    "    corrections=[]\n",
    "    nbElements=len(elements[1:])\n",
    "    for n,element in enumerate(elements[1:]):\n",
    "        (reponseSpecifique,feedbackSpecifique)=element.split(\"#\",1)\n",
    "        feedbackSpecs=feedbackSpecifique.split(\"#\")\n",
    "        reponseSpecs=echapperCorrection(reponseSpecifique)\n",
    "#        print \"echapperCorrection\", reponseSpecs\n",
    "        for i,reponseSpec in enumerate(reponseSpecs):\n",
    "            print i,reponseSpec\n",
    "            if i <len(feedbackSpecs):\n",
    "                feedbackSpec=feedbackSpecs[i]\n",
    "            else:\n",
    "                feedbackSpec=feedbackSpecifique\n",
    "            print \"feedback\", feedbackSpec\n",
    "            for mot in motReferences:\n",
    "                if mot in feedbackSpec:\n",
    "                    feedbackSpec=lierMot(mot,feedbackSpec)\n",
    "            element=\"#\".join([reponseSpec,feedbackSpec])\n",
    "            corrections.append(nbIndiceNotes(nbElements)[n]+element)\n",
    "    minMots=\"^\"+\"([^ ]+ +)?\"*(nbMots-4)+\"[^ ]+$#%s\"%msgPlusDeMots\n",
    "    maxMots=\"^\"+\"([^ ]+ +)\"*(nbMots+2)+\"([^ ]+ +)*[^ ]+$#%s\"%msgMoinsDeMots\n",
    "    result.extend([solution,minMots,maxMots])\n",
    "    result.extend(corrections)\n",
    "    return result"
   ]
  },
  {
   "cell_type": "code",
   "execution_count": 523,
   "metadata": {
    "collapsed": false,
    "scrolled": true
   },
   "outputs": [
    {
     "name": "stdout",
     "output_type": "stream",
     "text": [
      "réponse DEF-M.SG.⊖ chat(M)[SG] gris(M)[SG] souris(F)[SG] PRO.1PL.OBJ-PRO.PL.⊕-observer(G1)-IND.IPF.3SG DE_DEF-M.SG.⊖ haut(M)[SG] DE DEF-F.SG.⊖ gouttière(F)[SG] vert(M)[SG] clair[M.SG]\n",
      "question l-ə ʃa gʁi suʁi nu-z-opsɛʁv-ɛ d-y o də l-a gutjɛʁ vɛʁ klɛʁ\n",
      "0 --.*( chat.* gris.* souris.*observer.* haut.* gouttière.* vert.* clair).*\n",
      "feedback Il manque des mots lexicaux.\n",
      "0 --.*(DEF.* DE DEF).*\n",
      "feedback Il manque des mots grammaticaux (à noter en majuscules).\n",
      "intermédiaire --.*(&& chat(M)[SG] && souris(F)[SG] && haut(M)[SG] && gouttière(F)[SG] ).*\n",
      "0 --.*( chat\\S*M\\S*\\S*SG\\S* .* souris\\S*F\\S*\\S*SG\\S* .* haut\\S*M\\S*\\S*SG\\S* .* gouttière\\S*F\\S*\\S*SG\\S* ).*\n",
      "feedback La glose des noms comprend leur genre et leur nombre.\n",
      "1 --.*( chat\\(M\\)\\[SG\\] .* souris\\(F\\)\\[SG\\] .* haut\\(M\\)\\[SG\\] .* gouttière\\(F\\)\\[SG\\] ).*\n",
      "feedback La glose des noms comprend leur genre lexical et leur nombre en contexte.\n",
      "intermédiaire --.*(&&DEF-M.SG.*chat&& DEF-F.SG.*gouttière).*\n",
      "0 --.*(DEF\\S*M\\S*SG.*chat.* DEF\\S*F\\S*SG.*gouttière).*\n",
      "feedback La glose des définis comprend leur genre et leur nombre.\n",
      "1 --.*(DEF-M\\.SG.*chat.* DEF-F\\.SG.*gouttière).*\n",
      "feedback Pour les définis le genre et le nombre constituent un suffixe.\n",
      "intermédiaire --.*(&& gris(M)[SG] && vert(M)[SG] clair[M.SG]).*\n",
      "0 --.*( gris\\S*M\\S*\\S*SG\\S* .* vert\\S*M\\S*\\S*SG\\S* clair\\S*M\\S*SG\\S*).*\n",
      "feedback Attention au genre et au nombre des couleurs.\n",
      "1 --.*( gris\\(M\\)\\[SG\\] .* vert\\(M\\)\\[SG\\] clair\\[M\\.SG\\]).*\n",
      "feedback Attention aux couleurs qui sont des noms.\n",
      "intermédiaire --.*(&&DEF-M.SG.⊖ chat&& DEF-F.SG.⊖ gouttière).*\n",
      "0 --.*(DEF\\S*M\\S*SG\\S*⊖ chat.* DEF\\S*F\\S*SG\\S*⊖ gouttière).*\n",
      "feedback Pensez aux problèmes de liaison pour les définis.\n",
      "1 --.*(DEF-M\\.SG\\.⊖ chat.* DEF-F\\.SG\\.⊖ gouttière).*\n",
      "feedback Pensez aux problèmes de liaison pour les définis.\n",
      "intermédiaire --.* DE_DEF.*\n",
      "0 --.* DE\\S*DEF.*\n",
      "feedback Attention à séparer les deux morceaux de l'élément fusionné : M1_M2.\n",
      "1 --.* DE_DEF.*\n",
      "feedback Attention à séparer les deux morceaux de l'élément fusionné : M1_M2.\n",
      "intermédiaire --.* DE_DEF-M.SG.*\n",
      "0 --.* DE\\S*DEF\\S*M\\S*SG.*\n",
      "feedback Attention au genre et au nombre de l'élément fusionné.\n",
      "1 --.* DE_DEF-M\\.SG.*\n",
      "feedback Attention au genre et au nombre de l'élément fusionné.\n",
      "intermédiaire --.* DE_DEF-M.SG.⊖ haut.*\n",
      "0 --.* DE\\S*DEF\\S*M\\S*SG\\S*⊖ haut.*\n",
      "feedback Attention à l'élément fusionné vis à vis de la liaison.\n",
      "1 --.* DE_DEF-M\\.SG\\.⊖ haut.*\n",
      "feedback Attention à l'élément fusionné vis à vis de la liaison.\n",
      "intermédiaire --.*(&&observer\\S*-IND.IPF.3SG ).*\n",
      "0 --.*(observer\\S*\\S*IND\\S*IPF\\S*3SG ).*\n",
      "feedback Attention à la conjugaison du verbe.\n",
      "1 --.*(observer\\S*-IND\\.IPF\\.3SG ).*\n",
      "feedback Attention à la marque de conjugaison du verbe.\n",
      "intermédiaire --.*(&&observer(G1)-IND.IPF.3SG ).*\n",
      "0 --.*(observer\\S*G1\\S*\\S*IND\\S*IPF\\S*3SG ).*\n",
      "feedback Attention au groupe du verbe.\n",
      "1 --.*(observer\\(G1\\)-IND\\.IPF\\.3SG ).*\n",
      "feedback Attention au groupe lexical du verbe.\n",
      "intermédiaire --.*(&& PRO.1PL.OBJ\\S*-observer).*\n",
      "0 --.*( PRO\\S*1PL\\S*OBJ\\S*\\S*observer).*\n",
      "feedback Attention au clitique objet.\n",
      "1 --.*( PRO\\.1PL\\.OBJ\\S*-observer).*\n",
      "feedback Attention au clitique objet et à sa marque de liaison.\n",
      "intermédiaire --.*(&& PRO.1PL.OBJ\\S*PL\\S*-observer).*\n",
      "0 --.*( PRO\\S*1PL\\S*OBJ\\S*PL\\S*\\S*observer).*\n",
      "feedback Attention à la marque du pluriel pour le clitique objet.\n",
      "1 --.*( PRO\\.1PL\\.OBJ\\S*PL\\S*-observer).*\n",
      "feedback Attention à la marque du pluriel pour le clitique objet.\n",
      "intermédiaire --.*(&& PRO.1PL.OBJ-PRO.PL.⊕-observer).*\n",
      "0 --.*( PRO\\S*1PL\\S*OBJ\\S*PRO\\S*PL\\S*⊕\\S*observer).*\n",
      "feedback Attention à la marque du pluriel de liaison pour le clitique objet.\n",
      "1 --.*( PRO\\.1PL\\.OBJ-PRO\\.PL\\.⊕-observer).*\n",
      "feedback Attention au clitique objet et à sa marque de liaison.\n"
     ]
    }
   ],
   "source": [
    "consigne=\"<br/>\".join(configuration[u\"Consigne\"])\n",
    "motReferences=configuration[u\"Références\"]\n",
    "separationExercices=[]\n",
    "for question in donnees:\n",
    "    questionLignes=[]\n",
    "    for nom in question:\n",
    "        titre=nom\n",
    "        questionLignes.append(consigne)\n",
    "        if \"#\" in question[nom][\"boucle\"][0]:\n",
    "            (phraseRep,phraseQuest)=question[nom][\"boucle\"][0].split(\"#\",1)            \n",
    "        else:\n",
    "            phraseRep=question[nom][\"boucle\"][0]\n",
    "            phraseQuest=phraseRep\n",
    "        print \"réponse\", phraseRep\n",
    "        print \"question\", phraseQuest\n",
    "        questionLigne=u\"\".join(re.split(\"[ -]\",phraseQuest))\n",
    "        questionLignes.append(u\"\".join(re.split(u\"[ -]\",questionLigne)))\n",
    "#        questionLignes.append(u\"\".join(question[nom][\"boucle\"][0].split(\" \")))\n",
    "        questionLignes.append(u\"{1:RXC:%s}\"%u\"~\".join(separerMots(question[nom][\"boucle\"],titre,phraseRep)))\n",
    "#        print questionLignes\n",
    "        textQuestion=u\"<br/>\".join(questionLignes)\n",
    "        separationExercices.append(ClozeExercice(titre,textQuestion,penalty=adaptatifPenalite))"
   ]
  },
  {
   "cell_type": "code",
   "execution_count": 524,
   "metadata": {
    "collapsed": false
   },
   "outputs": [],
   "source": [
    "categorie=configuration[u\"Catégorie\"]\n",
    "clozeQuestions=XMLClozes(categorie)"
   ]
  },
  {
   "cell_type": "code",
   "execution_count": 525,
   "metadata": {
    "collapsed": false
   },
   "outputs": [],
   "source": [
    "for exercice in separationExercices:\n",
    "    clozeQuestions.addExercice(exercice)"
   ]
  },
  {
   "cell_type": "code",
   "execution_count": 526,
   "metadata": {
    "collapsed": false
   },
   "outputs": [],
   "source": [
    "xmlOutput=MoodleXML()\n",
    "xmlOutput.addQuiz(clozeQuestions.getClozes())"
   ]
  },
  {
   "cell_type": "code",
   "execution_count": 527,
   "metadata": {
    "collapsed": false
   },
   "outputs": [],
   "source": [
    "xmlFichier=yamlFichier.split(\".\")[0]+\".xml\""
   ]
  },
  {
   "cell_type": "code",
   "execution_count": 528,
   "metadata": {
    "collapsed": false
   },
   "outputs": [],
   "source": [
    "with codecs.open(xmlFichier, 'w',encoding=\"utf8\") as output:\n",
    "#    print [questions.getClozes()]\n",
    "    output.write(xmlOutput.getXML())"
   ]
  },
  {
   "cell_type": "code",
   "execution_count": 529,
   "metadata": {
    "collapsed": false
   },
   "outputs": [
    {
     "data": {
      "text/plain": [
       "{'clitique': None,\n",
       " 'datif': None,\n",
       " u'd\\xe9monstratif': u'Adjectif_d\\xe9monstratif',\n",
       " 'liaison': u'Liaison_en_fran\\xe7ais',\n",
       " 'partitif': 'Article_partitif',\n",
       " 'possessif': None,\n",
       " u'pr\\xe9position': None,\n",
       " u'r\\xe9fl\\xe9chi': u'Morphologie_du_pronom_personnel_en_fran\\xe7ais#Pronom_r.C3.A9fl.C3.A9chi_et_pronom_non_r.C3.A9fl.C3.A9chi'}"
      ]
     },
     "execution_count": 529,
     "metadata": {},
     "output_type": "execute_result"
    }
   ],
   "source": [
    "motReferences"
   ]
  },
  {
   "cell_type": "code",
   "execution_count": 530,
   "metadata": {
    "collapsed": false
   },
   "outputs": [
    {
     "name": "stdout",
     "output_type": "stream",
     "text": [
      "&& gris(M)[SG.⊖] && vert(M)[SG.⊖] && clair[M.SG.⊖]\n",
      "&& gris\\(M\\)[SG.⊖] && vert\\(M\\)[SG.⊖] && clair[M.SG.⊖]\n",
      "--.*(&& gris\\(M\\)\\[SG\\.⊖\\] && vert\\(M\\)\\[SG\\.⊖\\] && clair\\[M\\.SG\\.⊖\\]).*\n"
     ]
    }
   ],
   "source": [
    "correction=u\"--.*(&& gris(M)[SG.⊖] && vert(M)[SG.⊖] && clair[M.SG.⊖]).*\"\n",
    "#correction=u\"--.*(&& DEF-M.SG.⊖ chat&& DEF-F.SG.⊖ gouttière).*\"\n",
    "(prefixe, corps, suffixe)=re.match(ur\"^(--\\.\\*\\()(&&.*)(\\)\\.\\*)$\",correction).groups()\n",
    "print corps\n",
    "subParentheses = re.compile(ur\"\\(([^)]*)\\)\")\n",
    "result=subParentheses.sub(ur\"\\\\(\\1\\\\)\",corps)\n",
    "print result\n",
    "subCrochets = re.compile(ur\"\\[([^]]*)\\]\")\n",
    "result=subCrochets.sub(ur\"\\\\[\\1\\\\]\",result)\n",
    "subPoints = re.compile(ur\"(\\.[^*])\")\n",
    "result=subPoints.sub(ur\"\\\\\\1\",result)\n",
    "\n",
    "print prefixe+result+suffixe"
   ]
  },
  {
   "cell_type": "code",
   "execution_count": 531,
   "metadata": {
    "collapsed": false
   },
   "outputs": [
    {
     "name": "stdout",
     "output_type": "stream",
     "text": [
      "none\n"
     ]
    }
   ],
   "source": [
    "import re\n",
    "test=\".*\"\n",
    "subPoints = re.compile(ur\"(\\.(?![*+]))\")\n",
    "if subPoints.search(test):\n",
    "    print \"found\"\n",
    "else:\n",
    "    print \"none\""
   ]
  },
  {
   "cell_type": "code",
   "execution_count": 532,
   "metadata": {
    "collapsed": false
   },
   "outputs": [
    {
     "name": "stdout",
     "output_type": "stream",
     "text": [
      "intermédiaire --.*(&& chat(M)[SG]).*\n",
      "--.*( chat\\S*M\\S*\\S*SG\\S*).*\n",
      "--.*( chat\\(M\\)\\[SG\\]).*\n"
     ]
    }
   ],
   "source": [
    "chaine=\"--.*(&& chat(M)[SG]).*\"\n",
    "for element in echapperCorrection(chaine):\n",
    "    print element"
   ]
  },
  {
   "cell_type": "code",
   "execution_count": 533,
   "metadata": {
    "collapsed": false
   },
   "outputs": [
    {
     "name": "stdout",
     "output_type": "stream",
     "text": [
      "ləʃagʁisuʁinuzopsɛʁvɛdyodəlagutjɛʁvɛʁklɛʁ\n"
     ]
    }
   ],
   "source": [
    "if \"#\" in question[nom][\"boucle\"][0]:\n",
    "    print u\"\".join(re.split(\"[ -]\",question[nom][\"boucle\"][0].split(\"#\")[1]))\n",
    "else:\n",
    "    print u\"\".join(re.split(\"[ -]\",question[nom][\"boucle\"][0]))"
   ]
  }
 ],
 "metadata": {
  "kernelspec": {
   "display_name": "Python 2",
   "language": "python",
   "name": "python2"
  },
  "language_info": {
   "codemirror_mode": {
    "name": "ipython",
    "version": 2
   },
   "file_extension": ".py",
   "mimetype": "text/x-python",
   "name": "python",
   "nbconvert_exporter": "python",
   "pygments_lexer": "ipython2",
   "version": "2.7.10"
  }
 },
 "nbformat": 4,
 "nbformat_minor": 0
}

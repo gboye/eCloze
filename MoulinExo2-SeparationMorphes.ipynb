{
 "cells": [
  {
   "cell_type": "code",
   "execution_count": 35,
   "metadata": {
    "collapsed": false
   },
   "outputs": [],
   "source": [
    "#import re\n",
    "import sys, codecs, optparse, glob, os\n",
    "import string\n",
    "import random"
   ]
  },
  {
   "cell_type": "code",
   "execution_count": 36,
   "metadata": {
    "collapsed": false
   },
   "outputs": [],
   "source": [
    "dossier=\"/Github/eGloss\"\n",
    "enonce=\"Exo1\"\n",
    "theme=\"GlosesMots\"\n",
    "adaptatifPenalite=\"0.1000000\"\n",
    "dernierIndiceNote=75.0\n",
    "msgPlusDeMots=u\"Il y a plus de mots\"\n",
    "msgMoinsDeMots=u\"Il y a moins de mots\"\n",
    "def nbIndiceNotes(nb):\n",
    "    if nb==1: \n",
    "        return [\"%50%\"]\n",
    "    elif nb==2:\n",
    "        return [\"\",\"%50%\"]\n",
    "    else:\n",
    "        return [\"\"]+[\"%\"+str(int((i+2)*dernierIndiceNote/nb))+\"%\" for i in range(nb-1)]   "
   ]
  },
  {
   "cell_type": "code",
   "execution_count": 37,
   "metadata": {
    "collapsed": false
   },
   "outputs": [],
   "source": [
    "from os.path import expanduser\n",
    "home = expanduser(\"~\")\n",
    "repertoire=home+dossier\n",
    "base=repertoire+\"/\""
   ]
  },
  {
   "cell_type": "code",
   "execution_count": 38,
   "metadata": {
    "collapsed": false
   },
   "outputs": [],
   "source": [
    "from MoodleXML import *\n",
    "import yaml"
   ]
  },
  {
   "cell_type": "code",
   "execution_count": 39,
   "metadata": {
    "collapsed": false
   },
   "outputs": [],
   "source": [
    "yamlFichier=base+theme+\"-\"+enonce+\".yaml\"\n",
    "csvFichier=base+theme+\".txt\"\n",
    "boolEX=True\n",
    "titreNoEX=False"
   ]
  },
  {
   "cell_type": "code",
   "execution_count": 40,
   "metadata": {
    "collapsed": false
   },
   "outputs": [],
   "source": [
    "with open(yamlFichier, 'r') as stream:\n",
    "    configuration=yaml.load(stream)\n",
    "    \n",
    "with codecs.open(csvFichier, 'r', encoding=\"utf8\") as file:\n",
    "    donneesLignes=file.readlines()"
   ]
  },
  {
   "cell_type": "code",
   "execution_count": 41,
   "metadata": {
    "collapsed": false
   },
   "outputs": [],
   "source": [
    "def donneesEX():\n",
    "    titre=[]\n",
    "    result={}\n",
    "    boolMultiLignes=False\n",
    "    i=0\n",
    "    for ligne in donneesLignes:\n",
    "        if debug or 0: print ligne\n",
    "        i+=1\n",
    "        if ligne.startswith(\"#EX;\"):\n",
    "            if result:\n",
    "                donnees.append({\"-\".join(titre):result})\n",
    "            titre=[]\n",
    "            result={\"boucle\":[],\"conclusion\":[]}\n",
    "            temp=ligne.strip().split(\";\")\n",
    "            if len(temp)>1 and temp[1]!=\"\":\n",
    "                result[\"conclusion\"]=temp[1:]\n",
    "        elif ligne.startswith(\"#EXM;\"):\n",
    "            boolMultiLignes=True\n",
    "            if result:\n",
    "                donnees.append({\"-\".join(titre):result})\n",
    "            titre=[]\n",
    "            result={\"boucle\":[],\"conclusion\":[]}\n",
    "            temp=ligne.strip().split(\";\")\n",
    "            if len(temp)>1 and temp[1]!=\"\":\n",
    "                titre=temp[1:]            \n",
    "        elif ligne.startswith(\"#\"):\n",
    "            pass\n",
    "        else:\n",
    "            temp=ligne.strip().split(\";\")\n",
    "            if boolMultiLignes:\n",
    "                result[\"boucle\"].extend(temp)\n",
    "            else:\n",
    "                result[\"boucle\"].append(temp)\n",
    "    donnees.append({\"-\".join(titre):result})\n",
    "\n",
    "def donneesNoEX():\n",
    "    if titreNoEX:\n",
    "        debut=1\n",
    "    else:\n",
    "        debut=0\n",
    "    for ligne in donneesLignes[debut:]:\n",
    "        if not (ligne.strip().strip(\";\")==\"\" or ligne.startswith(\"#\")):\n",
    "            temp=ligne.strip().split(\";\")\n",
    "            result={\"boucle\":[temp],\"conclusion\":[]}\n",
    "            titre=makeChamps(configuration[u\"Titre\"],temp).encode('utf8')\n",
    "            donnees.append({titre:result})\n",
    "    return\n",
    "\n",
    "donnees=[]\n",
    "if boolEX or donneesLignes[0].startswith(\"#EX;\"):\n",
    "    donneesEX()\n",
    "else:\n",
    "    donneesNoEX()"
   ]
  },
  {
   "cell_type": "code",
   "execution_count": 42,
   "metadata": {
    "collapsed": true
   },
   "outputs": [],
   "source": [
    "def lierMot(ref,chaine):\n",
    "    if motReferences[ref]:\n",
    "        mot=motReferences[ref]\n",
    "    else:\n",
    "        mot=ref\n",
    "    result=chaine.replace(ref,u'<a href=\"https://fr.wikipedia.org/wiki/%s\" target=\"_blank\" style=\"color:blue\">%s</a>'%(mot,ref))\n",
    "    return result"
   ]
  },
  {
   "cell_type": "code",
   "execution_count": 43,
   "metadata": {
    "collapsed": true
   },
   "outputs": [],
   "source": [
    "def modifierCorrection(correction):\n",
    "    result=correction\n",
    "    subPoints = re.compile(ur\"(\\.(?![*+])|-(?![-.])|_)\")\n",
    "    result=subPoints.sub(ur\"\\S*\",result)\n",
    "    m=re.match(ur\"^(--\\.\\*\\()(&&.*)(\\)\\.\\*)$\",result)\n",
    "    if m:\n",
    "        (prefixe, corps, suffixe)=m.groups()        \n",
    "        if re.search(ur\"(\\(([^)]*)\\)|\\[([^]]*)\\])\",corps):\n",
    "            boolIntermediaire=True\n",
    "        subParentheses = re.compile(ur\"\\(([^)]*)\\)\")\n",
    "        corps=subParentheses.sub(ur\"\\S*\\1\\S*\",corps)\n",
    "        subCrochets = re.compile(ur\"\\[([^]]*)\\]\")\n",
    "        corps=subCrochets.sub(ur\"\\S*\\1\\S*\",corps)\n",
    "        unites=filter(None,corps.split(\"&&\"))\n",
    "#        print \"unités\",unites\n",
    "        corps=\".*\".join(unites)\n",
    "        result=prefixe+corps+suffixe\n",
    "    return result    \n",
    "\n",
    "def echapperCorrection(correction):\n",
    "    boolIntermediaire=False\n",
    "    listeResult=[]\n",
    "    subComplexe=re.compile(ur\"(\\.(?![*+])|-(?![-.])|_)\")\n",
    "    if subComplexe.search(correction):\n",
    "        boolIntermediaire=True\n",
    "    result=correction\n",
    "#    print \"original\",result\n",
    "    subPoints = re.compile(ur\"(\\.(?![*+]))\")\n",
    "    result=subPoints.sub(ur\"\\\\\\1\",result)\n",
    "    m=re.match(ur\"^(--\\.\\*\\()(&&.*)(\\)\\.\\*)$\",result)\n",
    "    if m:\n",
    "        (prefixe, corps, suffixe)=m.groups()        \n",
    "        subParentheses = re.compile(ur\"\\(([^)]*)\\)\")\n",
    "        if subParentheses.search(corps):\n",
    "            boolIntermediaire=True\n",
    "            corps=subParentheses.sub(ur\"\\\\(\\1\\\\)\",corps)\n",
    "        subCrochets = re.compile(ur\"\\[([^]]*)\\]\")\n",
    "        if subCrochets.search(corps):\n",
    "            boolIntermediaire=True\n",
    "            corps=subCrochets.sub(ur\"\\\\[\\1\\\\]\",corps)\n",
    "        unites=filter(None,corps.split(\"&&\"))\n",
    "#        print \"unités\",unites\n",
    "        corps=\".*\".join(unites)\n",
    "        result=prefixe+corps+suffixe\n",
    "    if boolIntermediaire:\n",
    "        print \"intermédiaire\",correction\n",
    "        listeResult.append(modifierCorrection(correction))\n",
    "    listeResult.append(result)\n",
    "#    print \"échappé\",result\n",
    "    return listeResult    "
   ]
  },
  {
   "cell_type": "code",
   "execution_count": 44,
   "metadata": {
    "collapsed": false
   },
   "outputs": [],
   "source": [
    "def separerMots(elements,titre,reponse):\n",
    "    result=[]\n",
    "    elements = filter(None, elements)\n",
    "    nbMots=len(reponse.strip().split(\" \"))\n",
    "    solution=u\"=%s#Bravo ! La phrase était : %s\"%(reponse,titre)\n",
    "    corrections=[]\n",
    "    nbElements=len(elements[1:])\n",
    "    for n,element in enumerate(elements[1:]):\n",
    "        (reponseSpecifique,feedbackSpecifique)=element.split(\"#\",1)\n",
    "        feedbackSpecs=feedbackSpecifique.split(\"#\")\n",
    "        reponseSpecs=echapperCorrection(reponseSpecifique)\n",
    "#        print \"echapperCorrection\", reponseSpecs\n",
    "        for i,reponseSpec in enumerate(reponseSpecs):\n",
    "            print i,reponseSpec\n",
    "            if i <len(feedbackSpecs):\n",
    "                feedbackSpec=feedbackSpecs[i]\n",
    "            else:\n",
    "                feedbackSpec=feedbackSpecifique\n",
    "            print \"feedback\", feedbackSpec\n",
    "            for mot in motReferences:\n",
    "                if mot in feedbackSpec:\n",
    "                    feedbackSpec=lierMot(mot,feedbackSpec)\n",
    "            element=\"#\".join([reponseSpec,feedbackSpec])\n",
    "            corrections.append(nbIndiceNotes(nbElements)[n]+element)\n",
    "    minMots=\"^\"+\"([^ ]+ +)?\"*(nbMots-4)+\"[^ ]+$#%s\"%msgPlusDeMots\n",
    "    maxMots=\"^\"+\"([^ ]+ +)\"*(nbMots+2)+\"([^ ]+ +)*[^ ]+$#%s\"%msgMoinsDeMots\n",
    "    result.extend([solution,minMots,maxMots])\n",
    "    result.extend(corrections)\n",
    "    return result"
   ]
  },
  {
   "cell_type": "code",
   "execution_count": 45,
   "metadata": {
    "collapsed": false,
    "scrolled": true
   },
   "outputs": [
    {
     "name": "stdout",
     "output_type": "stream",
     "text": [
      "0 --.*( chat.* gris.* souris.*observ.* haut.* gouttière.* vert.* clair).*\n",
      "feedback Il manque des mots lexicaux.\n",
      "0 --.*(DEF.* DE DEF).*\n",
      "feedback Il manque des mots grammaticaux (à noter en majuscules).\n",
      "intermédiaire --.*(&& chat(M)[SG] && souris(F)[SG] && haut(M)[SG] && gouttière(F)[SG] ).*\n",
      "0 --.*( chat\\S*M\\S*\\S*SG\\S* .* souris\\S*F\\S*\\S*SG\\S* .* haut\\S*M\\S*\\S*SG\\S* .* gouttière\\S*F\\S*\\S*SG\\S* ).*\n",
      "feedback La glose des noms comprend leur genre et leur nombre.\n",
      "1 --.*( chat\\(M\\)\\[SG\\] .* souris\\(F\\)\\[SG\\] .* haut\\(M\\)\\[SG\\] .* gouttière\\(F\\)\\[SG\\] ).*\n",
      "feedback La glose des noms comprend leur genre lexical et leur nombre en contexte.\n",
      "intermédiaire --.*(&&DEF-M.SG.*chat&& DEF-F.SG.*gouttière).*\n",
      "0 --.*(DEF\\S*M\\S*SG.*chat.* DEF\\S*F\\S*SG.*gouttière).*\n",
      "feedback La glose des définis comprend leur genre et leur nombre.\n",
      "1 --.*(DEF-M\\.SG.*chat.* DEF-F\\.SG.*gouttière).*\n",
      "feedback Pour les définis le genre et le nombre constituent un suffixe.\n",
      "intermédiaire --.*(&& gris(M)[SG] && vert(M)[SG] clair[M.SG]).*\n",
      "0 --.*( gris\\S*M\\S*\\S*SG\\S* .* vert\\S*M\\S*\\S*SG\\S* clair\\S*M\\S*SG\\S*).*\n",
      "feedback Attention au genre et au nombre des couleurs.\n",
      "1 --.*( gris\\(M\\)\\[SG\\] .* vert\\(M\\)\\[SG\\] clair\\[M\\.SG\\]).*\n",
      "feedback Attention à la différence nom/adjectif pour les couleurs.\n",
      "intermédiaire --.*(&&DEF-M.SG.⊖ chat&& DEF-F.SG.⊖ gouttière).*\n",
      "0 --.*(DEF\\S*M\\S*SG\\S*⊖ chat.* DEF\\S*F\\S*SG\\S*⊖ gouttière).*\n",
      "feedback Pensez aux problèmes de liaison pour les définis.\n",
      "1 --.*(DEF-M\\.SG\\.⊖ chat.* DEF-F\\.SG\\.⊖ gouttière).*\n",
      "feedback Pensez aux problèmes de liaison pour les définis.\n",
      "intermédiaire --.* DE_DEF.*\n",
      "0 --.* DE\\S*DEF.*\n",
      "feedback Attention à séparer les deux morceaux de l'élément fusionné : M1_M2.\n",
      "1 --.* DE_DEF.*\n",
      "feedback Attention à séparer les deux morceaux de l'élément fusionné : M1_M2.\n",
      "intermédiaire --.* DE_DEF-M.SG.*\n",
      "0 --.* DE\\S*DEF\\S*M\\S*SG.*\n",
      "feedback Attention au genre et au nombre de l'élément fusionné.\n",
      "1 --.* DE_DEF-M\\.SG.*\n",
      "feedback Attention au genre et au nombre de l'élément fusionné.\n",
      "intermédiaire --.* DE_DEF-M.SG.⊖ haut.*\n",
      "0 --.* DE\\S*DEF\\S*M\\S*SG\\S*⊖ haut.*\n",
      "feedback Attention à l'élément fusionné vis à vis de la liaison.\n",
      "1 --.* DE_DEF-M\\.SG\\.⊖ haut.*\n",
      "feedback Attention à l'élément fusionné vis à vis de la liaison.\n",
      "intermédiaire --.*(&&observer\\S*-IND.IPF.3SG ).*\n",
      "0 --.*(observer\\S*\\S*IND\\S*IPF\\S*3SG ).*\n",
      "feedback Attention à la conjugaison du verbe.\n",
      "1 --.*(observer\\S*-IND\\.IPF\\.3SG ).*\n",
      "feedback Attention à la marque de conjugaison du verbe.\n",
      "intermédiaire --.*(&&observer(G1)-IND.IPF.3SG ).*\n",
      "0 --.*(observer\\S*G1\\S*\\S*IND\\S*IPF\\S*3SG ).*\n",
      "feedback Attention au groupe du verbe.\n",
      "1 --.*(observer\\(G1\\)-IND\\.IPF\\.3SG ).*\n",
      "feedback Attention au groupe lexical du verbe.\n",
      "intermédiaire --.*(&& OBJ.1PL\\S*-observer).*\n",
      "0 --.*( OBJ\\S*1PL\\S*\\S*observer).*\n",
      "feedback Attention au clitique objet.\n",
      "1 --.*( OBJ\\.1PL\\S*-observer).*\n",
      "feedback Attention au clitique objet et à sa marque de liaison.\n",
      "intermédiaire --.*(&& OBJ.1PL\\S*PL\\S*-observer).*\n",
      "0 --.*( OBJ\\S*1PL\\S*PL\\S*\\S*observer).*\n",
      "feedback Attention à la marque du pluriel pour le clitique objet.\n",
      "1 --.*( OBJ\\.1PL\\S*PL\\S*-observer).*\n",
      "feedback Attention à la marque du pluriel pour le clitique objet.\n",
      "intermédiaire --.*(&& OBJ.1PL.PL.⊕-observer).*\n",
      "0 --.*( OBJ\\S*1PL\\S*PL\\S*⊕\\S*observer).*\n",
      "feedback Attention à la marque du pluriel de liaison pour le clitique objet (1 seul morphe).\n",
      "1 --.*( OBJ\\.1PL\\.PL\\.⊕-observer).*\n",
      "feedback Attention au clitique objet et à sa marque de liaison (1 seul morphe).\n",
      "0 --.*(amener.* ouvrir.*boîte.* cuisine).*\n",
      "feedback Il manque des mots lexicaux (attention à mettre les formes de citation pour le mot composé).\n",
      "0 --.*( IND.* DE DEF).*\n",
      "feedback Il manque des mots grammaticaux (à noter en majuscules).\n",
      "intermédiaire --.*(&& ouvrir-boîte(M)[SG] && cuisine(F)[SG]).*\n",
      "0 --.*( ouvrir\\S*boîte\\S*M\\S*\\S*SG\\S* .* cuisine\\S*F\\S*\\S*SG\\S*).*\n",
      "feedback La glose des noms comprend leur genre et leur nombre.\n",
      "1 --.*( ouvrir-boîte\\(M\\)\\[SG\\] .* cuisine\\(F\\)\\[SG\\]).*\n",
      "feedback La glose des noms comprend leur genre lexical et leur nombre en contexte.\n",
      "0 --.* DEF\\S*F\\S*SG\\S*⊖ .*\n",
      "feedback Attention aux propriétés pour l'article défini.\n",
      "intermédiaire --.* DEF-F.SG.⊖ .*\n",
      "0 --.* DEF\\S*F\\S*SG\\S*⊖ .*\n",
      "feedback Attention aux points et aux tirets pour l'article défini.\n",
      "1 --.* DEF-F\\.SG\\.⊖ .*\n",
      "feedback Attention aux points et aux tirets pour l'article défini.\n",
      "0 --.* IND\\S*SG\\S*M.*\n",
      "feedback Pour l'article indéfini singulier, mettre le nombre avant le genre\n",
      "0 --.* IND\\S*SG\\S*M\\S*⊕ .*\n",
      "feedback Attention à la liaison avec l'indéfini.\n",
      "intermédiaire --.* IND.SG.M-⊕ .*\n",
      "0 --.* IND\\S*SG\\S*M\\S*⊕ .*\n",
      "feedback Attention aux points et aux tirets pour l'article indéfini.\n",
      "1 --.* IND\\.SG\\.M-⊕ .*\n",
      "feedback Attention aux points et aux tirets pour l'article indéfini.\n",
      "intermédiaire --.*(&&amener\\S*-IMP.PRS.2SG).*\n",
      "0 --.*(amener\\S*\\S*IMP\\S*PRS\\S*2SG).*\n",
      "feedback Attention à la conjugaison du verbe.\n",
      "1 --.*(amener\\S*-IMP\\.PRS\\.2SG).*\n",
      "feedback Attention à la conjugaison du verbe.\n",
      "intermédiaire --.*(&&amener\\S*-DAT.1SG).*\n",
      "0 --.*(amener\\S*\\S*DAT\\S*1SG).*\n",
      "feedback Attention au clitique datif.\n",
      "1 --.*(amener\\S*-DAT\\.1SG).*\n",
      "feedback Attention au clitique datif.\n",
      "intermédiaire --.*(&&amener\\S*-DAT.1SG.SG).*\n",
      "0 --.*(amener\\S*\\S*DAT\\S*1SG\\S*SG).*\n",
      "feedback Attention au nombre du clitique datif.\n",
      "1 --.*(amener\\S*-DAT\\.1SG\\.SG).*\n",
      "feedback Attention au nombre du clitique datif.\n",
      "intermédiaire --.*(&&amener(G1)-IMP.PRS.2SG-DAT.1SG.SG).*\n",
      "0 --.*(amener\\S*G1\\S*\\S*IMP\\S*PRS\\S*2SG\\S*DAT\\S*1SG\\S*SG).*\n",
      "feedback Attention au groupe du verbe.\n",
      "1 --.*(amener\\(G1\\)-IMP\\.PRS\\.2SG-DAT\\.1SG\\.SG).*\n",
      "feedback Attention au groupe lexical du verbe.\n",
      "0 --.*( enfant.* arriver.* lycée.* bus).*\n",
      "feedback Il y a au moins quatre mots simples faciles à identifier : trois noms et un verbe .\n",
      "0 --.*(DEM.*DEF.*EN ).*\n",
      "feedback Il manque des mots grammaticaux (à noter en majuscules).\n",
      "intermédiaire --.* PREP.EN .*\n",
      "0 --.* PREP\\S*EN .*\n",
      "feedback Attention à noter PREP. pour les prépositions autres que À et DE.\n",
      "1 --.* PREP\\.EN .*\n",
      "feedback Attention à noter PREP. pour les prépositions autres que À et DE.\n",
      "intermédiaire --.*(&& enfant(M)[SG] && lycée(M)[SG] && bus(M)[SG]).*\n",
      "0 --.*( enfant\\S*M\\S*\\S*SG\\S* .* lycée\\S*M\\S*\\S*SG\\S* .* bus\\S*M\\S*\\S*SG\\S*).*\n",
      "feedback La glose des noms comprend leur genre et leur nombre.\n",
      "1 --.*( enfant\\(M\\)\\[SG\\] .* lycée\\(M\\)\\[SG\\] .* bus\\(M\\)\\[SG\\]).*\n",
      "feedback La glose des noms comprend leur genre lexical et leur nombre en contexte.\n",
      "intermédiaire --.* À_DEF.*\n",
      "0 --.* À\\S*DEF.*\n",
      "feedback Attention à l'élement fusionné.\n",
      "1 --.* À_DEF.*\n",
      "feedback Attention à l'élement fusionné.\n",
      "intermédiaire --.* À_DEF\\S*M\\S*SG.*\n",
      "0 --.* À\\S*DEF\\S*M\\S*SG.*\n",
      "feedback Attention aux propriétés de l'élement fusionné.\n",
      "1 --.* À_DEF\\S*M\\S*SG.*\n",
      "feedback Attention aux propriétés de l'élement fusionné.\n",
      "intermédiaire --.* À_DEF\\S*M\\S*SG\\S*⊖.*\n",
      "0 --.* À\\S*DEF\\S*M\\S*SG\\S*⊖.*\n",
      "feedback Attention aux propriétés de liaison de l'élement fusionné.\n",
      "1 --.* À_DEF\\S*M\\S*SG\\S*⊖.*\n",
      "feedback Attention aux propriétés de liaison de l'élement fusionné.\n",
      "intermédiaire --.* À_DEF[M.SG.⊖] .*\n",
      "0 --.* À\\S*DEF[M\\S*SG\\S*⊖] .*\n",
      "feedback Attention les propriétés de l'élement fusionné ne sont pas audibles.\n",
      "1 --.* À_DEF[M\\.SG\\.⊖] .*\n",
      "feedback Attention les propriétés de l'élement fusionné ne sont pas audibles.\n",
      "intermédiaire --.*(&&DEM-[M.SG.⊕] ).*\n",
      "0 --.*(DEM\\S*\\S*M\\S*SG\\S*⊕\\S* ).*\n",
      "feedback Attention au démonstratif.\n",
      "1 --.*(DEM-\\[M\\.SG\\.⊕\\] ).*\n",
      "feedback Le suffixe du démonstratif n'a aucune propriété fixe\n",
      "intermédiaire --.*(&&arriver\\S*-PART.PST).*\n",
      "0 --.*(arriver\\S*\\S*PART\\S*PST).*\n",
      "feedback Attention à la conjugaison du participe.\n",
      "1 --.*(arriver\\S*-PART\\.PST).*\n",
      "feedback Attention à la conjugaison du participe.\n",
      "intermédiaire --.*(&&arriver\\S*-PART.PST[M.SG]).*\n",
      "0 --.*(arriver\\S*\\S*PART\\S*PST\\S*M\\S*SG\\S*).*\n",
      "feedback Attention à l'accord du participe.\n",
      "1 --.*(arriver\\S*-PART\\.PST\\[M\\.SG\\]).*\n",
      "feedback Attention, l'accord du participe n'est pas audible hors contexte.\n",
      "intermédiaire --.*(&&arriver(G1)-PART.PST).*\n",
      "0 --.*(arriver\\S*G1\\S*\\S*PART\\S*PST).*\n",
      "feedback Attention au groupe du verbe au participe.\n",
      "1 --.*(arriver\\(G1\\)-PART\\.PST).*\n",
      "feedback Attention au groupe lexical du verbe au participe.\n",
      "intermédiaire --.*(&&AUX1\\S*IND.PRS.3SG).*\n",
      "0 --.*(AUX1\\S*IND\\S*PRS\\S*3SG).*\n",
      "feedback Attention à l'auxiliaire du temps composé (≠être).\n",
      "1 --.*(AUX1\\S*IND\\.PRS\\.3SG).*\n",
      "feedback Attention à l'auxiliaire du temps composé (≠être).\n",
      "intermédiaire --.*(&&AUX1.IND.PRS.3SG).*\n",
      "0 --.*(AUX1\\S*IND\\S*PRS\\S*3SG).*\n",
      "feedback Pour l'auxiliaire, inutile de noter un groupe.\n",
      "1 --.*(AUX1\\.IND\\.PRS\\.3SG).*\n",
      "feedback Pour l'auxiliaire, inutile de noter un groupe.\n",
      "intermédiaire --.*(&&AUX1.IND.PRS.3SG-⊕).*\n",
      "0 --.*(AUX1\\S*IND\\S*PRS\\S*3SG\\S*⊕).*\n",
      "feedback Pour l'auxiliaire, il faut noter le morphe de liaison.\n",
      "1 --.*(AUX1\\.IND\\.PRS\\.3SG-⊕).*\n",
      "feedback Pour l'auxiliaire, il faut noter le morphe de liaison.\n",
      "0 --.*( sauce.* tomber.* louche.* chaussure).*\n",
      "feedback Il y a au moins quatre mots simples faciles à identifier : trois noms et un verbe .\n",
      "0 --.*(PART.* DE DEF.*SUR .*POSS).*\n",
      "feedback Il manque des mots grammaticaux (à noter en majuscules).\n",
      "intermédiaire --.* PREP.SUR .*\n",
      "0 --.* PREP\\S*SUR .*\n",
      "feedback Attention à noter la préposition locative avec un PREP.\n",
      "1 --.* PREP\\.SUR .*\n",
      "feedback Attention à noter la préposition locative avec un PREP.\n",
      "intermédiaire --.* DEF-F.SG.⊖ .*\n",
      "0 --.* DEF\\S*F\\S*SG\\S*⊖ .*\n",
      "feedback Attention aux propriétés du défini.\n",
      "1 --.* DEF-F\\.SG\\.⊖ .*\n",
      "feedback Attention aux propriétés du défini.\n",
      "intermédiaire --PART-.*\n",
      "0 -\\S*PART-.*\n",
      "feedback Attention au nombre de morphes du partitif.\n",
      "1 --PART-.*\n",
      "feedback Attention au nombre de morphes du partitif.\n",
      "intermédiaire --PART-F.SG.⊖ .*\n",
      "0 -\\S*PART\\S*F\\S*SG\\S*⊖ .*\n",
      "feedback Attention aux propriétes du partitif (genre, nombre, liaison).\n",
      "1 --PART-F\\.SG\\.⊖ .*\n",
      "feedback Attention aux propriétes du partitif (genre, nombre, liaison).\n",
      "intermédiaire --POSS.3SG.*\n",
      "0 -\\S*POSS\\S*3SG.*\n",
      "feedback Attention à la personne du possessif.\n",
      "1 --POSS\\.3SG.*\n",
      "feedback Attention à la personne du possessif.\n",
      "intermédiaire --POSS.3SG-PL.*\n",
      "0 -\\S*POSS\\S*3SG\\S*PL.*\n",
      "feedback Attention le possessif porte une marque de nombre.\n",
      "1 --POSS\\.3SG-PL.*\n",
      "feedback Attention le possessif porte une marque de nombre.\n",
      "intermédiaire --POSS.3SG-PL[F].*\n",
      "0 -\\S*POSS\\S*3SG\\S*PL[F].*\n",
      "feedback Attention au genre du possessif.\n",
      "1 --POSS\\.3SG-PL[F].*\n",
      "feedback Attention le genre du possessif dépend du contexte.\n",
      "intermédiaire --.*(&&tomber\\S*-PART.PST).*\n",
      "0 --.*(tomber\\S*\\S*PART\\S*PST).*\n",
      "feedback Attention à la conjugaison du participe.\n",
      "1 --.*(tomber\\S*-PART\\.PST).*\n",
      "feedback Attention à la conjugaison du participe.\n",
      "intermédiaire --.*(&&tomber\\S*-PART.PST[F.SG]).*\n",
      "0 --.*(tomber\\S*\\S*PART\\S*PST\\S*F\\S*SG\\S*).*\n",
      "feedback Attention à l'accord du participe.\n",
      "1 --.*(tomber\\S*-PART\\.PST\\[F\\.SG\\]).*\n",
      "feedback Attention, l'accord du participe n'est pas audible hors contexte.\n",
      "intermédiaire --.*(&&tomber(G1)-PART.PST).*\n",
      "0 --.*(tomber\\S*G1\\S*\\S*PART\\S*PST).*\n",
      "feedback Attention au groupe du verbe au participe.\n",
      "1 --.*(tomber\\(G1\\)-PART\\.PST).*\n",
      "feedback Attention au groupe lexical du verbe au participe.\n",
      "intermédiaire --.*(&&AUX1\\S*IND.PRS.3SG).*\n",
      "0 --.*(AUX1\\S*IND\\S*PRS\\S*3SG).*\n",
      "feedback Attention à l'auxiliaire du temps composé (≠être).\n",
      "1 --.*(AUX1\\S*IND\\.PRS\\.3SG).*\n",
      "feedback Attention à l'auxiliaire du temps composé (≠être).\n",
      "intermédiaire --.*(&&AUX1.IND.PRS.3SG).*\n",
      "0 --.*(AUX1\\S*IND\\S*PRS\\S*3SG).*\n",
      "feedback Pour l'auxiliaire, inutile de noter un groupe.\n",
      "1 --.*(AUX1\\.IND\\.PRS\\.3SG).*\n",
      "feedback Pour l'auxiliaire, inutile de noter un groupe.\n"
     ]
    }
   ],
   "source": [
    "consigne=\"<br/>\".join(configuration[u\"Consigne\"])\n",
    "motReferences=configuration[u\"Références\"]\n",
    "separationExercices=[]\n",
    "for question in donnees:\n",
    "    questionLignes=[]\n",
    "    for nom in question:\n",
    "        titre=nom\n",
    "        questionLignes.append(consigne)\n",
    "        if \"#\" in question[nom][\"boucle\"][0]:\n",
    "            (phraseRep,phraseQuest)=question[nom][\"boucle\"][0].split(\"#\",1)            \n",
    "        else:\n",
    "            phraseRep=question[nom][\"boucle\"][0]\n",
    "            phraseQuest=phraseRep\n",
    "#        print \"réponse\", phraseRep\n",
    "#        print \"question\", phraseQuest\n",
    "        questionLigne=u\"\".join(re.split(\"[ -]\",phraseQuest))\n",
    "        questionLignes.append(u\"\".join(re.split(u\"[ -]\",questionLigne)))\n",
    "#        questionLignes.append(u\"\".join(question[nom][\"boucle\"][0].split(\" \")))\n",
    "        questionLignes.append(u\"{1:RXC:%s}\"%u\"~\".join(separerMots(question[nom][\"boucle\"],titre,phraseRep)))\n",
    "#        print questionLignes\n",
    "        textQuestion=u\"<br/>\".join(questionLignes)\n",
    "        separationExercices.append(ClozeExercice(titre,textQuestion,penalty=adaptatifPenalite))"
   ]
  },
  {
   "cell_type": "code",
   "execution_count": 46,
   "metadata": {
    "collapsed": false
   },
   "outputs": [],
   "source": [
    "categorie=configuration[u\"Catégorie\"]\n",
    "clozeQuestions=XMLClozes(categorie)"
   ]
  },
  {
   "cell_type": "code",
   "execution_count": 47,
   "metadata": {
    "collapsed": false
   },
   "outputs": [],
   "source": [
    "for exercice in separationExercices:\n",
    "    clozeQuestions.addExercice(exercice)"
   ]
  },
  {
   "cell_type": "code",
   "execution_count": 48,
   "metadata": {
    "collapsed": false
   },
   "outputs": [],
   "source": [
    "xmlOutput=MoodleXML()\n",
    "xmlOutput.addQuiz(clozeQuestions.getClozes())"
   ]
  },
  {
   "cell_type": "code",
   "execution_count": 49,
   "metadata": {
    "collapsed": false
   },
   "outputs": [],
   "source": [
    "xmlFichier=yamlFichier.split(\".\")[0]+\".xml\""
   ]
  },
  {
   "cell_type": "code",
   "execution_count": 50,
   "metadata": {
    "collapsed": false
   },
   "outputs": [],
   "source": [
    "with codecs.open(xmlFichier, 'w',encoding=\"utf8\") as output:\n",
    "#    print [questions.getClozes()]\n",
    "    output.write(xmlOutput.getXML())"
   ]
  },
  {
   "cell_type": "code",
   "execution_count": 51,
   "metadata": {
    "collapsed": false
   },
   "outputs": [
    {
     "data": {
      "text/plain": [
       "{'clitique': None,\n",
       " 'datif': None,\n",
       " u'd\\xe9monstratif': u'Adjectif_d\\xe9monstratif',\n",
       " 'liaison': u'Liaison_en_fran\\xe7ais',\n",
       " 'partitif': 'Article_partitif',\n",
       " 'possessif': None,\n",
       " u'pr\\xe9position': None,\n",
       " u'r\\xe9fl\\xe9chi': u'Morphologie_du_pronom_personnel_en_fran\\xe7ais#Pronom_r.C3.A9fl.C3.A9chi_et_pronom_non_r.C3.A9fl.C3.A9chi'}"
      ]
     },
     "execution_count": 51,
     "metadata": {},
     "output_type": "execute_result"
    }
   ],
   "source": [
    "motReferences"
   ]
  },
  {
   "cell_type": "code",
   "execution_count": 52,
   "metadata": {
    "collapsed": false
   },
   "outputs": [
    {
     "name": "stdout",
     "output_type": "stream",
     "text": [
      "&& gris(M)[SG.⊖] && vert(M)[SG.⊖] && clair[M.SG.⊖]\n",
      "&& gris\\(M\\)[SG.⊖] && vert\\(M\\)[SG.⊖] && clair[M.SG.⊖]\n",
      "--.*(&& gris\\(M\\)\\[SG\\.⊖\\] && vert\\(M\\)\\[SG\\.⊖\\] && clair\\[M\\.SG\\.⊖\\]).*\n"
     ]
    }
   ],
   "source": [
    "correction=u\"--.*(&& gris(M)[SG.⊖] && vert(M)[SG.⊖] && clair[M.SG.⊖]).*\"\n",
    "#correction=u\"--.*(&& DEF-M.SG.⊖ chat&& DEF-F.SG.⊖ gouttière).*\"\n",
    "(prefixe, corps, suffixe)=re.match(ur\"^(--\\.\\*\\()(&&.*)(\\)\\.\\*)$\",correction).groups()\n",
    "print corps\n",
    "subParentheses = re.compile(ur\"\\(([^)]*)\\)\")\n",
    "result=subParentheses.sub(ur\"\\\\(\\1\\\\)\",corps)\n",
    "print result\n",
    "subCrochets = re.compile(ur\"\\[([^]]*)\\]\")\n",
    "result=subCrochets.sub(ur\"\\\\[\\1\\\\]\",result)\n",
    "subPoints = re.compile(ur\"(\\.[^*])\")\n",
    "result=subPoints.sub(ur\"\\\\\\1\",result)\n",
    "\n",
    "print prefixe+result+suffixe"
   ]
  },
  {
   "cell_type": "code",
   "execution_count": 53,
   "metadata": {
    "collapsed": false
   },
   "outputs": [
    {
     "name": "stdout",
     "output_type": "stream",
     "text": [
      "none\n"
     ]
    }
   ],
   "source": [
    "import re\n",
    "test=\".*\"\n",
    "subPoints = re.compile(ur\"(\\.(?![*+]))\")\n",
    "if subPoints.search(test):\n",
    "    print \"found\"\n",
    "else:\n",
    "    print \"none\""
   ]
  },
  {
   "cell_type": "code",
   "execution_count": 54,
   "metadata": {
    "collapsed": false
   },
   "outputs": [
    {
     "name": "stdout",
     "output_type": "stream",
     "text": [
      "intermédiaire --.*(&& chat(M)[SG]).*\n",
      "--.*( chat\\S*M\\S*\\S*SG\\S*).*\n",
      "--.*( chat\\(M\\)\\[SG\\]).*\n"
     ]
    }
   ],
   "source": [
    "chaine=\"--.*(&& chat(M)[SG]).*\"\n",
    "for element in echapperCorrection(chaine):\n",
    "    print element"
   ]
  },
  {
   "cell_type": "code",
   "execution_count": 55,
   "metadata": {
    "collapsed": false
   },
   "outputs": [
    {
     "name": "stdout",
     "output_type": "stream",
     "text": [
      "dəlasosɛtɔ̃bedəlaluʃsyʁseʃosyʁ\n"
     ]
    }
   ],
   "source": [
    "if \"#\" in question[nom][\"boucle\"][0]:\n",
    "    print u\"\".join(re.split(\"[ -]\",question[nom][\"boucle\"][0].split(\"#\")[1]))\n",
    "else:\n",
    "    print u\"\".join(re.split(\"[ -]\",question[nom][\"boucle\"][0]))"
   ]
  }
 ],
 "metadata": {
  "kernelspec": {
   "display_name": "Python 2",
   "language": "python",
   "name": "python2"
  },
  "language_info": {
   "codemirror_mode": {
    "name": "ipython",
    "version": 2
   },
   "file_extension": ".py",
   "mimetype": "text/x-python",
   "name": "python",
   "nbconvert_exporter": "python",
   "pygments_lexer": "ipython2",
   "version": "2.7.10"
  }
 },
 "nbformat": 4,
 "nbformat_minor": 0
}

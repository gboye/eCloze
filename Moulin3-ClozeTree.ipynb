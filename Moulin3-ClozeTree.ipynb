{
 "cells": [
  {
   "cell_type": "markdown",
   "id": "86ee5935-a9ea-423a-ac5d-fb129487e811",
   "metadata": {},
   "source": [
    "# Moulinette pour des questions Cloze fixes avec des images variables\n",
    "- Gestion des fichiers :\n",
    "    - repXML est le répertoire de sortie pour le fichier Moodle XML\n",
    "    - repImages est le répertoire qui contient les images\n",
    "    - changer le \"*.png\" en fonction du format des images\n",
    "- Gestion des questions :\n",
    "    - changer le textCloze en fonction de la question"
   ]
  },
  {
   "cell_type": "code",
   "execution_count": 1,
   "id": "86ee699d-7112-4223-854d-02d91e402747",
   "metadata": {},
   "outputs": [],
   "source": [
    "import base64,glob\n",
    "from lxml import etree as ET"
   ]
  },
  {
   "cell_type": "code",
   "execution_count": 2,
   "id": "baa15111-1b6b-4c2b-ac8a-fd7e9fae3733",
   "metadata": {},
   "outputs": [],
   "source": [
    "repXML=\"/Users/gilles/Downloads/\"\n",
    "repImages=\"/Users/gilles/Downloads/Images/\"\n",
    "nImages=glob.glob(repImages+\"*.png\")"
   ]
  },
  {
   "cell_type": "code",
   "execution_count": 3,
   "id": "d1299350-1118-433a-a35f-87b5a15bb711",
   "metadata": {},
   "outputs": [],
   "source": [
    "textCloze=\"\"\"<p dir=\"ltr\" style=\"text-align: left;\"><img src=\"@@PLUGINFILE@@/image.png\" alt=\"\" role=\"presentation\" class=\"img-fluid\"><br/></p><p>Selon vous quelle est la catégorie correspondant à cette structure ?<br/>{1:MCV:=GN/N (un groupe nominal avec ou sans déterminant)~=X (un nom propre)~=PrepX (une préposition suivie d'un nom propre)~=GP (un groupe prépositionnel)~=Xqui (une relative introduite par un nom propre)~=GNQui (une relative introduite par un groupe nominal)~=Autre (mentionnez ci-dessous)}\n",
    "<br/>\n",
    "Si vous avez choisi Autre donnez la catégorie ci-dessous, sinon mettez 0. <br/> {1:SAC:=xxxxxxxxxx~=*}</p>\n",
    "\"\"\""
   ]
  },
  {
   "cell_type": "markdown",
   "id": "487bfae7-16f2-4c18-892a-edd5430ba67b",
   "metadata": {},
   "source": [
    "## Gestion de la structure générale\n",
    "- la racine est \"quiz\"\n",
    "- la déclaration de catégorie est dans une structure question\n",
    "    - type=\"category\"\n",
    "    - avec une sous-structure \"text\" qui contient le nom de la catégorie"
   ]
  },
  {
   "cell_type": "code",
   "execution_count": 4,
   "id": "130424a5-3967-4507-a130-4733111fbdbb",
   "metadata": {},
   "outputs": [],
   "source": [
    "quizz=ET.Element(\"quiz\")\n",
    "question=ET.SubElement(quizz,\"question\")\n",
    "question.set(\"type\",\"category\")\n",
    "category=ET.SubElement(question,\"category\")\n",
    "textCategory=ET.SubElement(category,\"text\")\n",
    "textCategory.text=\"TEST/Syntax/Tree/Cloze\""
   ]
  },
  {
   "cell_type": "markdown",
   "id": "e7b95ed2-2704-40a2-a30c-b800607d34c8",
   "metadata": {},
   "source": [
    "## Encodage des images en base64\n",
    "- pour inclusion directement dans la question"
   ]
  },
  {
   "cell_type": "code",
   "execution_count": 5,
   "id": "5f6b8828-5708-49be-88a2-e69743e5f3ee",
   "metadata": {},
   "outputs": [],
   "source": [
    "def getb64(nImage):\n",
    "    with open(nImage, \"rb\") as inFile:\n",
    "        b64Image = base64.b64encode(inFile.read())\n",
    "    return b64Image"
   ]
  },
  {
   "cell_type": "markdown",
   "id": "5ab4d41b-f877-4cb1-bc30-7807c0d5cc1b",
   "metadata": {},
   "source": [
    "## Ajouter une question dans le Moodle XML\n",
    "- les questions sont attachées à la racine\n",
    "- question[type=\"cloze\"]\n",
    "- question:name:text:titre (title)\n",
    "- question:questiontext:text:CDATA:contenu de la question (textCloze)\n",
    "- question:questiontext:file[name=\"image.png\" path=\"/\" encoding=\"base64\"]:image en b64 (b64Image)"
   ]
  },
  {
   "cell_type": "code",
   "execution_count": 6,
   "id": "ea2a6545-e3f8-4b30-a459-ccb30168e283",
   "metadata": {},
   "outputs": [],
   "source": [
    "def addQuestion(title,b64Image):\n",
    "    question=ET.SubElement(quizz,\"question\")\n",
    "    question.set(\"type\",\"cloze\")\n",
    "    name=ET.SubElement(question,\"name\")\n",
    "    textName=ET.SubElement(name,\"text\")\n",
    "    textName.text=title\n",
    "    questionText=ET.SubElement(question,\"questiontext\")\n",
    "    # questionText.set(\"format\",\"html\")\n",
    "    textQuestionText=ET.SubElement(questionText,\"text\")\n",
    "    textQuestionText.text=ET.CDATA(textCloze)\n",
    "    file=ET.SubElement(questionText,\"file\")\n",
    "    file.set(\"name\",\"image.png\")\n",
    "    file.set(\"path\",\"/\")\n",
    "    file.set(\"encoding\",\"base64\")\n",
    "    file.text=b64Image"
   ]
  },
  {
   "cell_type": "markdown",
   "id": "40860da8-4436-439c-bc15-6eacefeb7137",
   "metadata": {},
   "source": [
    "## Génération des questions\n",
    "Pour chaque image, on ajoute une question\n",
    "- tImage pour le nom de l'image sans le répertoire et l'extension pour donner le titre\n",
    "- b64Image pour l'encodage en base64 du fichier image"
   ]
  },
  {
   "cell_type": "code",
   "execution_count": 7,
   "id": "11b86fc2-5898-4aba-b33d-57c27487725d",
   "metadata": {
    "scrolled": true
   },
   "outputs": [],
   "source": [
    "for nImage in nImages:\n",
    "    tImage=nImage.split(\"/\")[-1].split(\".\")[0]\n",
    "    b64Image=getb64(nImage)\n",
    "    addQuestion(tImage,b64Image)"
   ]
  },
  {
   "cell_type": "raw",
   "id": "1406cddf-dc49-467c-9be3-4fff155a6ce6",
   "metadata": {
    "scrolled": true
   },
   "source": [
    "print(ET.tostring(quizz,pretty_print=True).decode())"
   ]
  },
  {
   "cell_type": "markdown",
   "id": "7c8876e0-f8bc-4580-827e-4c0b18398120",
   "metadata": {},
   "source": [
    "## Écriture du Moodle XML"
   ]
  },
  {
   "cell_type": "code",
   "execution_count": 9,
   "id": "a6e784a9-7581-4e14-b413-0df9eec5fa89",
   "metadata": {},
   "outputs": [],
   "source": [
    "xml = ET.ElementTree(quizz)\n",
    "xml.write(repXML+'test.xml',pretty_print=True,xml_declaration=True,encoding=\"utf-8\")"
   ]
  },
  {
   "cell_type": "code",
   "execution_count": null,
   "id": "9dc8ccd9-ec11-4bc0-8e59-4d7af347de10",
   "metadata": {},
   "outputs": [],
   "source": [
    " "
   ]
  }
 ],
 "metadata": {
  "kernelspec": {
   "display_name": "Python 3 (ipykernel)",
   "language": "python",
   "name": "python3"
  },
  "language_info": {
   "codemirror_mode": {
    "name": "ipython",
    "version": 3
   },
   "file_extension": ".py",
   "mimetype": "text/x-python",
   "name": "python",
   "nbconvert_exporter": "python",
   "pygments_lexer": "ipython3",
   "version": "3.9.18"
  }
 },
 "nbformat": 4,
 "nbformat_minor": 5
}

{
 "cells": [
  {
   "cell_type": "code",
   "execution_count": 53,
   "metadata": {
    "collapsed": true
   },
   "outputs": [],
   "source": [
    "# -*- coding: UTF-8 -*-\n",
    "\n",
    "#########################IMPORTS############################################\n",
    "import re\n",
    "import sys\n",
    "import string\n",
    "#########################CONSTANTS##########################################"
   ]
  },
  {
   "cell_type": "markdown",
   "metadata": {},
   "source": [
    "## Spécifiez le fichier d'entrée et de sortie:\n",
    "* **fichier_questions** => fichier d'entrée\n",
    "* **fichier_sortie** => fichier de sorite \n",
    "\n",
    "## Si vous voulez séparer les mots contractés de leur base (ex. c'est = c' est), mettez \n",
    "* **separer** = True "
   ]
  },
  {
   "cell_type": "code",
   "execution_count": 54,
   "metadata": {
    "collapsed": true
   },
   "outputs": [],
   "source": [
    "fichier_questions = \"Cloze-Dictees-120728.txt\"\n",
    "fichier_sortie = \"resutlatSep.xml\"\n",
    "separer = True"
   ]
  },
  {
   "cell_type": "code",
   "execution_count": 55,
   "metadata": {
    "collapsed": true
   },
   "outputs": [],
   "source": [
    "xml_head_deb = [\n",
    "\t'<?xml version=\"1.0\" encoding=\"UTF-8\"?>',\n",
    "\t'<quiz>',\n",
    "\t'',\n",
    "\t'<question type=\"category\">',\n",
    "\t'<category>',\n",
    "\t'<text>'\n",
    "\t]"
   ]
  },
  {
   "cell_type": "code",
   "execution_count": 56,
   "metadata": {
    "collapsed": true
   },
   "outputs": [],
   "source": [
    "xml_head_fin = [   \n",
    "\t'</text>',\n",
    "\t'</category>',\n",
    "\t'</question>'\n",
    "\t\t]"
   ]
  },
  {
   "cell_type": "code",
   "execution_count": 57,
   "metadata": {
    "collapsed": true
   },
   "outputs": [],
   "source": [
    "trailer = [\n",
    "\t'</quiz>'\n",
    "\t\t]"
   ]
  },
  {
   "cell_type": "code",
   "execution_count": 58,
   "metadata": {
    "collapsed": true
   },
   "outputs": [],
   "source": [
    "entete_question = [\n",
    "\t'<div style=\"text-align: center;\">',\n",
    "\t'<a href=\"#1#\" target=\"_blank\" title=\"#0#\">Dictée</a>',\n",
    "\t'<br>',\n",
    "\t'</div>',\n",
    "\t'<br>'\n",
    "\t]"
   ]
  },
  {
   "cell_type": "code",
   "execution_count": 59,
   "metadata": {
    "collapsed": true
   },
   "outputs": [],
   "source": [
    "ponctuation=[\n",
    "\t\t\".\",\n",
    "\t\t\"…\",\n",
    "\t\t\",\",\n",
    "\t\t\"-\",\n",
    "\t\t\"—\",\n",
    "\t\t\"!\",\n",
    "\t\t\"(\",\n",
    "\t\t\")\",\n",
    "\t\t\"[\",\n",
    "\t\t\"]\",\n",
    "\t\t\"?\",\n",
    "\t\t\"'\",\n",
    "\t\t\"’\",\n",
    "\t\t\";\",\n",
    "\t\t\":\",\n",
    "\t\t'\"',\n",
    "\t\t'/', '#'\n",
    "\t\t]"
   ]
  },
  {
   "cell_type": "code",
   "execution_count": 60,
   "metadata": {
    "collapsed": true
   },
   "outputs": [],
   "source": [
    "#########################VARIABLES##########################################\n",
    "categorie = 'test/clozexml'\n",
    "header=[]\n",
    "entete=[]\n",
    "debug=0\n",
    "debug_now=1\n",
    "lines=[]\n",
    "nb_champs=0\n",
    "champ=['','','','','','','','','','','','','','','','','','','','']\n",
    "cloze=range(0,20)\n",
    "ql=range(0,20)\n",
    "reponse=range(0,20)\n",
    "titre=\"\"\n",
    "lien=\"\"\n",
    "questions=[]\n",
    "consigne_question=[]\n",
    "trailer_question=[]\n",
    "choix=[[],[],[],[],[],[],[],[],[],[],[],[],[],[],[],[],[],[],[],[],]\n",
    "general_feedback='Bien reçu.'\n",
    "shuffle_answers=0"
   ]
  },
  {
   "cell_type": "code",
   "execution_count": 61,
   "metadata": {
    "collapsed": true
   },
   "outputs": [],
   "source": [
    "#########################FUNCTIONS##########################################\n",
    "def escape(chaine):\n",
    "\t\tchaine=chaine.replace('}','\\\\}')\n",
    "\t\tchaine=chaine.replace('#','\\\\#')\n",
    "\t\tchaine=chaine.replace('/','\\\\/')\n",
    "\t\treturn chaine"
   ]
  },
  {
   "cell_type": "code",
   "execution_count": 62,
   "metadata": {
    "collapsed": true
   },
   "outputs": [],
   "source": [
    "def dprint(texte):\n",
    "\tif debug: print >> stderr, texte"
   ]
  },
  {
   "cell_type": "code",
   "execution_count": 63,
   "metadata": {
    "collapsed": true
   },
   "outputs": [],
   "source": [
    "def ndprint(texte):\n",
    "\tif debug: print texte"
   ]
  },
  {
   "cell_type": "code",
   "execution_count": 64,
   "metadata": {
    "collapsed": true
   },
   "outputs": [],
   "source": [
    "def add_entete():\n",
    "    result = \"\"\n",
    "    for ligne in header:\n",
    "        result = result +normalise_texte(ligne)+\"\\n\"\n",
    "    return result"
   ]
  },
  {
   "cell_type": "code",
   "execution_count": 65,
   "metadata": {
    "collapsed": true
   },
   "outputs": [],
   "source": [
    "def add_sortie():\n",
    "    result = \"\"\n",
    "    for ligne in trailer:\n",
    "        result += \"\\n\"+ligne\n",
    "    return result"
   ]
  },
  {
   "cell_type": "code",
   "execution_count": 66,
   "metadata": {
    "collapsed": true
   },
   "outputs": [],
   "source": [
    "def add_debut_question(question):\n",
    "\tresult = \"\"\n",
    "\tresult += '<!-- question: '+str(question)+'  -->\\n' #% question\n",
    "\tresult += '<question type=\"cloze\">\\n'\n",
    "\tresult += '<name><text>'+str(mots[1])+'</text>\\n' \n",
    "\tresult += '</name>\\n'\n",
    "\tresult += '<questiontext>\\n'\n",
    "\tresult += '<text><![CDATA[\\n'\n",
    "\tif lien!=\"\":\n",
    "\t\tif debug: print lien\n",
    "\t\tfor l in entete_question:\n",
    "\t\t\tresult += normalise_texte(l)+'<br>\\n'\n",
    "\tfor l in consigne_question:\n",
    "\t\tresult += normalise_texte(l)+'<br>\\n'    \n",
    "\tfor l in trailer_question:\n",
    "\t\tresult += normalise_texte(l)+'<br>\\n'    \n",
    "\tresult += '<br>\\n'\n",
    "\treturn result"
   ]
  },
  {
   "cell_type": "code",
   "execution_count": 67,
   "metadata": {
    "collapsed": true
   },
   "outputs": [],
   "source": [
    "def add_fin_question():\n",
    "\tresult = '<br><br>]]></text>\\n'\n",
    "\tresult += '</questiontext>\\n'\n",
    "\tresult += '<generalfeedback>\\n'\n",
    "\tresult += '<text>'+str(general_feedback)+'</text>\\n' \n",
    "\tresult += '</generalfeedback>\\n'\n",
    "\tresult += '<shuffleanswers>'+str(shuffle_answers)+'</shuffleanswers>\\n' \n",
    "\tresult += '</question>\\n'\n",
    "\treturn result"
   ]
  },
  {
   "cell_type": "code",
   "execution_count": 68,
   "metadata": {
    "collapsed": true
   },
   "outputs": [],
   "source": [
    "def mots_ligne(line):\n",
    "\treturn re.findall(r\"[\\wâàéèêëîïôùûüçÂÀÉÈÊËÎÏÔÙÛÜÇæœÆŒ'’=~-]+|[.…,;!?:—–()\\[\\]\\/#]\", line)"
   ]
  },
  {
   "cell_type": "code",
   "execution_count": 69,
   "metadata": {
    "collapsed": true
   },
   "outputs": [],
   "source": [
    "def normalise_texte(ligne):\n",
    "\tresult=ligne\n",
    "\tresult=result.replace(\"#0#\",titre)\n",
    "\tresult=result.replace(\"#1#\",lien)\n",
    "\tresult=result.replace(\"’\",\"'\")\n",
    "\tresult=result.replace(\"—\",\"-\")\n",
    "\tresult=result.replace(\"–\",\"-\")\n",
    "\treturn result"
   ]
  },
  {
   "cell_type": "code",
   "execution_count": 70,
   "metadata": {
    "collapsed": true
   },
   "outputs": [],
   "source": [
    "def normalise_mot(ligne):\n",
    "\tresult=ligne\n",
    "\tresult=result.replace(\"oeu\",\"œu\")\n",
    "\tresult=result.replace(\"coelentéré\",\"cœlentéré\")\n",
    "\tresult=result.replace(\"coeliaque\",\"cœliaque\")\n",
    "\tresult=result.replace(\"coelioscopie\",\"cœlioscopie\")\n",
    "\tresult=result.replace(\"coelome\",\"cœlome\")\n",
    "\tresult=result.replace(\"coelopeltis\",\"cœlopeltis\")\n",
    "\tresult=result.replace(\"coenomyie\",\"cœnomyie\")\n",
    "\tresult=result.replace(\"coenure\",\"cœnure\")\n",
    "\tresult=result.replace(\"coetera\",\"cætera\")\n",
    "\tresult=result.replace(\"dianthoecia\",\"dianthœcia\")\n",
    "\tresult=result.replace(\"dioecie\",\"diœcie\")\n",
    "\tresult=result.replace(\"doe-koe\",\"dœ-kœ\")\n",
    "\tresult=result.replace(\"dyscoelie\",\"dyscœlie\")\n",
    "\tresult=result.replace(\"foene\",\"fœne\")\n",
    "\tresult=result.replace(\"foetal\",\"fœtal\")\n",
    "\tresult=result.replace(\"foetaux)\",\"fœtaux\")\n",
    "\tresult=result.replace(\"foeticide\",\"fœticide\")\n",
    "\tresult=result.replace(\"foetus\",\"fœtus\")\n",
    "\tresult=result.replace(\"goethée\",\"gœthée\")\n",
    "\tresult=result.replace(\"goethéen\",\"gœthéen\")\n",
    "\tresult=result.replace(\"groenendael\",\"grœnendael\")\n",
    "\tresult=result.replace(\"hétéroecie\",\"hétérœcie\")\n",
    "\tresult=result.replace(\"métoeque\",\"métœque\")\n",
    "\tresult=result.replace(\"monoecie\",\"monœcie\")\n",
    "\tresult=result.replace(\"oedème\",\"œdème\")\n",
    "\tresult=result.replace(\"oedémateuse\",\"œdémateuse\")\n",
    "\tresult=result.replace(\"oedip\",\"œdip\")\n",
    "\tresult=result.replace(\"oenomètre\",\"œnomètre\")\n",
    "\tresult=result.replace(\"oenophore\",\"œnophore\")\n",
    "\tresult=result.replace(\"oesophag\",\"œsophag\")\n",
    "\tresult=result.replace(\"roemérite\",\"rœmérite\")\n",
    "\tresult=result.replace(\"roentgen\",\"rœntgen\")\n",
    "\tresult=result.replace(\"roesslérite\",\"rœsslérite\")\n",
    "\tresult=result.replace(\"roestélie\",\"rœstélie\")\n",
    "\tresult=result.replace(\"roetlère\",\"rœtlère\")\n",
    "\tresult=result.replace(\"schoenberguien\",\"schœnberguien\")\n",
    "\tresult=result.replace(\"schoenite\",\"schœnite\")\n",
    "\tresult=result.replace(\"schoenus\",\"schœnus\")\n",
    "\tresult=result.replace(\"thaumetopoea\",\"thaumetopœa\")\n",
    "\tresult=result.replace(\"toenite\",\"tœnite\")\n",
    "\tresult=result.replace(\"trioecie\",\"triœcie\")\n",
    "\tresult=result.replace(\"trophoedème\",\"trophœdème\")\n",
    "\tresult=result.replace(\"roeil\",\"rooeeiil\")\t#les roeil ne doivent pas changer\n",
    "\tresult=result.replace(\"oeil\",\"œil\")\t\t#tous les autres oeil => œil\n",
    "\tresult=result.replace(\"rooeeiil\",\"roeil\")\t#les roeil sont restaurés\n",
    "\tresult=result.replace(\"moeurs\",\"mœurs\")\n",
    "\tresult=result.replace(\"oeuvr\",\"œuvr\")\n",
    "\tresult=result.replace(\"voeu\",\"vœu\")\n",
    "\tif result!=ligne:\n",
    "\t\tndprint(titre+\" : \"+ligne+\",\"+result)\n",
    "\treturn result"
   ]
  },
  {
   "cell_type": "code",
   "execution_count": 71,
   "metadata": {
    "collapsed": true
   },
   "outputs": [],
   "source": [
    "def extrait_lien(ligne):\n",
    "\tresult=ligne\n",
    "\tresult=result.replace(\"%2F\",\"/\")\n",
    "\tresult=result.replace(\"%3A\",\":\")\n",
    "\tm=re.search('file=(.+mp3)&',result)\n",
    "\tresult=m.group(1)\n",
    "\tif debug: print result\n",
    "\treturn result"
   ]
  },
  {
   "cell_type": "code",
   "execution_count": 72,
   "metadata": {
    "collapsed": true
   },
   "outputs": [],
   "source": [
    "def formater_texte(text, total):\n",
    "    if text in ponctuation:\n",
    "        if text in \";:-\": total.append(\" \"+text+\" \")\n",
    "        elif text in \"([\": total.append(\" \"+text)\n",
    "        else: total.append(text+\" \")\n",
    "    else:\n",
    "        text=normalise_mot(text)\n",
    "        total.append(\"{1:SAC:=\"+text+\"} \") \n",
    "    return total"
   ]
  },
  {
   "cell_type": "code",
   "execution_count": 73,
   "metadata": {
    "collapsed": true
   },
   "outputs": [],
   "source": [
    "def cloze_texte(tampon):\n",
    "    result=[]\n",
    "    texte=mots_ligne(normalise_texte(tampon))\n",
    "    if debug: print texte\n",
    "    for mot in texte:\n",
    "        if separer:\n",
    "            if \"'\" in mot and mot != \"aujourd'hui\":\n",
    "                m = mot.split(\"'\")\n",
    "                result.append(\"{1:SAC:=\"+m[0]+\"}'\")\n",
    "                result.append(\"{1:SAC:=\"+m[1]+\"} \")\n",
    "            else:\n",
    "                formater_texte(mot,result)\n",
    "        else: formater_texte(mot,result)\n",
    "    return result"
   ]
  },
  {
   "cell_type": "code",
   "execution_count": 74,
   "metadata": {
    "collapsed": false
   },
   "outputs": [],
   "source": [
    "################\n",
    "#\n",
    "# LECTURE DU FICHIER DE DONNEES\n",
    "#\n",
    "# PHRASES\n",
    "# AMORCE;SYNTAGME;FONCTION;MOTS\n",
    "# AMORCE;SYNTAGME;FONCTION;MOTS\n",
    "# AMORCE;SYNTAGME;FONCTION;MOTS\n",
    "#\n",
    "# PHRASES\n",
    "# AMORCE;SYNTAGME;FONCTION;MOTS\n",
    "# AMORCE;SYNTAGME;FONCTION;MOTS\n",
    "# ...\n",
    "#\n",
    "#\t\tLES LIGNES QUI COMMENCENT PAR # SONT IGNOREES\n",
    "#\n",
    "################\n",
    "try:\n",
    "\tquestion_file = open(fichier_questions)\n",
    "except IOError:\n",
    "\tprint 'I could not open the question file', fichier_questions\n",
    "\tsys.exit()"
   ]
  },
  {
   "cell_type": "code",
   "execution_count": 75,
   "metadata": {
    "collapsed": true
   },
   "outputs": [],
   "source": [
    "fichier=question_file.readlines()\n",
    "question_file.close()\n",
    "\n",
    "for line in fichier:\n",
    "\ttampon=line.strip()\n",
    "\tif tampon.startswith(\"#\"):\n",
    "\t\tif debug: print tampon\n",
    "\t\tmots=tampon.split(';')\n",
    "\t\tif mots[0]==\"#CAT\":\n",
    "\t\t\tif debug: print \"#CAT\"\n",
    "\t\t\t#nom_question=mots[1]\n",
    "\t\t\tcategorie=mots[1]\n",
    "\t\t\theader.append(categorie)\n",
    "\t\telif mots[0]==\"#ENTETE\":\n",
    "\t\t\tconsigne_question.append(mots[1])"
   ]
  },
  {
   "cell_type": "code",
   "execution_count": 76,
   "metadata": {
    "collapsed": true
   },
   "outputs": [],
   "source": [
    "sauvegarde = open(fichier_sortie, \"w\")"
   ]
  },
  {
   "cell_type": "code",
   "execution_count": 77,
   "metadata": {
    "collapsed": false
   },
   "outputs": [],
   "source": [
    "header=xml_head_deb\n",
    "header.append(categorie)\n",
    "header.extend(xml_head_fin)\n",
    "sauvegarde.write(add_entete()+\"\\n\")"
   ]
  },
  {
   "cell_type": "code",
   "execution_count": 78,
   "metadata": {
    "collapsed": false,
    "scrolled": true
   },
   "outputs": [],
   "source": [
    "question=0\n",
    "debut_question=0\n",
    "for line in fichier:\n",
    "\tlien=\"\"\n",
    "\ttampon=line.strip()\n",
    "\tif tampon.startswith(\"#\"):\n",
    "\t\tif debug: print tampon\n",
    "\t\tmots=tampon.split(';')\n",
    "\t\tif mots[0]==\"#DICTEE\":\n",
    "\t\t\tif debug: print \"#DICTEE\"\n",
    "\t\t\ttitre=mots[1]\n",
    "\t\t\tif len(mots)>=3: lien=extrait_lien(mots[2])\n",
    "\t\t\tif question>0: sauvegarde.write(add_fin_question()+\"\\n\")\n",
    "\t\t\tquestion=question+1\n",
    "\t\t\tdebut_question=1\n",
    "\t\t\ttrailer_question=[]\n",
    "\t\t\tsauvegarde.write(add_debut_question(question)+\"\\n\")\n",
    "\telse:\n",
    "\t\tliste=[]\n",
    "\t\tliste=cloze_texte(tampon)\n",
    "\t\tsauvegarde.write(\"\".join(liste)+\"\\n\")\n",
    "\t\tsauvegarde.write(\"<br>\\n\")\n",
    "sauvegarde.write(add_fin_question()+\"\\n\")        \n",
    "sauvegarde.write(add_sortie()+\"\\n\")\n",
    "sauvegarde.close()"
   ]
  }
 ],
 "metadata": {
  "kernelspec": {
   "display_name": "Python 2",
   "language": "python",
   "name": "python2"
  },
  "language_info": {
   "codemirror_mode": {
    "name": "ipython",
    "version": 2
   },
   "file_extension": ".py",
   "mimetype": "text/x-python",
   "name": "python",
   "nbconvert_exporter": "python",
   "pygments_lexer": "ipython2",
   "version": "2.7.11"
  }
 },
 "nbformat": 4,
 "nbformat_minor": 0
}

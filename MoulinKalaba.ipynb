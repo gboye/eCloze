{
 "cells": [
  {
   "cell_type": "markdown",
   "metadata": {},
   "source": [
    "#Construction d'exercice pour le kalaba\n",
    "\n",
    "- Transcription de la phonétique TIPA en API UTF8\n",
    "- Calcul du nombre de morceaux\n",
    "- Ajout des réponses partielles pour le découpage\n",
    " \n",
    "La partie conclusion est laissée vide"
   ]
  },
  {
   "cell_type": "code",
   "execution_count": 3,
   "metadata": {},
   "outputs": [],
   "source": [
    "import yaml"
   ]
  },
  {
   "cell_type": "code",
   "execution_count": 4,
   "metadata": {},
   "outputs": [],
   "source": [
    "dossier=\"/Copy/Cours/Bordeaux/L1-UE1/Kalaba-14\"\n",
    "serie=\"Noms\"\n",
    "newMarks=True"
   ]
  },
  {
   "cell_type": "code",
   "execution_count": 5,
   "metadata": {},
   "outputs": [],
   "source": [
    "from os.path import expanduser\n",
    "home = expanduser(\"~\")\n",
    "repertoire=home+dossier\n",
    "base=repertoire+\"/\""
   ]
  },
  {
   "cell_type": "code",
   "execution_count": 6,
   "metadata": {},
   "outputs": [],
   "source": [
    "from itertools import combinations\n",
    "import re"
   ]
  },
  {
   "cell_type": "code",
   "execution_count": 7,
   "metadata": {},
   "outputs": [],
   "source": [
    "marksMoodleOld=[100,90,80,75,70,66.666,60,50,40,33.333,30,25,20,16.666,14.2857,12.5,11.111,10,5,0]\n",
    "marksMoodleNew=range(101)\n",
    "if newMarks:\n",
    "    marksMoodle=marksMoodleNew\n",
    "else:\n",
    "    marksMoodle=marksMoodleOld"
   ]
  },
  {
   "cell_type": "code",
   "execution_count": 16,
   "metadata": {},
   "outputs": [],
   "source": [
    "def noteMoodle(note):\n",
    "    result=min(marksMoodle, key=lambda x:abs(x-note))\n",
    "    return \"~%%%s%%\" % result"
   ]
  },
  {
   "cell_type": "code",
   "execution_count": 32,
   "metadata": {},
   "outputs": [],
   "source": [
    "def assemblages(analyse):\n",
    "    '''\n",
    "    calcul des réponses partielles correspondant à l'analyse\n",
    "    '''\n",
    "    chunks = re.findall(ur\"(racine([^)]+)x[^+-]+|[+-]|[^-+]+)\", analyse)\n",
    "    morceaux = [x for (x,y) in chunks if not x in [\"+\",\"-\"]]\n",
    "    separateurs = [x for (x,y) in chunks if x in [\"+\",\"-\"]]\n",
    "    n=len(separateurs)\n",
    "    formes=[]\n",
    "    formes.append(analyse)\n",
    "    if re.search(\"^[^+]+\\+[^+]+\\+[^+]+\",analyse):\n",
    "        formes.append(\"~%%%s%%\" % noteMoodle(100-(100*1/n))+analyse.replace(\"+\",\"-\"))\n",
    "    for i in range(1,n):\n",
    "        for elements in combinations(range(n),i):\n",
    "            boolTirets=False\n",
    "            boolRacine=False\n",
    "            badRacine=False\n",
    "            ##########\n",
    "            #\n",
    "            # Attention à la division entière : (n-i)/n*100 donne toujours 0\n",
    "            #\n",
    "            ##########\n",
    "            note=100*(n-i)/n\n",
    "            prefNote=noteMoodle(note)\n",
    "            forme=\"\"\n",
    "            for m,morceau in enumerate(morceaux):\n",
    "                if re.search(\"racine([^)]+)\",morceau):\n",
    "                    boolRacine=True\n",
    "                    if not(re.search(\"[%+-]$\",forme)) or (m in elements):\n",
    "                        badRacine=True\n",
    "                forme+=morceau\n",
    "                if not (m in elements) and m<n:\n",
    "                    forme+=separateurs[m]\n",
    "                    if separateurs[m] in [\"+\"]:\n",
    "                        boolTirets=True\n",
    "            if not(badRacine):\n",
    "                formes.append(prefNote+forme)\n",
    "                if boolTirets:\n",
    "                    formes.append(noteMoodle(.80*note)+forme.replace('+','-'))\n",
    "    return \"\".join(formes)"
   ]
  },
  {
   "cell_type": "code",
   "execution_count": 33,
   "metadata": {},
   "outputs": [
    {
     "data": {
      "text/plain": [
       "'a+test+e-r-ai-t~%~%80%%a-test-e-r-ai-t~%80%atest+e-r-ai-t~%64%atest-e-r-ai-t~%80%a+teste-r-ai-t~%64%a-teste-r-ai-t~%80%a+test+er-ai-t~%64%a-test-er-ai-t~%80%a+test+e-rai-t~%64%a-test-e-rai-t~%80%a+test+e-r-ait~%64%a-test-e-r-ait~%60%ateste-r-ai-t~%60%atest+er-ai-t~%48%atest-er-ai-t~%60%atest+e-rai-t~%48%atest-e-rai-t~%60%atest+e-r-ait~%48%atest-e-r-ait~%60%a+tester-ai-t~%48%a-tester-ai-t~%60%a+teste-rai-t~%48%a-teste-rai-t~%60%a+teste-r-ait~%48%a-teste-r-ait~%60%a+test+erai-t~%48%a-test-erai-t~%60%a+test+er-ait~%48%a-test-er-ait~%60%a+test+e-rait~%48%a-test-e-rait~%40%atester-ai-t~%40%ateste-rai-t~%40%ateste-r-ait~%40%atest+erai-t~%32%atest-erai-t~%40%atest+er-ait~%32%atest-er-ait~%40%atest+e-rait~%32%atest-e-rait~%40%a+testerai-t~%32%a-testerai-t~%40%a+tester-ait~%32%a-tester-ait~%40%a+teste-rait~%32%a-teste-rait~%40%a+test+erait~%32%a-test-erait~%20%atesterai-t~%20%atester-ait~%20%ateste-rait~%20%atest+erait~%16%atest-erait~%20%a+testerait~%16%a-testerait'"
      ]
     },
     "execution_count": 33,
     "metadata": {},
     "output_type": "execute_result"
    }
   ],
   "source": [
    "assemblages('a+test+e-r-ai-t')"
   ]
  },
  {
   "cell_type": "code",
   "execution_count": 43,
   "metadata": {},
   "outputs": [],
   "source": [
    "def decoupages(analyse):\n",
    "    morceaux=analyse.split(\"-\")\n",
    "    n=len(morceaux)-1\n",
    "    formes=[]\n",
    "    for i in range(1,n):\n",
    "        print i,n,i/n\n",
    "        for element in combinations(range(n),i):\n",
    "            forme=\"~%%%s%%\" % noteMoodle(100-(100*i/n))\n",
    "            for m,morceau in enumerate(morceaux):\n",
    "                forme+=morceau\n",
    "                if not (m in element) and m<n:\n",
    "                    forme+=\"-\"\n",
    "            formes.append(forme)\n",
    "    return \"\".join(formes)"
   ]
  },
  {
   "cell_type": "code",
   "execution_count": 44,
   "metadata": {},
   "outputs": [],
   "source": [
    "def recoder(chaine,table):\n",
    "    if type(chaine)==str:\n",
    "        temp=unicode(chaine.decode('utf8')).translate(table)\n",
    "        result=temp.encode('utf8')\n",
    "    elif type(chaine)==unicode:\n",
    "        result=chaine.translate(table)\n",
    "    return result"
   ]
  },
  {
   "cell_type": "code",
   "execution_count": 45,
   "metadata": {},
   "outputs": [],
   "source": [
    "nomCSV=base+\"14-Kalaba-\"+serie+\".csv\"\n",
    "with open(nomCSV, 'r') as file:\n",
    "    donnees=file.readlines()"
   ]
  },
  {
   "cell_type": "code",
   "execution_count": 46,
   "metadata": {},
   "outputs": [],
   "source": [
    "nomPhonology=base+\"Phonology.yaml\"\n",
    "with open(nomPhonology, 'r') as stream:\n",
    "    phonology=yaml.load(stream)\n",
    "tipaIn = unicode(phonology[\"translations\"][\"ipa\"][\"in\"])\n",
    "ipaIn = [ord(char) for char in tipaIn]\n",
    "ipaOut = unicode(phonology[\"translations\"][\"ipa\"][\"out\"])\n",
    "toipa = dict(zip(ipaIn, ipaOut))"
   ]
  },
  {
   "cell_type": "code",
   "execution_count": 47,
   "metadata": {},
   "outputs": [],
   "source": [
    "results=[]\n",
    "for donnee in donnees:\n",
    "    if donnee.startswith(\"#\"):\n",
    "        results.append(donnee.strip())\n",
    "    else:\n",
    "        champs=donnee.strip().split(\";\")\n",
    "        champs[2]=recoder(champs[2],toipa)\n",
    "        champs[3]=recoder(champs[3],toipa)\n",
    "#        morceaux=champs[3].split(\"-\")\n",
    "#        numMorceaux=str(len(morceaux))\n",
    "        numMorceaux=str(champs[3].count(\"-\")+champs[3].count(\"+\")/2+1)\n",
    "        champs[3]=assemblages(champs[3])\n",
    "        champs.insert(3,numMorceaux)\n",
    "        results.append(\";\".join(champs))"
   ]
  },
  {
   "cell_type": "code",
   "execution_count": 48,
   "metadata": {},
   "outputs": [],
   "source": [
    "nomTXT=nomCSV.replace(\".csv\",\".txt\")\n",
    "with open(nomTXT, 'w') as file:\n",
    "    for result in results:\n",
    "        file.write(result+\"\\n\")"
   ]
  },
  {
   "cell_type": "code",
   "execution_count": 48,
   "metadata": {},
   "outputs": [],
   "source": []
  }
 ],
 "metadata": {
  "kernelspec": {
   "display_name": "Python 2",
   "language": "python",
   "name": "python2"
  },
  "language_info": {
   "codemirror_mode": {
    "name": "ipython",
    "version": 2
   },
   "file_extension": ".py",
   "mimetype": "text/x-python",
   "name": "python",
   "nbconvert_exporter": "python",
   "pygments_lexer": "ipython2",
   "version": "2.7.11"
  }
 },
 "nbformat": 4,
 "nbformat_minor": 1
}

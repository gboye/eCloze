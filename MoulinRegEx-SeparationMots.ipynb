{
 "cells": [
  {
   "cell_type": "markdown",
   "metadata": {},
   "source": [
    "# Compilateur d'exercices de séparation de mots\n",
    "- problème\n",
    " - les scores non-nuls ne peuvent pas utiliser les négations ?"
   ]
  },
  {
   "cell_type": "code",
   "execution_count": 16,
   "metadata": {
    "collapsed": false
   },
   "outputs": [],
   "source": [
    "#import re\n",
    "import sys, codecs, optparse, glob, os\n",
    "import string\n",
    "import random"
   ]
  },
  {
   "cell_type": "code",
   "execution_count": 17,
   "metadata": {
    "collapsed": true
   },
   "outputs": [],
   "source": [
    "debug=True\n",
    "dossier=\"/Github/eGloss\"\n",
    "enonce=\"Test\"\n",
    "theme=\"SeparationMots\"\n",
    "adaptatifPenalite=\"0.1000000\"\n",
    "dernierIndiceNote=75.0\n",
    "msgPlusDeMots=u\"Il y a plus de mots\"\n",
    "msgMoinsDeMots=u\"Il y a moins de mots\""
   ]
  },
  {
   "cell_type": "markdown",
   "metadata": {
    "collapsed": true
   },
   "source": [
    "nbIndiceNotes={\n",
    "    1:[\"%50%\"],\n",
    "    2:[\"\",\"%50%\"],\n",
    "    3:[\"\",\"%40%\",\"%75%\"],\n",
    "    4:[\"\",\"%25%\",\"%50%\",\"%75%\"],\n",
    "    5:[\"\",\"%25%\",\"%40%\", \"%60%\",\"%75%\"],\n",
    "    6:[\"\",\"%20%\",\"%33.33333%\",\"%50%\", \"%60%\",\"%75%\"],\n",
    "    7:[\"\",\"%16.66667%\",\"%25%\",\"%33.33333%\",\"%50%\", \"%60%\",\"%75%\"],\n",
    "    8:[\"\",\"%16.66667%\",\"%25%\",\"%33.33333%\",\"%45%\",\"%55%\", \"%66.66667%\",\"%75%\"],\n",
    "    9:[\"\",\"%5%\",\"%16.66667%\",\"%25%\",\"%33.33333%\",\"%45%\",\"%55%\", \"%66.66667%\",\"%75%\"],\n",
    "    10:[\"\",\"%5%\",\"%16.66667%\",\"%25%\",\"%33.33333%\",\"%40%\",\"%50%\", \"%60%\",\"%66.66667%\",\"%75%\"],\n",
    "}"
   ]
  },
  {
   "cell_type": "code",
   "execution_count": 18,
   "metadata": {
    "collapsed": false
   },
   "outputs": [],
   "source": [
    "dictIndiceNotes={\n",
    "    1:[\"50\"],\n",
    "    2:[\"0\",\"50\"],\n",
    "    3:[\"0\",\"40\",\"75\"],\n",
    "    4:[\"0\",\"25\",\"50\",\"75\"],\n",
    "    5:[\"0\",\"25\",\"40\", \"60\",\"75\"],\n",
    "    6:[\"0\",\"20\",\"33.33333\",\"50\", \"60\",\"75\"],\n",
    "    7:[\"0\",\"16.66667\",\"25\",\"33.33333\",\"50\", \"60\",\"75\"],\n",
    "    8:[\"0\",\"16.66667\",\"25\",\"33.33333\",\"45\",\"55\", \"66.66667\",\"75\"],\n",
    "    9:[\"0\",\"5\",\"16.66667\",\"25\",\"33.33333\",\"45\",\"55\", \"66.66667\",\"75\"],\n",
    "    10:[\"0\",\"5\",\"16.66667\",\"25\",\"33.33333\",\"40\",\"50\", \"60\",\"66.66667\",\"75\"],\n",
    "}"
   ]
  },
  {
   "cell_type": "code",
   "execution_count": 19,
   "metadata": {
    "collapsed": false
   },
   "outputs": [],
   "source": [
    "def nbIndiceNotes(nb,percent=1):\n",
    "    return [\"%\"*percent+el+\"%\"*percent for el in dictIndiceNotes[nb]]"
   ]
  },
  {
   "cell_type": "code",
   "execution_count": 20,
   "metadata": {
    "collapsed": false
   },
   "outputs": [
    {
     "name": "stdout",
     "output_type": "stream",
     "text": [
      "1 ['50']\n",
      "2 ['0', '50']\n",
      "3 ['0', '40', '75']\n",
      "4 ['0', '25', '50', '75']\n",
      "5 ['0', '25', '40', '60', '75']\n",
      "6 ['0', '20', '33.33333', '50', '60', '75']\n",
      "7 ['0', '16.66667', '25', '33.33333', '50', '60', '75']\n",
      "8 ['0', '16.66667', '25', '33.33333', '45', '55', '66.66667', '75']\n",
      "9 ['0', '5', '16.66667', '25', '33.33333', '45', '55', '66.66667', '75']\n",
      "10 ['0', '5', '16.66667', '25', '33.33333', '40', '50', '60', '66.66667', '75']\n"
     ]
    }
   ],
   "source": [
    "if debug:\n",
    "    for i in range(10):\n",
    "        print i+1,nbIndiceNotes(i+1,percent=0) "
   ]
  },
  {
   "cell_type": "code",
   "execution_count": 21,
   "metadata": {
    "collapsed": false
   },
   "outputs": [],
   "source": [
    "from os.path import expanduser\n",
    "home = expanduser(\"~\")\n",
    "repertoire=home+dossier\n",
    "base=repertoire+\"/\""
   ]
  },
  {
   "cell_type": "code",
   "execution_count": 22,
   "metadata": {
    "collapsed": false
   },
   "outputs": [],
   "source": [
    "from ToolsMoodleXML2 import *\n",
    "import yaml"
   ]
  },
  {
   "cell_type": "code",
   "execution_count": 23,
   "metadata": {
    "collapsed": false
   },
   "outputs": [],
   "source": [
    "yamlFichier=base+theme+\"-\"+enonce+\".yaml\"\n",
    "csvFichier=base+theme+\".txt\"\n",
    "boolEX=True\n",
    "titreNoEX=False"
   ]
  },
  {
   "cell_type": "code",
   "execution_count": 24,
   "metadata": {
    "collapsed": false
   },
   "outputs": [],
   "source": [
    "with open(yamlFichier, 'r') as stream:\n",
    "    configuration=yaml.load(stream)\n",
    "    \n",
    "with codecs.open(csvFichier, 'r', encoding=\"utf8\") as file:\n",
    "    donneesLignes=file.readlines()"
   ]
  },
  {
   "cell_type": "code",
   "execution_count": 25,
   "metadata": {
    "collapsed": false
   },
   "outputs": [],
   "source": [
    "def donneesEX():\n",
    "    titre=[]\n",
    "    result={}\n",
    "    boolMultiLignes=False\n",
    "    i=0\n",
    "    for ligne in donneesLignes:\n",
    "        if debug or 0: print ligne\n",
    "        i+=1\n",
    "        if ligne.startswith(\"#EX;\"):\n",
    "            if result:\n",
    "                donnees.append({\"-\".join(titre):result})\n",
    "            titre=[]\n",
    "            result={\"boucle\":[],\"conclusion\":[]}\n",
    "            temp=ligne.strip().split(\";\")\n",
    "            if len(temp)>1 and temp[1]!=\"\":\n",
    "                result[\"conclusion\"]=temp[1:]\n",
    "        elif ligne.startswith(\"#EXM;\"):\n",
    "            boolMultiLignes=True\n",
    "            if result:\n",
    "                donnees.append({\"-\".join(titre):result})\n",
    "            titre=[]\n",
    "            result={\"boucle\":[],\"conclusion\":[]}\n",
    "            temp=ligne.strip().split(\";\")\n",
    "            if len(temp)>1 and temp[1]!=\"\":\n",
    "                titre=temp[1:]            \n",
    "        elif ligne.startswith(\"#\"):\n",
    "            pass\n",
    "        else:\n",
    "            temp=ligne.strip().split(\";\")\n",
    "            if boolMultiLignes:\n",
    "                result[\"boucle\"].extend(temp)\n",
    "            else:\n",
    "                result[\"boucle\"].append(temp)\n",
    "#            titre.append(makeChamps(configuration[u\"Titre\"],temp).encode('utf8'))\n",
    "    donnees.append({\"-\".join(titre):result})\n",
    "\n",
    "def donneesNoEX():\n",
    "    if titreNoEX:\n",
    "        debut=1\n",
    "    else:\n",
    "        debut=0\n",
    "    for ligne in donneesLignes[debut:]:\n",
    "        if not (ligne.strip().strip(\";\")==\"\" or ligne.startswith(\"#\")):\n",
    "            temp=ligne.strip().split(\";\")\n",
    "            result={\"boucle\":[temp],\"conclusion\":[]}\n",
    "            titre=makeChamps(configuration[u\"Titre\"],temp).encode('utf8')\n",
    "            donnees.append({titre:result})\n",
    "    return\n",
    "\n",
    "donnees=[]\n",
    "if boolEX or donneesLignes[0].startswith(\"#EX;\"):\n",
    "#    print \"avec #EX;\"\n",
    "    donneesEX()\n",
    "else:\n",
    "#    print \"sans #EX;\"\n",
    "    donneesNoEX()"
   ]
  },
  {
   "cell_type": "code",
   "execution_count": 26,
   "metadata": {
    "collapsed": true
   },
   "outputs": [],
   "source": [
    "def lierMot(ref,chaine):\n",
    "    if motReferences[ref]:\n",
    "        mot=motReferences[ref]\n",
    "    else:\n",
    "        mot=ref\n",
    "    result=chaine.replace(ref,u'<a href=\"https://fr.wikipedia.org/wiki/%s\" target=\"_blank\" style=\"color:blue\">%s</a>'%(mot,ref))\n",
    "    return result\n",
    "\n",
    "def echapperCorrection(correction):\n",
    "    result=correction\n",
    "    print \"original\",result\n",
    "    subPoints = re.compile(ur\"(\\.[^*+])\")\n",
    "    result=subPoints.sub(ur\"\\\\\\1\",result)\n",
    "    m=re.match(ur\"^(--\\.\\*\\()(&&.*)(\\)\\.\\*)$\",result)\n",
    "    if m:\n",
    "        (prefixe, corps, suffixe)=m.groups()\n",
    "        subParentheses = re.compile(ur\"\\(([^)]*)\\)\")\n",
    "        corps=subParentheses.sub(ur\"\\\\(\\1\\\\)\",corps)\n",
    "        subCrochets = re.compile(ur\"\\[([^]]*)\\]\")\n",
    "        corps=subCrochets.sub(ur\"\\\\[\\1\\\\]\",corps)\n",
    "        result=prefixe+corps+suffixe\n",
    "    print \"échappé\",result\n",
    "    return result    \n",
    "\n",
    "def modifierCorrection(correction):\n",
    "    result=correction\n",
    "#    print \"original\",result\n",
    "    subPoints = re.compile(ur\"(\\.[^*+])\")\n",
    "    result=subPoints.sub(ur\"\\\\\\1\",result)\n",
    "    m=re.match(ur\"^(--\\.\\*\\()(&&.*)(\\)\\.\\*)$\",result)\n",
    "    if m:\n",
    "        (prefixe, corps, suffixe)=m.groups()        \n",
    "        subParentheses = re.compile(ur\"\\(([^)]*)\\)\")\n",
    "        corps=subParentheses.sub(ur\"\\\\(\\1\\\\)\",corps)\n",
    "        subCrochets = re.compile(ur\"\\[([^]]*)\\]\")\n",
    "        corps=subCrochets.sub(ur\"\\\\[\\1\\\\]\",corps)\n",
    "        unites=filter(None,corps.split(\"&&\"))\n",
    "#        print \"unités\",unites\n",
    "        corps=\".*\".join(unites)\n",
    "        result=prefixe+corps+suffixe\n",
    "#    print \"échappé\",result\n",
    "    return result    "
   ]
  },
  {
   "cell_type": "raw",
   "metadata": {},
   "source": [
    "def separerMots(elements,titre):\n",
    "    result=[]\n",
    "    elements = filter(None, elements)\n",
    "    nbMots=len(elements[0].strip().split(\" \"))\n",
    "    solution=u\"=%s#Bravo ! La phrase était : %s\"%(elements[0],titre)\n",
    "    corrections=[]\n",
    "    nbElements=len(elements[1:])\n",
    "#    if not nbElements in nbIndiceNotes: \n",
    "#        print \"Ajouter une répartition des notes pour %d indices\"%nbElements\n",
    "#        print titre\n",
    "#        print elements[1:]\n",
    "    for n,element in enumerate(elements[1:]):\n",
    "        (reponseSpec,feedbackSpec)=element.split(\"#\")\n",
    "        reponseSpec=modifierCorrection(reponseSpec)\n",
    "        if feedbackSpec:\n",
    "            for mot in motReferences:\n",
    "                if mot in feedbackSpec:\n",
    "                    feedbackSpec=lierMot(mot,feedbackSpec)\n",
    "        element=\"#\".join([reponseSpec,feedbackSpec])\n",
    "        corrections.append(nbIndiceNotes(nbElements)[n]+element)\n",
    "#    print nbMots\n",
    "    minMots=\"^\"+\"([^ ]+ +)?\"*(nbMots-4)+\"[^ ]+$#%s\"%msgPlusDeMots\n",
    "    maxMots=\"^\"+\"([^ ]+ +)\"*(nbMots+2)+\"([^ ]+ +)*[^ ]+$#%s\"%msgMoinsDeMots\n",
    "#    print \"~\".join(elements)\n",
    "    result.extend([solution,minMots,maxMots])\n",
    "    result.extend(corrections)\n",
    "    return result"
   ]
  },
  {
   "cell_type": "code",
   "execution_count": 27,
   "metadata": {
    "collapsed": false
   },
   "outputs": [],
   "source": [
    "def separerMots(elements,titre):\n",
    "    result=[]\n",
    "    elements = filter(None, elements)\n",
    "    nbMots=len(elements[0].strip().split(\" \"))\n",
    "    solution=(\"100\",elements[0],u\"Bravo ! La phrase était : %s\"%titre)\n",
    "    corrections=[]\n",
    "    nbElements=len(elements[1:])\n",
    "#    if not nbElements in nbIndiceNotes: \n",
    "#        print \"Ajouter une répartition des notes pour %d indices\"%nbElements\n",
    "#        print titre\n",
    "#        print elements[1:]\n",
    "    for n,element in enumerate(elements[1:]):\n",
    "        (reponseSpec,feedbackSpec)=element.split(\"#\")\n",
    "        reponseSpec=modifierCorrection(reponseSpec)\n",
    "        if feedbackSpec:\n",
    "            for mot in motReferences:\n",
    "                if mot in feedbackSpec:\n",
    "                    feedbackSpec=lierMot(mot,feedbackSpec)\n",
    "        corrections.append((nbIndiceNotes(nbElements,percent=0)[n],reponseSpec,feedbackSpec))\n",
    "#    print nbMots\n",
    "    minMots=(\"0\",\"^\"+\"([^ ]+ +)?\"*(nbMots-4)+\"[^ ]+$\",msgPlusDeMots)\n",
    "    maxMots=(\"0\",\"^\"+\"([^ ]+ +)\"*(nbMots+2)+\"([^ ]+ +)*[^ ]+$\",msgMoinsDeMots)\n",
    "#    print \"~\".join(elements)\n",
    "    result.extend([solution,minMots,maxMots])\n",
    "    result.extend(corrections)\n",
    "    '''\n",
    "    for note,sol,fb in result:\n",
    "        print \"note\",note\n",
    "        print \"sol\",sol \n",
    "        print \"fb\",fb\n",
    "    '''\n",
    "    return result"
   ]
  },
  {
   "cell_type": "raw",
   "metadata": {
    "collapsed": false,
    "scrolled": true
   },
   "source": [
    "consigne=\"<br/>\".join(configuration[u\"Consigne\"])\n",
    "motReferences=configuration[u\"Références\"]\n",
    "separationExercices=[]\n",
    "for question in donnees:\n",
    "    questionLignes=[]\n",
    "    for nom in question:\n",
    "        titre=nom\n",
    "        questionLignes.append(consigne)\n",
    "        questionLignes.append(u\"\".join(re.split(\"[ -]\",question[nom][\"boucle\"][0])))\n",
    "#        questionLignes.append(u\"\".join(question[nom][\"boucle\"][0].split(\" \")))\n",
    "        questionLignes.append(u\"{1:RXC:%s}\"%u\"~\".join(separerMots(question[nom][\"boucle\"],titre)))\n",
    "#        print questionLignes\n",
    "        textQuestion=u\"<br/>\".join(questionLignes)\n",
    "        separationExercices.append(ClozeExercice(titre,textQuestion,penalty=adaptatifPenalite))"
   ]
  },
  {
   "cell_type": "code",
   "execution_count": 28,
   "metadata": {
    "collapsed": false,
    "scrolled": true
   },
   "outputs": [
    {
     "name": "stderr",
     "output_type": "stream",
     "text": [
      "ToolsMoodleXML2.py:290: UserWarning: \n",
      "Plusieurs réponses dans le RegEx\n",
      "Elles seront toutes considérées correctes.\n",
      "  warnings.warn(\"\\nPlusieurs réponses dans le RegEx\\nElles seront toutes considérées correctes.\")\n"
     ]
    }
   ],
   "source": [
    "consigne=\"<br/>\".join(configuration[u\"Consigne\"])\n",
    "motReferences=configuration[u\"Références\"]\n",
    "separationExercices=[]\n",
    "for question in donnees:\n",
    "    for nom in question:\n",
    "        titre=nom\n",
    "        consigneLignes=[consigne]\n",
    "        consigneLignes.append(u\"\".join(re.split(\"[ -]\",question[nom][\"boucle\"][0])))\n",
    "#        questionLignes.append(u\"\".join(re.split(\"[ -]\",question[nom][\"boucle\"][0])))\n",
    "#        questionLignes.append(u\"\".join(question[nom][\"boucle\"][0].split(\" \")))\n",
    "        questionLignes=separerMots(question[nom][\"boucle\"],titre)\n",
    "#        print questionLignes\n",
    "#        textQuestion=u\"<br/>\".join(questionLignes)\n",
    "        separationExercices.append(RegExExercice(titre,consigneLignes,questionLignes,penalty=adaptatifPenalite))"
   ]
  },
  {
   "cell_type": "code",
   "execution_count": 29,
   "metadata": {
    "collapsed": false
   },
   "outputs": [],
   "source": [
    "categorie=configuration[u\"Catégorie\"]\n",
    "regexQuestions=XMLSeries(categorie)"
   ]
  },
  {
   "cell_type": "code",
   "execution_count": 30,
   "metadata": {
    "collapsed": false
   },
   "outputs": [],
   "source": [
    "for exercice in separationExercices:\n",
    "    regexQuestions.addExercice(exercice)"
   ]
  },
  {
   "cell_type": "code",
   "execution_count": 31,
   "metadata": {
    "collapsed": false
   },
   "outputs": [],
   "source": [
    "xmlOutput=MoodleXML()\n",
    "xmlOutput.addQuiz(regexQuestions.getSeries())"
   ]
  },
  {
   "cell_type": "code",
   "execution_count": 32,
   "metadata": {
    "collapsed": false
   },
   "outputs": [],
   "source": [
    "xmlFichier=yamlFichier.split(\".\")[0]+\".xml\""
   ]
  },
  {
   "cell_type": "code",
   "execution_count": 33,
   "metadata": {
    "collapsed": false
   },
   "outputs": [],
   "source": [
    "with codecs.open(xmlFichier, 'w',encoding=\"utf8\") as output:\n",
    "#    print [questions.getClozes()]\n",
    "    output.write(xmlOutput.getXML())"
   ]
  },
  {
   "cell_type": "code",
   "execution_count": null,
   "metadata": {
    "collapsed": false
   },
   "outputs": [],
   "source": [
    "motReferences"
   ]
  },
  {
   "cell_type": "code",
   "execution_count": null,
   "metadata": {
    "collapsed": false
   },
   "outputs": [],
   "source": [
    "correction=u\"--.*(&& gris(M)[SG.⊖] && vert(M)[SG.⊖] && clair[M.SG.⊖]).*\"\n",
    "#correction=u\"--.*(&& DEF-M.SG.⊖ chat&& DEF-F.SG.⊖ gouttière).*\"\n",
    "(prefixe, corps, suffixe)=re.match(ur\"^(--\\.\\*\\()(&&.*)(\\)\\.\\*)$\",correction).groups()\n",
    "print corps\n",
    "subParentheses = re.compile(ur\"\\(([^)]*)\\)\")\n",
    "result=subParentheses.sub(ur\"\\\\(\\1\\\\)\",corps)\n",
    "print result\n",
    "subCrochets = re.compile(ur\"\\[([^]]*)\\]\")\n",
    "result=subCrochets.sub(ur\"\\\\[\\1\\\\]\",result)\n",
    "subPoints = re.compile(ur\"(\\.[^*])\")\n",
    "result=subPoints.sub(ur\"\\\\\\1\",result)\n",
    "\n",
    "print prefixe+result+suffixe"
   ]
  },
  {
   "cell_type": "code",
   "execution_count": null,
   "metadata": {
    "collapsed": false
   },
   "outputs": [],
   "source": [
    "subParentheses = re.compile(ur\"&&([^&)]*)\\(([^)]*)\\)\")\n",
    "subCrochets = re.compile(ur\"&&([^&[]*)\\[([^\\]]*)\\]\")\n",
    "subPoints = re.compile(ur\"&&(([^)\\.]|\\\\\\)|\\\\\\.)+)(\\.[^*])\")\n",
    "print subPoints.search(correction)\n",
    "result=subParentheses.sub(ur\"&&\\1\\\\(\\2\\\\)\",correction)\n",
    "print result\n",
    "result=subCrochets.sub(ur\"&&\\1\\\\[\\2\\\\]\",result)\n",
    "print result\n",
    "result=subPoints.sub(ur\"&&\\1\\\\\\3\",result)\n",
    "print result"
   ]
  }
 ],
 "metadata": {
  "kernelspec": {
   "display_name": "Python 2",
   "language": "python",
   "name": "python2"
  },
  "language_info": {
   "codemirror_mode": {
    "name": "ipython",
    "version": 2
   },
   "file_extension": ".py",
   "mimetype": "text/x-python",
   "name": "python",
   "nbconvert_exporter": "python",
   "pygments_lexer": "ipython2",
   "version": "2.7.11"
  }
 },
 "nbformat": 4,
 "nbformat_minor": 0
}

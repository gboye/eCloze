{
 "cells": [
  {
   "cell_type": "code",
   "execution_count": 2,
   "metadata": {
    "collapsed": true
   },
   "outputs": [],
   "source": [
    "#import re\n",
    "import sys, codecs, optparse, glob, os\n",
    "import string\n",
    "import random"
   ]
  },
  {
   "cell_type": "code",
   "execution_count": 3,
   "metadata": {
    "collapsed": true
   },
   "outputs": [],
   "source": [
    "dossier=\"/Users/gilles/Github/eCloze/\"\n",
    "enonce=\"Test\"\n",
    "theme=\"Test\""
   ]
  },
  {
   "cell_type": "code",
   "execution_count": 4,
   "metadata": {
    "collapsed": true
   },
   "outputs": [],
   "source": [
    "from ToolsMoodleXML2 import *\n",
    "import ToolsMoodleXML\n",
    "import yaml"
   ]
  },
  {
   "cell_type": "code",
   "execution_count": 5,
   "metadata": {
    "collapsed": true
   },
   "outputs": [],
   "source": [
    "yamlFichier=dossier+enonce+\".yaml\"\n",
    "csvFichier=dossier+theme+\".txt\"\n",
    "boolEX=False\n",
    "titreNoEX=False"
   ]
  },
  {
   "cell_type": "code",
   "execution_count": 6,
   "metadata": {
    "collapsed": true
   },
   "outputs": [],
   "source": [
    "with codecs.open(yamlFichier, 'r',encoding=\"utf8\") as stream:\n",
    "    configuration=yaml.load(stream)\n",
    "    \n",
    "with codecs.open(csvFichier, 'r',encoding=\"utf8\") as file:\n",
    "    donneesLignes=file.readlines()\n",
    "    "
   ]
  },
  {
   "cell_type": "code",
   "execution_count": 7,
   "metadata": {
    "collapsed": true
   },
   "outputs": [],
   "source": [
    "def donneesEX():\n",
    "    titre=[]\n",
    "    result=\"\"\n",
    "    i=0\n",
    "    for ligne in donneesLignes:\n",
    "        i+=1\n",
    "        if ligne.startswith(\"#EX;\"):\n",
    "            if result!=\"\":\n",
    "                donnees.append({\"-\".join(titre):result})\n",
    "            titre=[]\n",
    "            result={\"boucle\":[],\"conclusion\":[]}\n",
    "            temp=ligne.strip().split(\";\")\n",
    "            if len(temp)>1 and temp[1]!=\"\":\n",
    "                result[\"conclusion\"]=temp[1:]\n",
    "        elif ligne.startswith(\"#\"):\n",
    "            pass\n",
    "        else:\n",
    "            temp=ligne.strip().split(\";\")\n",
    "            result[\"boucle\"].append(temp)\n",
    "            titre.append(makeChamps(configuration[u\"Titre\"],temp).encode('utf8'))\n",
    "    donnees.append({\"-\".join(titre):result})\n",
    "\n",
    "def donneesNoEX():\n",
    "    if titreNoEX:\n",
    "        debut=1\n",
    "    else:\n",
    "        debut=0\n",
    "    for ligne in donneesLignes[debut:]:\n",
    "        if not (ligne.strip().strip(\";\")==\"\" or ligne.startswith(\"#\")):\n",
    "            donnees.append(ligne)\n",
    "    return\n",
    "\n",
    "donnees=[]\n",
    "if boolEX or donneesLignes[0].startswith(\"#EX;\"):\n",
    "#    print \"avec #EX;\"\n",
    "    donneesEX()\n",
    "else:\n",
    "#    print \"sans #EX;\"\n",
    "    donneesNoEX()"
   ]
  },
  {
   "cell_type": "code",
   "execution_count": 8,
   "metadata": {
    "collapsed": true
   },
   "outputs": [],
   "source": [
    "if u\"Pénalité\" in configuration:\n",
    "    ToolsMoodleXML.penalite=configuration[u\"Pénalité\"]\n",
    "if u\"NbChoix\" in configuration:\n",
    "    ToolsMoodleXML.maxChoix=configuration[\"NbChoix\"]-1 #maxChoix alternatives à la solution pour avoir NbChoix en tout"
   ]
  },
  {
   "cell_type": "code",
   "execution_count": 9,
   "metadata": {
    "collapsed": true
   },
   "outputs": [],
   "source": [
    "categorie=configuration[u\"Catégorie\"]\n",
    "titreGeneral=configuration[u\"Titre\"]\n",
    "questions=XMLSeries(categorie)\n",
    "debutConsigne=configuration[u\"Consigne\"][u\"début\"]\n",
    "finConsigne=configuration[u\"Consigne\"][u\"fin\"]"
   ]
  },
  {
   "cell_type": "code",
   "execution_count": 72,
   "metadata": {
    "collapsed": true
   },
   "outputs": [],
   "source": [
    "def escapeDieseTilde(chaine):\n",
    "    result=chaine\n",
    "    m=re.search(ur\"(?<!\\\\)(#|~)\",result)\n",
    "    while m:\n",
    "        print m.group(0),m.group(1)   \n",
    "        result=result.replace(m.group(0),ur\"\\%s\"%m.group(1))\n",
    "        m=re.search(ur\"(?<!\\\\)(#|~)\",result)\n",
    "    return result\n",
    "\n",
    "def questionParentheses(chaine):\n",
    "    result=chaine\n",
    "#    m=re.search(ur\"\\(([^)]+)\\)\",result)\n",
    "    m=re.search(ur\"(?<!\\\\)\\((.+)(?<!\\\\)\\)\",result)\n",
    "    while m:\n",
    "        result=result.replace(m.group(0),u\"{1:SAC:%s}\"%m.group(1))\n",
    "        m=re.search(ur\"(?<!\\\\)\\((.+)(?<!\\\\)\\)\",result)\n",
    "    result=result.replace(ur\"\\(\",\"(\").replace(ur\"\\)\",\")\")\n",
    "    return result\n",
    "\n",
    "def questionCrochets(chaine):\n",
    "    result=chaine\n",
    "    m=re.search(ur\"(?<!\\\\)\\[(.+)(?<!\\\\)\\]\",result)\n",
    "    while m:\n",
    "        resultMC=\"~\".join(m.group(1).split(\";\"))\n",
    "        result=result.replace(m.group(0),u\"{1:MC:=%s}\"%resultMC)\n",
    "        m=re.search(ur\"(?<!\\\\)\\[(.+)(?<!\\\\)\\]\",result)\n",
    "    result=result.replace(ur\"\\[\",\"[\").replace(ur\"\\]\",\"]\")\n",
    "    return result\n",
    "\n",
    "def questionParCro(chaine):\n",
    "    chaineEsc=escapeDieseTilde(chaine)\n",
    "    chainePar=questionParentheses(chaineEsc)\n",
    "    chaineCro=questionCrochets(chainePar)\n",
    "    return chaineCro"
   ]
  },
  {
   "cell_type": "code",
   "execution_count": 75,
   "metadata": {},
   "outputs": [
    {
     "name": "stdout",
     "output_type": "stream",
     "text": [
      "~ ~\n",
      "# #\n",
      "Ceci est {1:SAC:une réponse (courte)}, cela est un {1:MC:=choix [multiple]~schmilblick~truc\\~bizarre~bazar~\\#EX}.\n"
     ]
    }
   ],
   "source": [
    "print questionParCro(ur\"Ceci est (une réponse \\(courte\\)), cela est un [choix \\[multiple\\];schmilblick;truc~bizarre;bazar;#EX].\")"
   ]
  },
  {
   "cell_type": "code",
   "execution_count": 145,
   "metadata": {},
   "outputs": [
    {
     "name": "stdout",
     "output_type": "stream",
     "text": [
      "Notez vos réponses.<br/>Les trous sont notés entre {1:SAC:parenthèses}. Les choix multiples entre {1:MC:=crochets~parenthèses~accolades} séparés par des {1:SAC:points-virgules}, le bon choix étant le {1:MC:=premier~second~troisième}.\n",
      "<br/>\n",
      "Notez vos réponses.<br/>Par défaut, chaque ligne compte pour {1:SAC:un exercice} mais on pourrait choisir un séparateur explicite comme {1:MC:=\\#EX~\\#TITRE} pour donner un titre à chaque question et avoir des questions sur plusieurs lignes. <br/>\n"
     ]
    }
   ],
   "source": [
    "for numEx,exercices in enumerate(donnees):\n",
    "    titre=\"%s%02d\"%(titreGeneral, numEx+1)\n",
    "    corps=debutConsigne+questionParCro(exercices)+finConsigne\n",
    "    print corps\n",
    "    questions.addExercice(ClozeExercice(titre,corps))"
   ]
  },
  {
   "cell_type": "code",
   "execution_count": 146,
   "metadata": {
    "collapsed": true
   },
   "outputs": [],
   "source": [
    "xmlOutput=MoodleXML()\n",
    "xmlOutput.addQuiz(questions.getSeries())"
   ]
  },
  {
   "cell_type": "code",
   "execution_count": 147,
   "metadata": {
    "collapsed": true
   },
   "outputs": [],
   "source": [
    "xmlFichier=yamlFichier.split(\".\")[0]+\".xml\""
   ]
  },
  {
   "cell_type": "code",
   "execution_count": 148,
   "metadata": {
    "collapsed": true
   },
   "outputs": [],
   "source": [
    "with codecs.open(xmlFichier, 'w',encoding=\"utf8\") as output:\n",
    "#    print [questions.getClozes()]\n",
    "    output.write(xmlOutput.getXML())"
   ]
  },
  {
   "cell_type": "code",
   "execution_count": null,
   "metadata": {
    "collapsed": true
   },
   "outputs": [],
   "source": []
  }
 ],
 "metadata": {
  "kernelspec": {
   "display_name": "Python 2",
   "language": "python",
   "name": "python2"
  },
  "language_info": {
   "codemirror_mode": {
    "name": "ipython",
    "version": 2
   },
   "file_extension": ".py",
   "mimetype": "text/x-python",
   "name": "python",
   "nbconvert_exporter": "python",
   "pygments_lexer": "ipython2",
   "version": "2.7.11"
  }
 },
 "nbformat": 4,
 "nbformat_minor": 1
}

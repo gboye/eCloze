{
 "metadata": {
  "name": "",
  "signature": "sha256:7c1dac2a75f0488c14915ad97dd94cd41b8f9df74f1b9fbce2e3f35c63ad1022"
 },
 "nbformat": 3,
 "nbformat_minor": 0,
 "worksheets": [
  {
   "cells": [
    {
     "cell_type": "code",
     "collapsed": false,
     "input": [
      "#import re\n",
      "import sys, codecs, optparse, glob, os\n",
      "import string\n",
      "import random"
     ],
     "language": "python",
     "metadata": {},
     "outputs": [],
     "prompt_number": 1
    },
    {
     "cell_type": "code",
     "collapsed": false,
     "input": [
      "from MoodleXML import *\n",
      "import yaml"
     ],
     "language": "python",
     "metadata": {},
     "outputs": [],
     "prompt_number": 2
    },
    {
     "cell_type": "code",
     "collapsed": false,
     "input": [
      "with open(\"EXO2-Morpho.yaml\", 'r') as stream:\n",
      "    configuration=yaml.load(stream)\n",
      "    \n",
      "with open(\"EXO2-Morpho.txt\", 'r') as file:\n",
      "    donneesLignes=file.readlines()"
     ],
     "language": "python",
     "metadata": {},
     "outputs": [],
     "prompt_number": 3
    },
    {
     "cell_type": "code",
     "collapsed": false,
     "input": [
      "donnees=[]\n",
      "titre=[]\n",
      "result=\"\"\n",
      "i=0\n",
      "for ligne in donneesLignes:\n",
      "    i+=1\n",
      "    if ligne.startswith(\"#EX;\"):\n",
      "        if result!=\"\":\n",
      "            donnees.append({\"-\".join(titre):result})\n",
      "        titre=[]\n",
      "        result={\"boucle\":[],\"conclusion\":[]}\n",
      "        temp=ligne.strip().split(\";\")\n",
      "        if len(temp)>1 and temp[1]!=\"\":\n",
      "            result[\"conclusion\"]=temp[1:]\n",
      "    elif ligne.startswith(\"#\"):\n",
      "        pass\n",
      "    else:\n",
      "        temp=ligne.strip().split(\";\")\n",
      "        result[\"boucle\"].append(temp)\n",
      "        titre.append(temp[0])\n",
      "donnees.append({\"-\".join(titre):result})"
     ],
     "language": "python",
     "metadata": {},
     "outputs": [],
     "prompt_number": 4
    },
    {
     "cell_type": "code",
     "collapsed": false,
     "input": [
      "categorie=configuration[u\"Cat\u00e9gorie\"]\n",
      "#donnees=configuration[u\"Donn\u00e9es\"]\n",
      "consigne=configuration[u\"Boucle\"][u\"contenu\"]\n",
      "boucleWrap=[configuration[u\"Boucle\"][u\"d\u00e9but\"],configuration[u\"Boucle\"][\"fin\"]]\n",
      "boucleCLOZE=configuration[u\"Boucle\"][u\"Cloze\"]\n",
      "globalWrap=[configuration[u\"Global\"][u\"d\u00e9but\"],configuration[u\"Global\"][\"fin\"]]\n",
      "conclusion=[configuration[u\"Conclusion\"][u\"d\u00e9but\"],configuration[u\"Conclusion\"][\"contenu\"],configuration[u\"Conclusion\"][\"fin\"]]\n",
      "conclusionCLOZE=configuration[u\"Conclusion\"][u\"Cloze\"]\n",
      "\n",
      "questions=XMLClozes(categorie)\n",
      "questionsConsigne=ClozeConsigne(consigne,boucleWrap=boucleWrap,globalWrap=globalWrap,conclusion=conclusion)\n",
      "serie=ClozeSerie(configuration[u\"Boucle\"][u\"Cloze\"],configuration[u\"Conclusion\"][u\"Cloze\"])"
     ],
     "language": "python",
     "metadata": {},
     "outputs": [],
     "prompt_number": 5
    },
    {
     "cell_type": "code",
     "collapsed": false,
     "input": [
      "serie.exercices"
     ],
     "language": "python",
     "metadata": {},
     "outputs": [
      {
       "metadata": {},
       "output_type": "pyout",
       "prompt_number": 6,
       "text": [
        "[]"
       ]
      }
     ],
     "prompt_number": 6
    },
    {
     "cell_type": "code",
     "collapsed": false,
     "input": [
      "for exercices in donnees:\n",
      "    for exercice in exercices:\n",
      "        exerciceBoucle=exercices[exercice][\"boucle\"]\n",
      "        exerciceConclusion=exercices[exercice][\"conclusion\"]\n",
      "        serie.addExercice(Exercice(exerciceBoucle,exerciceConclusion))"
     ],
     "language": "python",
     "metadata": {},
     "outputs": [],
     "prompt_number": 7
    },
    {
     "cell_type": "code",
     "collapsed": false,
     "input": [
      "serie.makeSerie(questionsConsigne)"
     ],
     "language": "python",
     "metadata": {},
     "outputs": [
      {
       "output_type": "stream",
       "stream": "stdout",
       "text": [
        "['{1:MC:=la phonologie~tout}', '{1:MC:=la s\\xc3\\xa9mantique~rien}']\n",
        "['', '', u'Donnez la base et la construction correspondant au lex\\xe8me POMMIER', u'Base : {1:SAC:=POMME}, Cat\\xe9gorie de la base : {1:MC:=N.M~Adj}, Cat\\xe9gorie du construit : {1:MC:=N~V}', u'Construction phonologique : {1:MC:=radical+je~radical.IMPF+a\\u0292}, Construction s\\xe9mantique : {1:MC:=arbre qui produit des BASES~rendre BASE}', '', '', u'Donnez la base et la construction correspondant au lex\\xe8me POMPIER', u'Base : {1:SAC:=POMPE}, Cat\\xe9gorie de la base : {1:MC:=N.M~N.F}, Cat\\xe9gorie du construit : {1:MC:=N~N.F}', u'Construction phonologique : {1:MC:=radical+je~radical.F+i}, Construction s\\xe9mantique : {1:MC:=m\\xe9tier en rapport avec la BASE~Agent ou Instrument qui VERBE les NOMS}', '', '', u'Quel est le point commun entre ces deux constructions ? {1:MC:=la phonologie~tout}', u'Quelle est la diff\\xe9rence entre ces deux constructions ? {1:MC:=la s\\xe9mantique~rien}', '', '']\n",
        "['{1:MC:=la s\\xc3\\xa9mantique~tout}', '{1:MC:=la phonologie~tout}']\n",
        "['', '', u'Donnez la base et la construction correspondant au lex\\xe8me POISSONIER', u'Base : {1:SAC:=POISSON}, Cat\\xe9gorie de la base : {1:MC:=N.M~Adv}, Cat\\xe9gorie du construit : {1:MC:=N~V}', u'Construction phonologique : {1:MC:=radical+je~radical.IMPF+a\\u0292}, Construction s\\xe9mantique : {1:MC:=m\\xe9tier en rapport avec la BASE~rendre BASE}', '', '', u'Donnez la base et la construction correspondant au lex\\xe8me GARAGISTE', u'Base : {1:SAC:=GARAGE}, Cat\\xe9gorie de la base : {1:MC:=N~N.M}, Cat\\xe9gorie du construit : {1:MC:=N~V}', u'Construction phonologique : {1:MC:=radical+ist~radical.F+i}, Construction s\\xe9mantique : {1:MC:=m\\xe9tier en rapport avec la BASE~arbre qui produit des BASES}', '', '', u'Quel est le point commun entre ces deux constructions ? {1:MC:=la s\\xe9mantique~tout}', u'Quelle est la diff\\xe9rence entre ces deux constructions ? {1:MC:=la phonologie~tout}', '', '']\n",
        "['{1:MC:=rien~la phonologie}', '{1:MC:=tout~la phonologie}']\n",
        "['', '', u'Donnez la base et la construction correspondant au lex\\xe8me POMPISTE', u'Base : {1:SAC:=POMPE}, Cat\\xe9gorie de la base : {1:MC:=N~Adj}, Cat\\xe9gorie du construit : {1:MC:=N~Adj}', u'Construction phonologique : {1:MC:=radical+ist~radical+je}, Construction s\\xe9mantique : {1:MC:=m\\xe9tier en rapport avec la BASE~\\xe9quivalent femelle de BASE}', '', '', u'Donnez la base et la construction correspondant au lex\\xe8me MANGEABLE', u'Base : {1:SAC:=MANGER}, Cat\\xe9gorie de la base : {1:MC:=Adj~Adv}, Cat\\xe9gorie du construit : {1:MC:=V~N}', u\"Construction phonologique : {1:MC:=radical.IMPF+abl~radical+\\u0254\\u0303}, Construction s\\xe9mantique : {1:MC:=qui peut \\xeatre BAS\\xc9~propri\\xe9t\\xe9 d'\\xeatre BASE}\", '', '', u'Quel est le point commun entre ces deux constructions ? {1:MC:=rien~la phonologie}', u'Quelle est la diff\\xe9rence entre ces deux constructions ? {1:MC:=tout~la phonologie}', '', '']\n",
        "['{1:MC:=rien~tout}', '{1:MC:=tout~la phonologie}']\n",
        "['', '', u'Donnez la base et la construction correspondant au lex\\xe8me TRAITABLE', u'Base : {1:SAC:=TRAITER}, Cat\\xe9gorie de la base : {1:MC:=Adj~N}, Cat\\xe9gorie du construit : {1:MC:=V~V-N}', u'Construction phonologique : {1:MC:=radical.IMPF+abl~radical.F+i}, Construction s\\xe9mantique : {1:MC:=qui peut \\xeatre BAS\\xc9~arbre qui produit des BASES}', '', '', u'Donnez la base et la construction correspondant au lex\\xe8me INTRAITABLE', u'Base : {1:SAC:=TRAITABLE}, Cat\\xe9gorie de la base : {1:MC:=Adj~N.M}, Cat\\xe9gorie du construit : {1:MC:=Adj~N.M}', u\"Construction phonologique : {1:MC:=\\u025b\\u0303+radical~radical.IMPF+\\u0153r}, Construction s\\xe9mantique : {1:MC:=qui n'est pas BASE~arbre qui produit des BASES}\", '', '', u'Quel est le point commun entre ces deux constructions ? {1:MC:=rien~tout}', u'Quelle est la diff\\xe9rence entre ces deux constructions ? {1:MC:=tout~la phonologie}', '', '']\n",
        "['{1:MC:=tout~la s\\xc3\\xa9mantique}', '{1:MC:=rien~tout}']\n",
        "['', '', u'Donnez la base et la construction correspondant au lex\\xe8me IMMANGEABLE', u'Base : {1:SAC:=MANGEABLE}, Cat\\xe9gorie de la base : {1:MC:=Adj~V}, Cat\\xe9gorie du construit : {1:MC:=Adj~N.M}', u\"Construction phonologique : {1:MC:=\\u025b\\u0303+radical~radical.F+\\u025bs}, Construction s\\xe9mantique : {1:MC:=qui n'est pas BASE~de mani\\xe8re BASE}\", '', '', u'Donnez la base et la construction correspondant au lex\\xe8me INCONNU', u'Base : {1:SAC:=CONNU}, Cat\\xe9gorie de la base : {1:MC:=Adj~Adv}, Cat\\xe9gorie du construit : {1:MC:=Adj~N}', u\"Construction phonologique : {1:MC:=\\u025b\\u0303+radical~radical.F+i}, Construction s\\xe9mantique : {1:MC:=qui n'est pas BASE~m\\xe9tier en rapport avec la BASE}\", '', '', u'Quel est le point commun entre ces deux constructions ? {1:MC:=tout~la s\\xe9mantique}', u'Quelle est la diff\\xe9rence entre ces deux constructions ? {1:MC:=rien~tout}', '', '']\n",
        "['{1:MC:=la s\\xc3\\xa9mantique~tout}', '{1:MC:=la phonologie~rien}']\n",
        "['', '', u'Donnez la base et la construction correspondant au lex\\xe8me MONTEUR', u'Base : {1:SAC:=MONTER}, Cat\\xe9gorie de la base : {1:MC:=N.M~Adj}, Cat\\xe9gorie du construit : {1:MC:=V~N}', u'Construction phonologique : {1:MC:=radical.IMPF+\\u0153r~radical.F+m\\u0251\\u0303}, Construction s\\xe9mantique : {1:MC:=Agent ou Instrument de BASER~petit de BASE}', '', '', u'Donnez la base et la construction correspondant au lex\\xe8me BATTEUSE', u'Base : {1:SAC:=BATTRE}, Cat\\xe9gorie de la base : {1:MC:=N.F~N.M}, Cat\\xe9gorie du construit : {1:MC:=V~V-N}', u'Construction phonologique : {1:MC:=radical.IMPF+\\xf8z~radical.IMPF+a\\u0292}, Construction s\\xe9mantique : {1:MC:=Agent ou Instrument de BASER~Agent ou Instrument qui VERBE les NOMS}', '', '', u'Quel est le point commun entre ces deux constructions ? {1:MC:=la s\\xe9mantique~tout}', u'Quelle est la diff\\xe9rence entre ces deux constructions ? {1:MC:=la phonologie~rien}', '', '']\n",
        "['{1:MC:=rien~la phonologie}', '{1:MC:=tout~rien}']\n",
        "['', '', u'Donnez la base et la construction correspondant au lex\\xe8me DRESSAGE', u'Base : {1:SAC:=DRESSER}, Cat\\xe9gorie de la base : {1:MC:=N.M~N}, Cat\\xe9gorie du construit : {1:MC:=V~Adj}', u\"Construction phonologique : {1:MC:=radical.IMPF+a\\u0292~radical.F+i}, Construction s\\xe9mantique : {1:MC:=action de BASER~propri\\xe9t\\xe9 d'\\xeatre BASE}\", '', '', u'Donnez la base et la construction correspondant au lex\\xe8me JARDINET', u'Base : {1:SAC:=JARDIN}, Cat\\xe9gorie de la base : {1:MC:=N.M~Adv}, Cat\\xe9gorie du construit : {1:MC:=N.M~V-N}', u'Construction phonologique : {1:MC:=radical+\\u025b~radical.IMPF+m\\u0251\\u0303}, Construction s\\xe9mantique : {1:MC:=diminutif de BASE~m\\xe9tier en rapport avec la BASE}', '', '', u'Quel est le point commun entre ces deux constructions ? {1:MC:=rien~la phonologie}', u'Quelle est la diff\\xe9rence entre ces deux constructions ? {1:MC:=tout~rien}', '', '']\n",
        "['{1:MC:=tout~la phonologie}', '{1:MC:=rien~tout}']\n",
        "['', '', u'Donnez la base et la construction correspondant au lex\\xe8me MAISONNETTE', u'Base : {1:SAC:=MAISON}, Cat\\xe9gorie de la base : {1:MC:=N.F~V}, Cat\\xe9gorie du construit : {1:MC:=N.F~V}', u'Construction phonologique : {1:MC:=radical+\\u025bt~radical.IMPF+\\xf8z}, Construction s\\xe9mantique : {1:MC:=diminutif de BASE~\\xe9quivalent femelle de BASE}', '', '', u'Donnez la base et la construction correspondant au lex\\xe8me CACHETTE', u'Base : {1:SAC:=CACHE}, Cat\\xe9gorie de la base : {1:MC:=N.F~Adv}, Cat\\xe9gorie du construit : {1:MC:=N.F~V-N}', u'Construction phonologique : {1:MC:=radical+\\u025bt~radical+\\u025b}, Construction s\\xe9mantique : {1:MC:=diminutif de BASE~\\xe9quivalent femelle de BASE}', '', '', u'Quel est le point commun entre ces deux constructions ? {1:MC:=tout~la phonologie}', u'Quelle est la diff\\xe9rence entre ces deux constructions ? {1:MC:=rien~tout}', '', '']\n",
        "['{1:MC:=tout~la phonologie}', '{1:MC:=rien~tout}']\n",
        "['', '', u'Donnez la base et la construction correspondant au lex\\xe8me ROBUSTESSE', u'Base : {1:SAC:=ROBUSTE}, Cat\\xe9gorie de la base : {1:MC:=N.F~Adv}, Cat\\xe9gorie du construit : {1:MC:=Adj~N.M}', u\"Construction phonologique : {1:MC:=radical.F+\\u025bs~radical.IMPF+abl}, Construction s\\xe9mantique : {1:MC:=propri\\xe9t\\xe9 d'\\xeatre BASE~sportif qui pratique la BASE}\", '', '', u'Donnez la base et la construction correspondant au lex\\xe8me TENDRESSE', u'Base : {1:SAC:=TENDRE}, Cat\\xe9gorie de la base : {1:MC:=N.F~Adv}, Cat\\xe9gorie du construit : {1:MC:=Adj~N}', u\"Construction phonologique : {1:MC:=radical.F+\\u025bs~radical+\\u0153r}, Construction s\\xe9mantique : {1:MC:=propri\\xe9t\\xe9 d'\\xeatre BASE~qui n'est pas BASE}\", '', '', u'Quel est le point commun entre ces deux constructions ? {1:MC:=tout~la phonologie}', u'Quelle est la diff\\xe9rence entre ces deux constructions ? {1:MC:=rien~tout}', '', '']\n",
        "['{1:MC:=la s\\xc3\\xa9mantique~tout}', '{1:MC:=la phonologie~rien}']\n",
        "['', '', u'Donnez la base et la construction correspondant au lex\\xe8me PETITESSE', u'Base : {1:SAC:=PETIT}, Cat\\xe9gorie de la base : {1:MC:=N.F~Adv}, Cat\\xe9gorie du construit : {1:MC:=Adj~V}', u\"Construction phonologique : {1:MC:=radical.F+\\u025bs~radical+\\u025b}, Construction s\\xe9mantique : {1:MC:=propri\\xe9t\\xe9 d'\\xeatre BASE~petit de BASE}\", '', '', u'Donnez la base et la construction correspondant au lex\\xe8me GRANDEUR', u'Base : {1:SAC:=GRAND}, Cat\\xe9gorie de la base : {1:MC:=N.F~N}, Cat\\xe9gorie du construit : {1:MC:=Adj~V-N}', u\"Construction phonologique : {1:MC:=radical.F+\\u0153r~radical+\\u025bt}, Construction s\\xe9mantique : {1:MC:=propri\\xe9t\\xe9 d'\\xeatre BASE~petit de BASE}\", '', '', u'Quel est le point commun entre ces deux constructions ? {1:MC:=la s\\xe9mantique~tout}', u'Quelle est la diff\\xe9rence entre ces deux constructions ? {1:MC:=la phonologie~rien}', '', '']\n",
        "['{1:MC:=rien~la phonologie}', '{1:MC:=tout~la phonologie}']\n",
        "['', '', u'Donnez la base et la construction correspondant au lex\\xe8me HAUTEUR', u'Base : {1:SAC:=HAUT}, Cat\\xe9gorie de la base : {1:MC:=N.F~N.M}, Cat\\xe9gorie du construit : {1:MC:=Adj~N.F}', u\"Construction phonologique : {1:MC:=radical.F+\\u0153r~radical.F+iz}, Construction s\\xe9mantique : {1:MC:=propri\\xe9t\\xe9 d'\\xeatre BASE~\\xe9quivalent femelle de BASE}\", '', '', u'Donnez la base et la construction correspondant au lex\\xe8me OURSON', u'Base : {1:SAC:=OURS}, Cat\\xe9gorie de la base : {1:MC:=N.M~N.F}, Cat\\xe9gorie du construit : {1:MC:=N~V-N}', u\"Construction phonologique : {1:MC:=radical+\\u0254\\u0303~radical+ist}, Construction s\\xe9mantique : {1:MC:=petit de BASE~propri\\xe9t\\xe9 d'\\xeatre BASE}\", '', '', u'Quel est le point commun entre ces deux constructions ? {1:MC:=rien~la phonologie}', u'Quelle est la diff\\xe9rence entre ces deux constructions ? {1:MC:=tout~la phonologie}', '', '']\n",
        "['{1:MC:=rien~tout}', '{1:MC:=tout~rien}']\n",
        "['', '', u'Donnez la base et la construction correspondant au lex\\xe8me GIRAFON', u'Base : {1:SAC:=GIRAFE}, Cat\\xe9gorie de la base : {1:MC:=N.M~N}, Cat\\xe9gorie du construit : {1:MC:=N~V-N}', u'Construction phonologique : {1:MC:=radical+\\u0254\\u0303~radical.F+i}, Construction s\\xe9mantique : {1:MC:=petit de BASE~m\\xe9tier en rapport avec la BASE}', '', '', u'Donnez la base et la construction correspondant au lex\\xe8me BASKETTEUR', u'Base : {1:SAC:=BASKET}, Cat\\xe9gorie de la base : {1:MC:=N.M~V}, Cat\\xe9gorie du construit : {1:MC:=N~V}', u'Construction phonologique : {1:MC:=radical+\\u0153r~radical.IMPF+a\\u0292}, Construction s\\xe9mantique : {1:MC:=sportif qui pratique la BASE~\\xe9quivalent femelle de BASE}', '', '', u'Quel est le point commun entre ces deux constructions ? {1:MC:=rien~tout}', u'Quelle est la diff\\xe9rence entre ces deux constructions ? {1:MC:=tout~rien}', '', '']\n",
        "['{1:MC:=tout~la phonologie}', '{1:MC:=rien~la s\\xc3\\xa9mantique}']\n",
        "['', '', u'Donnez la base et la construction correspondant au lex\\xe8me ESCRIMEUR', u'Base : {1:SAC:=ESCRIME}, Cat\\xe9gorie de la base : {1:MC:=N.M~N.F}, Cat\\xe9gorie du construit : {1:MC:=N~Adj}', u'Construction phonologique : {1:MC:=radical+\\u0153r~radical+\\u025bl}, Construction s\\xe9mantique : {1:MC:=sportif qui pratique la BASE~\\xe9quivalent femelle de BASE}', '', '', u'Donnez la base et la construction correspondant au lex\\xe8me POURSUITEUR', u'Base : {1:SAC:=POURSUITE}, Cat\\xe9gorie de la base : {1:MC:=N.M~V}, Cat\\xe9gorie du construit : {1:MC:=N~V-N}', u'Construction phonologique : {1:MC:=radical+\\u0153r~radical.F+i}, Construction s\\xe9mantique : {1:MC:=sportif qui pratique la BASE~m\\xe9tier en rapport avec la BASE}', '', '', u'Quel est le point commun entre ces deux constructions ? {1:MC:=tout~la phonologie}', u'Quelle est la diff\\xe9rence entre ces deux constructions ? {1:MC:=rien~la s\\xe9mantique}', '', '']\n",
        "['{1:MC:=tout~la phonologie}', '{1:MC:=rien~tout}']\n",
        "['', '', u'Donnez la base et la construction correspondant au lex\\xe8me PICOTEMENT', u'Base : {1:SAC:=PICOTER}, Cat\\xe9gorie de la base : {1:MC:=N.M~N}, Cat\\xe9gorie du construit : {1:MC:=V~N.M}', u'Construction phonologique : {1:MC:=radical.IMPF+m\\u0251\\u0303~radical+\\u025bs}, Construction s\\xe9mantique : {1:MC:=r\\xe9sultat de BASER~sportif qui pratique la BASE}', '', '', u'Donnez la base et la construction correspondant au lex\\xe8me REDRESSEMENT', u'Base : {1:SAC:=REDRESSER}, Cat\\xe9gorie de la base : {1:MC:=N.M~Adv}, Cat\\xe9gorie du construit : {1:MC:=V~V-N}', u'Construction phonologique : {1:MC:=radical.IMPF+m\\u0251\\u0303~radical+\\u0254\\u0303}, Construction s\\xe9mantique : {1:MC:=r\\xe9sultat de BASER~\\xe9quivalent femelle de BASE}', '', '', u'Quel est le point commun entre ces deux constructions ? {1:MC:=tout~la phonologie}', u'Quelle est la diff\\xe9rence entre ces deux constructions ? {1:MC:=rien~tout}', '', '']\n",
        "[]\n",
        "['', '', u'Donnez la base et la construction correspondant au lex\\xe8me BANALISER', u'Base : {1:SAC:=BANAL}, Cat\\xe9gorie de la base : {1:MC:=V~N.F}, Cat\\xe9gorie du construit : {1:MC:=Adj~N.M}', u'Construction phonologique : {1:MC:=radical.F+iz~radical.IMPF+abl}, Construction s\\xe9mantique : {1:MC:=rendre BASE~m\\xe9tier en rapport avec la BASE}', '', '']\n",
        "[]\n",
        "['', '', u'Donnez la base et la construction correspondant au lex\\xe8me RIGIDIFIER', u'Base : {1:SAC:=RIGIDE}, Cat\\xe9gorie de la base : {1:MC:=V~N}, Cat\\xe9gorie du construit : {1:MC:=Adj~V-N}', u'Construction phonologique : {1:MC:=radical.F+ifi~radical+\\u025b}, Construction s\\xe9mantique : {1:MC:=rendre BASE~action de BASER}', '', '']\n",
        "[]\n",
        "['', '', u'Donnez la base et la construction correspondant au lex\\xe8me BANALEMENT', u'Base : {1:SAC:=BANAL}, Cat\\xe9gorie de la base : {1:MC:=Adv~Adj}, Cat\\xe9gorie du construit : {1:MC:=Adj~V}', u'Construction phonologique : {1:MC:=radical.F+m\\u0251\\u0303~radical.F+i}, Construction s\\xe9mantique : {1:MC:=de mani\\xe8re BASE~rendre BASE}', '', '']\n",
        "[]\n",
        "['', '', u'Donnez la base et la construction correspondant au lex\\xe8me TARDIVEMENT', u'Base : {1:SAC:=TARDIF}, Cat\\xe9gorie de la base : {1:MC:=Adv~N}, Cat\\xe9gorie du construit : {1:MC:=Adj~N.M}', u'Construction phonologique : {1:MC:=radical.F+m\\u0251\\u0303~radical.IMPF+\\xf8z}, Construction s\\xe9mantique : {1:MC:=de mani\\xe8re BASE~action de BASER}', '', '']\n",
        "[]\n",
        "['', '', u'Donnez la base et la construction correspondant au lex\\xe8me SPORTIVIT\\xc9', u'Base : {1:SAC:=SPORTIF}, Cat\\xe9gorie de la base : {1:MC:=N.F~V}, Cat\\xe9gorie du construit : {1:MC:=Adj~N.F}', u\"Construction phonologique : {1:MC:=radical.F+ite~radical+ist}, Construction s\\xe9mantique : {1:MC:=propri\\xe9t\\xe9 d'\\xeatre BASE~de mani\\xe8re BASE}\", '', '']\n",
        "[]\n",
        "['', '', u'Donnez la base et la construction correspondant au lex\\xe8me LUCIDIT\\xc9', u'Base : {1:SAC:=LUCIDE}, Cat\\xe9gorie de la base : {1:MC:=N.F~V}, Cat\\xe9gorie du construit : {1:MC:=Adj~N}', u\"Construction phonologique : {1:MC:=radical.F+ite~radical.F+\\u025bs}, Construction s\\xe9mantique : {1:MC:=propri\\xe9t\\xe9 d'\\xeatre BASE~petit de BASE}\", '', '']\n",
        "[]\n",
        "['', '', u'Donnez la base et la construction correspondant au lex\\xe8me CURISTE', u'Base : {1:SAC:=CURE}, Cat\\xe9gorie de la base : {1:MC:=N~Adj}, Cat\\xe9gorie du construit : {1:MC:=N~N.F}', u'Construction phonologique : {1:MC:=radical+ist~radical.PRS.SG-radical}, Construction s\\xe9mantique : {1:MC:=adepte de la BASE~Agent ou Instrument de BASER}', '', '']\n",
        "[]\n",
        "['', '', u'Donnez la base et la construction correspondant au lex\\xe8me CYCLISTE', u'Base : {1:SAC:=CYCLE}, Cat\\xe9gorie de la base : {1:MC:=N~N.F}, Cat\\xe9gorie du construit : {1:MC:=N~V-N}', u'Construction phonologique : {1:MC:=radical+ist~radical.F+m\\u0251\\u0303}, Construction s\\xe9mantique : {1:MC:=adepte de la BASE~Agent ou Instrument qui VERBE les NOMS}', '', '']\n",
        "[]\n",
        "['', '', u'Donnez la base et la construction correspondant au lex\\xe8me ROUDOUDOU', u'Base : {1:SAC:=DOUX}, Cat\\xe9gorie de la base : {1:MC:=N.M~N}, Cat\\xe9gorie du construit : {1:MC:=Adj~N.F}', u'Construction phonologique : {1:MC:=rVCVCV~radical+je}, Construction s\\xe9mantique : {1:MC:=diminutif de BASE~\\xe9quivalent femelle de BASE}', '', '']\n",
        "[]\n",
        "['', '', u'Donnez la base et la construction correspondant au lex\\xe8me POUTRELLE', u'Base : {1:SAC:=POUTRE}, Cat\\xe9gorie de la base : {1:MC:=N.F~Adv}, Cat\\xe9gorie du construit : {1:MC:=N.F~V-N}', u'Construction phonologique : {1:MC:=radical+\\u025bl~radical.PRS.SG-radical}, Construction s\\xe9mantique : {1:MC:=diminutif de BASE~de mani\\xe8re BASE}', '', '']\n",
        "[]\n",
        "['', '', u'Donnez la base et la construction correspondant au lex\\xe8me TOURELLE', u'Base : {1:SAC:=TOUR}, Cat\\xe9gorie de la base : {1:MC:=N.F~V}, Cat\\xe9gorie du construit : {1:MC:=N.F~V-N}', u'Construction phonologique : {1:MC:=radical+\\u025bl~radical.F+iz}, Construction s\\xe9mantique : {1:MC:=diminutif de BASE~m\\xe9tier en rapport avec la BASE}', '', '']\n",
        "[]\n",
        "['', '', u'Donnez la base et la construction correspondant au lex\\xe8me TIGRESSE', u'Base : {1:SAC:=TIGRE}, Cat\\xe9gorie de la base : {1:MC:=N.F~N}, Cat\\xe9gorie du construit : {1:MC:=N.M~Adj}', u'Construction phonologique : {1:MC:=radical+\\u025bs~radical+je}, Construction s\\xe9mantique : {1:MC:=\\xe9quivalent femelle de BASE~Agent ou Instrument de BASER}', '', '']\n",
        "[]\n",
        "['', '', u'Donnez la base et la construction correspondant au lex\\xe8me \\xc2NESSE', u'Base : {1:SAC:=\\xc2NE}, Cat\\xe9gorie de la base : {1:MC:=N.F~Adv}, Cat\\xe9gorie du construit : {1:MC:=N.M~V-N}', u'Construction phonologique : {1:MC:=radical+\\u025bs~radical.F+\\u0153r}, Construction s\\xe9mantique : {1:MC:=\\xe9quivalent femelle de BASE~de mani\\xe8re BASE}', '', '']\n",
        "[]\n",
        "['', '', u'Donnez la base et la construction correspondant au lex\\xe8me MOINESSE', u'Base : {1:SAC:=MOINE}, Cat\\xe9gorie de la base : {1:MC:=N.F~V}, Cat\\xe9gorie du construit : {1:MC:=N.M~Adj}', u\"Construction phonologique : {1:MC:=radical+\\u025bs~radical+\\u0254\\u0303}, Construction s\\xe9mantique : {1:MC:=\\xe9quivalent femelle de BASE~propri\\xe9t\\xe9 d'\\xeatre BASE}\", '', '']\n",
        "[]\n",
        "['', '', u'Donnez la base et la construction correspondant au lex\\xe8me COURTOISIE', u'Base : {1:SAC:=COURTOIS}, Cat\\xe9gorie de la base : {1:MC:=N.F~N.M}, Cat\\xe9gorie du construit : {1:MC:=Adj~V}', u\"Construction phonologique : {1:MC:=radical.F+i~radical+\\u025b}, Construction s\\xe9mantique : {1:MC:=propri\\xe9t\\xe9 d'\\xeatre BASE~Agent ou Instrument de BASER}\", '', '']\n",
        "[]\n",
        "['', '', u'Donnez la base et la construction correspondant au lex\\xe8me COMPTE-TOURS', u'Base : {1:SAC:=COMPTER-TOUR}, Cat\\xe9gorie de la base : {1:MC:=N.M~N}, Cat\\xe9gorie du construit : {1:MC:=V-N~N.M}', u'Construction phonologique : {1:MC:=radical.PRS.SG-radical~radical+\\u025b}, Construction s\\xe9mantique : {1:MC:=Agent ou Instrument qui VERBE les NOMS~de mani\\xe8re BASE}', '', '']\n",
        "[]\n",
        "['', '', u'Donnez la base et la construction correspondant au lex\\xe8me ESSUIE-GLACE', u'Base : {1:SAC:=ESSUYER-GLACE}, Cat\\xe9gorie de la base : {1:MC:=N.M~Adv}, Cat\\xe9gorie du construit : {1:MC:=V-N~N.F}', u'Construction phonologique : {1:MC:=radical.PRS.SG-radical~radical.IMPF+\\xf8z}, Construction s\\xe9mantique : {1:MC:=Agent ou Instrument qui VERBE les NOMS~sportif qui pratique la BASE}', '', '']\n",
        "[]\n",
        "['', '', u'Donnez la base et la construction correspondant au lex\\xe8me COUVRE-LIT', u'Base : {1:SAC:=COUVRIR-LIT}, Cat\\xe9gorie de la base : {1:MC:=N.M~V}, Cat\\xe9gorie du construit : {1:MC:=V-N~N.F}', u\"Construction phonologique : {1:MC:=radical.PRS.SG-radical~radical.IMPF+m\\u0251\\u0303}, Construction s\\xe9mantique : {1:MC:=Agent ou Instrument qui VERBE les NOMS~qui n'est pas BASE}\", '', '']\n"
       ]
      }
     ],
     "prompt_number": 8
    },
    {
     "cell_type": "code",
     "collapsed": false,
     "input": [
      "serie.exercices[0].boucle"
     ],
     "language": "python",
     "metadata": {},
     "outputs": [
      {
       "metadata": {},
       "output_type": "pyout",
       "prompt_number": 10,
       "text": [
        "[['POMMIER',\n",
        "  '{1:SAC:=POMME}',\n",
        "  '{1:MC:=N~V}',\n",
        "  '{1:MC:=N.M~Adj}',\n",
        "  '{1:MC:=radical+je~radical.IMPF+a\\xca\\x92}',\n",
        "  '{1:MC:=arbre qui produit des BASES~rendre BASE}'],\n",
        " ['POMPIER',\n",
        "  '{1:SAC:=POMPE}',\n",
        "  '{1:MC:=N~N.F}',\n",
        "  '{1:MC:=N.M~N.F}',\n",
        "  '{1:MC:=radical+je~radical.F+i}',\n",
        "  '{1:MC:=m\\xc3\\xa9tier en rapport avec la BASE~Agent ou Instrument qui VERBE les NOMS}']]"
       ]
      }
     ],
     "prompt_number": 10
    },
    {
     "cell_type": "code",
     "collapsed": false,
     "input": [],
     "language": "python",
     "metadata": {},
     "outputs": [],
     "prompt_number": 9
    }
   ],
   "metadata": {}
  }
 ]
}
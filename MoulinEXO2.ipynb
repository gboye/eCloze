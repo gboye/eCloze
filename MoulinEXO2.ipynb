{
 "metadata": {
  "name": "",
  "signature": "sha256:582a6cbd5d22e7c257daee7081ef3eaa39d3946b7d742b7f1a82fba5e49641de"
 },
 "nbformat": 3,
 "nbformat_minor": 0,
 "worksheets": [
  {
   "cells": [
    {
     "cell_type": "code",
     "collapsed": false,
     "input": [
      "#import re\n",
      "import sys, codecs, optparse, glob, os\n",
      "import string\n",
      "import random"
     ],
     "language": "python",
     "metadata": {},
     "outputs": [],
     "prompt_number": 1
    },
    {
     "cell_type": "code",
     "collapsed": false,
     "input": [
      "from MoodleXML import *\n",
      "import yaml"
     ],
     "language": "python",
     "metadata": {},
     "outputs": [],
     "prompt_number": 2
    },
    {
     "cell_type": "code",
     "collapsed": false,
     "input": [
      "yamlFichier=\"EXO2-Hiragana.yaml\"\n",
      "csvFichier=\"Hiragana3.csv\"\n",
      "boolEX=False"
     ],
     "language": "python",
     "metadata": {},
     "outputs": [],
     "prompt_number": 3
    },
    {
     "cell_type": "code",
     "collapsed": false,
     "input": [
      "with open(yamlFichier, 'r') as stream:\n",
      "    configuration=yaml.load(stream)\n",
      "    \n",
      "with open(csvFichier, 'r') as file:\n",
      "    donneesLignes=file.readlines()"
     ],
     "language": "python",
     "metadata": {},
     "outputs": [],
     "prompt_number": 4
    },
    {
     "cell_type": "code",
     "collapsed": false,
     "input": [
      "def donnesEX():\n",
      "    titre=[]\n",
      "    result=\"\"\n",
      "    i=0\n",
      "    for ligne in donneesLignes:\n",
      "        i+=1\n",
      "        if ligne.startswith(\"#EX;\"):\n",
      "            if result!=\"\":\n",
      "                donnees.append({\"-\".join(titre):result})\n",
      "            titre=[]\n",
      "            result={\"boucle\":[],\"conclusion\":[]}\n",
      "            temp=ligne.strip().split(\";\")\n",
      "            if len(temp)>1 and temp[1]!=\"\":\n",
      "                result[\"conclusion\"]=temp[1:]\n",
      "        elif ligne.startswith(\"#\"):\n",
      "            pass\n",
      "        else:\n",
      "            temp=ligne.strip().split(\";\")\n",
      "            result[\"boucle\"].append(temp)\n",
      "            titre.append(temp[0])\n",
      "    donnees.append({\"-\".join(titre):result})\n",
      "\n",
      "def donneesNoEX():\n",
      "    \n",
      "    for ligne in donneesLignes:\n",
      "        temp=ligne.strip().split(\";\")\n",
      "        result={\"boucle\":[temp],\"conclusion\":[]}\n",
      "        titre=temp[0]\n",
      "        donnees.append({titre:result})\n",
      "\n",
      "donnees=[]\n",
      "if boolEX:\n",
      "    donneesEX()\n",
      "else:\n",
      "    donneesNoEX()\n"
     ],
     "language": "python",
     "metadata": {},
     "outputs": [],
     "prompt_number": 5
    },
    {
     "cell_type": "code",
     "collapsed": false,
     "input": [
      "categorie=configuration[u\"Cat\u00e9gorie\"]\n",
      "#donnees=configuration[u\"Donn\u00e9es\"]\n",
      "consigne=configuration[u\"Boucle\"][u\"contenu\"]\n",
      "boucleWrap=[configuration[u\"Boucle\"][u\"d\u00e9but\"],configuration[u\"Boucle\"][\"fin\"]]\n",
      "boucleCLOZE=configuration[u\"Boucle\"][u\"Cloze\"]\n",
      "globalWrap=[configuration[u\"Global\"][u\"d\u00e9but\"],configuration[u\"Global\"][\"fin\"]]\n",
      "if \"Conclusion\" in configuration:\n",
      "    conclusion=[configuration[u\"Conclusion\"][u\"d\u00e9but\"],configuration[u\"Conclusion\"][\"contenu\"],configuration[u\"Conclusion\"][\"fin\"]]\n",
      "    conclusionCLOZE=configuration[u\"Conclusion\"][u\"Cloze\"]\n",
      "else:\n",
      "    conclusion=[\"\",\"\",\"\"]\n",
      "    conclusionCLOZE=[]\n",
      "questions=XMLClozes(categorie)\n",
      "questionsConsigne=ClozeConsigne(consigne,boucleWrap=boucleWrap,globalWrap=globalWrap,conclusion=conclusion)\n",
      "serie=ClozeSerie(configuration[u\"Boucle\"][u\"Cloze\"],conclusionCLOZE)"
     ],
     "language": "python",
     "metadata": {},
     "outputs": [],
     "prompt_number": 6
    },
    {
     "cell_type": "code",
     "collapsed": false,
     "input": [
      "for exercices in donnees:\n",
      "    for exercice in exercices:\n",
      "        exerciceBoucle=exercices[exercice][\"boucle\"]\n",
      "        exerciceConclusion=exercices[exercice][\"conclusion\"]\n",
      "        serie.addExercice(Exercice(exerciceBoucle,exerciceConclusion,exercices))"
     ],
     "language": "python",
     "metadata": {},
     "outputs": [],
     "prompt_number": 7
    },
    {
     "cell_type": "code",
     "collapsed": false,
     "input": [
      "for corpsExercice in serie.makeSerie(questionsConsigne):\n",
      "    questions.addExercice(ClozeExercice(\"titre\",corpsExercice))"
     ],
     "language": "python",
     "metadata": {},
     "outputs": [
      {
       "ename": "IndexError",
       "evalue": "list index out of range",
       "output_type": "pyerr",
       "traceback": [
        "\u001b[0;31m---------------------------------------------------------------------------\u001b[0m\n\u001b[0;31mIndexError\u001b[0m                                Traceback (most recent call last)",
        "\u001b[0;32m<ipython-input-8-c451da74e8a1>\u001b[0m in \u001b[0;36m<module>\u001b[0;34m()\u001b[0m\n\u001b[0;32m----> 1\u001b[0;31m \u001b[0;32mfor\u001b[0m \u001b[0mcorpsExercice\u001b[0m \u001b[0;32min\u001b[0m \u001b[0mserie\u001b[0m\u001b[0;34m.\u001b[0m\u001b[0mmakeSerie\u001b[0m\u001b[0;34m(\u001b[0m\u001b[0mquestionsConsigne\u001b[0m\u001b[0;34m)\u001b[0m\u001b[0;34m:\u001b[0m\u001b[0;34m\u001b[0m\u001b[0m\n\u001b[0m\u001b[1;32m      2\u001b[0m     \u001b[0mquestions\u001b[0m\u001b[0;34m.\u001b[0m\u001b[0maddExercice\u001b[0m\u001b[0;34m(\u001b[0m\u001b[0mClozeExercice\u001b[0m\u001b[0;34m(\u001b[0m\u001b[0;34m\"titre\"\u001b[0m\u001b[0;34m,\u001b[0m\u001b[0mcorpsExercice\u001b[0m\u001b[0;34m)\u001b[0m\u001b[0;34m)\u001b[0m\u001b[0;34m\u001b[0m\u001b[0m\n",
        "\u001b[0;32m/Users/gilles/GitHub/eCloze/MoodleXML.pyc\u001b[0m in \u001b[0;36mmakeSerie\u001b[0;34m(self, consigne)\u001b[0m\n\u001b[1;32m    108\u001b[0m           \u001b[0;32mfor\u001b[0m \u001b[0mnChamp\u001b[0m\u001b[0;34m,\u001b[0m \u001b[0mchamp\u001b[0m \u001b[0;32min\u001b[0m \u001b[0menumerate\u001b[0m\u001b[0;34m(\u001b[0m\u001b[0melement\u001b[0m\u001b[0;34m)\u001b[0m\u001b[0;34m:\u001b[0m\u001b[0;34m\u001b[0m\u001b[0m\n\u001b[1;32m    109\u001b[0m \u001b[0;31m#            print nChamp, champ\u001b[0m\u001b[0;34m\u001b[0m\u001b[0;34m\u001b[0m\u001b[0m\n\u001b[0;32m--> 110\u001b[0;31m             \u001b[0;32mif\u001b[0m \u001b[0mself\u001b[0m\u001b[0;34m.\u001b[0m\u001b[0msBoucle\u001b[0m\u001b[0;34m[\u001b[0m\u001b[0mnChamp\u001b[0m\u001b[0;34m]\u001b[0m \u001b[0;32min\u001b[0m \u001b[0mchoixMultiples\u001b[0m\u001b[0;34m:\u001b[0m\u001b[0;34m\u001b[0m\u001b[0m\n\u001b[0m\u001b[1;32m    111\u001b[0m               \u001b[0mself\u001b[0m\u001b[0;34m.\u001b[0m\u001b[0mexercices\u001b[0m\u001b[0;34m[\u001b[0m\u001b[0mnExercice\u001b[0m\u001b[0;34m]\u001b[0m\u001b[0;34m.\u001b[0m\u001b[0mboucle\u001b[0m\u001b[0;34m[\u001b[0m\u001b[0mnElement\u001b[0m\u001b[0;34m]\u001b[0m\u001b[0;34m[\u001b[0m\u001b[0mnChamp\u001b[0m\u001b[0;34m]\u001b[0m\u001b[0;34m=\u001b[0m\u001b[0;34m\"{1:%s:=%s}\"\u001b[0m\u001b[0;34m%\u001b[0m\u001b[0;34m(\u001b[0m\u001b[0mself\u001b[0m\u001b[0;34m.\u001b[0m\u001b[0msBoucle\u001b[0m\u001b[0;34m[\u001b[0m\u001b[0mnChamp\u001b[0m\u001b[0;34m]\u001b[0m\u001b[0;34m,\u001b[0m\u001b[0mself\u001b[0m\u001b[0;34m.\u001b[0m\u001b[0mgetChoix\u001b[0m\u001b[0;34m(\u001b[0m\u001b[0mnChamp\u001b[0m\u001b[0;34m,\u001b[0m\u001b[0melement\u001b[0m\u001b[0;34m[\u001b[0m\u001b[0mnChamp\u001b[0m\u001b[0;34m]\u001b[0m\u001b[0;34m)\u001b[0m\u001b[0;34m)\u001b[0m\u001b[0;34m\u001b[0m\u001b[0m\n\u001b[1;32m    112\u001b[0m             \u001b[0;32melif\u001b[0m \u001b[0mself\u001b[0m\u001b[0;34m.\u001b[0m\u001b[0msBoucle\u001b[0m\u001b[0;34m[\u001b[0m\u001b[0mnChamp\u001b[0m\u001b[0;34m]\u001b[0m \u001b[0;32min\u001b[0m \u001b[0mchoixSimples\u001b[0m\u001b[0;34m:\u001b[0m\u001b[0;34m\u001b[0m\u001b[0m\n",
        "\u001b[0;31mIndexError\u001b[0m: list index out of range"
       ]
      }
     ],
     "prompt_number": 8
    },
    {
     "cell_type": "code",
     "collapsed": false,
     "input": [
      "xmlOutput=MoodleXML()\n",
      "xmlOutput.addQuiz(questions.getClozes())"
     ],
     "language": "python",
     "metadata": {},
     "outputs": []
    },
    {
     "cell_type": "code",
     "collapsed": false,
     "input": [
      "xmlFichier=csvFichier.split(\".\")[0]+\".xml\""
     ],
     "language": "python",
     "metadata": {},
     "outputs": []
    },
    {
     "cell_type": "code",
     "collapsed": false,
     "input": [
      "with codecs.open(xmlFichier, 'w',\"utf8\") as output:\n",
      "#    print [questions.getClozes()]\n",
      "    output.write(xmlOutput.getXML())"
     ],
     "language": "python",
     "metadata": {},
     "outputs": []
    },
    {
     "cell_type": "code",
     "collapsed": false,
     "input": [],
     "language": "python",
     "metadata": {},
     "outputs": []
    }
   ],
   "metadata": {}
  }
 ]
}